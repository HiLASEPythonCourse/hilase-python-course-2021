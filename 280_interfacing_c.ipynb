{
 "cells": [
  {
   "cell_type": "markdown",
   "metadata": {
    "cell_id": "00000-cc5a4961-707b-4091-8489-957b93b83e10",
    "deepnote_cell_type": "markdown",
    "tags": []
   },
   "source": [
    "# Interfacing C libraries\n",
    "\n"
   ]
  },
  {
   "cell_type": "markdown",
   "metadata": {
    "cell_id": "00000-9937575f-7c29-4daa-bbba-ba5551e9eca2",
    "deepnote_cell_type": "code",
    "tags": []
   },
   "source": [
    "## [ctypes](https://docs.python.org/3/library/ctypes.html)"
   ]
  },
  {
   "cell_type": "code",
   "execution_count": 1,
   "metadata": {},
   "outputs": [
    {
     "name": "stdout",
     "output_type": "stream",
     "text": [
      "﻿#ifndef PRIMELIB_H\n",
      "#define PRIMELIB_H\n",
      "\n",
      "__declspec(dllexport) int __cdecl is_prime(unsigned long long x);\n",
      "__declspec(dllexport) unsigned long long __cdecl smallest_divisor(unsigned long long x);\n",
      "\n",
      "#endif\n"
     ]
    }
   ],
   "source": [
    "!cat primelib/primelib.h"
   ]
  },
  {
   "cell_type": "code",
   "execution_count": 2,
   "metadata": {},
   "outputs": [
    {
     "name": "stdout",
     "output_type": "stream",
     "text": [
      "﻿#include \"primelib.h\"\n",
      "\n",
      "#include \"math.h\"\n",
      "\n",
      "__declspec(dllexport) int __cdecl is_prime(unsigned long long x)\n",
      "{\n",
      "\tif (x == 1) return 0;\n",
      "\treturn smallest_divisor(x) == x;\n",
      "}\n",
      "\n",
      "__declspec(dllexport) unsigned long long __cdecl smallest_divisor(unsigned long long x)\n",
      "{\n",
      "\tif (x < 4) return x;\n",
      "\tunsigned long long max_divisor = (unsigned long long)sqrt((float)x) + 1;\n",
      "\tfor (unsigned long long i = 2; i < max_divisor; i++) {\n",
      "\t\tif (x % i == 0) return i;\n",
      "\t}\n",
      "\treturn x;\n",
      "}\n"
     ]
    }
   ],
   "source": [
    "!cat primelib/primelib.c"
   ]
  },
  {
   "cell_type": "markdown",
   "metadata": {},
   "source": [
    "### In Windows"
   ]
  },
  {
   "cell_type": "code",
   "execution_count": 3,
   "metadata": {},
   "outputs": [
    {
     "data": {
      "text/plain": [
       "<_FuncPtr object at 0x000001E0B88B3930>"
      ]
     },
     "execution_count": 3,
     "metadata": {},
     "output_type": "execute_result"
    }
   ],
   "source": [
    "from ctypes import windll\n",
    "\n",
    "primelib = windll.LoadLibrary(\".\\\\primelib.dll\")\n",
    "primelib.is_prime\n"
   ]
  },
  {
   "cell_type": "code",
   "execution_count": 4,
   "metadata": {},
   "outputs": [
    {
     "data": {
      "text/plain": [
       "1"
      ]
     },
     "execution_count": 4,
     "metadata": {},
     "output_type": "execute_result"
    }
   ],
   "source": [
    "primelib.is_prime(2)"
   ]
  },
  {
   "cell_type": "markdown",
   "metadata": {},
   "source": [
    "Cool!"
   ]
  },
  {
   "cell_type": "code",
   "execution_count": 7,
   "metadata": {},
   "outputs": [
    {
     "ename": "ArgumentError",
     "evalue": "argument 1: <class 'OverflowError'>: int too long to convert",
     "output_type": "error",
     "traceback": [
      "\u001b[1;31m---------------------------------------------------------------------------\u001b[0m",
      "\u001b[1;31mArgumentError\u001b[0m                             Traceback (most recent call last)",
      "\u001b[1;32m<ipython-input-7-956ee5db220e>\u001b[0m in \u001b[0;36m<module>\u001b[1;34m\u001b[0m\n\u001b[1;32m----> 1\u001b[1;33m \u001b[0mprimelib\u001b[0m\u001b[1;33m.\u001b[0m\u001b[0mis_prime\u001b[0m\u001b[1;33m(\u001b[0m\u001b[1;36m22801763489\u001b[0m\u001b[1;33m)\u001b[0m\u001b[1;33m\u001b[0m\u001b[1;33m\u001b[0m\u001b[0m\n\u001b[0m",
      "\u001b[1;31mArgumentError\u001b[0m: argument 1: <class 'OverflowError'>: int too long to convert"
     ]
    }
   ],
   "source": [
    "primelib.is_prime(22801763489)"
   ]
  },
  {
   "cell_type": "markdown",
   "metadata": {},
   "source": [
    "Not so cool. But it should work, ehm..."
   ]
  },
  {
   "cell_type": "code",
   "execution_count": 5,
   "metadata": {},
   "outputs": [
    {
     "data": {
      "text/plain": [
       "{1000000000000: 2,\n",
       " 1000000000001: 73,\n",
       " 1000000000002: 2,\n",
       " 1000000000003: 61,\n",
       " 1000000000004: 2,\n",
       " 1000000000005: 3,\n",
       " 1000000000006: 2,\n",
       " 1000000000007: 34519,\n",
       " 1000000000008: 2,\n",
       " 1000000000009: 29,\n",
       " 1000000000010: 2,\n",
       " 1000000000011: 3,\n",
       " 1000000000012: 2,\n",
       " 1000000000013: 7,\n",
       " 1000000000014: 2,\n",
       " 1000000000015: 5,\n",
       " 1000000000016: 2,\n",
       " 1000000000017: 3,\n",
       " 1000000000018: 2,\n",
       " 1000000000019: 1601}"
      ]
     },
     "execution_count": 5,
     "metadata": {},
     "output_type": "execute_result"
    }
   ],
   "source": [
    "from ctypes import c_ulonglong\n",
    "\n",
    "primelib.is_prime.argtypes = [c_ulonglong]\n",
    "primelib.smallest_divisor.argtypes = [c_ulonglong]\n",
    "primelib.smallest_divisor.restype = c_ulonglong\n",
    "\n",
    "{x : primelib.smallest_divisor(x) for x in range(10**12, 10**12+20)}"
   ]
  },
  {
   "cell_type": "markdown",
   "metadata": {},
   "source": [
    "### In Linux"
   ]
  },
  {
   "cell_type": "code",
   "execution_count": 3,
   "metadata": {},
   "outputs": [],
   "source": [
    "from ctypes import cdll\n",
    "\n",
    "primelib = cdll.LoadLibrary(\"./libprimelib.so\")"
   ]
  },
  {
   "cell_type": "code",
   "execution_count": 4,
   "metadata": {},
   "outputs": [],
   "source": [
    "from ctypes import c_ulonglong\n",
    "\n",
    "primelib.is_prime.argtypes = [c_ulonglong]\n",
    "primelib.smallest_divisor.argtypes = [c_ulonglong]\n",
    "primelib.smallest_divisor.restype = c_ulonglong"
   ]
  },
  {
   "cell_type": "code",
   "execution_count": 6,
   "metadata": {},
   "outputs": [
    {
     "data": {
      "text/plain": [
       "{1000000000000: 2,\n",
       " 1000000000001: 73,\n",
       " 1000000000002: 2,\n",
       " 1000000000003: 61,\n",
       " 1000000000004: 2,\n",
       " 1000000000005: 3,\n",
       " 1000000000006: 2,\n",
       " 1000000000007: 34519,\n",
       " 1000000000008: 2,\n",
       " 1000000000009: 29,\n",
       " 1000000000010: 2,\n",
       " 1000000000011: 3,\n",
       " 1000000000012: 2,\n",
       " 1000000000013: 7,\n",
       " 1000000000014: 2,\n",
       " 1000000000015: 5,\n",
       " 1000000000016: 2,\n",
       " 1000000000017: 3,\n",
       " 1000000000018: 2,\n",
       " 1000000000019: 1601}"
      ]
     },
     "execution_count": 6,
     "metadata": {},
     "output_type": "execute_result"
    }
   ],
   "source": [
    "{x : primelib.smallest_divisor(x) for x in range(10**12, 10**12+20)}"
   ]
  },
  {
   "cell_type": "markdown",
   "metadata": {},
   "source": [
    "## [cffi](https://cffi.readthedocs.io/en/latest/)"
   ]
  },
  {
   "cell_type": "code",
   "execution_count": 16,
   "metadata": {},
   "outputs": [
    {
     "name": "stdout",
     "output_type": "stream",
     "text": [
      "generating ./_primelib_cffi.c\n",
      "(already up-to-date)\n",
      "the current directory is '/home/honza/hilase-python-course-2021'\n",
      "running build_ext\n",
      "building '_primelib_cffi' extension\n",
      "x86_64-linux-gnu-gcc -pthread -Wno-unused-result -Wsign-compare -DNDEBUG -g -fwrapv -O2 -Wall -g -fstack-protector-strong -Wformat -Werror=format-security -g -fwrapv -O2 -g -fstack-protector-strong -Wformat -Werror=format-security -Wdate-time -D_FORTIFY_SOURCE=2 -fPIC -I/home/honza/hilase-python-course-2021/.venv/include -I/usr/include/python3.8 -c _primelib_cffi.c -o ./_primelib_cffi.o\n",
      "x86_64-linux-gnu-gcc -pthread -shared -Wl,-O1 -Wl,-Bsymbolic-functions -Wl,-Bsymbolic-functions -Wl,-z,relro -g -fwrapv -O2 -Wl,-Bsymbolic-functions -Wl,-z,relro -g -fwrapv -O2 -g -fstack-protector-strong -Wformat -Werror=format-security -Wdate-time -D_FORTIFY_SOURCE=2 ./_primelib_cffi.o -L. -lprimelib -o ./_primelib_cffi.cpython-38-x86_64-linux-gnu.so\n"
     ]
    },
    {
     "data": {
      "text/plain": [
       "'/home/honza/hilase-python-course-2021/_primelib_cffi.cpython-38-x86_64-linux-gnu.so'"
      ]
     },
     "execution_count": 16,
     "metadata": {},
     "output_type": "execute_result"
    }
   ],
   "source": [
    "import cffi\n",
    "\n",
    "ffi = cffi.FFI()\n",
    "\n",
    "ffi.cdef(\"\"\"\n",
    "    int is_prime(unsigned long long);\n",
    "    unsigned long long smallest_divisor(unsigned long long);\n",
    "\"\"\")\n",
    "\n",
    "ffi.set_source(\"_primelib_cffi\",\n",
    "\"\"\"\n",
    "     #include \"primelib/primelib.h\"\n",
    "\"\"\",\n",
    "    libraries=['primelib'],\n",
    "    library_dirs =[\".\"]\n",
    ")\n",
    "\n",
    "ffi.compile(verbose=True)"
   ]
  },
  {
   "cell_type": "code",
   "execution_count": 26,
   "metadata": {},
   "outputs": [],
   "source": [
    "from _primelib_cffi.lib import is_prime, smallest_divisor"
   ]
  },
  {
   "cell_type": "code",
   "execution_count": 31,
   "metadata": {},
   "outputs": [
    {
     "data": {
      "text/plain": [
       "7161929"
      ]
     },
     "execution_count": 31,
     "metadata": {},
     "output_type": "execute_result"
    }
   ],
   "source": [
    "smallest_divisor(44864561566508441)"
   ]
  }
 ],
 "metadata": {
  "deepnote": {},
  "deepnote_execution_queue": [],
  "deepnote_notebook_id": "d87e06da-cc6c-4957-91cd-69f0773bed28",
  "kernelspec": {
   "display_name": "Python 3",
   "language": "python",
   "name": "python3"
  },
  "language_info": {
   "codemirror_mode": {
    "name": "ipython",
    "version": 3
   },
   "file_extension": ".py",
   "mimetype": "text/x-python",
   "name": "python",
   "nbconvert_exporter": "python",
   "pygments_lexer": "ipython3",
   "version": "3.8.5"
  }
 },
 "nbformat": 4,
 "nbformat_minor": 2
}
