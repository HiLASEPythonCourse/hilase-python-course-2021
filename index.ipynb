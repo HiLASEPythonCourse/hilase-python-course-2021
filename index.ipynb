{
 "cells": [
  {
   "cell_type": "markdown",
   "metadata": {
    "cell_id": "00002-4ea79887-5bf0-4705-a9a0-48c05b721533",
    "deepnote_cell_type": "markdown",
    "tags": []
   },
   "source": [
    "# Python course for HiLASE \n",
    "\n",
    "## Contents\n",
    "\n",
    "1. [Installation instructions](010_installation.ipynb)\n",
    "2. [Running Python](020_running_python.ipynb)\n",
    "3. [Basic Syntax](030_basic_syntax.ipynb)\n",
    "4. [Variables and Types](040_variables_and_types.ipynb)\n",
    "5. [Containers](050_containers.ipynb)\n",
    "6. [Object Oriented Programming](060_oop.ipynb)\n",
    "7. [Iterators and Generators](070_iterators_and_generators.ipynb)\n",
    "8. [Exceptions](080_exceptions.ipynb)\n",
    "9. [Modules](090_modules.ipynb)\n",
    "10. [Files](100_working_with_files.ipynb)\n",
    "11. [Scientific Python introduction](110_scientific_python_intro.ipynb)\n",
    "12. [NumPy Introduction](120_numpy_intro.ipynb)\n",
    "13. [Pandas introduction](130_pandas_intro.ipynb)"
   ]
  },
  {
   "cell_type": "code",
   "execution_count": null,
   "metadata": {},
   "outputs": [],
   "source": []
  }
 ],
 "metadata": {
  "deepnote_execution_queue": [],
  "deepnote_notebook_id": "77eccd6c-f0ca-4e8b-82ac-b28ce534c46b",
  "kernelspec": {
   "display_name": "Python 3",
   "language": "python",
   "name": "python3"
  },
  "language_info": {
   "codemirror_mode": {
    "name": "ipython",
    "version": 3
   },
   "file_extension": ".py",
   "mimetype": "text/x-python",
   "name": "python",
   "nbconvert_exporter": "python",
   "pygments_lexer": "ipython3",
   "version": "3.8.3"
  }
 },
 "nbformat": 4,
 "nbformat_minor": 2
}
