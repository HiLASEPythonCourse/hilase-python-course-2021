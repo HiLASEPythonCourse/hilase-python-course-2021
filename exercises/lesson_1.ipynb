{
 "cells": [
  {
   "cell_type": "markdown",
   "metadata": {},
   "source": [
    "# Exercises for lesson 1"
   ]
  },
  {
   "cell_type": "markdown",
   "metadata": {},
   "source": [
    "## Running Python\n",
    "\n",
    "**Exercise 1**: Write and execute a Python code that will print \"Hello Python!\"."
   ]
  },
  {
   "cell_type": "code",
   "execution_count": null,
   "metadata": {},
   "outputs": [],
   "source": []
  },
  {
   "cell_type": "markdown",
   "metadata": {},
   "source": [
    "## Basic syntax\n",
    "\n",
    "**Exercise 2:** Sum together random integers in (0, 10) range until the the total sum is \n",
    "larger that 100. Print whether the resulting total sum is odd or even. \n",
    "Hint: use a `while` loop and a simple `if` block. You can also make use of the `+=` operator."
   ]
  },
  {
   "cell_type": "code",
   "execution_count": null,
   "metadata": {},
   "outputs": [],
   "source": []
  },
  {
   "cell_type": "markdown",
   "metadata": {},
   "source": [
    "**Exercise 3:** Write a function that calculates the area of a circle from its radius."
   ]
  },
  {
   "cell_type": "code",
   "execution_count": null,
   "metadata": {},
   "outputs": [],
   "source": []
  },
  {
   "cell_type": "markdown",
   "metadata": {},
   "source": [
    "## Variables and types"
   ]
  },
  {
   "cell_type": "markdown",
   "metadata": {},
   "source": [
    "**Exercise 4:** What is the type of the following objects?\n",
    "\n",
    "- a numerical expression, such as `2 + 1.0` \n",
    "- `False`\n",
    "- a variable that you define, such as `x = \"Hi, HiLase\"`\n",
    "- a function that you define, such as `def hello(): print(\"Hello\")`\n",
    "- `print`\n",
    "- `type`"
   ]
  },
  {
   "cell_type": "code",
   "execution_count": null,
   "metadata": {},
   "outputs": [],
   "source": []
  },
  {
   "cell_type": "markdown",
   "metadata": {},
   "source": [
    "**Exercise 5:** Find the appropriate `str` method in the [documentation](https://docs.python.org/3/library/stdtypes.html#string-methods) and try to:\n",
    "- count all the \"a\"s in the word \"aardvark\"\n",
    "- turn an agent's ID from \"7\" to \"007\"\n",
    "- check that a sentence (of your choice) starts with \"Please\""
   ]
  },
  {
   "cell_type": "code",
   "execution_count": null,
   "metadata": {},
   "outputs": [],
   "source": []
  }
 ],
 "metadata": {
  "kernelspec": {
   "display_name": "Python 3",
   "language": "python",
   "name": "python3"
  },
  "language_info": {
   "codemirror_mode": {
    "name": "ipython",
    "version": 3
   },
   "file_extension": ".py",
   "mimetype": "text/x-python",
   "name": "python",
   "nbconvert_exporter": "python",
   "pygments_lexer": "ipython3",
   "version": "3.8.3"
  }
 },
 "nbformat": 4,
 "nbformat_minor": 4
}
