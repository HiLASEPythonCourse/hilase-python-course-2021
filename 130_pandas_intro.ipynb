{
 "cells": [
  {
   "cell_type": "markdown",
   "metadata": {
    "cell_id": "00000-9c96fc7c-eaba-433b-bf8d-7044f600854b",
    "deepnote_cell_type": "markdown"
   },
   "source": [
    "# Pandas - Introduction\n",
    "\n",
    "This notebook explans how to use `pandas` library for analysis of tabular data."
   ]
  },
  {
   "cell_type": "code",
   "execution_count": 5,
   "metadata": {
    "cell_id": "00001-5b6f28ed-c26f-468f-b0a4-9e0c93cbc187",
    "deepnote_cell_type": "code",
    "deepnote_to_be_reexecuted": false,
    "execution_millis": 0,
    "execution_start": 1611524145525,
    "source_hash": "dbbf1542"
   },
   "outputs": [],
   "source": [
    "# Start using pandas (default import convention)\n",
    "import pandas as pd\n",
    "import numpy as np"
   ]
  },
  {
   "cell_type": "code",
   "execution_count": 6,
   "metadata": {
    "cell_id": "00002-f8d6b212-25bf-4955-b5d6-a559c86af20b",
    "deepnote_cell_type": "code",
    "deepnote_to_be_reexecuted": false,
    "execution_millis": 0,
    "execution_start": 1611524146087,
    "scrolled": true,
    "source_hash": "a1d46cae"
   },
   "outputs": [
    {
     "name": "stdout",
     "output_type": "stream",
     "text": [
      "\n",
      "pandas - a powerful data analysis and manipulation library for Python\n",
      "=====================================================================\n",
      "\n",
      "**pandas** is a Python package providing fast, flexible, and expressive data\n",
      "structures designed to make working with \"relational\" or \"labeled\" data both\n",
      "easy and intuitive. It aims to be the fundamental high-level building block for\n",
      "doing practical, **real world** data analysis in Python. Additionally, it has\n",
      "the broader goal of becoming **the most powerful and flexible open source data\n",
      "analysis / manipulation tool available in any language**. It is already well on\n",
      "its way toward this goal.\n",
      "\n",
      "Main Features\n",
      "-------------\n",
      "Here are just a few of the things that pandas does well:\n",
      "\n",
      "  - Easy handling of missing data in floating point as well as non-floating\n",
      "    point data.\n",
      "  - Size mutability: columns can be inserted and deleted from DataFrame and\n",
      "    higher dimensional objects\n",
      "  - Automatic and explicit data alignment: objects can be explicitly aligned\n",
      "    to a set of labels, or the user can simply ignore the labels and let\n",
      "    `Series`, `DataFrame`, etc. automatically align the data for you in\n",
      "    computations.\n",
      "  - Powerful, flexible group by functionality to perform split-apply-combine\n",
      "    operations on data sets, for both aggregating and transforming data.\n",
      "  - Make it easy to convert ragged, differently-indexed data in other Python\n",
      "    and NumPy data structures into DataFrame objects.\n",
      "  - Intelligent label-based slicing, fancy indexing, and subsetting of large\n",
      "    data sets.\n",
      "  - Intuitive merging and joining data sets.\n",
      "  - Flexible reshaping and pivoting of data sets.\n",
      "  - Hierarchical labeling of axes (possible to have multiple labels per tick).\n",
      "  - Robust IO tools for loading data from flat files (CSV and delimited),\n",
      "    Excel files, databases, and saving/loading data from the ultrafast HDF5\n",
      "    format.\n",
      "  - Time series-specific functionality: date range generation and frequency\n",
      "    conversion, moving window statistics, date shifting and lagging.\n",
      "\n"
     ]
    }
   ],
   "source": [
    "# Let pandas speak for themselves\n",
    "print(pd.__doc__)"
   ]
  },
  {
   "cell_type": "markdown",
   "metadata": {
    "cell_id": "00003-3ee27f5c-4aef-4dc3-8653-c90b1146e494",
    "deepnote_cell_type": "markdown"
   },
   "source": [
    "Visit the official website for a nicely written documentation: https://pandas.pydata.org"
   ]
  },
  {
   "cell_type": "code",
   "execution_count": 7,
   "metadata": {
    "cell_id": "00004-d90c37d8-7234-413e-a89c-f8a34d58e39d",
    "deepnote_cell_type": "code",
    "deepnote_to_be_reexecuted": false,
    "execution_millis": 6,
    "execution_start": 1611524154683,
    "source_hash": "30ba3d9f"
   },
   "outputs": [
    {
     "name": "stdout",
     "output_type": "stream",
     "text": [
      "1.1.3\n"
     ]
    }
   ],
   "source": [
    "# Current version (should be 1.2+ in 2021)\n",
    "print(pd.__version__)"
   ]
  },
  {
   "cell_type": "markdown",
   "metadata": {
    "cell_id": "00005-68938e1d-9143-4228-9d63-9e0a36b8d1d1",
    "deepnote_cell_type": "markdown"
   },
   "source": [
    "## Basic objects "
   ]
  },
  {
   "cell_type": "markdown",
   "metadata": {
    "cell_id": "00006-fdd69bd6-cb3e-4fca-8220-671dfa4b2b88",
    "deepnote_cell_type": "markdown"
   },
   "source": [
    "The **pandas** library has a vast API with many useful functions. However, most of this revolves\n",
    "around two important classes:\n",
    "\n",
    "* Series\n",
    "* DataFrame\n",
    "\n",
    "In this introduction, we will focus on them - what each of them does and how they relate to each other\n",
    "and numpy objects."
   ]
  },
  {
   "cell_type": "markdown",
   "metadata": {
    "cell_id": "00007-b550553e-6541-4081-9dcd-a68fa7b896d1",
    "deepnote_cell_type": "markdown"
   },
   "source": [
    "### Series\n",
    "\n",
    "Series is a one-dimensional data structure, central to pandas. \n",
    "\n",
    "For a complete API, visit https://pandas.pydata.org/pandas-docs/stable/reference/api/pandas.Series.html"
   ]
  },
  {
   "cell_type": "code",
   "execution_count": 8,
   "metadata": {
    "cell_id": "00008-576737c0-f7f4-48ce-996d-28c0b635e3aa",
    "deepnote_cell_type": "code",
    "deepnote_to_be_reexecuted": false,
    "execution_millis": 14,
    "execution_start": 1611524162483,
    "source_hash": "c76e8792"
   },
   "outputs": [
    {
     "data": {
      "text/plain": [
       "0    1\n",
       "1    2\n",
       "2    3\n",
       "dtype: int64"
      ]
     },
     "execution_count": 8,
     "metadata": {},
     "output_type": "execute_result"
    }
   ],
   "source": [
    "# My first series\n",
    "series = pd.Series([1, 2, 3])\n",
    "series"
   ]
  },
  {
   "cell_type": "markdown",
   "metadata": {
    "cell_id": "00009-b63b590b-e993-42c8-bb33-166b2702ba3e",
    "deepnote_cell_type": "markdown"
   },
   "source": [
    "This looks a bit like a Numpy array, does it not?\n",
    "\n",
    "Actually, in most cases the Series wraps a Numpy array..."
   ]
  },
  {
   "cell_type": "code",
   "execution_count": 9,
   "metadata": {
    "cell_id": "00010-d06edb1a-2143-4c1b-a5b0-aaadfb315e7d",
    "deepnote_cell_type": "code",
    "deepnote_to_be_reexecuted": false,
    "execution_millis": 0,
    "execution_start": 1611524164139,
    "source_hash": "44e6fad0"
   },
   "outputs": [
    {
     "data": {
      "text/plain": [
       "array([1, 2, 3], dtype=int64)"
      ]
     },
     "execution_count": 9,
     "metadata": {},
     "output_type": "execute_result"
    }
   ],
   "source": [
    "series.values  # The result is a Numpy array"
   ]
  },
  {
   "cell_type": "markdown",
   "metadata": {
    "cell_id": "00013-b8611001-c48a-4a1e-a482-b6c781cf77ff",
    "deepnote_cell_type": "markdown"
   },
   "source": [
    "But there is something more. Alongside the values, we see that each item (or \"row\") has a certain label. The collection of labels is called **index**."
   ]
  },
  {
   "cell_type": "code",
   "execution_count": 10,
   "metadata": {
    "cell_id": "00014-54885ee0-c17a-4340-8039-2675e8b38c77",
    "deepnote_cell_type": "code",
    "deepnote_to_be_reexecuted": false,
    "execution_millis": 1,
    "execution_start": 1611480061372,
    "source_hash": "8f0869f4"
   },
   "outputs": [
    {
     "data": {
      "text/plain": [
       "RangeIndex(start=0, stop=3, step=1)"
      ]
     },
     "execution_count": 10,
     "metadata": {},
     "output_type": "execute_result"
    }
   ],
   "source": [
    "series.index"
   ]
  },
  {
   "cell_type": "markdown",
   "metadata": {
    "cell_id": "00015-7b104328-754a-4e7f-bb62-14c4d2dd1917",
    "deepnote_cell_type": "markdown"
   },
   "source": [
    "This index (see below) can be used, as its name suggests, to index items of the series."
   ]
  },
  {
   "cell_type": "code",
   "execution_count": 11,
   "metadata": {
    "cell_id": "00016-863ac09e-7c3f-4e03-959e-c66c510c596b",
    "deepnote_cell_type": "code",
    "deepnote_to_be_reexecuted": false,
    "execution_millis": 2,
    "execution_start": 1611480074617,
    "source_hash": "4a387647"
   },
   "outputs": [
    {
     "data": {
      "text/plain": [
       "2"
      ]
     },
     "execution_count": 11,
     "metadata": {},
     "output_type": "execute_result"
    }
   ],
   "source": [
    "# Return an element from the series\n",
    "series.loc[1]"
   ]
  },
  {
   "cell_type": "code",
   "execution_count": 12,
   "metadata": {
    "cell_id": "00015-91f2ee46-a5f9-45a9-abb6-12bd4a463ac9",
    "deepnote_cell_type": "code",
    "deepnote_to_be_reexecuted": false,
    "execution_millis": 0,
    "execution_start": 1611524219874,
    "source_hash": "ec5f55d9",
    "tags": []
   },
   "outputs": [
    {
     "data": {
      "text/plain": [
       "2"
      ]
     },
     "execution_count": 12,
     "metadata": {},
     "output_type": "execute_result"
    }
   ],
   "source": [
    "# Or\n",
    "series[1]"
   ]
  },
  {
   "cell_type": "code",
   "execution_count": 9,
   "metadata": {
    "cell_id": "00017-43b59fa1-d72d-46ba-86d6-0fed76ccd1f0",
    "deepnote_cell_type": "code",
    "deepnote_to_be_reexecuted": false,
    "execution_millis": 1,
    "execution_start": 1611524224185,
    "source_hash": "e117364f"
   },
   "outputs": [
    {
     "data": {
      "text/plain": [
       "a    2\n",
       "b    4\n",
       "dtype: int64"
      ]
     },
     "execution_count": 9,
     "metadata": {},
     "output_type": "execute_result"
    }
   ],
   "source": [
    "# Construction from a dictionary\n",
    "series_ab = pd.Series({\"a\": 2, \"b\": 4})\n",
    "series_ab"
   ]
  },
  {
   "cell_type": "markdown",
   "metadata": {
    "cell_id": "00018-370c0ee0-646c-419e-b994-f9a6d344a42b",
    "deepnote_cell_type": "markdown"
   },
   "source": [
    "**Exercise**: Create a series with 5 elements."
   ]
  },
  {
   "cell_type": "code",
   "execution_count": 10,
   "metadata": {
    "cell_id": "00019-b9b88043-d813-4c7f-bc2f-e82f2390f14a",
    "deepnote_cell_type": "code",
    "deepnote_to_be_reexecuted": false,
    "execution_millis": 24,
    "execution_start": 1611524228521,
    "source_hash": "a257d19f"
   },
   "outputs": [],
   "source": [
    "result = ..."
   ]
  },
  {
   "cell_type": "markdown",
   "metadata": {
    "cell_id": "00020-6aa98d6a-363c-4907-8fb1-30c32e070e9f",
    "deepnote_cell_type": "markdown"
   },
   "source": [
    "### DataFrame"
   ]
  },
  {
   "cell_type": "markdown",
   "metadata": {
    "cell_id": "00021-06c635d1-efc4-4a34-9ab0-870db0778bf0",
    "deepnote_cell_type": "markdown"
   },
   "source": [
    "A **DataFrame** is pandas' answer to Excel sheets - it is a collection of named columns (or, in our case, a collection of **Series**).\n",
    "Quite often, we directly read data frames from an external source, but it is possible to create them from:\n",
    "* a dict of Series, numpy arrays or other array-like objects\n",
    "* from an iterable of rows (where rows are Series, lists, dictionaries, ...)"
   ]
  },
  {
   "cell_type": "code",
   "execution_count": 11,
   "metadata": {
    "cell_id": "00022-b08d7be1-128a-48c5-9b57-806f68113d63",
    "deepnote_cell_type": "code",
    "deepnote_to_be_reexecuted": false,
    "execution_millis": 4,
    "execution_start": 1611480247253,
    "source_hash": "3d0048f"
   },
   "outputs": [
    {
     "data": {
      "text/html": [
       "<div>\n",
       "<style scoped>\n",
       "    .dataframe tbody tr th:only-of-type {\n",
       "        vertical-align: middle;\n",
       "    }\n",
       "\n",
       "    .dataframe tbody tr th {\n",
       "        vertical-align: top;\n",
       "    }\n",
       "\n",
       "    .dataframe thead th {\n",
       "        text-align: right;\n",
       "    }\n",
       "</style>\n",
       "<table border=\"1\" class=\"dataframe\">\n",
       "  <thead>\n",
       "    <tr style=\"text-align: right;\">\n",
       "      <th></th>\n",
       "      <th>0</th>\n",
       "      <th>1</th>\n",
       "    </tr>\n",
       "  </thead>\n",
       "  <tbody>\n",
       "    <tr>\n",
       "      <th>0</th>\n",
       "      <td>a</td>\n",
       "      <td>1</td>\n",
       "    </tr>\n",
       "    <tr>\n",
       "      <th>1</th>\n",
       "      <td>b</td>\n",
       "      <td>3</td>\n",
       "    </tr>\n",
       "    <tr>\n",
       "      <th>2</th>\n",
       "      <td>c</td>\n",
       "      <td>5</td>\n",
       "    </tr>\n",
       "  </tbody>\n",
       "</table>\n",
       "</div>"
      ],
      "text/plain": [
       "   0  1\n",
       "0  a  1\n",
       "1  b  3\n",
       "2  c  5"
      ]
     },
     "execution_count": 11,
     "metadata": {},
     "output_type": "execute_result"
    }
   ],
   "source": [
    "# List of lists (no column names)\n",
    "table = [\n",
    "    ['a', 1],\n",
    "    ['b', 3],\n",
    "    ['c', 5]\n",
    "]\n",
    "table_df = pd.DataFrame(table)\n",
    "table_df"
   ]
  },
  {
   "cell_type": "code",
   "execution_count": 12,
   "metadata": {
    "cell_id": "00023-460aa85e-6503-4335-8b70-b695c45b6121",
    "deepnote_cell_type": "code",
    "deepnote_to_be_reexecuted": false,
    "execution_millis": 22,
    "execution_start": 1611480252849,
    "source_hash": "433789ee"
   },
   "outputs": [
    {
     "data": {
      "text/html": [
       "<div>\n",
       "<style scoped>\n",
       "    .dataframe tbody tr th:only-of-type {\n",
       "        vertical-align: middle;\n",
       "    }\n",
       "\n",
       "    .dataframe tbody tr th {\n",
       "        vertical-align: top;\n",
       "    }\n",
       "\n",
       "    .dataframe thead th {\n",
       "        text-align: right;\n",
       "    }\n",
       "</style>\n",
       "<table border=\"1\" class=\"dataframe\">\n",
       "  <thead>\n",
       "    <tr style=\"text-align: right;\">\n",
       "      <th></th>\n",
       "      <th>number</th>\n",
       "      <th>letter</th>\n",
       "    </tr>\n",
       "  </thead>\n",
       "  <tbody>\n",
       "    <tr>\n",
       "      <th>0</th>\n",
       "      <td>1</td>\n",
       "      <td>a</td>\n",
       "    </tr>\n",
       "    <tr>\n",
       "      <th>1</th>\n",
       "      <td>2</td>\n",
       "      <td>b</td>\n",
       "    </tr>\n",
       "    <tr>\n",
       "      <th>2</th>\n",
       "      <td>3</td>\n",
       "      <td>c</td>\n",
       "    </tr>\n",
       "    <tr>\n",
       "      <th>3</th>\n",
       "      <td>4</td>\n",
       "      <td>d</td>\n",
       "    </tr>\n",
       "  </tbody>\n",
       "</table>\n",
       "</div>"
      ],
      "text/plain": [
       "   number letter\n",
       "0       1      a\n",
       "1       2      b\n",
       "2       3      c\n",
       "3       4      d"
      ]
     },
     "execution_count": 12,
     "metadata": {},
     "output_type": "execute_result"
    }
   ],
   "source": [
    "# Dict of Series (with column names)\n",
    "df = pd.DataFrame({\n",
    "    'number': pd.Series([1, 2, 3, 4], dtype=np.int8),\n",
    "    'letter': pd.Series(['a', 'b', 'c', 'd'])\n",
    "})\n",
    "df"
   ]
  },
  {
   "cell_type": "code",
   "execution_count": 13,
   "metadata": {
    "cell_id": "00024-ce04e0d4-525f-4e35-8ecd-e5d1c808b5f8",
    "deepnote_cell_type": "code",
    "deepnote_to_be_reexecuted": false,
    "execution_millis": 5,
    "execution_start": 1611480255162,
    "scrolled": true,
    "source_hash": "31c05ea5"
   },
   "outputs": [
    {
     "data": {
      "text/html": [
       "<div>\n",
       "<style scoped>\n",
       "    .dataframe tbody tr th:only-of-type {\n",
       "        vertical-align: middle;\n",
       "    }\n",
       "\n",
       "    .dataframe tbody tr th {\n",
       "        vertical-align: top;\n",
       "    }\n",
       "\n",
       "    .dataframe thead th {\n",
       "        text-align: right;\n",
       "    }\n",
       "</style>\n",
       "<table border=\"1\" class=\"dataframe\">\n",
       "  <thead>\n",
       "    <tr style=\"text-align: right;\">\n",
       "      <th></th>\n",
       "      <th>a</th>\n",
       "      <th>b</th>\n",
       "    </tr>\n",
       "  </thead>\n",
       "  <tbody>\n",
       "    <tr>\n",
       "      <th>0</th>\n",
       "      <td>0.090772</td>\n",
       "      <td>0.041840</td>\n",
       "    </tr>\n",
       "    <tr>\n",
       "      <th>1</th>\n",
       "      <td>-0.159387</td>\n",
       "      <td>-0.297443</td>\n",
       "    </tr>\n",
       "    <tr>\n",
       "      <th>2</th>\n",
       "      <td>-0.164198</td>\n",
       "      <td>2.279871</td>\n",
       "    </tr>\n",
       "    <tr>\n",
       "      <th>3</th>\n",
       "      <td>0.245484</td>\n",
       "      <td>0.876967</td>\n",
       "    </tr>\n",
       "    <tr>\n",
       "      <th>4</th>\n",
       "      <td>0.467666</td>\n",
       "      <td>-0.496923</td>\n",
       "    </tr>\n",
       "    <tr>\n",
       "      <th>5</th>\n",
       "      <td>0.429331</td>\n",
       "      <td>1.332600</td>\n",
       "    </tr>\n",
       "    <tr>\n",
       "      <th>6</th>\n",
       "      <td>0.700654</td>\n",
       "      <td>1.149239</td>\n",
       "    </tr>\n",
       "    <tr>\n",
       "      <th>7</th>\n",
       "      <td>0.443336</td>\n",
       "      <td>1.393251</td>\n",
       "    </tr>\n",
       "    <tr>\n",
       "      <th>8</th>\n",
       "      <td>0.940206</td>\n",
       "      <td>0.440855</td>\n",
       "    </tr>\n",
       "    <tr>\n",
       "      <th>9</th>\n",
       "      <td>0.374370</td>\n",
       "      <td>0.936499</td>\n",
       "    </tr>\n",
       "  </tbody>\n",
       "</table>\n",
       "</div>"
      ],
      "text/plain": [
       "          a         b\n",
       "0  0.090772  0.041840\n",
       "1 -0.159387 -0.297443\n",
       "2 -0.164198  2.279871\n",
       "3  0.245484  0.876967\n",
       "4  0.467666 -0.496923\n",
       "5  0.429331  1.332600\n",
       "6  0.700654  1.149239\n",
       "7  0.443336  1.393251\n",
       "8  0.940206  0.440855\n",
       "9  0.374370  0.936499"
      ]
     },
     "execution_count": 13,
     "metadata": {},
     "output_type": "execute_result"
    }
   ],
   "source": [
    "# Numpy array (10x2), specify column names\n",
    "data = np.random.normal(0, 1, (10, 2))\n",
    "\n",
    "df = pd.DataFrame(data, columns=['a', 'b'])\n",
    "df"
   ]
  },
  {
   "cell_type": "code",
   "execution_count": 14,
   "metadata": {
    "cell_id": "00025-47de99ba-8288-4905-8877-85452ec86841",
    "deepnote_cell_type": "code",
    "deepnote_to_be_reexecuted": false,
    "execution_millis": 5,
    "execution_start": 1611480300049,
    "source_hash": "ed5550ef"
   },
   "outputs": [
    {
     "data": {
      "text/plain": [
       "RangeIndex(start=0, stop=10, step=1)"
      ]
     },
     "execution_count": 14,
     "metadata": {},
     "output_type": "execute_result"
    }
   ],
   "source": [
    "# A DataFrame also has an index.\n",
    "df.index"
   ]
  },
  {
   "cell_type": "code",
   "execution_count": 15,
   "metadata": {
    "cell_id": "00026-c0ad1aba-1e06-411d-9301-9a3fcebca0e1",
    "deepnote_cell_type": "code",
    "deepnote_to_be_reexecuted": false,
    "execution_millis": 11,
    "execution_start": 1611480272657,
    "source_hash": "25d43fa0",
    "tags": []
   },
   "outputs": [
    {
     "data": {
      "text/plain": [
       "Index(['a', 'b'], dtype='object')"
      ]
     },
     "execution_count": 15,
     "metadata": {},
     "output_type": "execute_result"
    }
   ],
   "source": [
    "# The columns also form an index.\n",
    "df.columns"
   ]
  },
  {
   "cell_type": "code",
   "execution_count": 16,
   "metadata": {
    "cell_id": "00027-6c934155-da4c-4080-a0be-f51d4fd62f3f",
    "deepnote_cell_type": "code",
    "deepnote_to_be_reexecuted": false,
    "execution_millis": 3,
    "execution_start": 1611480255539,
    "source_hash": "342beafe"
   },
   "outputs": [
    {
     "data": {
      "text/plain": [
       "True"
      ]
     },
     "execution_count": 16,
     "metadata": {},
     "output_type": "execute_result"
    }
   ],
   "source": [
    "# ...that is shared by all columns\n",
    "df.index is df[\"a\"].index"
   ]
  },
  {
   "cell_type": "markdown",
   "metadata": {
    "cell_id": "00028-aa94d7ea-8bba-4294-9b86-6a391209884f",
    "deepnote_cell_type": "markdown"
   },
   "source": [
    "## D(ata) types\n",
    "\n",
    "Pandas builds upon the numpy data types (mentioned earlier) and adds a couple of more."
   ]
  },
  {
   "cell_type": "code",
   "execution_count": 17,
   "metadata": {
    "cell_id": "00029-8f0e7b0b-dc86-4248-be41-2ecdcd29719d",
    "deepnote_cell_type": "code",
    "deepnote_to_be_reexecuted": false,
    "execution_millis": 1,
    "execution_start": 1611480414296,
    "source_hash": "6af9f238"
   },
   "outputs": [
    {
     "data": {
      "text/html": [
       "<div>\n",
       "<style scoped>\n",
       "    .dataframe tbody tr th:only-of-type {\n",
       "        vertical-align: middle;\n",
       "    }\n",
       "\n",
       "    .dataframe tbody tr th {\n",
       "        vertical-align: top;\n",
       "    }\n",
       "\n",
       "    .dataframe thead th {\n",
       "        text-align: right;\n",
       "    }\n",
       "</style>\n",
       "<table border=\"1\" class=\"dataframe\">\n",
       "  <thead>\n",
       "    <tr style=\"text-align: right;\">\n",
       "      <th></th>\n",
       "      <th>bool</th>\n",
       "      <th>int</th>\n",
       "      <th>int[nan]</th>\n",
       "      <th>float</th>\n",
       "      <th>object</th>\n",
       "      <th>string?</th>\n",
       "      <th>string!</th>\n",
       "      <th>datetime</th>\n",
       "      <th>timedelta</th>\n",
       "      <th>category</th>\n",
       "    </tr>\n",
       "  </thead>\n",
       "  <tbody>\n",
       "    <tr>\n",
       "      <th>0</th>\n",
       "      <td>True</td>\n",
       "      <td>0</td>\n",
       "      <td>&lt;NA&gt;</td>\n",
       "      <td>0.00</td>\n",
       "      <td>None</td>\n",
       "      <td>a</td>\n",
       "      <td>a</td>\n",
       "      <td>2018-01-31</td>\n",
       "      <td>0 days 00:00:00</td>\n",
       "      <td>animal</td>\n",
       "    </tr>\n",
       "    <tr>\n",
       "      <th>1</th>\n",
       "      <td>False</td>\n",
       "      <td>1</td>\n",
       "      <td>0</td>\n",
       "      <td>3.14</td>\n",
       "      <td>1</td>\n",
       "      <td>b</td>\n",
       "      <td>b</td>\n",
       "      <td>2018-04-30</td>\n",
       "      <td>0 days 00:00:01</td>\n",
       "      <td>plant</td>\n",
       "    </tr>\n",
       "    <tr>\n",
       "      <th>2</th>\n",
       "      <td>True</td>\n",
       "      <td>2</td>\n",
       "      <td>1</td>\n",
       "      <td>6.28</td>\n",
       "      <td>2</td>\n",
       "      <td>c</td>\n",
       "      <td>c</td>\n",
       "      <td>2018-07-31</td>\n",
       "      <td>0 days 00:00:02</td>\n",
       "      <td>animal</td>\n",
       "    </tr>\n",
       "    <tr>\n",
       "      <th>3</th>\n",
       "      <td>False</td>\n",
       "      <td>3</td>\n",
       "      <td>2</td>\n",
       "      <td>9.42</td>\n",
       "      <td>[3, 4]</td>\n",
       "      <td>d</td>\n",
       "      <td>d</td>\n",
       "      <td>2018-10-31</td>\n",
       "      <td>0 days 00:00:03</td>\n",
       "      <td>animal</td>\n",
       "    </tr>\n",
       "    <tr>\n",
       "      <th>4</th>\n",
       "      <td>True</td>\n",
       "      <td>4</td>\n",
       "      <td>3</td>\n",
       "      <td>12.56</td>\n",
       "      <td>(5+6j)</td>\n",
       "      <td>e</td>\n",
       "      <td>e</td>\n",
       "      <td>2019-01-31</td>\n",
       "      <td>0 days 00:00:04</td>\n",
       "      <td>plant</td>\n",
       "    </tr>\n",
       "  </tbody>\n",
       "</table>\n",
       "</div>"
      ],
      "text/plain": [
       "    bool  int  int[nan]  float  object string? string!   datetime  \\\n",
       "0   True    0      <NA>   0.00    None       a       a 2018-01-31   \n",
       "1  False    1         0   3.14       1       b       b 2018-04-30   \n",
       "2   True    2         1   6.28       2       c       c 2018-07-31   \n",
       "3  False    3         2   9.42  [3, 4]       d       d 2018-10-31   \n",
       "4   True    4         3  12.56  (5+6j)       e       e 2019-01-31   \n",
       "\n",
       "        timedelta category  \n",
       "0 0 days 00:00:00   animal  \n",
       "1 0 days 00:00:01    plant  \n",
       "2 0 days 00:00:02   animal  \n",
       "3 0 days 00:00:03   animal  \n",
       "4 0 days 00:00:04    plant  "
      ]
     },
     "execution_count": 17,
     "metadata": {},
     "output_type": "execute_result"
    }
   ],
   "source": [
    "typed_df = pd.DataFrame({\n",
    "  \"bool\": np.arange(5) % 2 == 0,\n",
    "  \"int\": range(5),\n",
    "  \"int[nan]\": pd.Series([np.nan, 0, 1, 2, 3], dtype=\"Int64\"),\n",
    "  \"float\": np.arange(5) * 3.14,\n",
    "  \"object\": [None, 1, \"2\", [3, 4], 5 + 6j],\n",
    "  \"string?\": [\"a\", \"b\", \"c\", \"d\", \"e\"],\n",
    "  \"string!\": pd.Series([\"a\", \"b\", \"c\", \"d\", \"e\"], dtype=\"string\"),\n",
    "  \"datetime\": pd.date_range('2018-01-01', periods=5, freq='3M'),\n",
    "  \"timedelta\": pd.timedelta_range(0, freq=\"1s\", periods=5),\n",
    "  \"category\": pd.Series([\"animal\", \"plant\", \"animal\", \"animal\", \"plant\"], dtype=\"category\")\n",
    "})\n",
    "typed_df"
   ]
  },
  {
   "cell_type": "code",
   "execution_count": 18,
   "metadata": {
    "cell_id": "00030-80fb51df-1921-4c0f-b380-cb3812a3d059",
    "deepnote_cell_type": "code",
    "deepnote_to_be_reexecuted": false,
    "execution_millis": 3,
    "execution_start": 1611480419772,
    "source_hash": "4f0d2239"
   },
   "outputs": [
    {
     "data": {
      "text/plain": [
       "bool                    bool\n",
       "int                    int64\n",
       "int[nan]               Int64\n",
       "float                float64\n",
       "object                object\n",
       "string?               object\n",
       "string!               string\n",
       "datetime      datetime64[ns]\n",
       "timedelta    timedelta64[ns]\n",
       "category            category\n",
       "dtype: object"
      ]
     },
     "execution_count": 18,
     "metadata": {},
     "output_type": "execute_result"
    }
   ],
   "source": [
    "typed_df.dtypes"
   ]
  },
  {
   "cell_type": "markdown",
   "metadata": {
    "cell_id": "00031-9aa5fa0e-e065-4f81-858d-93a4ff13c158",
    "deepnote_cell_type": "markdown"
   },
   "source": [
    "We will see some of the types practically used in further analysis."
   ]
  },
  {
   "cell_type": "markdown",
   "metadata": {
    "cell_id": "00032-d28f532f-1cc0-45a3-9275-869490ca3cc4",
    "deepnote_cell_type": "markdown"
   },
   "source": [
    "## Indices & indexing\n",
    "\n"
   ]
  },
  {
   "cell_type": "code",
   "execution_count": 19,
   "metadata": {
    "cell_id": "00033-35f9e0dc-1e10-4354-9301-37cdf5dfc108",
    "deepnote_cell_type": "code",
    "deepnote_to_be_reexecuted": false,
    "execution_millis": 9,
    "execution_start": 1611480437724,
    "source_hash": "19f8a65a"
   },
   "outputs": [
    {
     "data": {
      "text/plain": [
       "a    0\n",
       "b    1\n",
       "c    2\n",
       "dtype: int64"
      ]
     },
     "execution_count": 19,
     "metadata": {},
     "output_type": "execute_result"
    }
   ],
   "source": [
    "abc_series = pd.Series(range(3), index=[\"a\", \"b\", \"c\"])\n",
    "abc_series"
   ]
  },
  {
   "cell_type": "code",
   "execution_count": 20,
   "metadata": {
    "cell_id": "00034-53dceb0f-f3ea-4376-a3fc-0b9132b15c2d",
    "deepnote_cell_type": "code",
    "deepnote_to_be_reexecuted": false,
    "execution_millis": 1,
    "execution_start": 1611480449552,
    "source_hash": "7cd8d5bf"
   },
   "outputs": [
    {
     "data": {
      "text/plain": [
       "Index(['a', 'b', 'c'], dtype='object')"
      ]
     },
     "execution_count": 20,
     "metadata": {},
     "output_type": "execute_result"
    }
   ],
   "source": [
    "abc_series.index"
   ]
  },
  {
   "cell_type": "code",
   "execution_count": 21,
   "metadata": {
    "cell_id": "00035-f24e5c70-36f0-4d63-a7a4-cae2c798bf94",
    "deepnote_cell_type": "code",
    "deepnote_to_be_reexecuted": false,
    "execution_millis": 4,
    "execution_start": 1611480468106,
    "source_hash": "2812f42b"
   },
   "outputs": [
    {
     "data": {
      "text/plain": [
       "letter\n",
       "c    0\n",
       "d    1\n",
       "e    2\n",
       "dtype: int64"
      ]
     },
     "execution_count": 21,
     "metadata": {},
     "output_type": "execute_result"
    }
   ],
   "source": [
    "abc_series.index = [\"c\", \"d\", \"e\"]  # Changes the labels in-place!\n",
    "abc_series.index.name = \"letter\"\n",
    "abc_series"
   ]
  },
  {
   "cell_type": "code",
   "execution_count": 22,
   "metadata": {
    "cell_id": "00036-c789e02a-2403-487e-a08d-01df0da17840",
    "deepnote_cell_type": "code",
    "deepnote_to_be_reexecuted": false,
    "execution_millis": 1,
    "execution_start": 1611480471996,
    "source_hash": "90a443a4"
   },
   "outputs": [
    {
     "data": {
      "text/html": [
       "<div>\n",
       "<style scoped>\n",
       "    .dataframe tbody tr th:only-of-type {\n",
       "        vertical-align: middle;\n",
       "    }\n",
       "\n",
       "    .dataframe tbody tr th {\n",
       "        vertical-align: top;\n",
       "    }\n",
       "\n",
       "    .dataframe thead th {\n",
       "        text-align: right;\n",
       "    }\n",
       "</style>\n",
       "<table border=\"1\" class=\"dataframe\">\n",
       "  <thead>\n",
       "    <tr style=\"text-align: right;\">\n",
       "      <th></th>\n",
       "      <th>alpha</th>\n",
       "      <th>beta</th>\n",
       "    </tr>\n",
       "  </thead>\n",
       "  <tbody>\n",
       "    <tr>\n",
       "      <th>first</th>\n",
       "      <td>a</td>\n",
       "      <td>1</td>\n",
       "    </tr>\n",
       "    <tr>\n",
       "      <th>second</th>\n",
       "      <td>b</td>\n",
       "      <td>3</td>\n",
       "    </tr>\n",
       "    <tr>\n",
       "      <th>third</th>\n",
       "      <td>c</td>\n",
       "      <td>5</td>\n",
       "    </tr>\n",
       "  </tbody>\n",
       "</table>\n",
       "</div>"
      ],
      "text/plain": [
       "       alpha  beta\n",
       "first      a     1\n",
       "second     b     3\n",
       "third      c     5"
      ]
     },
     "execution_count": 22,
     "metadata": {},
     "output_type": "execute_result"
    }
   ],
   "source": [
    "table = [\n",
    "    ['a', 1],\n",
    "    ['b', 3],\n",
    "    ['c', 5]\n",
    "]\n",
    "table_df = pd.DataFrame(\n",
    "    table,\n",
    "    index=[\"first\", \"second\", \"third\"],\n",
    "    columns=[\"alpha\", \"beta\"]\n",
    ")\n",
    "table_df"
   ]
  },
  {
   "cell_type": "code",
   "execution_count": 23,
   "metadata": {
    "cell_id": "00037-1bf7a004-e61f-4a7b-ab79-809ed090af1f",
    "deepnote_cell_type": "code",
    "deepnote_to_be_reexecuted": false,
    "execution_millis": 2,
    "execution_start": 1611480487168,
    "source_hash": "13d66294"
   },
   "outputs": [
    {
     "data": {
      "text/plain": [
       "first     a\n",
       "second    b\n",
       "third     c\n",
       "Name: alpha, dtype: object"
      ]
     },
     "execution_count": 23,
     "metadata": {},
     "output_type": "execute_result"
    }
   ],
   "source": [
    "alpha = table_df[\"alpha\"]  # Simple [] indexing in DataFrame returns Series\n",
    "alpha"
   ]
  },
  {
   "cell_type": "code",
   "execution_count": 24,
   "metadata": {
    "cell_id": "00038-c890f83c-1e8a-4952-abdf-c2799352d49b",
    "deepnote_cell_type": "code",
    "deepnote_to_be_reexecuted": false,
    "execution_millis": 4,
    "execution_start": 1611480488922,
    "source_hash": "ca4ed67d"
   },
   "outputs": [
    {
     "data": {
      "text/plain": [
       "'b'"
      ]
     },
     "execution_count": 24,
     "metadata": {},
     "output_type": "execute_result"
    }
   ],
   "source": [
    "alpha[\"second\"]             # Simple [] indexing in Series returns scalar values."
   ]
  },
  {
   "cell_type": "code",
   "execution_count": 25,
   "metadata": {
    "cell_id": "00039-ceb6560d-a5f5-4648-9c50-894b18b5d7bc",
    "deepnote_cell_type": "code",
    "deepnote_to_be_reexecuted": false,
    "execution_millis": 4,
    "execution_start": 1611480493701,
    "source_hash": "71561b63"
   },
   "outputs": [
    {
     "data": {
      "text/plain": [
       "'b'"
      ]
     },
     "execution_count": 25,
     "metadata": {},
     "output_type": "execute_result"
    }
   ],
   "source": [
    "alpha.second   # This also works"
   ]
  },
  {
   "cell_type": "markdown",
   "metadata": {
    "cell_id": "00040-63736acf-f304-41eb-9964-0c1ef12594e2",
    "deepnote_cell_type": "markdown"
   },
   "source": [
    "but careful!"
   ]
  },
  {
   "cell_type": "code",
   "execution_count": 26,
   "metadata": {
    "cell_id": "00041-1a83a5ab-e31a-4a4b-a528-18ab65a9853f",
    "deepnote_cell_type": "code",
    "deepnote_to_be_reexecuted": false,
    "execution_millis": 3,
    "execution_start": 1611480496092,
    "source_hash": "b77fa13b"
   },
   "outputs": [
    {
     "data": {
      "text/plain": [
       "<bound method NDFrame.first of first     a\n",
       "second    b\n",
       "third     c\n",
       "Name: alpha, dtype: object>"
      ]
     },
     "execution_count": 26,
     "metadata": {},
     "output_type": "execute_result"
    }
   ],
   "source": [
    "alpha.first"
   ]
  },
  {
   "cell_type": "markdown",
   "metadata": {
    "cell_id": "00042-b5bea60b-507a-4dea-8a4f-9acbe6c598a0",
    "deepnote_cell_type": "markdown"
   },
   "source": [
    "A slice with a `[\"list\", \"of\", \"columns\"]` yields a `DataFrame` with those columns. \n",
    "\n",
    "For example:"
   ]
  },
  {
   "cell_type": "code",
   "execution_count": 27,
   "metadata": {
    "cell_id": "00043-b297bd6b-85ff-4770-879c-9bdf09de6abf",
    "deepnote_cell_type": "code",
    "deepnote_to_be_reexecuted": false,
    "execution_millis": 1,
    "execution_start": 1611480507673,
    "source_hash": "b512d0f2"
   },
   "outputs": [
    {
     "data": {
      "text/html": [
       "<div>\n",
       "<style scoped>\n",
       "    .dataframe tbody tr th:only-of-type {\n",
       "        vertical-align: middle;\n",
       "    }\n",
       "\n",
       "    .dataframe tbody tr th {\n",
       "        vertical-align: top;\n",
       "    }\n",
       "\n",
       "    .dataframe thead th {\n",
       "        text-align: right;\n",
       "    }\n",
       "</style>\n",
       "<table border=\"1\" class=\"dataframe\">\n",
       "  <thead>\n",
       "    <tr style=\"text-align: right;\">\n",
       "      <th></th>\n",
       "      <th>beta</th>\n",
       "      <th>alpha</th>\n",
       "    </tr>\n",
       "  </thead>\n",
       "  <tbody>\n",
       "    <tr>\n",
       "      <th>first</th>\n",
       "      <td>1</td>\n",
       "      <td>a</td>\n",
       "    </tr>\n",
       "    <tr>\n",
       "      <th>second</th>\n",
       "      <td>3</td>\n",
       "      <td>b</td>\n",
       "    </tr>\n",
       "    <tr>\n",
       "      <th>third</th>\n",
       "      <td>5</td>\n",
       "      <td>c</td>\n",
       "    </tr>\n",
       "  </tbody>\n",
       "</table>\n",
       "</div>"
      ],
      "text/plain": [
       "        beta alpha\n",
       "first      1     a\n",
       "second     3     b\n",
       "third      5     c"
      ]
     },
     "execution_count": 27,
     "metadata": {},
     "output_type": "execute_result"
    }
   ],
   "source": [
    "table_df[[\"beta\", \"alpha\"]]"
   ]
  },
  {
   "cell_type": "markdown",
   "metadata": {
    "cell_id": "00044-096ecd23-878e-4b06-bcb9-b60dfa8da461",
    "deepnote_cell_type": "markdown"
   },
   "source": [
    "`[[\"column_name\"]]` returs a `DataFrame` as well, not `Series`:"
   ]
  },
  {
   "cell_type": "code",
   "execution_count": 28,
   "metadata": {
    "cell_id": "00045-a862e2cf-389b-4a9b-9444-cf2a2c7520a4",
    "deepnote_cell_type": "code",
    "deepnote_to_be_reexecuted": false,
    "execution_millis": 4,
    "execution_start": 1611480510971,
    "source_hash": "9f86bc6a"
   },
   "outputs": [
    {
     "data": {
      "text/html": [
       "<div>\n",
       "<style scoped>\n",
       "    .dataframe tbody tr th:only-of-type {\n",
       "        vertical-align: middle;\n",
       "    }\n",
       "\n",
       "    .dataframe tbody tr th {\n",
       "        vertical-align: top;\n",
       "    }\n",
       "\n",
       "    .dataframe thead th {\n",
       "        text-align: right;\n",
       "    }\n",
       "</style>\n",
       "<table border=\"1\" class=\"dataframe\">\n",
       "  <thead>\n",
       "    <tr style=\"text-align: right;\">\n",
       "      <th></th>\n",
       "      <th>alpha</th>\n",
       "    </tr>\n",
       "  </thead>\n",
       "  <tbody>\n",
       "    <tr>\n",
       "      <th>first</th>\n",
       "      <td>a</td>\n",
       "    </tr>\n",
       "    <tr>\n",
       "      <th>second</th>\n",
       "      <td>b</td>\n",
       "    </tr>\n",
       "    <tr>\n",
       "      <th>third</th>\n",
       "      <td>c</td>\n",
       "    </tr>\n",
       "  </tbody>\n",
       "</table>\n",
       "</div>"
      ],
      "text/plain": [
       "       alpha\n",
       "first      a\n",
       "second     b\n",
       "third      c"
      ]
     },
     "execution_count": 28,
     "metadata": {},
     "output_type": "execute_result"
    }
   ],
   "source": [
    "table_df[[\"alpha\"]]"
   ]
  },
  {
   "cell_type": "markdown",
   "metadata": {
    "cell_id": "00046-94cc193e-ed78-4239-97bd-ad01ad286aaf",
    "deepnote_cell_type": "markdown"
   },
   "source": [
    "There are two ways how to properly index rows & cells in the DataFrame:\n",
    "\n",
    "- `loc` for label-based indexing\n",
    "- `iloc` for order-based indexing (it does not use the **index** at all)\n",
    "\n",
    "Note the square brackets. The mentioned attributes actually are not methods\n",
    "but special \"indexer\" objects. They accept one or two arguments specifying\n",
    "the position along one or both axes."
   ]
  },
  {
   "cell_type": "markdown",
   "metadata": {
    "cell_id": "00047-2671c08d-d825-4fe1-ae69-a9c8beba058e",
    "deepnote_cell_type": "markdown"
   },
   "source": [
    "**Exercise:** Create `DataFrame` whose `x`-column is $0, \\frac{1}{4}\\pi, \\frac{1}{2}\\pi, .. 2\\pi $, `y` column is `cos(x)` and index are `fractions` `0, 1/4, 1/2 ... 2`"
   ]
  },
  {
   "cell_type": "code",
   "execution_count": null,
   "metadata": {
    "cell_id": "00048-1ec15e17-145f-44a3-96c5-131a08b8b0d4",
    "deepnote_cell_type": "code",
    "deepnote_to_be_reexecuted": false,
    "execution_millis": 111,
    "execution_start": 1611480561408,
    "source_hash": "2ccc186a"
   },
   "outputs": [],
   "source": [
    "import fractions\n",
    "\n",
    "index = [fractions.Fraction(n, ___) for n in range(___)]\n",
    "x = np.___([___ for ___ in ___])\n",
    "y = ___\n",
    "\n",
    "df = pd.DataFrame(___, index = ___)\n",
    "\n",
    "# display\n",
    "df"
   ]
  },
  {
   "cell_type": "markdown",
   "metadata": {
    "cell_id": "00049-67ec2b8c-3dc9-4fbd-849f-fa4aa6fc6050",
    "deepnote_cell_type": "markdown"
   },
   "source": [
    "#### loc\n"
   ]
  },
  {
   "cell_type": "code",
   "execution_count": 29,
   "metadata": {
    "cell_id": "00050-aedef5e1-79bd-4581-88a5-462122c3b77e",
    "deepnote_cell_type": "code",
    "deepnote_to_be_reexecuted": true,
    "source_hash": "eaeea355"
   },
   "outputs": [
    {
     "data": {
      "text/plain": [
       "alpha    a\n",
       "beta     1\n",
       "Name: first, dtype: object"
      ]
     },
     "execution_count": 29,
     "metadata": {},
     "output_type": "execute_result"
    }
   ],
   "source": [
    "first = table_df.loc[\"first\"]\n",
    "first"
   ]
  },
  {
   "cell_type": "code",
   "execution_count": 30,
   "metadata": {
    "cell_id": "00051-4d9528ae-b57e-401d-97a2-87f103e0c72f",
    "deepnote_cell_type": "code",
    "deepnote_to_be_reexecuted": true,
    "source_hash": "f6fdb961"
   },
   "outputs": [
    {
     "data": {
      "text/plain": [
       "1"
      ]
     },
     "execution_count": 30,
     "metadata": {},
     "output_type": "execute_result"
    }
   ],
   "source": [
    "table_df.loc[\"first\", \"beta\"]            "
   ]
  },
  {
   "cell_type": "code",
   "execution_count": 31,
   "metadata": {
    "cell_id": "00052-50078dce-3868-4300-8675-aab20929e97f",
    "deepnote_cell_type": "code",
    "deepnote_to_be_reexecuted": true,
    "source_hash": "9f0543fa"
   },
   "outputs": [
    {
     "data": {
      "text/plain": [
       "first     1\n",
       "second    3\n",
       "Name: beta, dtype: int64"
      ]
     },
     "execution_count": 31,
     "metadata": {},
     "output_type": "execute_result"
    }
   ],
   "source": [
    "table_df.loc[\"first\":\"second\", \"beta\"]   # Use ranges (inclusive)"
   ]
  },
  {
   "cell_type": "markdown",
   "metadata": {
    "cell_id": "00053-9b0ffb86-5974-4cd5-b8f4-f4b4fe979771",
    "deepnote_cell_type": "markdown"
   },
   "source": [
    "#### iloc"
   ]
  },
  {
   "cell_type": "code",
   "execution_count": 32,
   "metadata": {
    "cell_id": "00054-91fa79d6-941e-428f-9ceb-1a480634cd6b",
    "deepnote_cell_type": "code",
    "deepnote_to_be_reexecuted": true,
    "source_hash": "589116e5"
   },
   "outputs": [
    {
     "data": {
      "text/plain": [
       "alpha    b\n",
       "beta     3\n",
       "Name: second, dtype: object"
      ]
     },
     "execution_count": 32,
     "metadata": {},
     "output_type": "execute_result"
    }
   ],
   "source": [
    "table_df.iloc[1]"
   ]
  },
  {
   "cell_type": "code",
   "execution_count": 33,
   "metadata": {
    "cell_id": "00055-6ab2d6bf-c83e-42b2-95fa-0d5f085de251",
    "deepnote_cell_type": "code",
    "deepnote_to_be_reexecuted": true,
    "source_hash": "22edf038"
   },
   "outputs": [
    {
     "data": {
      "text/html": [
       "<div>\n",
       "<style scoped>\n",
       "    .dataframe tbody tr th:only-of-type {\n",
       "        vertical-align: middle;\n",
       "    }\n",
       "\n",
       "    .dataframe tbody tr th {\n",
       "        vertical-align: top;\n",
       "    }\n",
       "\n",
       "    .dataframe thead th {\n",
       "        text-align: right;\n",
       "    }\n",
       "</style>\n",
       "<table border=\"1\" class=\"dataframe\">\n",
       "  <thead>\n",
       "    <tr style=\"text-align: right;\">\n",
       "      <th></th>\n",
       "      <th>alpha</th>\n",
       "      <th>beta</th>\n",
       "    </tr>\n",
       "  </thead>\n",
       "  <tbody>\n",
       "    <tr>\n",
       "      <th>first</th>\n",
       "      <td>a</td>\n",
       "      <td>1</td>\n",
       "    </tr>\n",
       "    <tr>\n",
       "      <th>third</th>\n",
       "      <td>c</td>\n",
       "      <td>5</td>\n",
       "    </tr>\n",
       "  </tbody>\n",
       "</table>\n",
       "</div>"
      ],
      "text/plain": [
       "      alpha  beta\n",
       "first     a     1\n",
       "third     c     5"
      ]
     },
     "execution_count": 33,
     "metadata": {},
     "output_type": "execute_result"
    }
   ],
   "source": [
    "table_df.iloc[0:4:2]   # Select every second row"
   ]
  },
  {
   "cell_type": "code",
   "execution_count": 34,
   "metadata": {
    "cell_id": "00056-310d81a9-5114-40c7-bc1c-794b7bca3b8b",
    "deepnote_cell_type": "code",
    "deepnote_to_be_reexecuted": true,
    "source_hash": "9381f832"
   },
   "outputs": [
    {
     "data": {
      "text/plain": [
       "1"
      ]
     },
     "execution_count": 34,
     "metadata": {},
     "output_type": "execute_result"
    }
   ],
   "source": [
    "table_df.at[\"first\", \"beta\"]"
   ]
  },
  {
   "cell_type": "code",
   "execution_count": 35,
   "metadata": {
    "cell_id": "00057-a4f407fc-3a40-4853-b374-170c1626ab70",
    "deepnote_cell_type": "code",
    "deepnote_to_be_reexecuted": true,
    "source_hash": "5ab74605"
   },
   "outputs": [
    {
     "data": {
      "text/plain": [
       "pandas.core.indexing._AtIndexer"
      ]
     },
     "execution_count": 35,
     "metadata": {},
     "output_type": "execute_result"
    }
   ],
   "source": [
    "type(table_df.at)"
   ]
  },
  {
   "cell_type": "markdown",
   "metadata": {
    "cell_id": "00058-a1b50a76-2ede-4e10-b170-6493642d8d7f",
    "deepnote_cell_type": "markdown"
   },
   "source": [
    "## Modifying DataFrames\n",
    "\n",
    "Adding a new column is like adding a key/value pair to a dict.\n",
    "Note that this operation, unlike most others, does modify the DataFrame."
   ]
  },
  {
   "cell_type": "code",
   "execution_count": 36,
   "metadata": {
    "cell_id": "00059-380e843a-7de8-48f6-a0b9-5bdd5fba08a0",
    "deepnote_cell_type": "code",
    "deepnote_to_be_reexecuted": true,
    "source_hash": "19406c5f"
   },
   "outputs": [
    {
     "data": {
      "text/html": [
       "<div>\n",
       "<style scoped>\n",
       "    .dataframe tbody tr th:only-of-type {\n",
       "        vertical-align: middle;\n",
       "    }\n",
       "\n",
       "    .dataframe tbody tr th {\n",
       "        vertical-align: top;\n",
       "    }\n",
       "\n",
       "    .dataframe thead th {\n",
       "        text-align: right;\n",
       "    }\n",
       "</style>\n",
       "<table border=\"1\" class=\"dataframe\">\n",
       "  <thead>\n",
       "    <tr style=\"text-align: right;\">\n",
       "      <th></th>\n",
       "      <th>alpha</th>\n",
       "      <th>beta</th>\n",
       "      <th>now</th>\n",
       "    </tr>\n",
       "  </thead>\n",
       "  <tbody>\n",
       "    <tr>\n",
       "      <th>first</th>\n",
       "      <td>a</td>\n",
       "      <td>1</td>\n",
       "      <td>2021-01-25 00:03:04.216348</td>\n",
       "    </tr>\n",
       "    <tr>\n",
       "      <th>second</th>\n",
       "      <td>b</td>\n",
       "      <td>3</td>\n",
       "      <td>2021-01-25 00:03:04.216348</td>\n",
       "    </tr>\n",
       "    <tr>\n",
       "      <th>third</th>\n",
       "      <td>c</td>\n",
       "      <td>5</td>\n",
       "      <td>2021-01-25 00:03:04.216348</td>\n",
       "    </tr>\n",
       "  </tbody>\n",
       "</table>\n",
       "</div>"
      ],
      "text/plain": [
       "       alpha  beta                        now\n",
       "first      a     1 2021-01-25 00:03:04.216348\n",
       "second     b     3 2021-01-25 00:03:04.216348\n",
       "third      c     5 2021-01-25 00:03:04.216348"
      ]
     },
     "execution_count": 36,
     "metadata": {},
     "output_type": "execute_result"
    }
   ],
   "source": [
    "from datetime import datetime\n",
    "table_df[\"now\"] = datetime.now()\n",
    "table_df"
   ]
  },
  {
   "cell_type": "markdown",
   "metadata": {
    "cell_id": "00060-24f384c8-eecd-41ce-b22e-df7c651d6e35",
    "deepnote_cell_type": "markdown"
   },
   "source": [
    "Non-destructive version that returns a new DataFrame, uses the `assign` method:"
   ]
  },
  {
   "cell_type": "code",
   "execution_count": 37,
   "metadata": {
    "cell_id": "00061-30216bc8-5872-4928-af41-bb55fb8331e6",
    "deepnote_cell_type": "code",
    "deepnote_to_be_reexecuted": true,
    "source_hash": "6960fea5"
   },
   "outputs": [
    {
     "data": {
      "text/html": [
       "<div>\n",
       "<style scoped>\n",
       "    .dataframe tbody tr th:only-of-type {\n",
       "        vertical-align: middle;\n",
       "    }\n",
       "\n",
       "    .dataframe tbody tr th {\n",
       "        vertical-align: top;\n",
       "    }\n",
       "\n",
       "    .dataframe thead th {\n",
       "        text-align: right;\n",
       "    }\n",
       "</style>\n",
       "<table border=\"1\" class=\"dataframe\">\n",
       "  <thead>\n",
       "    <tr style=\"text-align: right;\">\n",
       "      <th></th>\n",
       "      <th>alpha</th>\n",
       "      <th>beta</th>\n",
       "      <th>now</th>\n",
       "      <th>delta</th>\n",
       "    </tr>\n",
       "  </thead>\n",
       "  <tbody>\n",
       "    <tr>\n",
       "      <th>first</th>\n",
       "      <td>a</td>\n",
       "      <td>1</td>\n",
       "      <td>2021-01-25 00:03:04.216348</td>\n",
       "      <td>True</td>\n",
       "    </tr>\n",
       "    <tr>\n",
       "      <th>second</th>\n",
       "      <td>b</td>\n",
       "      <td>3</td>\n",
       "      <td>2021-01-25 00:03:04.216348</td>\n",
       "      <td>False</td>\n",
       "    </tr>\n",
       "    <tr>\n",
       "      <th>third</th>\n",
       "      <td>c</td>\n",
       "      <td>5</td>\n",
       "      <td>2021-01-25 00:03:04.216348</td>\n",
       "      <td>True</td>\n",
       "    </tr>\n",
       "  </tbody>\n",
       "</table>\n",
       "</div>"
      ],
      "text/plain": [
       "       alpha  beta                        now  delta\n",
       "first      a     1 2021-01-25 00:03:04.216348   True\n",
       "second     b     3 2021-01-25 00:03:04.216348  False\n",
       "third      c     5 2021-01-25 00:03:04.216348   True"
      ]
     },
     "execution_count": 37,
     "metadata": {},
     "output_type": "execute_result"
    }
   ],
   "source": [
    "table_df.assign(delta = [True, False, True])"
   ]
  },
  {
   "cell_type": "code",
   "execution_count": 38,
   "metadata": {
    "cell_id": "00062-0de7f7d1-8f77-4997-bc82-423b64c0dcc9",
    "deepnote_cell_type": "code",
    "deepnote_to_be_reexecuted": true,
    "source_hash": "17c762c7"
   },
   "outputs": [
    {
     "data": {
      "text/html": [
       "<div>\n",
       "<style scoped>\n",
       "    .dataframe tbody tr th:only-of-type {\n",
       "        vertical-align: middle;\n",
       "    }\n",
       "\n",
       "    .dataframe tbody tr th {\n",
       "        vertical-align: top;\n",
       "    }\n",
       "\n",
       "    .dataframe thead th {\n",
       "        text-align: right;\n",
       "    }\n",
       "</style>\n",
       "<table border=\"1\" class=\"dataframe\">\n",
       "  <thead>\n",
       "    <tr style=\"text-align: right;\">\n",
       "      <th></th>\n",
       "      <th>alpha</th>\n",
       "      <th>beta</th>\n",
       "      <th>now</th>\n",
       "    </tr>\n",
       "  </thead>\n",
       "  <tbody>\n",
       "    <tr>\n",
       "      <th>first</th>\n",
       "      <td>a</td>\n",
       "      <td>1</td>\n",
       "      <td>2021-01-25 00:03:04.216348</td>\n",
       "    </tr>\n",
       "    <tr>\n",
       "      <th>second</th>\n",
       "      <td>b</td>\n",
       "      <td>3</td>\n",
       "      <td>2021-01-25 00:03:04.216348</td>\n",
       "    </tr>\n",
       "    <tr>\n",
       "      <th>third</th>\n",
       "      <td>c</td>\n",
       "      <td>5</td>\n",
       "      <td>2021-01-25 00:03:04.216348</td>\n",
       "    </tr>\n",
       "  </tbody>\n",
       "</table>\n",
       "</div>"
      ],
      "text/plain": [
       "       alpha  beta                        now\n",
       "first      a     1 2021-01-25 00:03:04.216348\n",
       "second     b     3 2021-01-25 00:03:04.216348\n",
       "third      c     5 2021-01-25 00:03:04.216348"
      ]
     },
     "execution_count": 38,
     "metadata": {},
     "output_type": "execute_result"
    }
   ],
   "source": [
    "# However, the original DataFrame is not changed\n",
    "table_df"
   ]
  },
  {
   "cell_type": "markdown",
   "metadata": {
    "cell_id": "00063-aec93e64-9522-4eee-a75e-e8c652479d4b",
    "deepnote_cell_type": "markdown"
   },
   "source": [
    "Deleting a column is very easy too."
   ]
  },
  {
   "cell_type": "code",
   "execution_count": 39,
   "metadata": {
    "cell_id": "00064-7ed9a380-a1d9-467b-b6a4-e927ee4a73a1",
    "deepnote_cell_type": "code",
    "deepnote_to_be_reexecuted": true,
    "source_hash": "c9dffb9a"
   },
   "outputs": [
    {
     "data": {
      "text/html": [
       "<div>\n",
       "<style scoped>\n",
       "    .dataframe tbody tr th:only-of-type {\n",
       "        vertical-align: middle;\n",
       "    }\n",
       "\n",
       "    .dataframe tbody tr th {\n",
       "        vertical-align: top;\n",
       "    }\n",
       "\n",
       "    .dataframe thead th {\n",
       "        text-align: right;\n",
       "    }\n",
       "</style>\n",
       "<table border=\"1\" class=\"dataframe\">\n",
       "  <thead>\n",
       "    <tr style=\"text-align: right;\">\n",
       "      <th></th>\n",
       "      <th>alpha</th>\n",
       "      <th>beta</th>\n",
       "    </tr>\n",
       "  </thead>\n",
       "  <tbody>\n",
       "    <tr>\n",
       "      <th>first</th>\n",
       "      <td>a</td>\n",
       "      <td>1</td>\n",
       "    </tr>\n",
       "    <tr>\n",
       "      <th>second</th>\n",
       "      <td>b</td>\n",
       "      <td>3</td>\n",
       "    </tr>\n",
       "    <tr>\n",
       "      <th>third</th>\n",
       "      <td>c</td>\n",
       "      <td>5</td>\n",
       "    </tr>\n",
       "  </tbody>\n",
       "</table>\n",
       "</div>"
      ],
      "text/plain": [
       "       alpha  beta\n",
       "first      a     1\n",
       "second     b     3\n",
       "third      c     5"
      ]
     },
     "execution_count": 39,
     "metadata": {},
     "output_type": "execute_result"
    }
   ],
   "source": [
    "del table_df[\"now\"]\n",
    "table_df"
   ]
  },
  {
   "cell_type": "markdown",
   "metadata": {
    "cell_id": "00065-6ab3e7f7-7ac8-4b93-bb9f-b7c2d3518b9e",
    "deepnote_cell_type": "markdown"
   },
   "source": [
    "The **drop** method works with both rows and columns (creating a new data frame), returning a new object."
   ]
  },
  {
   "cell_type": "code",
   "execution_count": 40,
   "metadata": {
    "cell_id": "00066-960e696f-9ef1-41f4-ba03-e8652f58dd7a",
    "deepnote_cell_type": "code",
    "deepnote_to_be_reexecuted": true,
    "source_hash": "ade330b4"
   },
   "outputs": [
    {
     "data": {
      "text/html": [
       "<div>\n",
       "<style scoped>\n",
       "    .dataframe tbody tr th:only-of-type {\n",
       "        vertical-align: middle;\n",
       "    }\n",
       "\n",
       "    .dataframe tbody tr th {\n",
       "        vertical-align: top;\n",
       "    }\n",
       "\n",
       "    .dataframe thead th {\n",
       "        text-align: right;\n",
       "    }\n",
       "</style>\n",
       "<table border=\"1\" class=\"dataframe\">\n",
       "  <thead>\n",
       "    <tr style=\"text-align: right;\">\n",
       "      <th></th>\n",
       "      <th>alpha</th>\n",
       "    </tr>\n",
       "  </thead>\n",
       "  <tbody>\n",
       "    <tr>\n",
       "      <th>first</th>\n",
       "      <td>a</td>\n",
       "    </tr>\n",
       "    <tr>\n",
       "      <th>second</th>\n",
       "      <td>b</td>\n",
       "    </tr>\n",
       "    <tr>\n",
       "      <th>third</th>\n",
       "      <td>c</td>\n",
       "    </tr>\n",
       "  </tbody>\n",
       "</table>\n",
       "</div>"
      ],
      "text/plain": [
       "       alpha\n",
       "first      a\n",
       "second     b\n",
       "third      c"
      ]
     },
     "execution_count": 40,
     "metadata": {},
     "output_type": "execute_result"
    }
   ],
   "source": [
    "table_df.drop(\"beta\", axis=1)"
   ]
  },
  {
   "cell_type": "code",
   "execution_count": 41,
   "metadata": {
    "cell_id": "00067-3f951069-898a-49a3-9629-21f00ad27e0a",
    "deepnote_cell_type": "code",
    "deepnote_to_be_reexecuted": true,
    "source_hash": "ce27d27f"
   },
   "outputs": [
    {
     "data": {
      "text/html": [
       "<div>\n",
       "<style scoped>\n",
       "    .dataframe tbody tr th:only-of-type {\n",
       "        vertical-align: middle;\n",
       "    }\n",
       "\n",
       "    .dataframe tbody tr th {\n",
       "        vertical-align: top;\n",
       "    }\n",
       "\n",
       "    .dataframe thead th {\n",
       "        text-align: right;\n",
       "    }\n",
       "</style>\n",
       "<table border=\"1\" class=\"dataframe\">\n",
       "  <thead>\n",
       "    <tr style=\"text-align: right;\">\n",
       "      <th></th>\n",
       "      <th>alpha</th>\n",
       "      <th>beta</th>\n",
       "    </tr>\n",
       "  </thead>\n",
       "  <tbody>\n",
       "    <tr>\n",
       "      <th>first</th>\n",
       "      <td>a</td>\n",
       "      <td>1</td>\n",
       "    </tr>\n",
       "    <tr>\n",
       "      <th>third</th>\n",
       "      <td>c</td>\n",
       "      <td>5</td>\n",
       "    </tr>\n",
       "  </tbody>\n",
       "</table>\n",
       "</div>"
      ],
      "text/plain": [
       "      alpha  beta\n",
       "first     a     1\n",
       "third     c     5"
      ]
     },
     "execution_count": 41,
     "metadata": {},
     "output_type": "execute_result"
    }
   ],
   "source": [
    "table_df.drop(\"second\", axis=0)"
   ]
  },
  {
   "cell_type": "markdown",
   "metadata": {
    "cell_id": "00068-86559d86-2c01-4fdb-a288-98f8313d4336",
    "deepnote_cell_type": "markdown"
   },
   "source": [
    "**Exercise:** Use a combination of `reset_index`, `drop` and `set_index` to transform `table_df` into `pd.DataFrame({'index': table_df.index}, index=table_df[\"alpha\"])`"
   ]
  },
  {
   "cell_type": "code",
   "execution_count": null,
   "metadata": {
    "cell_id": "00069-b97999ec-63f2-42e9-a862-e541115baf44",
    "deepnote_cell_type": "code",
    "deepnote_to_be_reexecuted": false,
    "execution_millis": 1,
    "execution_start": 1611480611376,
    "source_hash": "d5f2663e"
   },
   "outputs": [],
   "source": [
    "results = table_df.___.___.___\n",
    "\n",
    "# display\n",
    "result"
   ]
  },
  {
   "cell_type": "markdown",
   "metadata": {
    "cell_id": "00070-a7144d25-1150-4589-ab81-aee7173db134",
    "deepnote_cell_type": "markdown"
   },
   "source": [
    "**Let's get some real data!**"
   ]
  },
  {
   "cell_type": "markdown",
   "metadata": {
    "cell_id": "00071-521ee5f8-d794-4fd1-b772-186b84e3deac",
    "deepnote_cell_type": "markdown"
   },
   "source": [
    "## I/O in pandas\n",
    "\n",
    "Pandas can read (and write to) a huge variety of file formats. More details can be found in the official documentation: http://pandas.pydata.org/pandas-docs/stable/user_guide/io.html\n",
    "\n",
    "Most of the functions for reading data are named `pandas.read_XXX`, where XXX is the format used. We will look at three commonly used ones."
   ]
  },
  {
   "cell_type": "code",
   "execution_count": 42,
   "metadata": {
    "cell_id": "00073-a1058079-31e9-43e2-b07c-f898af75de5f",
    "deepnote_cell_type": "code",
    "deepnote_to_be_reexecuted": false,
    "execution_millis": 0,
    "execution_start": 1611499547261,
    "source_hash": "6e1324e7"
   },
   "outputs": [
    {
     "name": "stdout",
     "output_type": "stream",
     "text": [
      "read_clipboard\n",
      "read_csv\n",
      "read_excel\n",
      "read_feather\n",
      "read_fwf\n",
      "read_gbq\n",
      "read_hdf\n",
      "read_html\n",
      "read_json\n",
      "read_orc\n",
      "read_parquet\n",
      "read_pickle\n",
      "read_sas\n",
      "read_spss\n",
      "read_sql\n",
      "read_sql_query\n",
      "read_sql_table\n",
      "read_stata\n",
      "read_table\n"
     ]
    }
   ],
   "source": [
    "# List functions for input in pandas.\n",
    "\n",
    "print(\"\\n\".join(method for method in dir(pd) if method.startswith(\"read_\")))"
   ]
  },
  {
   "cell_type": "markdown",
   "metadata": {
    "cell_id": "00074-36ecee81-4869-4699-ae4f-a6dfc68ace99",
    "deepnote_cell_type": "markdown"
   },
   "source": [
    "### Read CSV\n",
    "\n",
    "Nowadays, a lot of data comes in the textual Comma-separated values format (CSV).\n",
    "Although not properly standardized, it is the de-facto standard for files that are not\n",
    "huge and are meant to be read by human eyes too.\n",
    "\n",
    "Let's read the population of U.S. states that we will need later:"
   ]
  },
  {
   "cell_type": "code",
   "execution_count": 43,
   "metadata": {
    "cell_id": "00075-9f192cd5-ad0f-4601-9e2e-0848f708b35f",
    "deepnote_cell_type": "code",
    "deepnote_to_be_reexecuted": false,
    "execution_millis": 15,
    "execution_start": 1611517775367,
    "source_hash": "6caee636"
   },
   "outputs": [
    {
     "data": {
      "text/html": [
       "<div>\n",
       "<style scoped>\n",
       "    .dataframe tbody tr th:only-of-type {\n",
       "        vertical-align: middle;\n",
       "    }\n",
       "\n",
       "    .dataframe tbody tr th {\n",
       "        vertical-align: top;\n",
       "    }\n",
       "\n",
       "    .dataframe thead th {\n",
       "        text-align: right;\n",
       "    }\n",
       "</style>\n",
       "<table border=\"1\" class=\"dataframe\">\n",
       "  <thead>\n",
       "    <tr style=\"text-align: right;\">\n",
       "      <th></th>\n",
       "      <th>Territory</th>\n",
       "      <th>Population</th>\n",
       "    </tr>\n",
       "  </thead>\n",
       "  <tbody>\n",
       "    <tr>\n",
       "      <th>0</th>\n",
       "      <td>California</td>\n",
       "      <td>39368078</td>\n",
       "    </tr>\n",
       "    <tr>\n",
       "      <th>1</th>\n",
       "      <td>Texas</td>\n",
       "      <td>29360759</td>\n",
       "    </tr>\n",
       "    <tr>\n",
       "      <th>2</th>\n",
       "      <td>Florida</td>\n",
       "      <td>21733312</td>\n",
       "    </tr>\n",
       "    <tr>\n",
       "      <th>3</th>\n",
       "      <td>New York</td>\n",
       "      <td>19336776</td>\n",
       "    </tr>\n",
       "    <tr>\n",
       "      <th>4</th>\n",
       "      <td>Pennsylvania</td>\n",
       "      <td>12783254</td>\n",
       "    </tr>\n",
       "    <tr>\n",
       "      <th>5</th>\n",
       "      <td>Illinois</td>\n",
       "      <td>12587530</td>\n",
       "    </tr>\n",
       "    <tr>\n",
       "      <th>6</th>\n",
       "      <td>Ohio</td>\n",
       "      <td>11693217</td>\n",
       "    </tr>\n",
       "    <tr>\n",
       "      <th>7</th>\n",
       "      <td>Georgia</td>\n",
       "      <td>10710017</td>\n",
       "    </tr>\n",
       "    <tr>\n",
       "      <th>8</th>\n",
       "      <td>North Carolina</td>\n",
       "      <td>10600823</td>\n",
       "    </tr>\n",
       "  </tbody>\n",
       "</table>\n",
       "</div>"
      ],
      "text/plain": [
       "        Territory  Population\n",
       "0      California    39368078\n",
       "1           Texas    29360759\n",
       "2         Florida    21733312\n",
       "3        New York    19336776\n",
       "4    Pennsylvania    12783254\n",
       "5        Illinois    12587530\n",
       "6            Ohio    11693217\n",
       "7         Georgia    10710017\n",
       "8  North Carolina    10600823"
      ]
     },
     "execution_count": 43,
     "metadata": {},
     "output_type": "execute_result"
    }
   ],
   "source": [
    "territories = pd.read_csv(\"data/us_state_population.csv\")\n",
    "territories.head(9)"
   ]
  },
  {
   "cell_type": "markdown",
   "metadata": {
    "cell_id": "00076-b6058815-262c-43ce-b7a6-2a40ecade892",
    "deepnote_cell_type": "markdown"
   },
   "source": [
    "The automatic data type parsing converts columns to appropriate types:"
   ]
  },
  {
   "cell_type": "code",
   "execution_count": 44,
   "metadata": {
    "cell_id": "00077-0c4b98ee-3ee5-418d-ac4c-d2530614af5c",
    "deepnote_cell_type": "code",
    "deepnote_to_be_reexecuted": false,
    "execution_millis": 1,
    "execution_start": 1611517800058,
    "source_hash": "ec8087cf"
   },
   "outputs": [
    {
     "data": {
      "text/plain": [
       "Territory     object\n",
       "Population     int64\n",
       "dtype: object"
      ]
     },
     "execution_count": 44,
     "metadata": {},
     "output_type": "execute_result"
    }
   ],
   "source": [
    "territories.dtypes"
   ]
  },
  {
   "cell_type": "markdown",
   "metadata": {
    "cell_id": "00078-cd5bd76c-c0c7-4029-8438-2d9ef7096ab9",
    "deepnote_cell_type": "markdown"
   },
   "source": [
    "Sometimes the CSV input does not work out of the box. Although pandas automatically understands and reads zipped files,\n",
    "it usually does not automatically infer the file format - for details, see the `read_csv` documentation here: \n",
    "https://pandas.pydata.org/pandas-docs/stable/reference/api/pandas.read_csv.html"
   ]
  },
  {
   "cell_type": "code",
   "execution_count": 45,
   "metadata": {
    "cell_id": "00079-8a8d808f-3ae6-436d-8588-58368dc13d07",
    "deepnote_cell_type": "code"
   },
   "outputs": [
    {
     "data": {
      "text/html": [
       "<div>\n",
       "<style scoped>\n",
       "    .dataframe tbody tr th:only-of-type {\n",
       "        vertical-align: middle;\n",
       "    }\n",
       "\n",
       "    .dataframe tbody tr th {\n",
       "        vertical-align: top;\n",
       "    }\n",
       "\n",
       "    .dataframe thead th {\n",
       "        text-align: right;\n",
       "    }\n",
       "</style>\n",
       "<table border=\"1\" class=\"dataframe\">\n",
       "  <thead>\n",
       "    <tr style=\"text-align: right;\">\n",
       "      <th></th>\n",
       "      <th>Sepal length\\tSepal width\\tPetal length\\tPetal width\\tSpecies</th>\n",
       "    </tr>\n",
       "  </thead>\n",
       "  <tbody>\n",
       "    <tr>\n",
       "      <th>0</th>\n",
       "      <td>5.1\\t3.5\\t1.4\\t0.2\\tI. setosa</td>\n",
       "    </tr>\n",
       "    <tr>\n",
       "      <th>1</th>\n",
       "      <td>4.9\\t3.0\\t1.4\\t0.2\\tI. setosa</td>\n",
       "    </tr>\n",
       "    <tr>\n",
       "      <th>2</th>\n",
       "      <td>4.7\\t3.2\\t1.3\\t0.2\\tI. setosa</td>\n",
       "    </tr>\n",
       "    <tr>\n",
       "      <th>3</th>\n",
       "      <td>4.6\\t3.1\\t1.5\\t0.2\\tI. setosa</td>\n",
       "    </tr>\n",
       "    <tr>\n",
       "      <th>4</th>\n",
       "      <td>5.0\\t3.6\\t1.4\\t0.2\\tI. setosa</td>\n",
       "    </tr>\n",
       "  </tbody>\n",
       "</table>\n",
       "</div>"
      ],
      "text/plain": [
       "  Sepal length\\tSepal width\\tPetal length\\tPetal width\\tSpecies\n",
       "0                      5.1\\t3.5\\t1.4\\t0.2\\tI. setosa           \n",
       "1                      4.9\\t3.0\\t1.4\\t0.2\\tI. setosa           \n",
       "2                      4.7\\t3.2\\t1.3\\t0.2\\tI. setosa           \n",
       "3                      4.6\\t3.1\\t1.5\\t0.2\\tI. setosa           \n",
       "4                      5.0\\t3.6\\t1.4\\t0.2\\tI. setosa           "
      ]
     },
     "execution_count": 45,
     "metadata": {},
     "output_type": "execute_result"
    }
   ],
   "source": [
    "pd.read_csv('data/iris.tsv.gz')"
   ]
  },
  {
   "cell_type": "markdown",
   "metadata": {
    "cell_id": "00080-bb60d975-5ead-4f4d-9220-bbd3e57fb292",
    "deepnote_cell_type": "markdown"
   },
   "source": [
    "...in this case, the CSV file does not use commas to separate values. Therefore, we need to specify an extra argument:"
   ]
  },
  {
   "cell_type": "code",
   "execution_count": 46,
   "metadata": {
    "cell_id": "00081-ecbb62ad-cd8e-4759-a682-18168f4ef43d",
    "deepnote_cell_type": "code"
   },
   "outputs": [
    {
     "data": {
      "text/html": [
       "<div>\n",
       "<style scoped>\n",
       "    .dataframe tbody tr th:only-of-type {\n",
       "        vertical-align: middle;\n",
       "    }\n",
       "\n",
       "    .dataframe tbody tr th {\n",
       "        vertical-align: top;\n",
       "    }\n",
       "\n",
       "    .dataframe thead th {\n",
       "        text-align: right;\n",
       "    }\n",
       "</style>\n",
       "<table border=\"1\" class=\"dataframe\">\n",
       "  <thead>\n",
       "    <tr style=\"text-align: right;\">\n",
       "      <th></th>\n",
       "      <th>Sepal length</th>\n",
       "      <th>Sepal width</th>\n",
       "      <th>Petal length</th>\n",
       "      <th>Petal width</th>\n",
       "      <th>Species</th>\n",
       "    </tr>\n",
       "  </thead>\n",
       "  <tbody>\n",
       "    <tr>\n",
       "      <th>0</th>\n",
       "      <td>5.1</td>\n",
       "      <td>3.5</td>\n",
       "      <td>1.4</td>\n",
       "      <td>0.2</td>\n",
       "      <td>I. setosa</td>\n",
       "    </tr>\n",
       "    <tr>\n",
       "      <th>1</th>\n",
       "      <td>4.9</td>\n",
       "      <td>3.0</td>\n",
       "      <td>1.4</td>\n",
       "      <td>0.2</td>\n",
       "      <td>I. setosa</td>\n",
       "    </tr>\n",
       "    <tr>\n",
       "      <th>2</th>\n",
       "      <td>4.7</td>\n",
       "      <td>3.2</td>\n",
       "      <td>1.3</td>\n",
       "      <td>0.2</td>\n",
       "      <td>I. setosa</td>\n",
       "    </tr>\n",
       "    <tr>\n",
       "      <th>3</th>\n",
       "      <td>4.6</td>\n",
       "      <td>3.1</td>\n",
       "      <td>1.5</td>\n",
       "      <td>0.2</td>\n",
       "      <td>I. setosa</td>\n",
       "    </tr>\n",
       "    <tr>\n",
       "      <th>4</th>\n",
       "      <td>5.0</td>\n",
       "      <td>3.6</td>\n",
       "      <td>1.4</td>\n",
       "      <td>0.2</td>\n",
       "      <td>I. setosa</td>\n",
       "    </tr>\n",
       "  </tbody>\n",
       "</table>\n",
       "</div>"
      ],
      "text/plain": [
       "   Sepal length  Sepal width  Petal length  Petal width    Species\n",
       "0           5.1          3.5           1.4          0.2  I. setosa\n",
       "1           4.9          3.0           1.4          0.2  I. setosa\n",
       "2           4.7          3.2           1.3          0.2  I. setosa\n",
       "3           4.6          3.1           1.5          0.2  I. setosa\n",
       "4           5.0          3.6           1.4          0.2  I. setosa"
      ]
     },
     "execution_count": 46,
     "metadata": {},
     "output_type": "execute_result"
    }
   ],
   "source": [
    "pd.read_csv(\"data/iris.tsv.gz\", sep='\\t')"
   ]
  },
  {
   "cell_type": "markdown",
   "metadata": {
    "cell_id": "00085-e8f867c0-6fe2-4ba4-b5a1-c6ea29baed08",
    "deepnote_cell_type": "markdown"
   },
   "source": [
    "See the difference?"
   ]
  },
  {
   "cell_type": "markdown",
   "metadata": {
    "cell_id": "00087-30bc5c76-4595-48c7-8256-c26fe5e87343",
    "deepnote_cell_type": "markdown"
   },
   "source": [
    "### Read Excel\n",
    "\n",
    "Let's read the list of U.S. incidents when lasers interfered with airplanes."
   ]
  },
  {
   "cell_type": "code",
   "execution_count": 50,
   "metadata": {
    "cell_id": "00088-d81339af-9950-4692-87b1-1f1380c2e215",
    "deepnote_cell_type": "code"
   },
   "outputs": [
    {
     "data": {
      "text/html": [
       "<div>\n",
       "<style scoped>\n",
       "    .dataframe tbody tr th:only-of-type {\n",
       "        vertical-align: middle;\n",
       "    }\n",
       "\n",
       "    .dataframe tbody tr th {\n",
       "        vertical-align: top;\n",
       "    }\n",
       "\n",
       "    .dataframe thead th {\n",
       "        text-align: right;\n",
       "    }\n",
       "</style>\n",
       "<table border=\"1\" class=\"dataframe\">\n",
       "  <thead>\n",
       "    <tr style=\"text-align: right;\">\n",
       "      <th></th>\n",
       "      <th>Incident Date</th>\n",
       "      <th>Incident Time</th>\n",
       "      <th>Flight ID</th>\n",
       "      <th>Aircraft</th>\n",
       "      <th>Altitude</th>\n",
       "      <th>Airport</th>\n",
       "      <th>Laser Color</th>\n",
       "      <th>Injury</th>\n",
       "      <th>City</th>\n",
       "      <th>State</th>\n",
       "    </tr>\n",
       "  </thead>\n",
       "  <tbody>\n",
       "    <tr>\n",
       "      <th>0</th>\n",
       "      <td>2019-01-01</td>\n",
       "      <td>35</td>\n",
       "      <td>N3EG</td>\n",
       "      <td>C421</td>\n",
       "      <td>2500</td>\n",
       "      <td>SAT</td>\n",
       "      <td>Green</td>\n",
       "      <td>No</td>\n",
       "      <td>San Antonio</td>\n",
       "      <td>Texas</td>\n",
       "    </tr>\n",
       "    <tr>\n",
       "      <th>1</th>\n",
       "      <td>2019-01-01</td>\n",
       "      <td>43</td>\n",
       "      <td>RPA3469</td>\n",
       "      <td>E75S</td>\n",
       "      <td>4000</td>\n",
       "      <td>IAH</td>\n",
       "      <td>Green</td>\n",
       "      <td>No</td>\n",
       "      <td>Houston</td>\n",
       "      <td>Texas</td>\n",
       "    </tr>\n",
       "    <tr>\n",
       "      <th>2</th>\n",
       "      <td>2019-01-01</td>\n",
       "      <td>44</td>\n",
       "      <td>UAL1607</td>\n",
       "      <td>A319</td>\n",
       "      <td>4000</td>\n",
       "      <td>IAH</td>\n",
       "      <td>Green</td>\n",
       "      <td>No</td>\n",
       "      <td>Houston</td>\n",
       "      <td>Texas</td>\n",
       "    </tr>\n",
       "    <tr>\n",
       "      <th>3</th>\n",
       "      <td>2019-01-01</td>\n",
       "      <td>110</td>\n",
       "      <td>N205TM</td>\n",
       "      <td>BE20</td>\n",
       "      <td>2500</td>\n",
       "      <td>HDC</td>\n",
       "      <td>Green</td>\n",
       "      <td>No</td>\n",
       "      <td>Hammond</td>\n",
       "      <td>Louisiana</td>\n",
       "    </tr>\n",
       "    <tr>\n",
       "      <th>4</th>\n",
       "      <td>2019-01-01</td>\n",
       "      <td>115</td>\n",
       "      <td>JIA5233</td>\n",
       "      <td>CRJ9</td>\n",
       "      <td>2000</td>\n",
       "      <td>JAX</td>\n",
       "      <td>Green</td>\n",
       "      <td>No</td>\n",
       "      <td>Jacksonville</td>\n",
       "      <td>Florida</td>\n",
       "    </tr>\n",
       "    <tr>\n",
       "      <th>...</th>\n",
       "      <td>...</td>\n",
       "      <td>...</td>\n",
       "      <td>...</td>\n",
       "      <td>...</td>\n",
       "      <td>...</td>\n",
       "      <td>...</td>\n",
       "      <td>...</td>\n",
       "      <td>...</td>\n",
       "      <td>...</td>\n",
       "      <td>...</td>\n",
       "    </tr>\n",
       "    <tr>\n",
       "      <th>6131</th>\n",
       "      <td>2019-12-31</td>\n",
       "      <td>845</td>\n",
       "      <td>ASH5861</td>\n",
       "      <td>CRJ9</td>\n",
       "      <td>3000</td>\n",
       "      <td>JAN</td>\n",
       "      <td>Green</td>\n",
       "      <td>No</td>\n",
       "      <td>Jackson</td>\n",
       "      <td>Mississippi</td>\n",
       "    </tr>\n",
       "    <tr>\n",
       "      <th>6132</th>\n",
       "      <td>2019-12-31</td>\n",
       "      <td>929</td>\n",
       "      <td>N22P</td>\n",
       "      <td>CRUZ</td>\n",
       "      <td>2500</td>\n",
       "      <td>HNL</td>\n",
       "      <td>Green</td>\n",
       "      <td>No</td>\n",
       "      <td>Honolulu</td>\n",
       "      <td>Hawaii</td>\n",
       "    </tr>\n",
       "    <tr>\n",
       "      <th>6133</th>\n",
       "      <td>2019-12-31</td>\n",
       "      <td>2310</td>\n",
       "      <td>GTH530</td>\n",
       "      <td>GLF4</td>\n",
       "      <td>500</td>\n",
       "      <td>SJU</td>\n",
       "      <td>White</td>\n",
       "      <td>No</td>\n",
       "      <td>Carolina</td>\n",
       "      <td>Puerto Rico</td>\n",
       "    </tr>\n",
       "    <tr>\n",
       "      <th>6134</th>\n",
       "      <td>2019-12-31</td>\n",
       "      <td>2312</td>\n",
       "      <td>AMF6916</td>\n",
       "      <td>SW4</td>\n",
       "      <td>600</td>\n",
       "      <td>SJU</td>\n",
       "      <td>Green</td>\n",
       "      <td>No</td>\n",
       "      <td>Carolina</td>\n",
       "      <td>Puerto Rico</td>\n",
       "    </tr>\n",
       "    <tr>\n",
       "      <th>6135</th>\n",
       "      <td>2019-12-31</td>\n",
       "      <td>2327</td>\n",
       "      <td>N715TH</td>\n",
       "      <td>C172</td>\n",
       "      <td>3000</td>\n",
       "      <td>CHO</td>\n",
       "      <td>Green</td>\n",
       "      <td>No</td>\n",
       "      <td>Charlottesville</td>\n",
       "      <td>Virginia</td>\n",
       "    </tr>\n",
       "  </tbody>\n",
       "</table>\n",
       "<p>6136 rows × 10 columns</p>\n",
       "</div>"
      ],
      "text/plain": [
       "     Incident Date  Incident Time Flight ID Aircraft Altitude Airport  \\\n",
       "0       2019-01-01             35      N3EG     C421     2500     SAT   \n",
       "1       2019-01-01             43   RPA3469     E75S     4000     IAH   \n",
       "2       2019-01-01             44   UAL1607     A319     4000     IAH   \n",
       "3       2019-01-01            110    N205TM     BE20     2500     HDC   \n",
       "4       2019-01-01            115   JIA5233     CRJ9     2000     JAX   \n",
       "...            ...            ...       ...      ...      ...     ...   \n",
       "6131    2019-12-31            845   ASH5861     CRJ9     3000     JAN   \n",
       "6132    2019-12-31            929      N22P     CRUZ     2500     HNL   \n",
       "6133    2019-12-31           2310    GTH530     GLF4      500     SJU   \n",
       "6134    2019-12-31           2312   AMF6916      SW4      600     SJU   \n",
       "6135    2019-12-31           2327    N715TH     C172     3000     CHO   \n",
       "\n",
       "     Laser Color Injury              City        State  \n",
       "0          Green     No       San Antonio        Texas  \n",
       "1          Green     No           Houston        Texas  \n",
       "2          Green     No           Houston        Texas  \n",
       "3          Green     No           Hammond    Louisiana  \n",
       "4          Green     No      Jacksonville      Florida  \n",
       "...          ...    ...               ...          ...  \n",
       "6131       Green     No          Jackson   Mississippi  \n",
       "6132       Green     No          Honolulu       Hawaii  \n",
       "6133       White     No          Carolina  Puerto Rico  \n",
       "6134       Green     No          Carolina  Puerto Rico  \n",
       "6135       Green     No  Charlottesville      Virginia  \n",
       "\n",
       "[6136 rows x 10 columns]"
      ]
     },
     "execution_count": 50,
     "metadata": {},
     "output_type": "execute_result"
    }
   ],
   "source": [
    "pd.read_excel(\"data/laser_incidents_2019.xlsx\")"
   ]
  },
  {
   "cell_type": "markdown",
   "metadata": {},
   "source": [
    "Note: This reads just the first sheet from the file. If you want to extract more sheets, you will need to use the `pandas.'ExcelFile` class. See the [relevant part](https://pandas.pydata.org/pandas-docs/stable/user_guide/io.html#reading-excel-files) of the documentation."
   ]
  },
  {
   "cell_type": "markdown",
   "metadata": {
    "cell_id": "00095-f0b29e54-ff51-488c-84af-4e69ffd6ecde",
    "deepnote_cell_type": "markdown"
   },
   "source": [
    "### Read HTML (Optional)\n",
    "\n",
    "Pandas is able to scrape data from tables embedded in web pages using the `read_html` function.\n",
    "This might or might not bring you good results and probably you will have to tweak your\n",
    "data frame manually. But it is a good starting point - much better than being forced to parse\n",
    "the HTML ourselves!"
   ]
  },
  {
   "cell_type": "code",
   "execution_count": 51,
   "metadata": {
    "cell_id": "00096-5eb09cb2-b8f9-4c84-b2c5-cb8d57a8fd20",
    "deepnote_cell_type": "code"
   },
   "outputs": [
    {
     "data": {
      "text/plain": [
       "(list, 9)"
      ]
     },
     "execution_count": 51,
     "metadata": {},
     "output_type": "execute_result"
    }
   ],
   "source": [
    "tables = pd.read_html(\"https://en.wikipedia.org/wiki/List_of_laser_types\")\n",
    "type(tables), len(tables)"
   ]
  },
  {
   "cell_type": "code",
   "execution_count": 52,
   "metadata": {},
   "outputs": [
    {
     "data": {
      "text/html": [
       "<div>\n",
       "<style scoped>\n",
       "    .dataframe tbody tr th:only-of-type {\n",
       "        vertical-align: middle;\n",
       "    }\n",
       "\n",
       "    .dataframe tbody tr th {\n",
       "        vertical-align: top;\n",
       "    }\n",
       "\n",
       "    .dataframe thead th {\n",
       "        text-align: right;\n",
       "    }\n",
       "</style>\n",
       "<table border=\"1\" class=\"dataframe\">\n",
       "  <thead>\n",
       "    <tr style=\"text-align: right;\">\n",
       "      <th></th>\n",
       "      <th>Laser gain medium and type</th>\n",
       "      <th>Operation wavelength(s)</th>\n",
       "      <th>Pump source</th>\n",
       "      <th>Applications and notes</th>\n",
       "    </tr>\n",
       "  </thead>\n",
       "  <tbody>\n",
       "    <tr>\n",
       "      <th>0</th>\n",
       "      <td>Helium–neon laser</td>\n",
       "      <td>632.8 nm (543.5 nm, 593.9 nm, 611.8 nm, 1.1523...</td>\n",
       "      <td>Electrical discharge</td>\n",
       "      <td>Interferometry, holography, spectroscopy, barc...</td>\n",
       "    </tr>\n",
       "    <tr>\n",
       "      <th>1</th>\n",
       "      <td>Argon laser</td>\n",
       "      <td>454.6 nm, 488.0 nm, 514.5 nm (351 nm, 363.8, 4...</td>\n",
       "      <td>Electrical discharge</td>\n",
       "      <td>Retinal phototherapy (for diabetes), lithograp...</td>\n",
       "    </tr>\n",
       "    <tr>\n",
       "      <th>2</th>\n",
       "      <td>Krypton laser</td>\n",
       "      <td>416 nm, 530.9 nm, 568.2 nm, 647.1 nm, 676.4 nm...</td>\n",
       "      <td>Electrical discharge</td>\n",
       "      <td>Scientific research, mixed with argon to creat...</td>\n",
       "    </tr>\n",
       "    <tr>\n",
       "      <th>3</th>\n",
       "      <td>Xenon ion laser</td>\n",
       "      <td>Many lines throughout visible spectrum extendi...</td>\n",
       "      <td>Electrical discharge</td>\n",
       "      <td>Scientific research.</td>\n",
       "    </tr>\n",
       "    <tr>\n",
       "      <th>4</th>\n",
       "      <td>Nitrogen laser</td>\n",
       "      <td>337.1 nm</td>\n",
       "      <td>Electrical discharge</td>\n",
       "      <td>Pumping of dye lasers, measuring air pollution...</td>\n",
       "    </tr>\n",
       "    <tr>\n",
       "      <th>5</th>\n",
       "      <td>Carbon dioxide laser</td>\n",
       "      <td>10.6 μm, (9.4 μm)</td>\n",
       "      <td>Transverse (high-power) or longitudinal (low-p...</td>\n",
       "      <td>Material processing (laser cutting, laser beam...</td>\n",
       "    </tr>\n",
       "    <tr>\n",
       "      <th>6</th>\n",
       "      <td>Carbon monoxide laser</td>\n",
       "      <td>2.6 to 4 μm, 4.8 to 8.3 μm</td>\n",
       "      <td>Electrical discharge</td>\n",
       "      <td>Material processing (engraving, welding, etc.)...</td>\n",
       "    </tr>\n",
       "    <tr>\n",
       "      <th>7</th>\n",
       "      <td>Excimer laser</td>\n",
       "      <td>193 nm (ArF), 248 nm (KrF), 308 nm (XeCl), 353...</td>\n",
       "      <td>Excimer recombination via electrical discharge</td>\n",
       "      <td>Ultraviolet lithography for semiconductor manu...</td>\n",
       "    </tr>\n",
       "  </tbody>\n",
       "</table>\n",
       "</div>"
      ],
      "text/plain": [
       "  Laser gain medium and type  \\\n",
       "0          Helium–neon laser   \n",
       "1                Argon laser   \n",
       "2              Krypton laser   \n",
       "3            Xenon ion laser   \n",
       "4             Nitrogen laser   \n",
       "5       Carbon dioxide laser   \n",
       "6      Carbon monoxide laser   \n",
       "7              Excimer laser   \n",
       "\n",
       "                             Operation wavelength(s)  \\\n",
       "0  632.8 nm (543.5 nm, 593.9 nm, 611.8 nm, 1.1523...   \n",
       "1  454.6 nm, 488.0 nm, 514.5 nm (351 nm, 363.8, 4...   \n",
       "2  416 nm, 530.9 nm, 568.2 nm, 647.1 nm, 676.4 nm...   \n",
       "3  Many lines throughout visible spectrum extendi...   \n",
       "4                                           337.1 nm   \n",
       "5                                  10.6 μm, (9.4 μm)   \n",
       "6                         2.6 to 4 μm, 4.8 to 8.3 μm   \n",
       "7  193 nm (ArF), 248 nm (KrF), 308 nm (XeCl), 353...   \n",
       "\n",
       "                                         Pump source  \\\n",
       "0                               Electrical discharge   \n",
       "1                               Electrical discharge   \n",
       "2                               Electrical discharge   \n",
       "3                               Electrical discharge   \n",
       "4                               Electrical discharge   \n",
       "5  Transverse (high-power) or longitudinal (low-p...   \n",
       "6                               Electrical discharge   \n",
       "7     Excimer recombination via electrical discharge   \n",
       "\n",
       "                              Applications and notes  \n",
       "0  Interferometry, holography, spectroscopy, barc...  \n",
       "1  Retinal phototherapy (for diabetes), lithograp...  \n",
       "2  Scientific research, mixed with argon to creat...  \n",
       "3                               Scientific research.  \n",
       "4  Pumping of dye lasers, measuring air pollution...  \n",
       "5  Material processing (laser cutting, laser beam...  \n",
       "6  Material processing (engraving, welding, etc.)...  \n",
       "7  Ultraviolet lithography for semiconductor manu...  "
      ]
     },
     "execution_count": 52,
     "metadata": {},
     "output_type": "execute_result"
    }
   ],
   "source": [
    "tables[1]"
   ]
  },
  {
   "cell_type": "code",
   "execution_count": 53,
   "metadata": {},
   "outputs": [
    {
     "data": {
      "text/html": [
       "<div>\n",
       "<style scoped>\n",
       "    .dataframe tbody tr th:only-of-type {\n",
       "        vertical-align: middle;\n",
       "    }\n",
       "\n",
       "    .dataframe tbody tr th {\n",
       "        vertical-align: top;\n",
       "    }\n",
       "\n",
       "    .dataframe thead th {\n",
       "        text-align: right;\n",
       "    }\n",
       "</style>\n",
       "<table border=\"1\" class=\"dataframe\">\n",
       "  <thead>\n",
       "    <tr style=\"text-align: right;\">\n",
       "      <th></th>\n",
       "      <th>Laser gain medium and type</th>\n",
       "      <th>Operation wavelength(s)</th>\n",
       "      <th>Pump source</th>\n",
       "      <th>Applications and notes</th>\n",
       "    </tr>\n",
       "  </thead>\n",
       "  <tbody>\n",
       "    <tr>\n",
       "      <th>0</th>\n",
       "      <td>Hydrogen fluoride laser</td>\n",
       "      <td>2.7 to 2.9 μm for hydrogen fluoride (&lt;80% atmo...</td>\n",
       "      <td>Chemical reaction in a burning jet of ethylene...</td>\n",
       "      <td>Used in research for laser weaponry, operated ...</td>\n",
       "    </tr>\n",
       "    <tr>\n",
       "      <th>1</th>\n",
       "      <td>Deuterium fluoride laser</td>\n",
       "      <td>~3800 nm (3.6 to 4.2 μm) (~90% atm. transmitta...</td>\n",
       "      <td>chemical reaction</td>\n",
       "      <td>US military laser prototypes.</td>\n",
       "    </tr>\n",
       "    <tr>\n",
       "      <th>2</th>\n",
       "      <td>COIL (Chemical oxygen–iodine laser)</td>\n",
       "      <td>1.315 μm (&lt;70% atmospheric transmittance)</td>\n",
       "      <td>Chemical reaction in a jet of singlet delta ox...</td>\n",
       "      <td>Military lasers, scientific and materials rese...</td>\n",
       "    </tr>\n",
       "    <tr>\n",
       "      <th>3</th>\n",
       "      <td>Agil (All gas-phase iodine laser)</td>\n",
       "      <td>1.315 μm (&lt;70% atmospheric transmittance)</td>\n",
       "      <td>Chemical reaction of chlorine atoms with gaseo...</td>\n",
       "      <td>Scientific, weaponry, aerospace.</td>\n",
       "    </tr>\n",
       "  </tbody>\n",
       "</table>\n",
       "</div>"
      ],
      "text/plain": [
       "            Laser gain medium and type  \\\n",
       "0              Hydrogen fluoride laser   \n",
       "1             Deuterium fluoride laser   \n",
       "2  COIL (Chemical oxygen–iodine laser)   \n",
       "3    Agil (All gas-phase iodine laser)   \n",
       "\n",
       "                             Operation wavelength(s)  \\\n",
       "0  2.7 to 2.9 μm for hydrogen fluoride (<80% atmo...   \n",
       "1  ~3800 nm (3.6 to 4.2 μm) (~90% atm. transmitta...   \n",
       "2          1.315 μm (<70% atmospheric transmittance)   \n",
       "3          1.315 μm (<70% atmospheric transmittance)   \n",
       "\n",
       "                                         Pump source  \\\n",
       "0  Chemical reaction in a burning jet of ethylene...   \n",
       "1                                  chemical reaction   \n",
       "2  Chemical reaction in a jet of singlet delta ox...   \n",
       "3  Chemical reaction of chlorine atoms with gaseo...   \n",
       "\n",
       "                              Applications and notes  \n",
       "0  Used in research for laser weaponry, operated ...  \n",
       "1                      US military laser prototypes.  \n",
       "2  Military lasers, scientific and materials rese...  \n",
       "3                   Scientific, weaponry, aerospace.  "
      ]
     },
     "execution_count": 53,
     "metadata": {},
     "output_type": "execute_result"
    }
   ],
   "source": [
    "tables[2]"
   ]
  },
  {
   "cell_type": "markdown",
   "metadata": {
    "cell_id": "00099-84a117bf-82b7-420c-8897-b6b7ccac564a",
    "deepnote_cell_type": "markdown"
   },
   "source": [
    "### Write CSV\n",
    "\n",
    "Pandas is able to write to many various formats but the usage is similar. "
   ]
  },
  {
   "cell_type": "code",
   "execution_count": 54,
   "metadata": {
    "cell_id": "00100-43addc0e-d2c6-4fb4-8008-aafc629b4bd6",
    "deepnote_cell_type": "code"
   },
   "outputs": [],
   "source": [
    "tables[1].to_csv(\"gas_lasers.csv\", index=False)"
   ]
  },
  {
   "cell_type": "markdown",
   "metadata": {
    "cell_id": "00108-01ae14f6-543b-47d2-8e7b-349ae95ed116",
    "deepnote_cell_type": "markdown"
   },
   "source": [
    "## Data analysis (very basics)\n",
    "\n",
    "Let's extend the data of laser incidents to a broader time range and read the data from a summary CSV file:"
   ]
  },
  {
   "cell_type": "code",
   "execution_count": 21,
   "metadata": {
    "cell_id": "00209-f6c83b90-510e-4f66-beaf-04093029d955",
    "deepnote_cell_type": "code",
    "deepnote_to_be_reexecuted": false,
    "execution_millis": 7948,
    "execution_start": 1611486423580,
    "source_hash": "77ca92eb"
   },
   "outputs": [],
   "source": [
    "available_reports = (\n",
    "    \"https://www.faa.gov/about/initiatives/lasers/laws/media/Laser_Report_2020.xlsx\",\n",
    "    \"https://www.faa.gov/about/initiatives/lasers/laws/media/Laser_Report_2019_final.xlsx\",\n",
    "    \"https://www.faa.gov/about/initiatives/lasers/laws/media/Laser_Report_2018_final.xlsx\",\n",
    "    \"https://www.faa.gov/about/initiatives/lasers/laws/media/reported_laser_illumination_incidents_CY_2017.xlsx\",\n",
    "    \"https://www.faa.gov/about/initiatives/lasers/laws/media/reported_laser_illumination_incidents_CY_2016.xlsx\",\n",
    "    \"https://www.faa.gov/about/initiatives/lasers/laws/media/reported_laser_illumination_incidents_CY_2015.xls\",\n",
    "    # the columns here are very different, skip it for this analysis\n",
    "    # \"https://www.faa.gov/about/initiatives/lasers/laws/media/laser_incidents_2010-2014.xls\",\n",
    ")\n",
    "\n",
    "laser_incidents_raw = pd.concat((pd.read_excel(url) for url in available_reports), axis=0, ignore_index=True)"
   ]
  },
  {
   "cell_type": "code",
   "execution_count": 22,
   "metadata": {
    "cell_id": "00210-9ccda238-374b-4abc-ab2c-3a6269f66401",
    "deepnote_cell_type": "code",
    "deepnote_to_be_reexecuted": false,
    "execution_millis": 882,
    "execution_start": 1611486508372,
    "source_hash": "bcb7b6ea",
    "tags": []
   },
   "outputs": [],
   "source": [
    "laser_incidents_raw.to_csv(\"data/laser_incidents_2015-2020_raw.csv\")"
   ]
  },
  {
   "cell_type": "code",
   "execution_count": 23,
   "metadata": {
    "cell_id": "00211-63078b55-fe36-4053-af3d-2e62e30fe3d1",
    "deepnote_cell_type": "code",
    "tags": []
   },
   "outputs": [],
   "source": [
    "laser_incidents_raw = pd.read_csv(\"data/laser_incidents_2015-2020_raw.csv\")"
   ]
  },
  {
   "cell_type": "markdown",
   "metadata": {
    "cell_id": "00106-2b91f7bb-016c-4e79-ba08-114067e1538e",
    "deepnote_cell_type": "markdown"
   },
   "source": [
    "Let's see what we have here..."
   ]
  },
  {
   "cell_type": "code",
   "execution_count": 24,
   "metadata": {
    "cell_id": "00109-7585c80e-026a-42ee-a30c-818618f792fb",
    "deepnote_cell_type": "code",
    "deepnote_to_be_reexecuted": false,
    "execution_millis": 28,
    "execution_start": 1611524351332,
    "source_hash": "d7fcfe1b"
   },
   "outputs": [
    {
     "data": {
      "text/html": [
       "<div>\n",
       "<style scoped>\n",
       "    .dataframe tbody tr th:only-of-type {\n",
       "        vertical-align: middle;\n",
       "    }\n",
       "\n",
       "    .dataframe tbody tr th {\n",
       "        vertical-align: top;\n",
       "    }\n",
       "\n",
       "    .dataframe thead th {\n",
       "        text-align: right;\n",
       "    }\n",
       "</style>\n",
       "<table border=\"1\" class=\"dataframe\">\n",
       "  <thead>\n",
       "    <tr style=\"text-align: right;\">\n",
       "      <th></th>\n",
       "      <th>Unnamed: 0</th>\n",
       "      <th>Incident Date</th>\n",
       "      <th>Incident Time</th>\n",
       "      <th>Flight ID</th>\n",
       "      <th>Aircraft</th>\n",
       "      <th>Altitude</th>\n",
       "      <th>Airport</th>\n",
       "      <th>Laser Color</th>\n",
       "      <th>Injury</th>\n",
       "      <th>City</th>\n",
       "      <th>State</th>\n",
       "      <th>Aviation Altitude</th>\n",
       "      <th>State</th>\n",
       "      <th>Unnamed: 10</th>\n",
       "      <th>Unnamed: 11</th>\n",
       "    </tr>\n",
       "  </thead>\n",
       "  <tbody>\n",
       "    <tr>\n",
       "      <th>0</th>\n",
       "      <td>0</td>\n",
       "      <td>2020-01-01</td>\n",
       "      <td>148</td>\n",
       "      <td>N424RP</td>\n",
       "      <td>DA42/A</td>\n",
       "      <td>8500</td>\n",
       "      <td>SBA</td>\n",
       "      <td>Green</td>\n",
       "      <td>No</td>\n",
       "      <td>Santa Barbara</td>\n",
       "      <td>California</td>\n",
       "      <td>NaN</td>\n",
       "      <td>NaN</td>\n",
       "      <td>NaN</td>\n",
       "      <td>NaN</td>\n",
       "    </tr>\n",
       "    <tr>\n",
       "      <th>1</th>\n",
       "      <td>1</td>\n",
       "      <td>2020-01-01</td>\n",
       "      <td>155</td>\n",
       "      <td>AMF1829</td>\n",
       "      <td>B190</td>\n",
       "      <td>40000</td>\n",
       "      <td>SSF</td>\n",
       "      <td>Green</td>\n",
       "      <td>No</td>\n",
       "      <td>San Antonio</td>\n",
       "      <td>Texas</td>\n",
       "      <td>NaN</td>\n",
       "      <td>NaN</td>\n",
       "      <td>NaN</td>\n",
       "      <td>NaN</td>\n",
       "    </tr>\n",
       "    <tr>\n",
       "      <th>2</th>\n",
       "      <td>2</td>\n",
       "      <td>2020-01-01</td>\n",
       "      <td>214</td>\n",
       "      <td>NKS1881</td>\n",
       "      <td>A320</td>\n",
       "      <td>2500</td>\n",
       "      <td>TPA</td>\n",
       "      <td>Green</td>\n",
       "      <td>No</td>\n",
       "      <td>Tampa</td>\n",
       "      <td>Florida</td>\n",
       "      <td>NaN</td>\n",
       "      <td>NaN</td>\n",
       "      <td>NaN</td>\n",
       "      <td>NaN</td>\n",
       "    </tr>\n",
       "    <tr>\n",
       "      <th>3</th>\n",
       "      <td>3</td>\n",
       "      <td>2020-01-01</td>\n",
       "      <td>217</td>\n",
       "      <td>FDX3873</td>\n",
       "      <td>B763</td>\n",
       "      <td>3000</td>\n",
       "      <td>DFW</td>\n",
       "      <td>Green</td>\n",
       "      <td>No</td>\n",
       "      <td>Fort Worth</td>\n",
       "      <td>Texas</td>\n",
       "      <td>NaN</td>\n",
       "      <td>NaN</td>\n",
       "      <td>NaN</td>\n",
       "      <td>NaN</td>\n",
       "    </tr>\n",
       "    <tr>\n",
       "      <th>4</th>\n",
       "      <td>4</td>\n",
       "      <td>2020-01-01</td>\n",
       "      <td>218</td>\n",
       "      <td>SWA3635</td>\n",
       "      <td>B739</td>\n",
       "      <td>11000</td>\n",
       "      <td>MOD</td>\n",
       "      <td>Green</td>\n",
       "      <td>No</td>\n",
       "      <td>Modesto</td>\n",
       "      <td>California</td>\n",
       "      <td>NaN</td>\n",
       "      <td>NaN</td>\n",
       "      <td>NaN</td>\n",
       "      <td>NaN</td>\n",
       "    </tr>\n",
       "  </tbody>\n",
       "</table>\n",
       "</div>"
      ],
      "text/plain": [
       "   Unnamed: 0 Incident Date Incident Time Flight ID Aircraft Altitude Airport  \\\n",
       "0           0    2020-01-01           148    N424RP   DA42/A     8500     SBA   \n",
       "1           1    2020-01-01           155   AMF1829     B190    40000     SSF   \n",
       "2           2    2020-01-01           214   NKS1881     A320     2500     TPA   \n",
       "3           3    2020-01-01           217   FDX3873     B763     3000     DFW   \n",
       "4           4    2020-01-01           218   SWA3635     B739    11000     MOD   \n",
       "\n",
       "  Laser Color Injury           City       State  Aviation Altitude State   \\\n",
       "0       Green     No  Santa Barbara  California                NaN    NaN   \n",
       "1       Green     No    San Antonio       Texas                NaN    NaN   \n",
       "2       Green     No          Tampa     Florida                NaN    NaN   \n",
       "3       Green     No    Fort Worth        Texas                NaN    NaN   \n",
       "4       Green     No        Modesto  California                NaN    NaN   \n",
       "\n",
       "   Unnamed: 10  Unnamed: 11  \n",
       "0          NaN          NaN  \n",
       "1          NaN          NaN  \n",
       "2          NaN          NaN  \n",
       "3          NaN          NaN  \n",
       "4          NaN          NaN  "
      ]
     },
     "execution_count": 24,
     "metadata": {},
     "output_type": "execute_result"
    }
   ],
   "source": [
    "laser_incidents_raw.head()"
   ]
  },
  {
   "cell_type": "code",
   "execution_count": 25,
   "metadata": {
    "cell_id": "00110-5ecc71e7-2c54-4854-825e-06f53abc63bd",
    "deepnote_cell_type": "code",
    "deepnote_to_be_reexecuted": false,
    "execution_millis": 66,
    "execution_start": 1611500381768,
    "source_hash": "b1255b56"
   },
   "outputs": [
    {
     "data": {
      "text/html": [
       "<div>\n",
       "<style scoped>\n",
       "    .dataframe tbody tr th:only-of-type {\n",
       "        vertical-align: middle;\n",
       "    }\n",
       "\n",
       "    .dataframe tbody tr th {\n",
       "        vertical-align: top;\n",
       "    }\n",
       "\n",
       "    .dataframe thead th {\n",
       "        text-align: right;\n",
       "    }\n",
       "</style>\n",
       "<table border=\"1\" class=\"dataframe\">\n",
       "  <thead>\n",
       "    <tr style=\"text-align: right;\">\n",
       "      <th></th>\n",
       "      <th>Unnamed: 0</th>\n",
       "      <th>Incident Date</th>\n",
       "      <th>Incident Time</th>\n",
       "      <th>Flight ID</th>\n",
       "      <th>Aircraft</th>\n",
       "      <th>Altitude</th>\n",
       "      <th>Airport</th>\n",
       "      <th>Laser Color</th>\n",
       "      <th>Injury</th>\n",
       "      <th>City</th>\n",
       "      <th>State</th>\n",
       "      <th>Aviation Altitude</th>\n",
       "      <th>State</th>\n",
       "      <th>Unnamed: 10</th>\n",
       "      <th>Unnamed: 11</th>\n",
       "    </tr>\n",
       "  </thead>\n",
       "  <tbody>\n",
       "    <tr>\n",
       "      <th>36458</th>\n",
       "      <td>36458</td>\n",
       "      <td>2015-12-31</td>\n",
       "      <td>525</td>\n",
       "      <td>VRD917</td>\n",
       "      <td>A320 (AIRBUS - A-32</td>\n",
       "      <td>8000</td>\n",
       "      <td>LAS</td>\n",
       "      <td>Green</td>\n",
       "      <td>No</td>\n",
       "      <td>Las Vegas</td>\n",
       "      <td>NaN</td>\n",
       "      <td>NaN</td>\n",
       "      <td>Nevada</td>\n",
       "      <td>NaN</td>\n",
       "      <td>NaN</td>\n",
       "    </tr>\n",
       "    <tr>\n",
       "      <th>36459</th>\n",
       "      <td>36459</td>\n",
       "      <td>2015-12-31</td>\n",
       "      <td>623</td>\n",
       "      <td>DAL2371</td>\n",
       "      <td>B738 (BOEING - 737-</td>\n",
       "      <td>11000</td>\n",
       "      <td>LHM</td>\n",
       "      <td>Green</td>\n",
       "      <td>No</td>\n",
       "      <td>Lincoln</td>\n",
       "      <td>NaN</td>\n",
       "      <td>NaN</td>\n",
       "      <td>California</td>\n",
       "      <td>NaN</td>\n",
       "      <td>NaN</td>\n",
       "    </tr>\n",
       "    <tr>\n",
       "      <th>36460</th>\n",
       "      <td>36460</td>\n",
       "      <td>2015-12-31</td>\n",
       "      <td>1111</td>\n",
       "      <td>Unknown</td>\n",
       "      <td>Unknown</td>\n",
       "      <td>2000</td>\n",
       "      <td>FOK</td>\n",
       "      <td>Green</td>\n",
       "      <td>No</td>\n",
       "      <td>Westhampton Beach</td>\n",
       "      <td>NaN</td>\n",
       "      <td>NaN</td>\n",
       "      <td>New York</td>\n",
       "      <td>NaN</td>\n",
       "      <td>NaN</td>\n",
       "    </tr>\n",
       "    <tr>\n",
       "      <th>36461</th>\n",
       "      <td>36461</td>\n",
       "      <td>2015-12-31</td>\n",
       "      <td>1147</td>\n",
       "      <td>UAL197</td>\n",
       "      <td>B737</td>\n",
       "      <td>300</td>\n",
       "      <td>GUM</td>\n",
       "      <td>Green</td>\n",
       "      <td>No</td>\n",
       "      <td>Guam</td>\n",
       "      <td>NaN</td>\n",
       "      <td>NaN</td>\n",
       "      <td>Guam</td>\n",
       "      <td>NaN</td>\n",
       "      <td>NaN</td>\n",
       "    </tr>\n",
       "    <tr>\n",
       "      <th>36462</th>\n",
       "      <td>36462</td>\n",
       "      <td>2015-12-31</td>\n",
       "      <td>2314</td>\n",
       "      <td>EJA336</td>\n",
       "      <td>E55P/L</td>\n",
       "      <td>1000</td>\n",
       "      <td>APF</td>\n",
       "      <td>Green</td>\n",
       "      <td>No</td>\n",
       "      <td>Naples</td>\n",
       "      <td>NaN</td>\n",
       "      <td>NaN</td>\n",
       "      <td>Florida</td>\n",
       "      <td>NaN</td>\n",
       "      <td>NaN</td>\n",
       "    </tr>\n",
       "  </tbody>\n",
       "</table>\n",
       "</div>"
      ],
      "text/plain": [
       "       Unnamed: 0 Incident Date Incident Time Flight ID             Aircraft  \\\n",
       "36458       36458    2015-12-31           525    VRD917  A320 (AIRBUS - A-32   \n",
       "36459       36459    2015-12-31           623   DAL2371  B738 (BOEING - 737-   \n",
       "36460       36460    2015-12-31          1111   Unknown              Unknown   \n",
       "36461       36461    2015-12-31          1147    UAL197                 B737   \n",
       "36462       36462    2015-12-31          2314    EJA336               E55P/L   \n",
       "\n",
       "      Altitude Airport Laser Color Injury               City State  \\\n",
       "36458     8000     LAS       Green     No          Las Vegas   NaN   \n",
       "36459    11000     LHM       Green     No            Lincoln   NaN   \n",
       "36460     2000     FOK       Green     No  Westhampton Beach   NaN   \n",
       "36461      300     GUM       Green     No               Guam   NaN   \n",
       "36462     1000     APF       Green     No             Naples   NaN   \n",
       "\n",
       "       Aviation Altitude      State   Unnamed: 10  Unnamed: 11  \n",
       "36458                NaN      Nevada          NaN          NaN  \n",
       "36459                NaN  California          NaN          NaN  \n",
       "36460                NaN    New York          NaN          NaN  \n",
       "36461                NaN        Guam          NaN          NaN  \n",
       "36462                NaN     Florida          NaN          NaN  "
      ]
     },
     "execution_count": 25,
     "metadata": {},
     "output_type": "execute_result"
    }
   ],
   "source": [
    "laser_incidents_raw.tail()"
   ]
  },
  {
   "cell_type": "markdown",
   "metadata": {
    "cell_id": "00111-a4b4c017-88ac-46b5-8108-540b9a009d64",
    "deepnote_cell_type": "markdown"
   },
   "source": [
    "For an unknown, potentially unevenly distributed dataset, looking at the beginning / end is typically not the best idea. We'd rather sample randomly:"
   ]
  },
  {
   "cell_type": "code",
   "execution_count": 26,
   "metadata": {
    "cell_id": "00112-e1b12e12-d950-4faa-a3b8-f26c2c7700f0",
    "deepnote_cell_type": "code",
    "deepnote_to_be_reexecuted": false,
    "execution_millis": 1,
    "execution_start": 1611517478639,
    "source_hash": "5df125b9"
   },
   "outputs": [
    {
     "data": {
      "text/html": [
       "<div>\n",
       "<style scoped>\n",
       "    .dataframe tbody tr th:only-of-type {\n",
       "        vertical-align: middle;\n",
       "    }\n",
       "\n",
       "    .dataframe tbody tr th {\n",
       "        vertical-align: top;\n",
       "    }\n",
       "\n",
       "    .dataframe thead th {\n",
       "        text-align: right;\n",
       "    }\n",
       "</style>\n",
       "<table border=\"1\" class=\"dataframe\">\n",
       "  <thead>\n",
       "    <tr style=\"text-align: right;\">\n",
       "      <th></th>\n",
       "      <th>Unnamed: 0</th>\n",
       "      <th>Incident Date</th>\n",
       "      <th>Incident Time</th>\n",
       "      <th>Flight ID</th>\n",
       "      <th>Aircraft</th>\n",
       "      <th>Altitude</th>\n",
       "      <th>Airport</th>\n",
       "      <th>Laser Color</th>\n",
       "      <th>Injury</th>\n",
       "      <th>City</th>\n",
       "      <th>State</th>\n",
       "      <th>Aviation Altitude</th>\n",
       "      <th>State</th>\n",
       "      <th>Unnamed: 10</th>\n",
       "      <th>Unnamed: 11</th>\n",
       "    </tr>\n",
       "  </thead>\n",
       "  <tbody>\n",
       "    <tr>\n",
       "      <th>35453</th>\n",
       "      <td>35453</td>\n",
       "      <td>2015-11-28</td>\n",
       "      <td>400</td>\n",
       "      <td>N18LA</td>\n",
       "      <td>HELO</td>\n",
       "      <td>1300</td>\n",
       "      <td>ONT</td>\n",
       "      <td>Green</td>\n",
       "      <td>No</td>\n",
       "      <td>Ontario</td>\n",
       "      <td>NaN</td>\n",
       "      <td>NaN</td>\n",
       "      <td>California</td>\n",
       "      <td>NaN</td>\n",
       "      <td>NaN</td>\n",
       "    </tr>\n",
       "    <tr>\n",
       "      <th>36276</th>\n",
       "      <td>36276</td>\n",
       "      <td>2015-12-21</td>\n",
       "      <td>2147</td>\n",
       "      <td>UAL578</td>\n",
       "      <td>B738</td>\n",
       "      <td>2000</td>\n",
       "      <td>BOS</td>\n",
       "      <td>Green</td>\n",
       "      <td>No</td>\n",
       "      <td>Boston</td>\n",
       "      <td>NaN</td>\n",
       "      <td>NaN</td>\n",
       "      <td>Massachusetts</td>\n",
       "      <td>NaN</td>\n",
       "      <td>NaN</td>\n",
       "    </tr>\n",
       "    <tr>\n",
       "      <th>20319</th>\n",
       "      <td>20319</td>\n",
       "      <td>2017-11-04</td>\n",
       "      <td>240</td>\n",
       "      <td>N554VR</td>\n",
       "      <td>PC12</td>\n",
       "      <td>10000</td>\n",
       "      <td>SAN</td>\n",
       "      <td>Green</td>\n",
       "      <td>No</td>\n",
       "      <td>San Diego</td>\n",
       "      <td>California</td>\n",
       "      <td>NaN</td>\n",
       "      <td>NaN</td>\n",
       "      <td>NaN</td>\n",
       "      <td>NaN</td>\n",
       "    </tr>\n",
       "    <tr>\n",
       "      <th>20698</th>\n",
       "      <td>20698</td>\n",
       "      <td>2017-11-19</td>\n",
       "      <td>2309</td>\n",
       "      <td>DAL1153</td>\n",
       "      <td>MD88/Z</td>\n",
       "      <td>17000</td>\n",
       "      <td>ATL</td>\n",
       "      <td>Green</td>\n",
       "      <td>No</td>\n",
       "      <td>Atlanta</td>\n",
       "      <td>Georgia</td>\n",
       "      <td>NaN</td>\n",
       "      <td>NaN</td>\n",
       "      <td>NaN</td>\n",
       "      <td>NaN</td>\n",
       "    </tr>\n",
       "    <tr>\n",
       "      <th>16698</th>\n",
       "      <td>16698</td>\n",
       "      <td>2017-04-09</td>\n",
       "      <td>440</td>\n",
       "      <td>DAL1490</td>\n",
       "      <td>B739</td>\n",
       "      <td>5000</td>\n",
       "      <td>LAS</td>\n",
       "      <td>Green</td>\n",
       "      <td>No</td>\n",
       "      <td>Las Vegas</td>\n",
       "      <td>Nevada</td>\n",
       "      <td>NaN</td>\n",
       "      <td>NaN</td>\n",
       "      <td>NaN</td>\n",
       "      <td>NaN</td>\n",
       "    </tr>\n",
       "    <tr>\n",
       "      <th>8847</th>\n",
       "      <td>8847</td>\n",
       "      <td>2019-12-10</td>\n",
       "      <td>146</td>\n",
       "      <td>EPIA551</td>\n",
       "      <td>C172</td>\n",
       "      <td>3000</td>\n",
       "      <td>PBI</td>\n",
       "      <td>Green</td>\n",
       "      <td>No</td>\n",
       "      <td>West Palm Beach</td>\n",
       "      <td>Florida</td>\n",
       "      <td>NaN</td>\n",
       "      <td>NaN</td>\n",
       "      <td>NaN</td>\n",
       "      <td>NaN</td>\n",
       "    </tr>\n",
       "    <tr>\n",
       "      <th>6743</th>\n",
       "      <td>6743</td>\n",
       "      <td>2019-08-02</td>\n",
       "      <td>937</td>\n",
       "      <td>N212PB</td>\n",
       "      <td>PC12</td>\n",
       "      <td>11000</td>\n",
       "      <td>TWF</td>\n",
       "      <td>Red</td>\n",
       "      <td>No</td>\n",
       "      <td>Twin Falls</td>\n",
       "      <td>Idaho</td>\n",
       "      <td>NaN</td>\n",
       "      <td>NaN</td>\n",
       "      <td>NaN</td>\n",
       "      <td>NaN</td>\n",
       "    </tr>\n",
       "    <tr>\n",
       "      <th>17923</th>\n",
       "      <td>17923</td>\n",
       "      <td>2017-07-03</td>\n",
       "      <td>223</td>\n",
       "      <td>AAL2539</td>\n",
       "      <td>B738</td>\n",
       "      <td>12000</td>\n",
       "      <td>PVD</td>\n",
       "      <td>Green</td>\n",
       "      <td>No</td>\n",
       "      <td>Providence</td>\n",
       "      <td>Rhode Island</td>\n",
       "      <td>NaN</td>\n",
       "      <td>NaN</td>\n",
       "      <td>NaN</td>\n",
       "      <td>NaN</td>\n",
       "    </tr>\n",
       "    <tr>\n",
       "      <th>15698</th>\n",
       "      <td>15698</td>\n",
       "      <td>2017-02-12</td>\n",
       "      <td>512</td>\n",
       "      <td>N324FP</td>\n",
       "      <td>GLF4</td>\n",
       "      <td>1300</td>\n",
       "      <td>SJC</td>\n",
       "      <td>Red</td>\n",
       "      <td>No</td>\n",
       "      <td>San Jose</td>\n",
       "      <td>California</td>\n",
       "      <td>NaN</td>\n",
       "      <td>NaN</td>\n",
       "      <td>NaN</td>\n",
       "      <td>NaN</td>\n",
       "    </tr>\n",
       "    <tr>\n",
       "      <th>33154</th>\n",
       "      <td>33154</td>\n",
       "      <td>2015-09-05</td>\n",
       "      <td>234</td>\n",
       "      <td>N5195L</td>\n",
       "      <td>COL4 (LANCAIR - Col</td>\n",
       "      <td>1000</td>\n",
       "      <td>HEG</td>\n",
       "      <td>Red</td>\n",
       "      <td>No</td>\n",
       "      <td>Jacksonville</td>\n",
       "      <td>NaN</td>\n",
       "      <td>NaN</td>\n",
       "      <td>Florida</td>\n",
       "      <td>NaN</td>\n",
       "      <td>NaN</td>\n",
       "    </tr>\n",
       "  </tbody>\n",
       "</table>\n",
       "</div>"
      ],
      "text/plain": [
       "       Unnamed: 0 Incident Date Incident Time Flight ID             Aircraft  \\\n",
       "35453       35453    2015-11-28           400     N18LA                 HELO   \n",
       "36276       36276    2015-12-21          2147    UAL578                 B738   \n",
       "20319       20319    2017-11-04           240    N554VR                 PC12   \n",
       "20698       20698    2017-11-19          2309   DAL1153               MD88/Z   \n",
       "16698       16698    2017-04-09           440   DAL1490                 B739   \n",
       "8847         8847    2019-12-10           146   EPIA551                 C172   \n",
       "6743         6743    2019-08-02           937    N212PB                 PC12   \n",
       "17923       17923    2017-07-03           223   AAL2539                 B738   \n",
       "15698       15698    2017-02-12           512    N324FP                 GLF4   \n",
       "33154       33154    2015-09-05           234    N5195L  COL4 (LANCAIR - Col   \n",
       "\n",
       "      Altitude Airport Laser Color Injury             City         State  \\\n",
       "35453     1300     ONT       Green     No          Ontario           NaN   \n",
       "36276     2000  BOS          Green     No           Boston           NaN   \n",
       "20319    10000     SAN       Green     No        San Diego    California   \n",
       "20698    17000     ATL       Green     No          Atlanta       Georgia   \n",
       "16698     5000     LAS       Green     No        Las Vegas        Nevada   \n",
       "8847      3000     PBI       Green     No  West Palm Beach       Florida   \n",
       "6743     11000     TWF         Red     No       Twin Falls         Idaho   \n",
       "17923    12000     PVD       Green     No       Providence  Rhode Island   \n",
       "15698     1300     SJC         Red     No        San Jose     California   \n",
       "33154     1000     HEG         Red     No     Jacksonville           NaN   \n",
       "\n",
       "       Aviation Altitude         State   Unnamed: 10  Unnamed: 11  \n",
       "35453                NaN     California          NaN          NaN  \n",
       "36276                NaN  Massachusetts          NaN          NaN  \n",
       "20319                NaN            NaN          NaN          NaN  \n",
       "20698                NaN            NaN          NaN          NaN  \n",
       "16698                NaN            NaN          NaN          NaN  \n",
       "8847                 NaN            NaN          NaN          NaN  \n",
       "6743                 NaN            NaN          NaN          NaN  \n",
       "17923                NaN            NaN          NaN          NaN  \n",
       "15698                NaN            NaN          NaN          NaN  \n",
       "33154                NaN        Florida          NaN          NaN  "
      ]
     },
     "execution_count": 26,
     "metadata": {},
     "output_type": "execute_result"
    }
   ],
   "source": [
    "# Show a few examples\n",
    "laser_incidents_raw.sample(10)"
   ]
  },
  {
   "cell_type": "markdown",
   "metadata": {},
   "source": [
    "This does not look right. What we need to do, is **data cleaning**."
   ]
  },
  {
   "cell_type": "markdown",
   "metadata": {},
   "source": [
    "### Data cleaning"
   ]
  },
  {
   "cell_type": "code",
   "execution_count": 28,
   "metadata": {
    "cell_id": "00214-b07d595e-e6f4-44c4-941f-d250694dd05d",
    "deepnote_cell_type": "code",
    "deepnote_to_be_reexecuted": false,
    "execution_millis": 1,
    "execution_start": 1611486552256,
    "source_hash": "a55aa4d",
    "tags": []
   },
   "outputs": [
    {
     "data": {
      "text/plain": [
       "Index(['Incident Date', 'Incident Time', 'Flight ID', 'Aircraft', 'Altitude',\n",
       "       'Airport', 'Laser Color', 'Injury', 'City', 'State',\n",
       "       'Aviation Altitude', 'State '],\n",
       "      dtype='object')"
      ]
     },
     "execution_count": 28,
     "metadata": {},
     "output_type": "execute_result"
    }
   ],
   "source": [
    "# use only meaningful columns, not Unnamed ...\n",
    "laser_incidents = laser_incidents_raw[[column for column in laser_incidents_raw.columns if \"Unnamed\" not in column]]\n",
    "laser_incidents.columns"
   ]
  },
  {
   "cell_type": "code",
   "execution_count": 29,
   "metadata": {
    "cell_id": "00215-16124032-76f6-413c-8c00-7c755e9f655b",
    "deepnote_cell_type": "code",
    "deepnote_to_be_reexecuted": false,
    "execution_millis": 8,
    "execution_start": 1611486555523,
    "scrolled": true,
    "source_hash": "c4360c78",
    "tags": []
   },
   "outputs": [],
   "source": [
    "# there are \"State\" and \"State \" columns: merge them into a single one\n",
    "laser_incidents = laser_incidents.assign(State=laser_incidents[\"State\"].where(laser_incidents[\"State\"].notna(), laser_incidents[\"State \"]))"
   ]
  },
  {
   "cell_type": "code",
   "execution_count": 30,
   "metadata": {
    "cell_id": "00216-db37db20-78d7-44ab-8c13-d6c2f1958d15",
    "deepnote_cell_type": "code",
    "deepnote_to_be_reexecuted": false,
    "execution_millis": 5,
    "execution_start": 1611486556439,
    "scrolled": true,
    "source_hash": "ff651f0f",
    "tags": []
   },
   "outputs": [],
   "source": [
    "# strip white space from state names\n",
    "laser_incidents = laser_incidents.assign(State=laser_incidents[\"State\"].str.strip())"
   ]
  },
  {
   "cell_type": "code",
   "execution_count": 31,
   "metadata": {
    "cell_id": "00217-9374e0b2-d5d7-47d4-b924-02ef2facca35",
    "deepnote_cell_type": "code",
    "deepnote_to_be_reexecuted": false,
    "execution_millis": 4,
    "execution_start": 1611486557210,
    "source_hash": "6b97d2fc",
    "tags": []
   },
   "outputs": [],
   "source": [
    "# drop columns we do not need any more (\"Aviation Altitude\" are all NA values)\n",
    "laser_incidents = laser_incidents.drop(columns=[\"State \", \"Aviation Altitude\"])"
   ]
  },
  {
   "cell_type": "code",
   "execution_count": 32,
   "metadata": {
    "cell_id": "00218-d762c38c-1b1f-4ce2-b398-f19587a015a6",
    "deepnote_cell_type": "code",
    "deepnote_to_be_reexecuted": false,
    "execution_millis": 16,
    "execution_start": 1611489106040,
    "source_hash": "5acc3b27",
    "tags": []
   },
   "outputs": [
    {
     "data": {
      "text/plain": [
       "Incident Date     string\n",
       "Incident Time     string\n",
       "Flight ID         string\n",
       "Aircraft          string\n",
       "Altitude         float64\n",
       "Airport           string\n",
       "Laser Color       string\n",
       "Injury           boolean\n",
       "City              string\n",
       "State             string\n",
       "dtype: object"
      ]
     },
     "execution_count": 32,
     "metadata": {},
     "output_type": "execute_result"
    }
   ],
   "source": [
    "import collections\n",
    "\n",
    "# needed below for mapping string values to bool\n",
    "# yes and no are defined, anything else becomes NA\n",
    "value_to_bool = collections.defaultdict(lambda: pd.NA)\n",
    "value_to_bool[\"yes\"] = True\n",
    "value_to_bool[\"no\"] = False\n",
    "\n",
    "\n",
    "# try to convert to better dtypes\n",
    "laser_incidents = laser_incidents.convert_dtypes()\n",
    "# convert some columns manually with some preprocessing\n",
    "laser_incidents = laser_incidents.assign(\n",
    "    **{\n",
    "        \"Incident Time\": laser_incidents[\"Incident Time\"].astype(\"string\"),\n",
    "        \"Altitude\": pd.to_numeric(laser_incidents[\"Altitude\"], errors=\"coerce\"),\n",
    "        \"Injury\": laser_incidents[\"Injury\"]\n",
    "        .str.lower()\n",
    "        .str.strip()\n",
    "        .map(value_to_bool)\n",
    "        .astype(\"boolean\"),\n",
    "    }\n",
    ")\n",
    "laser_incidents.dtypes\n"
   ]
  },
  {
   "cell_type": "code",
   "execution_count": 33,
   "metadata": {
    "cell_id": "00219-92a2eea3-6be0-4fe3-83ed-8df749cb9284",
    "deepnote_cell_type": "code",
    "deepnote_to_be_reexecuted": false,
    "execution_millis": 1,
    "execution_start": 1611489133861,
    "scrolled": true,
    "source_hash": "f242756e",
    "tags": []
   },
   "outputs": [
    {
     "data": {
      "text/html": [
       "<div>\n",
       "<style scoped>\n",
       "    .dataframe tbody tr th:only-of-type {\n",
       "        vertical-align: middle;\n",
       "    }\n",
       "\n",
       "    .dataframe tbody tr th {\n",
       "        vertical-align: top;\n",
       "    }\n",
       "\n",
       "    .dataframe thead th {\n",
       "        text-align: right;\n",
       "    }\n",
       "</style>\n",
       "<table border=\"1\" class=\"dataframe\">\n",
       "  <thead>\n",
       "    <tr style=\"text-align: right;\">\n",
       "      <th></th>\n",
       "      <th>Incident Date</th>\n",
       "      <th>Incident Time</th>\n",
       "      <th>Flight ID</th>\n",
       "      <th>Aircraft</th>\n",
       "      <th>Altitude</th>\n",
       "      <th>Airport</th>\n",
       "      <th>Laser Color</th>\n",
       "      <th>Injury</th>\n",
       "      <th>City</th>\n",
       "      <th>State</th>\n",
       "    </tr>\n",
       "  </thead>\n",
       "  <tbody>\n",
       "    <tr>\n",
       "      <th>12690</th>\n",
       "      <td>2018-08-15</td>\n",
       "      <td>24+29:614</td>\n",
       "      <td>DAL2936</td>\n",
       "      <td>B712</td>\n",
       "      <td>15000.0</td>\n",
       "      <td>S19</td>\n",
       "      <td>Green</td>\n",
       "      <td>False</td>\n",
       "      <td>McCormick</td>\n",
       "      <td>South Carolina</td>\n",
       "    </tr>\n",
       "  </tbody>\n",
       "</table>\n",
       "</div>"
      ],
      "text/plain": [
       "      Incident Date Incident Time Flight ID Aircraft  Altitude Airport  \\\n",
       "12690    2018-08-15     24+29:614   DAL2936     B712   15000.0     S19   \n",
       "\n",
       "      Laser Color  Injury       City           State  \n",
       "12690       Green   False  McCormick  South Carolina  "
      ]
     },
     "execution_count": 33,
     "metadata": {},
     "output_type": "execute_result"
    }
   ],
   "source": [
    "# there are suspicious times\n",
    "laser_incidents.loc[laser_incidents[\"Incident Time\"].astype(\"string\").str.len() > 4]"
   ]
  },
  {
   "cell_type": "code",
   "execution_count": 34,
   "metadata": {
    "cell_id": "00220-3edc32ca-caf9-48d9-9c1a-007351fb935b",
    "deepnote_cell_type": "code",
    "deepnote_to_be_reexecuted": false,
    "execution_millis": 7,
    "execution_start": 1611489134875,
    "scrolled": true,
    "source_hash": "6fe340d7",
    "tags": []
   },
   "outputs": [],
   "source": [
    "# make the suspicious times NA\n",
    "laser_incidents.loc[laser_incidents[\"Incident Time\"].astype(\"string\").str.len() > 4, \"Incident Time\"] = pd.NA"
   ]
  },
  {
   "cell_type": "code",
   "execution_count": 36,
   "metadata": {
    "cell_id": "00221-cff81eda-7b03-4463-96ae-01f172961ecb",
    "deepnote_cell_type": "code",
    "deepnote_to_be_reexecuted": false,
    "execution_millis": 220,
    "execution_start": 1611489149238,
    "source_hash": "955363b4",
    "tags": []
   },
   "outputs": [
    {
     "ename": "UFuncTypeError",
     "evalue": "ufunc 'add' cannot use operands with types dtype('O') and dtype('<m8[ns]')",
     "output_type": "error",
     "traceback": [
      "\u001b[1;31m---------------------------------------------------------------------------\u001b[0m",
      "\u001b[1;31mUFuncTypeError\u001b[0m                            Traceback (most recent call last)",
      "\u001b[1;32m<ipython-input-36-f2343e08e9ce>\u001b[0m in \u001b[0;36m<module>\u001b[1;34m\u001b[0m\n\u001b[0;32m      1\u001b[0m \u001b[1;31m# using string manipulation and time deltas to construct full time stamps (date + time)\u001b[0m\u001b[1;33m\u001b[0m\u001b[1;33m\u001b[0m\u001b[1;33m\u001b[0m\u001b[0m\n\u001b[0;32m      2\u001b[0m laser_incidents = laser_incidents.assign(\n\u001b[1;32m----> 3\u001b[1;33m     \u001b[0mtimestamp\u001b[0m\u001b[1;33m=\u001b[0m\u001b[0mlaser_incidents\u001b[0m\u001b[1;33m[\u001b[0m\u001b[1;34m\"Incident Date\"\u001b[0m\u001b[1;33m]\u001b[0m\u001b[1;33m\u001b[0m\u001b[1;33m\u001b[0m\u001b[0m\n\u001b[0m\u001b[0;32m      4\u001b[0m     + pd.to_timedelta(\n\u001b[0;32m      5\u001b[0m         \u001b[0mlaser_incidents\u001b[0m\u001b[1;33m[\u001b[0m\u001b[1;34m\"Incident Time\"\u001b[0m\u001b[1;33m]\u001b[0m\u001b[1;33m.\u001b[0m\u001b[0mstr\u001b[0m\u001b[1;33m[\u001b[0m\u001b[1;33m:\u001b[0m\u001b[1;33m-\u001b[0m\u001b[1;36m2\u001b[0m\u001b[1;33m]\u001b[0m\u001b[1;33m\u001b[0m\u001b[1;33m\u001b[0m\u001b[0m\n",
      "\u001b[1;32m~\\Miniconda3\\lib\\site-packages\\pandas\\core\\ops\\common.py\u001b[0m in \u001b[0;36mnew_method\u001b[1;34m(self, other)\u001b[0m\n\u001b[0;32m     63\u001b[0m         \u001b[0mother\u001b[0m \u001b[1;33m=\u001b[0m \u001b[0mitem_from_zerodim\u001b[0m\u001b[1;33m(\u001b[0m\u001b[0mother\u001b[0m\u001b[1;33m)\u001b[0m\u001b[1;33m\u001b[0m\u001b[1;33m\u001b[0m\u001b[0m\n\u001b[0;32m     64\u001b[0m \u001b[1;33m\u001b[0m\u001b[0m\n\u001b[1;32m---> 65\u001b[1;33m         \u001b[1;32mreturn\u001b[0m \u001b[0mmethod\u001b[0m\u001b[1;33m(\u001b[0m\u001b[0mself\u001b[0m\u001b[1;33m,\u001b[0m \u001b[0mother\u001b[0m\u001b[1;33m)\u001b[0m\u001b[1;33m\u001b[0m\u001b[1;33m\u001b[0m\u001b[0m\n\u001b[0m\u001b[0;32m     66\u001b[0m \u001b[1;33m\u001b[0m\u001b[0m\n\u001b[0;32m     67\u001b[0m     \u001b[1;32mreturn\u001b[0m \u001b[0mnew_method\u001b[0m\u001b[1;33m\u001b[0m\u001b[1;33m\u001b[0m\u001b[0m\n",
      "\u001b[1;32m~\\Miniconda3\\lib\\site-packages\\pandas\\core\\ops\\__init__.py\u001b[0m in \u001b[0;36mwrapper\u001b[1;34m(left, right)\u001b[0m\n\u001b[0;32m    341\u001b[0m         \u001b[0mlvalues\u001b[0m \u001b[1;33m=\u001b[0m \u001b[0mextract_array\u001b[0m\u001b[1;33m(\u001b[0m\u001b[0mleft\u001b[0m\u001b[1;33m,\u001b[0m \u001b[0mextract_numpy\u001b[0m\u001b[1;33m=\u001b[0m\u001b[1;32mTrue\u001b[0m\u001b[1;33m)\u001b[0m\u001b[1;33m\u001b[0m\u001b[1;33m\u001b[0m\u001b[0m\n\u001b[0;32m    342\u001b[0m         \u001b[0mrvalues\u001b[0m \u001b[1;33m=\u001b[0m \u001b[0mextract_array\u001b[0m\u001b[1;33m(\u001b[0m\u001b[0mright\u001b[0m\u001b[1;33m,\u001b[0m \u001b[0mextract_numpy\u001b[0m\u001b[1;33m=\u001b[0m\u001b[1;32mTrue\u001b[0m\u001b[1;33m)\u001b[0m\u001b[1;33m\u001b[0m\u001b[1;33m\u001b[0m\u001b[0m\n\u001b[1;32m--> 343\u001b[1;33m         \u001b[0mresult\u001b[0m \u001b[1;33m=\u001b[0m \u001b[0marithmetic_op\u001b[0m\u001b[1;33m(\u001b[0m\u001b[0mlvalues\u001b[0m\u001b[1;33m,\u001b[0m \u001b[0mrvalues\u001b[0m\u001b[1;33m,\u001b[0m \u001b[0mop\u001b[0m\u001b[1;33m)\u001b[0m\u001b[1;33m\u001b[0m\u001b[1;33m\u001b[0m\u001b[0m\n\u001b[0m\u001b[0;32m    344\u001b[0m \u001b[1;33m\u001b[0m\u001b[0m\n\u001b[0;32m    345\u001b[0m         \u001b[1;32mreturn\u001b[0m \u001b[0mleft\u001b[0m\u001b[1;33m.\u001b[0m\u001b[0m_construct_result\u001b[0m\u001b[1;33m(\u001b[0m\u001b[0mresult\u001b[0m\u001b[1;33m,\u001b[0m \u001b[0mname\u001b[0m\u001b[1;33m=\u001b[0m\u001b[0mres_name\u001b[0m\u001b[1;33m)\u001b[0m\u001b[1;33m\u001b[0m\u001b[1;33m\u001b[0m\u001b[0m\n",
      "\u001b[1;32m~\\Miniconda3\\lib\\site-packages\\pandas\\core\\ops\\array_ops.py\u001b[0m in \u001b[0;36marithmetic_op\u001b[1;34m(left, right, op)\u001b[0m\n\u001b[0;32m    184\u001b[0m     \u001b[1;32mif\u001b[0m \u001b[0mshould_extension_dispatch\u001b[0m\u001b[1;33m(\u001b[0m\u001b[0mlvalues\u001b[0m\u001b[1;33m,\u001b[0m \u001b[0mrvalues\u001b[0m\u001b[1;33m)\u001b[0m \u001b[1;32mor\u001b[0m \u001b[0misinstance\u001b[0m\u001b[1;33m(\u001b[0m\u001b[0mrvalues\u001b[0m\u001b[1;33m,\u001b[0m \u001b[0mTimedelta\u001b[0m\u001b[1;33m)\u001b[0m\u001b[1;33m:\u001b[0m\u001b[1;33m\u001b[0m\u001b[1;33m\u001b[0m\u001b[0m\n\u001b[0;32m    185\u001b[0m         \u001b[1;31m# Timedelta is included because numexpr will fail on it, see GH#31457\u001b[0m\u001b[1;33m\u001b[0m\u001b[1;33m\u001b[0m\u001b[1;33m\u001b[0m\u001b[0m\n\u001b[1;32m--> 186\u001b[1;33m         \u001b[0mres_values\u001b[0m \u001b[1;33m=\u001b[0m \u001b[0mop\u001b[0m\u001b[1;33m(\u001b[0m\u001b[0mlvalues\u001b[0m\u001b[1;33m,\u001b[0m \u001b[0mrvalues\u001b[0m\u001b[1;33m)\u001b[0m\u001b[1;33m\u001b[0m\u001b[1;33m\u001b[0m\u001b[0m\n\u001b[0m\u001b[0;32m    187\u001b[0m \u001b[1;33m\u001b[0m\u001b[0m\n\u001b[0;32m    188\u001b[0m     \u001b[1;32melse\u001b[0m\u001b[1;33m:\u001b[0m\u001b[1;33m\u001b[0m\u001b[1;33m\u001b[0m\u001b[0m\n",
      "\u001b[1;32m~\\Miniconda3\\lib\\site-packages\\pandas\\core\\arrays\\string_.py\u001b[0m in \u001b[0;36mmethod\u001b[1;34m(self, other)\u001b[0m\n\u001b[0;32m    325\u001b[0m                 \u001b[0mresult\u001b[0m \u001b[1;33m=\u001b[0m \u001b[0mnp\u001b[0m\u001b[1;33m.\u001b[0m\u001b[0mempty_like\u001b[0m\u001b[1;33m(\u001b[0m\u001b[0mself\u001b[0m\u001b[1;33m.\u001b[0m\u001b[0m_ndarray\u001b[0m\u001b[1;33m,\u001b[0m \u001b[0mdtype\u001b[0m\u001b[1;33m=\u001b[0m\u001b[1;34m\"object\"\u001b[0m\u001b[1;33m)\u001b[0m\u001b[1;33m\u001b[0m\u001b[1;33m\u001b[0m\u001b[0m\n\u001b[0;32m    326\u001b[0m                 \u001b[0mresult\u001b[0m\u001b[1;33m[\u001b[0m\u001b[0mmask\u001b[0m\u001b[1;33m]\u001b[0m \u001b[1;33m=\u001b[0m \u001b[0mStringDtype\u001b[0m\u001b[1;33m.\u001b[0m\u001b[0mna_value\u001b[0m\u001b[1;33m\u001b[0m\u001b[1;33m\u001b[0m\u001b[0m\n\u001b[1;32m--> 327\u001b[1;33m                 \u001b[0mresult\u001b[0m\u001b[1;33m[\u001b[0m\u001b[0mvalid\u001b[0m\u001b[1;33m]\u001b[0m \u001b[1;33m=\u001b[0m \u001b[0mop\u001b[0m\u001b[1;33m(\u001b[0m\u001b[0mself\u001b[0m\u001b[1;33m.\u001b[0m\u001b[0m_ndarray\u001b[0m\u001b[1;33m[\u001b[0m\u001b[0mvalid\u001b[0m\u001b[1;33m]\u001b[0m\u001b[1;33m,\u001b[0m \u001b[0mother\u001b[0m\u001b[1;33m)\u001b[0m\u001b[1;33m\u001b[0m\u001b[1;33m\u001b[0m\u001b[0m\n\u001b[0m\u001b[0;32m    328\u001b[0m                 \u001b[1;32mreturn\u001b[0m \u001b[0mStringArray\u001b[0m\u001b[1;33m(\u001b[0m\u001b[0mresult\u001b[0m\u001b[1;33m)\u001b[0m\u001b[1;33m\u001b[0m\u001b[1;33m\u001b[0m\u001b[0m\n\u001b[0;32m    329\u001b[0m             \u001b[1;32melse\u001b[0m\u001b[1;33m:\u001b[0m\u001b[1;33m\u001b[0m\u001b[1;33m\u001b[0m\u001b[0m\n",
      "\u001b[1;31mUFuncTypeError\u001b[0m: ufunc 'add' cannot use operands with types dtype('O') and dtype('<m8[ns]')"
     ]
    }
   ],
   "source": [
    "# using string manipulation and time deltas to construct full time stamps (date + time)\n",
    "laser_incidents = laser_incidents.assign(\n",
    "    timestamp=laser_incidents[\"Incident Date\"]\n",
    "    + pd.to_timedelta(\n",
    "        laser_incidents[\"Incident Time\"].str[:-2]\n",
    "        + \"h\"\n",
    "        + laser_incidents[\"Incident Time\"].str[-2:]\n",
    "        + \"min\",\n",
    "        errors=\"coerce\",\n",
    "    )\n",
    ")"
   ]
  },
  {
   "cell_type": "code",
   "execution_count": null,
   "metadata": {
    "cell_id": "00222-9abed4ab-7401-4087-87be-84719ba4ef01",
    "deepnote_cell_type": "code",
    "deepnote_to_be_reexecuted": false,
    "execution_millis": 44,
    "execution_start": 1611489156361,
    "scrolled": true,
    "source_hash": "79ec277d",
    "tags": []
   },
   "outputs": [],
   "source": [
    "laser_incidents"
   ]
  },
  {
   "cell_type": "code",
   "execution_count": 143,
   "metadata": {
    "cell_id": "00223-f8a014e3-05b5-4aad-a946-9f9318503bcb",
    "deepnote_cell_type": "code",
    "deepnote_to_be_reexecuted": false,
    "execution_millis": 1,
    "execution_start": 1611489160868,
    "scrolled": true,
    "source_hash": "c825f3d4",
    "tags": []
   },
   "outputs": [
    {
     "ename": "NameError",
     "evalue": "name 'laser_incidents' is not defined",
     "output_type": "error",
     "traceback": [
      "\u001b[1;31m---------------------------------------------------------------------------\u001b[0m",
      "\u001b[1;31mNameError\u001b[0m                                 Traceback (most recent call last)",
      "\u001b[1;32m<ipython-input-143-e1af4fb84582>\u001b[0m in \u001b[0;36m<module>\u001b[1;34m\u001b[0m\n\u001b[1;32m----> 1\u001b[1;33m \u001b[0mlaser_incidents\u001b[0m\u001b[1;33m.\u001b[0m\u001b[0mdtypes\u001b[0m\u001b[1;33m\u001b[0m\u001b[1;33m\u001b[0m\u001b[0m\n\u001b[0m",
      "\u001b[1;31mNameError\u001b[0m: name 'laser_incidents' is not defined"
     ]
    }
   ],
   "source": [
    "laser_incidents.dtypes"
   ]
  },
  {
   "cell_type": "markdown",
   "metadata": {
    "cell_id": "00113-1fb498cd-b1b9-49c6-8cb5-235d5c4668f3",
    "deepnote_cell_type": "markdown"
   },
   "source": [
    "`describe` is often useful to get the basics statistics."
   ]
  },
  {
   "cell_type": "code",
   "execution_count": 28,
   "metadata": {
    "cell_id": "00114-8088cf8a-1e89-4038-b2a2-6b5c6421f1fb",
    "deepnote_cell_type": "code",
    "deepnote_to_be_reexecuted": false,
    "execution_millis": 123,
    "execution_start": 1611517493738,
    "source_hash": "be4eb1ee"
   },
   "outputs": [
    {
     "data": {
      "text/html": [
       "<div>\n",
       "<style scoped>\n",
       "    .dataframe tbody tr th:only-of-type {\n",
       "        vertical-align: middle;\n",
       "    }\n",
       "\n",
       "    .dataframe tbody tr th {\n",
       "        vertical-align: top;\n",
       "    }\n",
       "\n",
       "    .dataframe thead th {\n",
       "        text-align: right;\n",
       "    }\n",
       "</style>\n",
       "<table border=\"1\" class=\"dataframe\">\n",
       "  <thead>\n",
       "    <tr style=\"text-align: right;\">\n",
       "      <th></th>\n",
       "      <th>Unnamed: 0</th>\n",
       "      <th>Incident Date</th>\n",
       "      <th>Incident Time</th>\n",
       "      <th>Flight ID</th>\n",
       "      <th>Aircraft</th>\n",
       "      <th>Altitude</th>\n",
       "      <th>Airport</th>\n",
       "      <th>Laser Color</th>\n",
       "      <th>Injury</th>\n",
       "      <th>City</th>\n",
       "      <th>State</th>\n",
       "      <th>Aviation Altitude</th>\n",
       "      <th>State</th>\n",
       "      <th>Unnamed: 10</th>\n",
       "      <th>Unnamed: 11</th>\n",
       "    </tr>\n",
       "  </thead>\n",
       "  <tbody>\n",
       "    <tr>\n",
       "      <th>count</th>\n",
       "      <td>36463.000000</td>\n",
       "      <td>36463</td>\n",
       "      <td>36463</td>\n",
       "      <td>36451</td>\n",
       "      <td>36411</td>\n",
       "      <td>36452</td>\n",
       "      <td>36450</td>\n",
       "      <td>36461</td>\n",
       "      <td>36449</td>\n",
       "      <td>36460</td>\n",
       "      <td>29111</td>\n",
       "      <td>0.0</td>\n",
       "      <td>7346</td>\n",
       "      <td>0.0</td>\n",
       "      <td>8.00000</td>\n",
       "    </tr>\n",
       "    <tr>\n",
       "      <th>unique</th>\n",
       "      <td>NaN</td>\n",
       "      <td>2040</td>\n",
       "      <td>1109</td>\n",
       "      <td>24788</td>\n",
       "      <td>1731</td>\n",
       "      <td>383</td>\n",
       "      <td>2019</td>\n",
       "      <td>107</td>\n",
       "      <td>10</td>\n",
       "      <td>2254</td>\n",
       "      <td>98</td>\n",
       "      <td>NaN</td>\n",
       "      <td>70</td>\n",
       "      <td>NaN</td>\n",
       "      <td>NaN</td>\n",
       "    </tr>\n",
       "    <tr>\n",
       "      <th>top</th>\n",
       "      <td>NaN</td>\n",
       "      <td>2015-12-05</td>\n",
       "      <td>300</td>\n",
       "      <td>UNKN</td>\n",
       "      <td>B737</td>\n",
       "      <td>3000</td>\n",
       "      <td>LAX</td>\n",
       "      <td>Green</td>\n",
       "      <td>No</td>\n",
       "      <td>Phoenix</td>\n",
       "      <td>California</td>\n",
       "      <td>NaN</td>\n",
       "      <td>California</td>\n",
       "      <td>NaN</td>\n",
       "      <td>NaN</td>\n",
       "    </tr>\n",
       "    <tr>\n",
       "      <th>freq</th>\n",
       "      <td>NaN</td>\n",
       "      <td>62</td>\n",
       "      <td>292</td>\n",
       "      <td>49</td>\n",
       "      <td>3817</td>\n",
       "      <td>2516</td>\n",
       "      <td>988</td>\n",
       "      <td>32754</td>\n",
       "      <td>36066</td>\n",
       "      <td>1157</td>\n",
       "      <td>5707</td>\n",
       "      <td>NaN</td>\n",
       "      <td>1557</td>\n",
       "      <td>NaN</td>\n",
       "      <td>NaN</td>\n",
       "    </tr>\n",
       "    <tr>\n",
       "      <th>mean</th>\n",
       "      <td>18231.000000</td>\n",
       "      <td>NaN</td>\n",
       "      <td>NaN</td>\n",
       "      <td>NaN</td>\n",
       "      <td>NaN</td>\n",
       "      <td>NaN</td>\n",
       "      <td>NaN</td>\n",
       "      <td>NaN</td>\n",
       "      <td>NaN</td>\n",
       "      <td>NaN</td>\n",
       "      <td>NaN</td>\n",
       "      <td>NaN</td>\n",
       "      <td>NaN</td>\n",
       "      <td>NaN</td>\n",
       "      <td>123.12500</td>\n",
       "    </tr>\n",
       "    <tr>\n",
       "      <th>std</th>\n",
       "      <td>10526.105769</td>\n",
       "      <td>NaN</td>\n",
       "      <td>NaN</td>\n",
       "      <td>NaN</td>\n",
       "      <td>NaN</td>\n",
       "      <td>NaN</td>\n",
       "      <td>NaN</td>\n",
       "      <td>NaN</td>\n",
       "      <td>NaN</td>\n",
       "      <td>NaN</td>\n",
       "      <td>NaN</td>\n",
       "      <td>NaN</td>\n",
       "      <td>NaN</td>\n",
       "      <td>NaN</td>\n",
       "      <td>121.97592</td>\n",
       "    </tr>\n",
       "    <tr>\n",
       "      <th>min</th>\n",
       "      <td>0.000000</td>\n",
       "      <td>NaN</td>\n",
       "      <td>NaN</td>\n",
       "      <td>NaN</td>\n",
       "      <td>NaN</td>\n",
       "      <td>NaN</td>\n",
       "      <td>NaN</td>\n",
       "      <td>NaN</td>\n",
       "      <td>NaN</td>\n",
       "      <td>NaN</td>\n",
       "      <td>NaN</td>\n",
       "      <td>NaN</td>\n",
       "      <td>NaN</td>\n",
       "      <td>NaN</td>\n",
       "      <td>15.00000</td>\n",
       "    </tr>\n",
       "    <tr>\n",
       "      <th>25%</th>\n",
       "      <td>9115.500000</td>\n",
       "      <td>NaN</td>\n",
       "      <td>NaN</td>\n",
       "      <td>NaN</td>\n",
       "      <td>NaN</td>\n",
       "      <td>NaN</td>\n",
       "      <td>NaN</td>\n",
       "      <td>NaN</td>\n",
       "      <td>NaN</td>\n",
       "      <td>NaN</td>\n",
       "      <td>NaN</td>\n",
       "      <td>NaN</td>\n",
       "      <td>NaN</td>\n",
       "      <td>NaN</td>\n",
       "      <td>28.75000</td>\n",
       "    </tr>\n",
       "    <tr>\n",
       "      <th>50%</th>\n",
       "      <td>18231.000000</td>\n",
       "      <td>NaN</td>\n",
       "      <td>NaN</td>\n",
       "      <td>NaN</td>\n",
       "      <td>NaN</td>\n",
       "      <td>NaN</td>\n",
       "      <td>NaN</td>\n",
       "      <td>NaN</td>\n",
       "      <td>NaN</td>\n",
       "      <td>NaN</td>\n",
       "      <td>NaN</td>\n",
       "      <td>NaN</td>\n",
       "      <td>NaN</td>\n",
       "      <td>NaN</td>\n",
       "      <td>87.50000</td>\n",
       "    </tr>\n",
       "    <tr>\n",
       "      <th>75%</th>\n",
       "      <td>27346.500000</td>\n",
       "      <td>NaN</td>\n",
       "      <td>NaN</td>\n",
       "      <td>NaN</td>\n",
       "      <td>NaN</td>\n",
       "      <td>NaN</td>\n",
       "      <td>NaN</td>\n",
       "      <td>NaN</td>\n",
       "      <td>NaN</td>\n",
       "      <td>NaN</td>\n",
       "      <td>NaN</td>\n",
       "      <td>NaN</td>\n",
       "      <td>NaN</td>\n",
       "      <td>NaN</td>\n",
       "      <td>163.75000</td>\n",
       "    </tr>\n",
       "    <tr>\n",
       "      <th>max</th>\n",
       "      <td>36462.000000</td>\n",
       "      <td>NaN</td>\n",
       "      <td>NaN</td>\n",
       "      <td>NaN</td>\n",
       "      <td>NaN</td>\n",
       "      <td>NaN</td>\n",
       "      <td>NaN</td>\n",
       "      <td>NaN</td>\n",
       "      <td>NaN</td>\n",
       "      <td>NaN</td>\n",
       "      <td>NaN</td>\n",
       "      <td>NaN</td>\n",
       "      <td>NaN</td>\n",
       "      <td>NaN</td>\n",
       "      <td>335.00000</td>\n",
       "    </tr>\n",
       "  </tbody>\n",
       "</table>\n",
       "</div>"
      ],
      "text/plain": [
       "          Unnamed: 0 Incident Date Incident Time Flight ID Aircraft Altitude  \\\n",
       "count   36463.000000         36463         36463     36451    36411    36452   \n",
       "unique           NaN          2040          1109     24788     1731      383   \n",
       "top              NaN    2015-12-05           300      UNKN     B737     3000   \n",
       "freq             NaN            62           292        49     3817     2516   \n",
       "mean    18231.000000           NaN           NaN       NaN      NaN      NaN   \n",
       "std     10526.105769           NaN           NaN       NaN      NaN      NaN   \n",
       "min         0.000000           NaN           NaN       NaN      NaN      NaN   \n",
       "25%      9115.500000           NaN           NaN       NaN      NaN      NaN   \n",
       "50%     18231.000000           NaN           NaN       NaN      NaN      NaN   \n",
       "75%     27346.500000           NaN           NaN       NaN      NaN      NaN   \n",
       "max     36462.000000           NaN           NaN       NaN      NaN      NaN   \n",
       "\n",
       "       Airport Laser Color Injury     City       State  Aviation Altitude  \\\n",
       "count    36450       36461  36449    36460       29111                0.0   \n",
       "unique    2019         107     10     2254          98                NaN   \n",
       "top        LAX       Green     No  Phoenix  California                NaN   \n",
       "freq       988       32754  36066     1157        5707                NaN   \n",
       "mean       NaN         NaN    NaN      NaN         NaN                NaN   \n",
       "std        NaN         NaN    NaN      NaN         NaN                NaN   \n",
       "min        NaN         NaN    NaN      NaN         NaN                NaN   \n",
       "25%        NaN         NaN    NaN      NaN         NaN                NaN   \n",
       "50%        NaN         NaN    NaN      NaN         NaN                NaN   \n",
       "75%        NaN         NaN    NaN      NaN         NaN                NaN   \n",
       "max        NaN         NaN    NaN      NaN         NaN                NaN   \n",
       "\n",
       "            State   Unnamed: 10  Unnamed: 11  \n",
       "count         7346          0.0      8.00000  \n",
       "unique          70          NaN          NaN  \n",
       "top     California          NaN          NaN  \n",
       "freq          1557          NaN          NaN  \n",
       "mean           NaN          NaN    123.12500  \n",
       "std            NaN          NaN    121.97592  \n",
       "min            NaN          NaN     15.00000  \n",
       "25%            NaN          NaN     28.75000  \n",
       "50%            NaN          NaN     87.50000  \n",
       "75%            NaN          NaN    163.75000  \n",
       "max            NaN          NaN    335.00000  "
      ]
     },
     "execution_count": 28,
     "metadata": {},
     "output_type": "execute_result"
    }
   ],
   "source": [
    "laser_incidents.describe(include=\"all\")"
   ]
  },
  {
   "cell_type": "markdown",
   "metadata": {
    "cell_id": "00115-4234361c-224d-4559-8596-e66c23346c10",
    "deepnote_cell_type": "markdown"
   },
   "source": [
    "Notice that only some columns, to be procise columns with properly recognized numeric type, are reported."
   ]
  },
  {
   "cell_type": "markdown",
   "metadata": {
    "cell_id": "00116-c11f30a8-213d-43d0-a266-05c178f5bdb1",
    "deepnote_cell_type": "markdown"
   },
   "source": [
    "### Column data types"
   ]
  },
  {
   "cell_type": "code",
   "execution_count": 37,
   "metadata": {
    "cell_id": "00117-237b02ba-5c3b-4ca7-a109-e75fb9b59833",
    "deepnote_cell_type": "code",
    "deepnote_to_be_reexecuted": false,
    "execution_millis": 1,
    "execution_start": 1611517564704,
    "source_hash": "c825f3d4"
   },
   "outputs": [
    {
     "data": {
      "text/plain": [
       "Incident Date     string\n",
       "Incident Time     string\n",
       "Flight ID         string\n",
       "Aircraft          string\n",
       "Altitude         float64\n",
       "Airport           string\n",
       "Laser Color       string\n",
       "Injury           boolean\n",
       "City              string\n",
       "State             string\n",
       "dtype: object"
      ]
     },
     "execution_count": 37,
     "metadata": {},
     "output_type": "execute_result"
    }
   ],
   "source": [
    "laser_incidents.dtypes"
   ]
  },
  {
   "cell_type": "markdown",
   "metadata": {
    "cell_id": "00118-40976ed8-11f5-4d81-9edf-4ecbb8a509c2",
    "deepnote_cell_type": "markdown"
   },
   "source": [
    "Let's investigate some of the columns...\n",
    "\n",
    "To analyze **Laser Color**, we can look at its typical values."
   ]
  },
  {
   "cell_type": "code",
   "execution_count": 38,
   "metadata": {
    "cell_id": "00119-1185825a-60ae-4324-9791-75307c0c4d40",
    "deepnote_cell_type": "code",
    "deepnote_to_be_reexecuted": false,
    "execution_millis": 13,
    "execution_start": 1611500628329,
    "source_hash": "7a451c24"
   },
   "outputs": [
    {
     "data": {
      "text/plain": [
       "count     36461\n",
       "unique      107\n",
       "top       Green\n",
       "freq      32754\n",
       "Name: Laser Color, dtype: object"
      ]
     },
     "execution_count": 38,
     "metadata": {},
     "output_type": "execute_result"
    }
   ],
   "source": [
    "laser_incidents[\"Laser Color\"].describe()"
   ]
  },
  {
   "cell_type": "markdown",
   "metadata": {
    "cell_id": "00120-530cf793-62f5-4dc9-85d3-9322a290acda",
    "deepnote_cell_type": "markdown"
   },
   "source": [
    "Not too many different values."
   ]
  },
  {
   "cell_type": "code",
   "execution_count": 39,
   "metadata": {
    "cell_id": "00121-fc1d1882-0e50-4e84-81b5-b07428dcec93",
    "deepnote_cell_type": "code",
    "deepnote_to_be_reexecuted": false,
    "execution_millis": 1,
    "execution_start": 1611500644404,
    "source_hash": "bb7bc601"
   },
   "outputs": [
    {
     "data": {
      "text/plain": [
       "<StringArray>\n",
       "[           'Green',           'Purple',             'Blue',\n",
       "          'Unknown',              'Red',            'White',\n",
       "  'Green and White',  'White and Green', 'Green and Yellow',\n",
       "             'Red ',\n",
       " ...\n",
       "         'Red     ',          'Blue   ',     'Yellow-White',\n",
       "        'Red-Green',      'White-Green',      'Green      ',\n",
       "       'Blue      ',       'White-Blue',     'Red         ',\n",
       "        'White-Red']\n",
       "Length: 108, dtype: string"
      ]
     },
     "execution_count": 39,
     "metadata": {},
     "output_type": "execute_result"
    }
   ],
   "source": [
    "laser_incidents[\"Laser Color\"].unique()"
   ]
  },
  {
   "cell_type": "code",
   "execution_count": 40,
   "metadata": {
    "cell_id": "00122-71fc39cc-49e9-4fdf-a691-f327233079ec",
    "deepnote_cell_type": "code",
    "deepnote_to_be_reexecuted": false,
    "execution_millis": 1,
    "execution_start": 1611500682360,
    "scrolled": true,
    "source_hash": "e58027f8"
   },
   "outputs": [
    {
     "data": {
      "text/plain": [
       "Green                   0.898330\n",
       "Blue                    0.046159\n",
       "Red                     0.011272\n",
       "White                   0.009709\n",
       "UNKN                    0.009051\n",
       "                          ...   \n",
       "orange                  0.000027\n",
       "Red                     0.000027\n",
       "White-Red               0.000027\n",
       "Unkwn                   0.000027\n",
       "Red, Blue, and Green    0.000027\n",
       "Name: Laser Color, Length: 107, dtype: float64"
      ]
     },
     "execution_count": 40,
     "metadata": {},
     "output_type": "execute_result"
    }
   ],
   "source": [
    "laser_incidents[\"Laser Color\"].value_counts(normalize=True)"
   ]
  },
  {
   "cell_type": "markdown",
   "metadata": {
    "cell_id": "00123-029b8467-6cef-43db-b365-382cf1a7391a",
    "deepnote_cell_type": "markdown"
   },
   "source": [
    "This column is a very good candidate to turn into a pandas-special, **Categorical** data type. (See https://pandas.pydata.org/pandas-docs/stable/user_guide/categorical.html)"
   ]
  },
  {
   "cell_type": "code",
   "execution_count": 41,
   "metadata": {
    "cell_id": "00124-fd191f1d-375f-4f3f-a0c8-da2cc5a619cd",
    "deepnote_cell_type": "code",
    "deepnote_to_be_reexecuted": false,
    "execution_millis": 2,
    "execution_start": 1611516925979,
    "source_hash": "fd1c77fa"
   },
   "outputs": [
    {
     "data": {
      "text/plain": [
       "2261390"
      ]
     },
     "execution_count": 41,
     "metadata": {},
     "output_type": "execute_result"
    }
   ],
   "source": [
    "laser_incidents[\"Laser Color\"].memory_usage(deep=True)   # ~60 bytes per item"
   ]
  },
  {
   "cell_type": "code",
   "execution_count": 42,
   "metadata": {
    "cell_id": "00125-49305ac3-2935-4f85-960e-34417275872a",
    "deepnote_cell_type": "code",
    "deepnote_to_be_reexecuted": false,
    "execution_millis": 5,
    "execution_start": 1611500765377,
    "source_hash": "ac02b36b"
   },
   "outputs": [
    {
     "data": {
      "text/plain": [
       "8083     Green\n",
       "35275    Green\n",
       "4642     Green\n",
       "26125    Green\n",
       "9        Green\n",
       "30049    Green\n",
       "20755    Green\n",
       "26907    Green\n",
       "30806    Green\n",
       "5043     Green\n",
       "Name: Laser Color, dtype: category\n",
       "Categories (107, object): ['Amber', 'Blue', 'Blue ', 'Blue   ', ..., 'white', 'white and Blue', 'yellow', 'yellow/orange']"
      ]
     },
     "execution_count": 42,
     "metadata": {},
     "output_type": "execute_result"
    }
   ],
   "source": [
    "color_category = laser_incidents[\"Laser Color\"].astype(\"category\")\n",
    "color_category.sample(10)"
   ]
  },
  {
   "cell_type": "code",
   "execution_count": 43,
   "metadata": {
    "cell_id": "00126-c2413840-6826-454a-8c34-383331e41144",
    "deepnote_cell_type": "code",
    "deepnote_to_be_reexecuted": false,
    "execution_millis": 1,
    "execution_start": 1611516998492,
    "scrolled": false,
    "source_hash": "31548793"
   },
   "outputs": [
    {
     "data": {
      "text/plain": [
       "48904"
      ]
     },
     "execution_count": 43,
     "metadata": {},
     "output_type": "execute_result"
    }
   ],
   "source": [
    "color_category.memory_usage(deep=True)              # ~1-2 bytes per item"
   ]
  },
  {
   "cell_type": "markdown",
   "metadata": {
    "cell_id": "00127-ed3d49a2-d39b-4558-81cb-b7260f4c9ca8",
    "deepnote_cell_type": "markdown"
   },
   "source": [
    "**Exercise:** Remember that assigning or replacing a column inside a dataframe works the same way as setting a value inside a dict.\n",
    "Please, replace the original \"Laser Color\" column with the new Categorical series:"
   ]
  },
  {
   "cell_type": "markdown",
   "metadata": {
    "cell_id": "00128-322171db-56d4-43fe-bfbc-7d17ed3b7082",
    "deepnote_cell_type": "markdown"
   },
   "source": [
    "Pandas is generally quite good at guessing (inferring) number types. \n",
    "You may wonder why `startYear` is float and not int though. \n",
    "This is a consequence of not having an integer nan in numpy. There's been many discussions about this."
   ]
  },
  {
   "cell_type": "code",
   "execution_count": 44,
   "metadata": {
    "cell_id": "00129-af1ce659-ef22-4ba5-a25a-28421dfcf478",
    "deepnote_cell_type": "code",
    "deepnote_to_be_reexecuted": false,
    "execution_millis": 0,
    "execution_start": 1611517118032,
    "scrolled": true,
    "source_hash": "8bc46429"
   },
   "outputs": [
    {
     "data": {
      "text/plain": [
       "0         8500.0\n",
       "1        40000.0\n",
       "2         2500.0\n",
       "3         3000.0\n",
       "4        11000.0\n",
       "          ...   \n",
       "36458     8000.0\n",
       "36459    11000.0\n",
       "36460     2000.0\n",
       "36461      300.0\n",
       "36462     1000.0\n",
       "Name: Altitude, Length: 36463, dtype: float64"
      ]
     },
     "execution_count": 44,
     "metadata": {},
     "output_type": "execute_result"
    }
   ],
   "source": [
    "laser_incidents[\"Altitude\"]"
   ]
  },
  {
   "cell_type": "code",
   "execution_count": 45,
   "metadata": {
    "cell_id": "00130-75ec543c-44c3-4559-8383-2a2255de17f0",
    "deepnote_cell_type": "code",
    "scrolled": true
   },
   "outputs": [
    {
     "ename": "NameError",
     "evalue": "name 'imdb_titles' is not defined",
     "output_type": "error",
     "traceback": [
      "\u001b[1;31m---------------------------------------------------------------------------\u001b[0m",
      "\u001b[1;31mNameError\u001b[0m                                 Traceback (most recent call last)",
      "\u001b[1;32m<ipython-input-45-b63e3ee86711>\u001b[0m in \u001b[0;36m<module>\u001b[1;34m\u001b[0m\n\u001b[1;32m----> 1\u001b[1;33m \u001b[0mimdb_titles\u001b[0m\u001b[1;33m.\u001b[0m\u001b[0mstartYear\u001b[0m\u001b[1;33m.\u001b[0m\u001b[0mastype\u001b[0m\u001b[1;33m(\u001b[0m\u001b[0mint\u001b[0m\u001b[1;33m)\u001b[0m\u001b[1;33m\u001b[0m\u001b[1;33m\u001b[0m\u001b[0m\n\u001b[0m",
      "\u001b[1;31mNameError\u001b[0m: name 'imdb_titles' is not defined"
     ]
    }
   ],
   "source": [
    "imdb_titles.startYear.astype(int)"
   ]
  },
  {
   "cell_type": "code",
   "execution_count": 46,
   "metadata": {
    "cell_id": "00131-e63ba474-cb21-404b-96b2-09b7a189a4bb",
    "deepnote_cell_type": "code",
    "scrolled": true
   },
   "outputs": [
    {
     "ename": "NameError",
     "evalue": "name 'imdb_titles' is not defined",
     "output_type": "error",
     "traceback": [
      "\u001b[1;31m---------------------------------------------------------------------------\u001b[0m",
      "\u001b[1;31mNameError\u001b[0m                                 Traceback (most recent call last)",
      "\u001b[1;32m<ipython-input-46-0baa7bd9b963>\u001b[0m in \u001b[0;36m<module>\u001b[1;34m\u001b[0m\n\u001b[0;32m      1\u001b[0m \u001b[1;31m# To address that, pandas 0.24 Introduced nullable integers\u001b[0m\u001b[1;33m\u001b[0m\u001b[1;33m\u001b[0m\u001b[1;33m\u001b[0m\u001b[0m\n\u001b[1;32m----> 2\u001b[1;33m \u001b[0mimdb_titles\u001b[0m\u001b[1;33m.\u001b[0m\u001b[0mstartYear\u001b[0m\u001b[1;33m.\u001b[0m\u001b[0mastype\u001b[0m\u001b[1;33m(\u001b[0m\u001b[1;34m\"Int64\"\u001b[0m\u001b[1;33m)\u001b[0m\u001b[1;33m.\u001b[0m\u001b[0mtail\u001b[0m\u001b[1;33m(\u001b[0m\u001b[1;36m20\u001b[0m\u001b[1;33m)\u001b[0m\u001b[1;33m\u001b[0m\u001b[1;33m\u001b[0m\u001b[0m\n\u001b[0m",
      "\u001b[1;31mNameError\u001b[0m: name 'imdb_titles' is not defined"
     ]
    }
   ],
   "source": [
    "# To address that, pandas 0.24 Introduced nullable integers\n",
    "imdb_titles.startYear.astype(\"Int64\").tail(20)"
   ]
  },
  {
   "cell_type": "markdown",
   "metadata": {
    "cell_id": "00132-b2a25fe0-7a24-4da1-ad6a-a60fb3ce368f",
    "deepnote_cell_type": "markdown"
   },
   "source": [
    "### Filtering\n",
    "\n",
    "Indexing in pandas Series / DataFrames (`[]`) support also boolean (masked) arrays. These arrays can be obtained by applying boolean operations on them.\n",
    "\n",
    "You can also use standard **comparison operators** like `<`, `<=`, `==`, `>=`, `>`, `!=`. \n",
    "\n",
    "It is possible to perform **logical operators** with boolean series too. But note that `and`, `or`, `not` are keywords. You \n",
    "\n",
    "As an example, find all movies!"
   ]
  },
  {
   "cell_type": "code",
   "execution_count": 76,
   "metadata": {
    "cell_id": "00133-8752eece-4640-482d-b740-1865e8f9545f",
    "deepnote_cell_type": "code"
   },
   "outputs": [
    {
     "ename": "NameError",
     "evalue": "name 'imdb_titles' is not defined",
     "output_type": "error",
     "traceback": [
      "\u001b[1;31m---------------------------------------------------------------------------\u001b[0m",
      "\u001b[1;31mNameError\u001b[0m                                 Traceback (most recent call last)",
      "\u001b[1;32m<ipython-input-76-da7b9abaabee>\u001b[0m in \u001b[0;36m<module>\u001b[1;34m\u001b[0m\n\u001b[1;32m----> 1\u001b[1;33m \u001b[0mis_movie\u001b[0m \u001b[1;33m=\u001b[0m \u001b[1;33m(\u001b[0m\u001b[0mimdb_titles\u001b[0m\u001b[1;33m.\u001b[0m\u001b[0mtitleType\u001b[0m \u001b[1;33m==\u001b[0m \u001b[1;34m\"movie\"\u001b[0m\u001b[1;33m)\u001b[0m\u001b[1;33m\u001b[0m\u001b[1;33m\u001b[0m\u001b[0m\n\u001b[0m\u001b[0;32m      2\u001b[0m \u001b[0mis_movie\u001b[0m\u001b[1;33m.\u001b[0m\u001b[0msample\u001b[0m\u001b[1;33m(\u001b[0m\u001b[1;36m10\u001b[0m\u001b[1;33m)\u001b[0m\u001b[1;33m\u001b[0m\u001b[1;33m\u001b[0m\u001b[0m\n",
      "\u001b[1;31mNameError\u001b[0m: name 'imdb_titles' is not defined"
     ]
    }
   ],
   "source": [
    "is_movie = (imdb_titles.titleType == \"movie\")\n",
    "is_movie.sample(10)"
   ]
  },
  {
   "cell_type": "markdown",
   "metadata": {
    "cell_id": "00134-292a372c-6fa0-4fb7-beed-a676584f7161",
    "deepnote_cell_type": "markdown"
   },
   "source": [
    "Now we can directly apply the boolean mask. (Note: This is no magic. You can construct the mask yourself)"
   ]
  },
  {
   "cell_type": "code",
   "execution_count": 77,
   "metadata": {
    "cell_id": "00135-06d17dd7-36b4-41f5-86a0-50e90566c04b",
    "deepnote_cell_type": "code"
   },
   "outputs": [
    {
     "ename": "NameError",
     "evalue": "name 'imdb_titles' is not defined",
     "output_type": "error",
     "traceback": [
      "\u001b[1;31m---------------------------------------------------------------------------\u001b[0m",
      "\u001b[1;31mNameError\u001b[0m                                 Traceback (most recent call last)",
      "\u001b[1;32m<ipython-input-77-7fa57c75b0af>\u001b[0m in \u001b[0;36m<module>\u001b[1;34m\u001b[0m\n\u001b[1;32m----> 1\u001b[1;33m \u001b[0mimdb_titles\u001b[0m\u001b[1;33m[\u001b[0m\u001b[0mis_movie\u001b[0m\u001b[1;33m]\u001b[0m\u001b[1;33m.\u001b[0m\u001b[0msample\u001b[0m\u001b[1;33m(\u001b[0m\u001b[1;36m10\u001b[0m\u001b[1;33m)\u001b[0m\u001b[1;33m\u001b[0m\u001b[1;33m\u001b[0m\u001b[0m\n\u001b[0m",
      "\u001b[1;31mNameError\u001b[0m: name 'imdb_titles' is not defined"
     ]
    }
   ],
   "source": [
    "imdb_titles[is_movie].sample(10)"
   ]
  },
  {
   "cell_type": "markdown",
   "metadata": {
    "cell_id": "00136-34b33725-4010-4b87-9c80-9a83353feebb",
    "deepnote_cell_type": "markdown"
   },
   "source": [
    "Or maybe we should include TV movies as well?"
   ]
  },
  {
   "cell_type": "code",
   "execution_count": 78,
   "metadata": {
    "cell_id": "00137-e0dd79ab-d7dc-4122-a338-f11a93e60cd1",
    "deepnote_cell_type": "code"
   },
   "outputs": [
    {
     "ename": "NameError",
     "evalue": "name 'imdb_titles' is not defined",
     "output_type": "error",
     "traceback": [
      "\u001b[1;31m---------------------------------------------------------------------------\u001b[0m",
      "\u001b[1;31mNameError\u001b[0m                                 Traceback (most recent call last)",
      "\u001b[1;32m<ipython-input-78-ff7f51c8134c>\u001b[0m in \u001b[0;36m<module>\u001b[1;34m\u001b[0m\n\u001b[0;32m      1\u001b[0m \u001b[1;31m# isin takes an array of possible values\u001b[0m\u001b[1;33m\u001b[0m\u001b[1;33m\u001b[0m\u001b[1;33m\u001b[0m\u001b[0m\n\u001b[1;32m----> 2\u001b[1;33m \u001b[0mmovie_titles\u001b[0m \u001b[1;33m=\u001b[0m \u001b[0mimdb_titles\u001b[0m\u001b[1;33m[\u001b[0m\u001b[0mimdb_titles\u001b[0m\u001b[1;33m.\u001b[0m\u001b[0mtitleType\u001b[0m\u001b[1;33m.\u001b[0m\u001b[0misin\u001b[0m\u001b[1;33m(\u001b[0m\u001b[1;33m[\u001b[0m\u001b[1;34m\"movie\"\u001b[0m\u001b[1;33m,\u001b[0m \u001b[1;34m\"tvMovie\"\u001b[0m\u001b[1;33m]\u001b[0m\u001b[1;33m)\u001b[0m\u001b[1;33m]\u001b[0m\u001b[1;33m\u001b[0m\u001b[1;33m\u001b[0m\u001b[0m\n\u001b[0m\u001b[0;32m      3\u001b[0m \u001b[0mmovie_titles\u001b[0m\u001b[1;33m.\u001b[0m\u001b[0msample\u001b[0m\u001b[1;33m(\u001b[0m\u001b[1;36m10\u001b[0m\u001b[1;33m)\u001b[0m\u001b[1;33m\u001b[0m\u001b[1;33m\u001b[0m\u001b[0m\n",
      "\u001b[1;31mNameError\u001b[0m: name 'imdb_titles' is not defined"
     ]
    }
   ],
   "source": [
    "# isin takes an array of possible values\n",
    "movie_titles = imdb_titles[imdb_titles.titleType.isin([\"movie\", \"tvMovie\"])]\n",
    "movie_titles.sample(10)"
   ]
  },
  {
   "cell_type": "markdown",
   "metadata": {
    "cell_id": "00138-73613336-e247-445e-959e-eb002d010e7b",
    "deepnote_cell_type": "markdown"
   },
   "source": [
    "We may wonder why we have two title-ish columns: originalTitle and primaryTitle."
   ]
  },
  {
   "cell_type": "code",
   "execution_count": 79,
   "metadata": {
    "cell_id": "00139-a4e250f7-321d-49b6-bcff-d8b255573dce",
    "deepnote_cell_type": "code"
   },
   "outputs": [
    {
     "ename": "NameError",
     "evalue": "name 'movie_titles' is not defined",
     "output_type": "error",
     "traceback": [
      "\u001b[1;31m---------------------------------------------------------------------------\u001b[0m",
      "\u001b[1;31mNameError\u001b[0m                                 Traceback (most recent call last)",
      "\u001b[1;32m<ipython-input-79-5bbd7f3feb5e>\u001b[0m in \u001b[0;36m<module>\u001b[1;34m\u001b[0m\n\u001b[1;32m----> 1\u001b[1;33m \u001b[0mdifferent_title\u001b[0m \u001b[1;33m=\u001b[0m \u001b[1;33m(\u001b[0m\u001b[0mmovie_titles\u001b[0m\u001b[1;33m.\u001b[0m\u001b[0moriginalTitle\u001b[0m \u001b[1;33m!=\u001b[0m \u001b[0mmovie_titles\u001b[0m\u001b[1;33m.\u001b[0m\u001b[0mprimaryTitle\u001b[0m\u001b[1;33m)\u001b[0m\u001b[1;33m\u001b[0m\u001b[1;33m\u001b[0m\u001b[0m\n\u001b[0m\u001b[0;32m      2\u001b[0m \u001b[0mdifferent_title\u001b[0m\u001b[1;33m.\u001b[0m\u001b[0mname\u001b[0m \u001b[1;33m=\u001b[0m \u001b[1;34m\"Different title\"\u001b[0m   \u001b[1;31m# Series can have names (Note: DataFrames can't)\u001b[0m\u001b[1;33m\u001b[0m\u001b[1;33m\u001b[0m\u001b[0m\n\u001b[0;32m      3\u001b[0m \u001b[0mdifferent_title\u001b[0m\u001b[1;33m.\u001b[0m\u001b[0mvalue_counts\u001b[0m\u001b[1;33m(\u001b[0m\u001b[1;33m)\u001b[0m\u001b[1;33m\u001b[0m\u001b[1;33m\u001b[0m\u001b[0m\n",
      "\u001b[1;31mNameError\u001b[0m: name 'movie_titles' is not defined"
     ]
    }
   ],
   "source": [
    "different_title = (movie_titles.originalTitle != movie_titles.primaryTitle)\n",
    "different_title.name = \"Different title\"   # Series can have names (Note: DataFrames can't)\n",
    "different_title.value_counts()"
   ]
  },
  {
   "cell_type": "markdown",
   "metadata": {
    "cell_id": "00140-aa930bf4-8a66-4c8d-99b2-35dfcbc7fdba",
    "deepnote_cell_type": "markdown"
   },
   "source": [
    "### Visualization intermezzo\n",
    "\n",
    "Without much further ado, let's create our first plot."
   ]
  },
  {
   "cell_type": "code",
   "execution_count": 80,
   "metadata": {
    "cell_id": "00141-bb2545a7-a777-4bfb-9062-79a61293ea08",
    "deepnote_cell_type": "code"
   },
   "outputs": [
    {
     "ename": "NameError",
     "evalue": "name 'different_title' is not defined",
     "output_type": "error",
     "traceback": [
      "\u001b[1;31m---------------------------------------------------------------------------\u001b[0m",
      "\u001b[1;31mNameError\u001b[0m                                 Traceback (most recent call last)",
      "\u001b[1;32m<ipython-input-80-105c87c1402d>\u001b[0m in \u001b[0;36m<module>\u001b[1;34m\u001b[0m\n\u001b[1;32m----> 1\u001b[1;33m \u001b[0mdifferent_title\u001b[0m\u001b[1;33m.\u001b[0m\u001b[0mvalue_counts\u001b[0m\u001b[1;33m(\u001b[0m\u001b[1;33m)\u001b[0m\u001b[1;33m.\u001b[0m\u001b[0mplot\u001b[0m\u001b[1;33m(\u001b[0m\u001b[0mkind\u001b[0m\u001b[1;33m=\u001b[0m\u001b[1;34m\"bar\"\u001b[0m\u001b[1;33m)\u001b[0m\u001b[1;33m\u001b[0m\u001b[1;33m\u001b[0m\u001b[0m\n\u001b[0m",
      "\u001b[1;31mNameError\u001b[0m: name 'different_title' is not defined"
     ]
    }
   ],
   "source": [
    "different_title.value_counts().plot(kind=\"bar\")"
   ]
  },
  {
   "cell_type": "markdown",
   "metadata": {
    "cell_id": "00142-fc672ea8-b991-4de4-93eb-5290fcb8547c",
    "deepnote_cell_type": "markdown"
   },
   "source": [
    "We may also want to get rid of wrong / incomplete data."
   ]
  },
  {
   "cell_type": "code",
   "execution_count": 81,
   "metadata": {
    "cell_id": "00143-4f1e1e80-71a5-44fd-bc1e-f7ef77e55efd",
    "deepnote_cell_type": "code"
   },
   "outputs": [
    {
     "ename": "NameError",
     "evalue": "name 'imdb_titles' is not defined",
     "output_type": "error",
     "traceback": [
      "\u001b[1;31m---------------------------------------------------------------------------\u001b[0m",
      "\u001b[1;31mNameError\u001b[0m                                 Traceback (most recent call last)",
      "\u001b[1;32m<ipython-input-81-725ee97454eb>\u001b[0m in \u001b[0;36m<module>\u001b[1;34m\u001b[0m\n\u001b[0;32m      1\u001b[0m \u001b[1;31m# Movies from the future?\u001b[0m\u001b[1;33m\u001b[0m\u001b[1;33m\u001b[0m\u001b[1;33m\u001b[0m\u001b[0m\n\u001b[1;32m----> 2\u001b[1;33m \u001b[0mimdb_titles\u001b[0m\u001b[1;33m[\u001b[0m\u001b[0mimdb_titles\u001b[0m\u001b[1;33m.\u001b[0m\u001b[0mstartYear\u001b[0m \u001b[1;33m>\u001b[0m \u001b[1;36m2019\u001b[0m\u001b[1;33m]\u001b[0m\u001b[1;33m.\u001b[0m\u001b[0mstartYear\u001b[0m\u001b[1;33m.\u001b[0m\u001b[0mvalue_counts\u001b[0m\u001b[1;33m(\u001b[0m\u001b[1;33m)\u001b[0m\u001b[1;33m\u001b[0m\u001b[1;33m\u001b[0m\u001b[0m\n\u001b[0m",
      "\u001b[1;31mNameError\u001b[0m: name 'imdb_titles' is not defined"
     ]
    }
   ],
   "source": [
    "# Movies from the future?\n",
    "imdb_titles[imdb_titles.startYear > 2019].startYear.value_counts()"
   ]
  },
  {
   "cell_type": "code",
   "execution_count": 82,
   "metadata": {
    "cell_id": "00144-6a0d1849-260c-421d-b1d1-d636fbe1871b",
    "deepnote_cell_type": "code"
   },
   "outputs": [
    {
     "ename": "NameError",
     "evalue": "name 'imdb_titles' is not defined",
     "output_type": "error",
     "traceback": [
      "\u001b[1;31m---------------------------------------------------------------------------\u001b[0m",
      "\u001b[1;31mNameError\u001b[0m                                 Traceback (most recent call last)",
      "\u001b[1;32m<ipython-input-82-7a7a77a28ed3>\u001b[0m in \u001b[0;36m<module>\u001b[1;34m\u001b[0m\n\u001b[0;32m      1\u001b[0m \u001b[1;31m# Movies with startYear undefined\u001b[0m\u001b[1;33m\u001b[0m\u001b[1;33m\u001b[0m\u001b[1;33m\u001b[0m\u001b[0m\n\u001b[1;32m----> 2\u001b[1;33m \u001b[0mimdb_titles\u001b[0m\u001b[1;33m[\u001b[0m\u001b[0mimdb_titles\u001b[0m\u001b[1;33m.\u001b[0m\u001b[0mstartYear\u001b[0m\u001b[1;33m.\u001b[0m\u001b[0misna\u001b[0m\u001b[1;33m(\u001b[0m\u001b[1;33m)\u001b[0m\u001b[1;33m]\u001b[0m\u001b[1;33m.\u001b[0m\u001b[0mhead\u001b[0m\u001b[1;33m(\u001b[0m\u001b[1;33m)\u001b[0m\u001b[1;33m\u001b[0m\u001b[1;33m\u001b[0m\u001b[0m\n\u001b[0m",
      "\u001b[1;31mNameError\u001b[0m: name 'imdb_titles' is not defined"
     ]
    }
   ],
   "source": [
    "# Movies with startYear undefined\n",
    "imdb_titles[imdb_titles.startYear.isna()].head()"
   ]
  },
  {
   "cell_type": "markdown",
   "metadata": {
    "cell_id": "00145-357fc1a3-0b2c-40ec-aba9-b80b4ed61f0c",
    "deepnote_cell_type": "markdown"
   },
   "source": [
    "**Exercise:** Use the `imdb_titles.startYear > 2019` filter and `dropna` method to get rid of rows with wrong / undefined years."
   ]
  },
  {
   "cell_type": "code",
   "execution_count": 87,
   "metadata": {
    "cell_id": "00146-e6e69fcf-9af4-4805-9d4f-6e9c106c9405",
    "deepnote_cell_type": "code"
   },
   "outputs": [
    {
     "name": "stderr",
     "output_type": "stream",
     "text": [
      "UsageError: Line magic function `%exercise` not found.\n"
     ]
    }
   ],
   "source": [
    "%exercise\n",
    "\n",
    "imdb_correct_titles = imdb_titles[___].dropna(subset=___)"
   ]
  },
  {
   "cell_type": "code",
   "execution_count": 88,
   "metadata": {
    "cell_id": "00147-4b77359f-215d-4054-be16-884f701fcfe1",
    "deepnote_cell_type": "code"
   },
   "outputs": [
    {
     "name": "stderr",
     "output_type": "stream",
     "text": [
      "UsageError: Line magic function `%validate` not found.\n"
     ]
    }
   ],
   "source": [
    "%validate\n",
    "\n",
    "assert not (imdb_correct_titles.startYear > 2019).any()\n",
    "assert not imdb_correct_titles.startYear.isna().any()\n",
    "assert imdb_correct_titles.shape == (1694587, 9)"
   ]
  },
  {
   "cell_type": "markdown",
   "metadata": {
    "cell_id": "00148-050a199b-bd2e-4d02-b4c6-e1ea414de289",
    "deepnote_cell_type": "markdown"
   },
   "source": [
    "**Exercise:** Drop `titleType` and `endYear` columns and rows with `NaN` values (use `dropna`)."
   ]
  },
  {
   "cell_type": "code",
   "execution_count": 89,
   "metadata": {
    "cell_id": "00149-2ffb907c-19d1-4dc5-832a-da89d3b54f88",
    "deepnote_cell_type": "code"
   },
   "outputs": [
    {
     "name": "stderr",
     "output_type": "stream",
     "text": [
      "UsageError: Line magic function `%exercise` not found.\n"
     ]
    }
   ],
   "source": [
    "%exercise\n",
    "\n",
    "movie_titles = (movie_titles\n",
    "                .drop(columns=___)\n",
    "                .___\n",
    "                )"
   ]
  },
  {
   "cell_type": "markdown",
   "metadata": {
    "cell_id": "00151-73214bfe-e291-4213-97d5-14bdbd713252",
    "deepnote_cell_type": "markdown"
   },
   "source": [
    "## Sorting"
   ]
  },
  {
   "cell_type": "code",
   "execution_count": 91,
   "metadata": {
    "cell_id": "00152-cec80388-3999-45b7-9206-2470ba4bb2f5",
    "deepnote_cell_type": "code"
   },
   "outputs": [
    {
     "ename": "NameError",
     "evalue": "name 'movie_titles' is not defined",
     "output_type": "error",
     "traceback": [
      "\u001b[1;31m---------------------------------------------------------------------------\u001b[0m",
      "\u001b[1;31mNameError\u001b[0m                                 Traceback (most recent call last)",
      "\u001b[1;32m<ipython-input-91-3fa52fb4b495>\u001b[0m in \u001b[0;36m<module>\u001b[1;34m\u001b[0m\n\u001b[0;32m      1\u001b[0m \u001b[1;31m# Display 5 longest movies\u001b[0m\u001b[1;33m\u001b[0m\u001b[1;33m\u001b[0m\u001b[1;33m\u001b[0m\u001b[0m\n\u001b[1;32m----> 2\u001b[1;33m \u001b[0mmovie_titles\u001b[0m\u001b[1;33m.\u001b[0m\u001b[0msort_values\u001b[0m\u001b[1;33m(\u001b[0m\u001b[1;34m\"runtimeMinutes\"\u001b[0m\u001b[1;33m,\u001b[0m \u001b[0mascending\u001b[0m\u001b[1;33m=\u001b[0m\u001b[1;32mFalse\u001b[0m\u001b[1;33m)\u001b[0m\u001b[1;33m.\u001b[0m\u001b[0mhead\u001b[0m\u001b[1;33m(\u001b[0m\u001b[1;33m)\u001b[0m\u001b[1;33m\u001b[0m\u001b[1;33m\u001b[0m\u001b[0m\n\u001b[0m",
      "\u001b[1;31mNameError\u001b[0m: name 'movie_titles' is not defined"
     ]
    }
   ],
   "source": [
    "# Display 5 longest movies \n",
    "movie_titles.sort_values(\"runtimeMinutes\", ascending=False).head()"
   ]
  },
  {
   "cell_type": "markdown",
   "metadata": {
    "cell_id": "00153-7c526e64-b10f-4e7c-97d5-83f9d88ce67b",
    "deepnote_cell_type": "markdown"
   },
   "source": [
    "Hmm, let's look at *Modern Times Forever* - an apt title :)"
   ]
  },
  {
   "cell_type": "code",
   "execution_count": 92,
   "metadata": {
    "cell_id": "00154-61d55a72-6f7e-44fb-b4f4-5195846e2766",
    "deepnote_cell_type": "code"
   },
   "outputs": [
    {
     "ename": "NameError",
     "evalue": "name 'IFrame' is not defined",
     "output_type": "error",
     "traceback": [
      "\u001b[1;31m---------------------------------------------------------------------------\u001b[0m",
      "\u001b[1;31mNameError\u001b[0m                                 Traceback (most recent call last)",
      "\u001b[1;32m<ipython-input-92-fe94db4fdecd>\u001b[0m in \u001b[0;36m<module>\u001b[1;34m\u001b[0m\n\u001b[1;32m----> 1\u001b[1;33m IFrame(\n\u001b[0m\u001b[0;32m      2\u001b[0m     \u001b[0msrc\u001b[0m\u001b[1;33m=\u001b[0m\u001b[1;34m\"https://en.wikipedia.org/wiki/Modern_Times_Forever_(Stora_Enso_Building,_Helsinki)\"\u001b[0m\u001b[1;33m,\u001b[0m\u001b[1;33m\u001b[0m\u001b[1;33m\u001b[0m\u001b[0m\n\u001b[0;32m      3\u001b[0m     \u001b[0mwidth\u001b[0m\u001b[1;33m=\u001b[0m\u001b[1;36m900\u001b[0m\u001b[1;33m,\u001b[0m\u001b[1;33m\u001b[0m\u001b[1;33m\u001b[0m\u001b[0m\n\u001b[0;32m      4\u001b[0m     \u001b[0mheight\u001b[0m\u001b[1;33m=\u001b[0m\u001b[1;36m400\u001b[0m\u001b[1;33m,\u001b[0m\u001b[1;33m\u001b[0m\u001b[1;33m\u001b[0m\u001b[0m\n\u001b[0;32m      5\u001b[0m )\n",
      "\u001b[1;31mNameError\u001b[0m: name 'IFrame' is not defined"
     ]
    }
   ],
   "source": [
    "IFrame(\n",
    "    src=\"https://en.wikipedia.org/wiki/Modern_Times_Forever_(Stora_Enso_Building,_Helsinki)\",\n",
    "    width=900,\n",
    "    height=400,\n",
    ")"
   ]
  },
  {
   "cell_type": "code",
   "execution_count": 93,
   "metadata": {
    "cell_id": "00155-56db32fd-12d9-485b-9dc8-4393d81beb0d",
    "deepnote_cell_type": "code"
   },
   "outputs": [
    {
     "ename": "NameError",
     "evalue": "name 'movie_titles' is not defined",
     "output_type": "error",
     "traceback": [
      "\u001b[1;31m---------------------------------------------------------------------------\u001b[0m",
      "\u001b[1;31mNameError\u001b[0m                                 Traceback (most recent call last)",
      "\u001b[1;32m<ipython-input-93-86b60488b899>\u001b[0m in \u001b[0;36m<module>\u001b[1;34m\u001b[0m\n\u001b[0;32m      1\u001b[0m \u001b[1;31m# Alternative\u001b[0m\u001b[1;33m\u001b[0m\u001b[1;33m\u001b[0m\u001b[1;33m\u001b[0m\u001b[0m\n\u001b[1;32m----> 2\u001b[1;33m \u001b[0mmovie_titles\u001b[0m\u001b[1;33m.\u001b[0m\u001b[0mnlargest\u001b[0m\u001b[1;33m(\u001b[0m\u001b[1;36m5\u001b[0m\u001b[1;33m,\u001b[0m \u001b[1;34m\"runtimeMinutes\"\u001b[0m\u001b[1;33m)\u001b[0m\u001b[1;33m\u001b[0m\u001b[1;33m\u001b[0m\u001b[0m\n\u001b[0m",
      "\u001b[1;31mNameError\u001b[0m: name 'movie_titles' is not defined"
     ]
    }
   ],
   "source": [
    "# Alternative\n",
    "movie_titles.nlargest(5, \"runtimeMinutes\")"
   ]
  },
  {
   "cell_type": "markdown",
   "metadata": {
    "cell_id": "00156-3f27c790-049f-4d99-aa4e-032acaf43cdc",
    "deepnote_cell_type": "markdown"
   },
   "source": [
    "**Exercise:** Find the 10 oldest movies that are longer than 2 hours"
   ]
  },
  {
   "cell_type": "code",
   "execution_count": 94,
   "metadata": {
    "cell_id": "00157-ec6b22c9-6a61-43f7-bce3-429ef78a4d53",
    "deepnote_cell_type": "code"
   },
   "outputs": [
    {
     "name": "stderr",
     "output_type": "stream",
     "text": [
      "UsageError: Line magic function `%exercise` not found.\n"
     ]
    }
   ],
   "source": [
    "%exercise\n",
    "\n",
    "result = movie_titles[___].___(___, ___)\n",
    "result"
   ]
  },
  {
   "cell_type": "code",
   "execution_count": 95,
   "metadata": {
    "cell_id": "00158-28cf3f90-af81-4548-8513-cfe2879c5e21",
    "deepnote_cell_type": "code"
   },
   "outputs": [
    {
     "name": "stderr",
     "output_type": "stream",
     "text": [
      "UsageError: Line magic function `%validate` not found.\n"
     ]
    }
   ],
   "source": [
    "%validate\n",
    "\n",
    "assert result.iloc[9][\"startYear\"] == 1914"
   ]
  },
  {
   "cell_type": "code",
   "execution_count": 96,
   "metadata": {
    "cell_id": "00159-fd48d393-0d60-403d-84a9-2858083a35f1",
    "deepnote_cell_type": "code"
   },
   "outputs": [
    {
     "ename": "NameError",
     "evalue": "name 'movie_titles' is not defined",
     "output_type": "error",
     "traceback": [
      "\u001b[1;31m---------------------------------------------------------------------------\u001b[0m",
      "\u001b[1;31mNameError\u001b[0m                                 Traceback (most recent call last)",
      "\u001b[1;32m<ipython-input-96-1c02086518d4>\u001b[0m in \u001b[0;36m<module>\u001b[1;34m\u001b[0m\n\u001b[1;32m----> 1\u001b[1;33m \u001b[0mmovie_titles\u001b[0m\u001b[1;33m[\u001b[0m\u001b[1;33m(\u001b[0m\u001b[0mmovie_titles\u001b[0m\u001b[1;33m[\u001b[0m\u001b[1;34m\"primaryTitle\"\u001b[0m\u001b[1;33m]\u001b[0m\u001b[1;33m.\u001b[0m\u001b[0mstr\u001b[0m\u001b[1;33m.\u001b[0m\u001b[0mstartswith\u001b[0m\u001b[1;33m(\u001b[0m\u001b[1;34m\"Indiana Jones\"\u001b[0m\u001b[1;33m)\u001b[0m\u001b[1;33m)\u001b[0m \u001b[1;33m&\u001b[0m \u001b[1;33m(\u001b[0m\u001b[0mmovie_titles\u001b[0m\u001b[1;33m[\u001b[0m\u001b[1;34m\"titleType\"\u001b[0m\u001b[1;33m]\u001b[0m \u001b[1;33m==\u001b[0m \u001b[1;34m\"movie\"\u001b[0m\u001b[1;33m)\u001b[0m\u001b[1;33m]\u001b[0m\u001b[1;33m\u001b[0m\u001b[1;33m\u001b[0m\u001b[0m\n\u001b[0m",
      "\u001b[1;31mNameError\u001b[0m: name 'movie_titles' is not defined"
     ]
    }
   ],
   "source": [
    "movie_titles[(movie_titles[\"primaryTitle\"].str.startswith(\"Indiana Jones\")) & (movie_titles[\"titleType\"] == \"movie\")]"
   ]
  },
  {
   "cell_type": "markdown",
   "metadata": {
    "cell_id": "00160-e3c9a342-9395-4fd6-9012-e55cf5c755bc",
    "deepnote_cell_type": "markdown"
   },
   "source": [
    "## Arithmetics and string manipulation"
   ]
  },
  {
   "cell_type": "markdown",
   "metadata": {
    "cell_id": "00161-e326e9e8-fa3c-4788-be8b-c1ccc99b67ff",
    "deepnote_cell_type": "markdown"
   },
   "source": [
    "Standard **arithmetic operators** work on numerical columms too. And so do mathematical functions. Note all such operations are performed in a vector-like fashion."
   ]
  },
  {
   "cell_type": "code",
   "execution_count": 97,
   "metadata": {
    "cell_id": "00162-d302c4f4-bdeb-46ad-ae72-e7c9c6bd8d6f",
    "deepnote_cell_type": "code"
   },
   "outputs": [
    {
     "ename": "NameError",
     "evalue": "name 'movie_titles' is not defined",
     "output_type": "error",
     "traceback": [
      "\u001b[1;31m---------------------------------------------------------------------------\u001b[0m",
      "\u001b[1;31mNameError\u001b[0m                                 Traceback (most recent call last)",
      "\u001b[1;32m<ipython-input-97-24ae3a237994>\u001b[0m in \u001b[0;36m<module>\u001b[1;34m\u001b[0m\n\u001b[1;32m----> 1\u001b[1;33m \u001b[0mmovie_titles\u001b[0m\u001b[1;33m[\u001b[0m\u001b[1;33m[\u001b[0m\u001b[1;34m\"originalTitle\"\u001b[0m\u001b[1;33m,\u001b[0m \u001b[1;34m\"startYear\"\u001b[0m\u001b[1;33m]\u001b[0m\u001b[1;33m]\u001b[0m\u001b[1;33m.\u001b[0m\u001b[0massign\u001b[0m\u001b[1;33m(\u001b[0m\u001b[0mage\u001b[0m \u001b[1;33m=\u001b[0m \u001b[1;36m2019\u001b[0m \u001b[1;33m-\u001b[0m \u001b[0mmovie_titles\u001b[0m\u001b[1;33m[\u001b[0m\u001b[1;34m\"startYear\"\u001b[0m\u001b[1;33m]\u001b[0m\u001b[1;33m)\u001b[0m\u001b[1;33m.\u001b[0m\u001b[0msample\u001b[0m\u001b[1;33m(\u001b[0m\u001b[1;36m20\u001b[0m\u001b[1;33m)\u001b[0m\u001b[1;33m\u001b[0m\u001b[1;33m\u001b[0m\u001b[0m\n\u001b[0m",
      "\u001b[1;31mNameError\u001b[0m: name 'movie_titles' is not defined"
     ]
    }
   ],
   "source": [
    "movie_titles[[\"originalTitle\", \"startYear\"]].assign(age = 2019 - movie_titles[\"startYear\"]).sample(20)"
   ]
  },
  {
   "cell_type": "markdown",
   "metadata": {
    "cell_id": "00163-37af6770-9288-422f-87bc-9bf496852423",
    "deepnote_cell_type": "markdown"
   },
   "source": [
    "**Exercise:** Calculate the length of movies in hours."
   ]
  },
  {
   "cell_type": "code",
   "execution_count": 98,
   "metadata": {
    "cell_id": "00164-24180a46-6aa8-4b2f-ae2c-c9b279fffea4",
    "deepnote_cell_type": "code"
   },
   "outputs": [
    {
     "ename": "SyntaxError",
     "evalue": "expression cannot contain assignment, perhaps you meant \"==\"? (<ipython-input-98-4606e6fd5027>, line 3)",
     "output_type": "error",
     "traceback": [
      "\u001b[1;36m  File \u001b[1;32m\"<ipython-input-98-4606e6fd5027>\"\u001b[1;36m, line \u001b[1;32m3\u001b[0m\n\u001b[1;33m    result = movie_titles[[\"originalTitle\", \"runtimeMinutes\"]].assign(... = ...)\u001b[0m\n\u001b[1;37m                                                                      ^\u001b[0m\n\u001b[1;31mSyntaxError\u001b[0m\u001b[1;31m:\u001b[0m expression cannot contain assignment, perhaps you meant \"==\"?\n"
     ]
    }
   ],
   "source": [
    "%exercise\n",
    "\n",
    "result = movie_titles[[\"originalTitle\", \"runtimeMinutes\"]].assign(... = ...)\n",
    "result.sample(10)"
   ]
  },
  {
   "cell_type": "code",
   "execution_count": 99,
   "metadata": {
    "cell_id": "00165-94cda78d-8ba6-4f96-a26c-7ea3142ad0f7",
    "deepnote_cell_type": "code"
   },
   "outputs": [
    {
     "name": "stderr",
     "output_type": "stream",
     "text": [
      "UsageError: Line magic function `%validate` not found.\n"
     ]
    }
   ],
   "source": [
    "%validate\n",
    "\n",
    "assert result.iloc[0][\"hours\"] == 0.75"
   ]
  },
  {
   "cell_type": "code",
   "execution_count": 100,
   "metadata": {
    "cell_id": "00166-fc39ecdf-a619-4136-a18b-a707529e19d0",
    "deepnote_cell_type": "code"
   },
   "outputs": [
    {
     "ename": "NameError",
     "evalue": "name 'movie_titles' is not defined",
     "output_type": "error",
     "traceback": [
      "\u001b[1;31m---------------------------------------------------------------------------\u001b[0m",
      "\u001b[1;31mNameError\u001b[0m                                 Traceback (most recent call last)",
      "\u001b[1;32m<ipython-input-100-d59f702b767f>\u001b[0m in \u001b[0;36m<module>\u001b[1;34m\u001b[0m\n\u001b[0;32m      1\u001b[0m \u001b[1;31m# If only the following had any sense!\u001b[0m\u001b[1;33m\u001b[0m\u001b[1;33m\u001b[0m\u001b[1;33m\u001b[0m\u001b[0m\n\u001b[1;32m----> 2\u001b[1;33m \u001b[0mnp\u001b[0m\u001b[1;33m.\u001b[0m\u001b[0msin\u001b[0m\u001b[1;33m(\u001b[0m\u001b[0mmovie_titles\u001b[0m\u001b[1;33m[\u001b[0m\u001b[1;34m\"runtimeMinutes\"\u001b[0m\u001b[1;33m]\u001b[0m\u001b[1;33m)\u001b[0m\u001b[1;33m.\u001b[0m\u001b[0msample\u001b[0m\u001b[1;33m(\u001b[0m\u001b[1;36m10\u001b[0m\u001b[1;33m)\u001b[0m\u001b[1;33m\u001b[0m\u001b[1;33m\u001b[0m\u001b[0m\n\u001b[0m",
      "\u001b[1;31mNameError\u001b[0m: name 'movie_titles' is not defined"
     ]
    }
   ],
   "source": [
    "# If only the following had any sense!\n",
    "np.sin(movie_titles[\"runtimeMinutes\"]).sample(10)"
   ]
  },
  {
   "cell_type": "markdown",
   "metadata": {
    "cell_id": "00167-e72d2c71-c04a-4885-bbb7-c3ea7e4fe9fb",
    "deepnote_cell_type": "markdown"
   },
   "source": [
    "### Summary statistics\n",
    "\n",
    "Note that the following methods return scalars"
   ]
  },
  {
   "cell_type": "code",
   "execution_count": 101,
   "metadata": {
    "cell_id": "00168-1752bdfb-7095-4f88-a554-2ba6b76ce988",
    "deepnote_cell_type": "code"
   },
   "outputs": [
    {
     "ename": "NameError",
     "evalue": "name 'movie_titles' is not defined",
     "output_type": "error",
     "traceback": [
      "\u001b[1;31m---------------------------------------------------------------------------\u001b[0m",
      "\u001b[1;31mNameError\u001b[0m                                 Traceback (most recent call last)",
      "\u001b[1;32m<ipython-input-101-5b6dcd73f27c>\u001b[0m in \u001b[0;36m<module>\u001b[1;34m\u001b[0m\n\u001b[0;32m      1\u001b[0m \u001b[1;31m# Average length of the movies\u001b[0m\u001b[1;33m\u001b[0m\u001b[1;33m\u001b[0m\u001b[1;33m\u001b[0m\u001b[0m\n\u001b[1;32m----> 2\u001b[1;33m \u001b[0mmovie_titles\u001b[0m\u001b[1;33m[\u001b[0m\u001b[1;34m\"runtimeMinutes\"\u001b[0m\u001b[1;33m]\u001b[0m\u001b[1;33m.\u001b[0m\u001b[0mmean\u001b[0m\u001b[1;33m(\u001b[0m\u001b[1;33m)\u001b[0m\u001b[1;33m\u001b[0m\u001b[1;33m\u001b[0m\u001b[0m\n\u001b[0m",
      "\u001b[1;31mNameError\u001b[0m: name 'movie_titles' is not defined"
     ]
    }
   ],
   "source": [
    "# Average length of the movies\n",
    "movie_titles[\"runtimeMinutes\"].mean()"
   ]
  },
  {
   "cell_type": "code",
   "execution_count": 102,
   "metadata": {
    "cell_id": "00169-dad58f25-491a-465a-b6eb-b9a3a71e9659",
    "deepnote_cell_type": "code"
   },
   "outputs": [
    {
     "ename": "NameError",
     "evalue": "name 'movie_titles' is not defined",
     "output_type": "error",
     "traceback": [
      "\u001b[1;31m---------------------------------------------------------------------------\u001b[0m",
      "\u001b[1;31mNameError\u001b[0m                                 Traceback (most recent call last)",
      "\u001b[1;32m<ipython-input-102-07cb30319239>\u001b[0m in \u001b[0;36m<module>\u001b[1;34m\u001b[0m\n\u001b[0;32m      1\u001b[0m \u001b[1;31m# Standard deviation\u001b[0m\u001b[1;33m\u001b[0m\u001b[1;33m\u001b[0m\u001b[1;33m\u001b[0m\u001b[0m\n\u001b[1;32m----> 2\u001b[1;33m \u001b[0mmovie_titles\u001b[0m\u001b[1;33m[\u001b[0m\u001b[1;34m\"runtimeMinutes\"\u001b[0m\u001b[1;33m]\u001b[0m\u001b[1;33m.\u001b[0m\u001b[0mstd\u001b[0m\u001b[1;33m(\u001b[0m\u001b[1;33m)\u001b[0m\u001b[1;33m\u001b[0m\u001b[1;33m\u001b[0m\u001b[0m\n\u001b[0m",
      "\u001b[1;31mNameError\u001b[0m: name 'movie_titles' is not defined"
     ]
    }
   ],
   "source": [
    "# Standard deviation\n",
    "movie_titles[\"runtimeMinutes\"].std()"
   ]
  },
  {
   "cell_type": "code",
   "execution_count": 103,
   "metadata": {
    "cell_id": "00170-45be576d-7c75-47de-8006-a72f978805ee",
    "deepnote_cell_type": "code"
   },
   "outputs": [
    {
     "ename": "NameError",
     "evalue": "name 'movie_titles' is not defined",
     "output_type": "error",
     "traceback": [
      "\u001b[1;31m---------------------------------------------------------------------------\u001b[0m",
      "\u001b[1;31mNameError\u001b[0m                                 Traceback (most recent call last)",
      "\u001b[1;32m<ipython-input-103-bf868ab0ccd2>\u001b[0m in \u001b[0;36m<module>\u001b[1;34m\u001b[0m\n\u001b[1;32m----> 1\u001b[1;33m \u001b[0mmovie_titles\u001b[0m\u001b[1;33m[\u001b[0m\u001b[1;34m\"startYear\"\u001b[0m\u001b[1;33m]\u001b[0m\u001b[1;33m.\u001b[0m\u001b[0mmax\u001b[0m\u001b[1;33m(\u001b[0m\u001b[1;33m)\u001b[0m\u001b[1;33m\u001b[0m\u001b[1;33m\u001b[0m\u001b[0m\n\u001b[0m",
      "\u001b[1;31mNameError\u001b[0m: name 'movie_titles' is not defined"
     ]
    }
   ],
   "source": [
    "movie_titles[\"startYear\"].max()"
   ]
  },
  {
   "cell_type": "markdown",
   "metadata": {
    "cell_id": "00171-bab78b73-8123-486b-a2f7-b6a20c137465",
    "deepnote_cell_type": "markdown"
   },
   "source": [
    "**Exercise:** How many years would it take to watch all movies in the catalogue?"
   ]
  },
  {
   "cell_type": "code",
   "execution_count": 104,
   "metadata": {
    "cell_id": "00172-222a09ee-930b-4279-b253-39a34739a89c",
    "deepnote_cell_type": "code"
   },
   "outputs": [
    {
     "ename": "SyntaxError",
     "evalue": "invalid syntax (<ipython-input-104-32d9f7001148>, line 2)",
     "output_type": "error",
     "traceback": [
      "\u001b[1;36m  File \u001b[1;32m\"<ipython-input-104-32d9f7001148>\"\u001b[1;36m, line \u001b[1;32m2\u001b[0m\n\u001b[1;33m    result = movie_titles[\"runtimeMinutes\"] ...\u001b[0m\n\u001b[1;37m                                            ^\u001b[0m\n\u001b[1;31mSyntaxError\u001b[0m\u001b[1;31m:\u001b[0m invalid syntax\n"
     ]
    }
   ],
   "source": [
    "%exercise\n",
    "result = movie_titles[\"runtimeMinutes\"] ...\n",
    "result"
   ]
  },
  {
   "cell_type": "code",
   "execution_count": 105,
   "metadata": {
    "cell_id": "00173-39c77ddb-704a-4381-9ae1-c35e64e155c4",
    "deepnote_cell_type": "code"
   },
   "outputs": [
    {
     "name": "stderr",
     "output_type": "stream",
     "text": [
      "UsageError: Line magic function `%validate` not found.\n"
     ]
    }
   ],
   "source": [
    "%validate\n",
    "\n",
    "assert np.round(result, 3) == 65.154"
   ]
  },
  {
   "cell_type": "markdown",
   "metadata": {
    "cell_id": "00174-4d46bfa9-0dc5-46cb-b599-418e7e35c7d0",
    "deepnote_cell_type": "markdown"
   },
   "source": [
    "### Basic string operations\n",
    "\n",
    "These are typically accessed using the `.str` \"accessor\" of the Series like this:\n",
    "    \n",
    "- series.str.lower\n",
    "- series.str.split\n",
    "- series.str.startswith\n",
    "- series.str.contains\n",
    "- ..."
   ]
  },
  {
   "cell_type": "code",
   "execution_count": 106,
   "metadata": {
    "cell_id": "00175-175838b5-b03c-4841-a3c1-300dd98f46cd",
    "deepnote_cell_type": "code"
   },
   "outputs": [
    {
     "ename": "NameError",
     "evalue": "name 'movie_titles' is not defined",
     "output_type": "error",
     "traceback": [
      "\u001b[1;31m---------------------------------------------------------------------------\u001b[0m",
      "\u001b[1;31mNameError\u001b[0m                                 Traceback (most recent call last)",
      "\u001b[1;32m<ipython-input-106-62bbd3914ac7>\u001b[0m in \u001b[0;36m<module>\u001b[1;34m\u001b[0m\n\u001b[1;32m----> 1\u001b[1;33m \u001b[0mmovie_titles\u001b[0m\u001b[1;33m[\u001b[0m\u001b[1;33m(\u001b[0m\u001b[0mmovie_titles\u001b[0m\u001b[1;33m[\u001b[0m\u001b[1;34m\"primaryTitle\"\u001b[0m\u001b[1;33m]\u001b[0m\u001b[1;33m.\u001b[0m\u001b[0mstr\u001b[0m\u001b[1;33m.\u001b[0m\u001b[0mstartswith\u001b[0m\u001b[1;33m(\u001b[0m\u001b[1;34m\"Star Wars: Episode\"\u001b[0m\u001b[1;33m)\u001b[0m\u001b[1;33m)\u001b[0m \u001b[1;33m&\u001b[0m \u001b[1;33m(\u001b[0m\u001b[0mmovie_titles\u001b[0m\u001b[1;33m[\u001b[0m\u001b[1;34m\"titleType\"\u001b[0m\u001b[1;33m]\u001b[0m \u001b[1;33m==\u001b[0m \u001b[1;34m\"movie\"\u001b[0m\u001b[1;33m)\u001b[0m\u001b[1;33m]\u001b[0m\u001b[1;33m\u001b[0m\u001b[1;33m\u001b[0m\u001b[0m\n\u001b[0m",
      "\u001b[1;31mNameError\u001b[0m: name 'movie_titles' is not defined"
     ]
    }
   ],
   "source": [
    "movie_titles[(movie_titles[\"primaryTitle\"].str.startswith(\"Star Wars: Episode\")) & (movie_titles[\"titleType\"] == \"movie\")]"
   ]
  },
  {
   "cell_type": "markdown",
   "metadata": {
    "cell_id": "00176-d54b2b44-74cb-43e9-b5a4-eb8593ef3b48",
    "deepnote_cell_type": "markdown"
   },
   "source": [
    "**Exercise:** Find all Pink Panther movies. Note that their title does not necessarily start with \"Pink\""
   ]
  },
  {
   "cell_type": "code",
   "execution_count": 107,
   "metadata": {
    "cell_id": "00177-17c5fc33-14b4-4705-923f-2f72d18121c2",
    "deepnote_cell_type": "code"
   },
   "outputs": [
    {
     "name": "stderr",
     "output_type": "stream",
     "text": [
      "UsageError: Line magic function `%exercise` not found.\n"
     ]
    }
   ],
   "source": [
    "%exercise\n",
    "\n",
    "is_pink = ...\n",
    "pink = movie_titles[is_pink]\n",
    "pink"
   ]
  },
  {
   "cell_type": "code",
   "execution_count": 108,
   "metadata": {
    "cell_id": "00178-b4138e1b-eca2-4da1-8d99-d1143326cc62",
    "deepnote_cell_type": "code"
   },
   "outputs": [
    {
     "name": "stderr",
     "output_type": "stream",
     "text": [
      "UsageError: Line magic function `%validate` not found.\n"
     ]
    }
   ],
   "source": [
    "%validate\n",
    "\n",
    "assert pink.shape[0] == 14"
   ]
  },
  {
   "cell_type": "code",
   "execution_count": 109,
   "metadata": {
    "cell_id": "00179-0de9ce39-b585-40e3-a96e-d0544b5862e2",
    "deepnote_cell_type": "code"
   },
   "outputs": [
    {
     "ename": "NameError",
     "evalue": "name 'movie_titles' is not defined",
     "output_type": "error",
     "traceback": [
      "\u001b[1;31m---------------------------------------------------------------------------\u001b[0m",
      "\u001b[1;31mNameError\u001b[0m                                 Traceback (most recent call last)",
      "\u001b[1;32m<ipython-input-109-abc090e7e985>\u001b[0m in \u001b[0;36m<module>\u001b[1;34m\u001b[0m\n\u001b[0;32m      1\u001b[0m \u001b[1;31m# String arithmetics work too!\u001b[0m\u001b[1;33m\u001b[0m\u001b[1;33m\u001b[0m\u001b[1;33m\u001b[0m\u001b[0m\n\u001b[1;32m----> 2\u001b[1;33m \u001b[0murl\u001b[0m \u001b[1;33m=\u001b[0m \u001b[1;34m\"https://www.imdb.com/title/\"\u001b[0m \u001b[1;33m+\u001b[0m \u001b[0mmovie_titles\u001b[0m\u001b[1;33m[\u001b[0m\u001b[1;34m\"tconst\"\u001b[0m\u001b[1;33m]\u001b[0m\u001b[1;33m\u001b[0m\u001b[1;33m\u001b[0m\u001b[0m\n\u001b[0m\u001b[0;32m      3\u001b[0m \u001b[0mmovie_titles\u001b[0m\u001b[1;33m[\u001b[0m\u001b[1;33m[\u001b[0m\u001b[1;34m\"primaryTitle\"\u001b[0m\u001b[1;33m]\u001b[0m\u001b[1;33m]\u001b[0m\u001b[1;33m.\u001b[0m\u001b[0massign\u001b[0m\u001b[1;33m(\u001b[0m\u001b[0murl\u001b[0m\u001b[1;33m=\u001b[0m\u001b[0murl\u001b[0m\u001b[1;33m)\u001b[0m\u001b[1;33m.\u001b[0m\u001b[0msample\u001b[0m\u001b[1;33m(\u001b[0m\u001b[1;36m10\u001b[0m\u001b[1;33m)\u001b[0m\u001b[1;33m\u001b[0m\u001b[1;33m\u001b[0m\u001b[0m\n",
      "\u001b[1;31mNameError\u001b[0m: name 'movie_titles' is not defined"
     ]
    }
   ],
   "source": [
    "# String arithmetics work too!\n",
    "url = \"https://www.imdb.com/title/\" + movie_titles[\"tconst\"]\n",
    "movie_titles[[\"primaryTitle\"]].assign(url=url).sample(10)"
   ]
  },
  {
   "cell_type": "markdown",
   "metadata": {
    "cell_id": "00180-da29c0c9-edc0-4d5e-b9e1-2809d2b33c35",
    "deepnote_cell_type": "markdown"
   },
   "source": [
    "Let's investigate the genres a bit:"
   ]
  },
  {
   "cell_type": "code",
   "execution_count": 110,
   "metadata": {
    "cell_id": "00181-74e3d0f4-54db-4abc-b248-560f54e85ee0",
    "deepnote_cell_type": "code"
   },
   "outputs": [
    {
     "ename": "NameError",
     "evalue": "name 'movie_titles' is not defined",
     "output_type": "error",
     "traceback": [
      "\u001b[1;31m---------------------------------------------------------------------------\u001b[0m",
      "\u001b[1;31mNameError\u001b[0m                                 Traceback (most recent call last)",
      "\u001b[1;32m<ipython-input-110-85223436f366>\u001b[0m in \u001b[0;36m<module>\u001b[1;34m\u001b[0m\n\u001b[1;32m----> 1\u001b[1;33m \u001b[0msplit_genres\u001b[0m \u001b[1;33m=\u001b[0m \u001b[0mmovie_titles\u001b[0m\u001b[1;33m.\u001b[0m\u001b[0mgenres\u001b[0m\u001b[1;33m.\u001b[0m\u001b[0mstr\u001b[0m\u001b[1;33m.\u001b[0m\u001b[0msplit\u001b[0m\u001b[1;33m(\u001b[0m\u001b[1;34m\",\"\u001b[0m\u001b[1;33m)\u001b[0m\u001b[1;33m.\u001b[0m\u001b[0mdropna\u001b[0m\u001b[1;33m(\u001b[0m\u001b[1;33m)\u001b[0m\u001b[1;33m\u001b[0m\u001b[1;33m\u001b[0m\u001b[0m\n\u001b[0m\u001b[0;32m      2\u001b[0m \u001b[0msplit_genres\u001b[0m\u001b[1;33m.\u001b[0m\u001b[0msample\u001b[0m\u001b[1;33m(\u001b[0m\u001b[1;36m10\u001b[0m\u001b[1;33m)\u001b[0m\u001b[1;33m\u001b[0m\u001b[1;33m\u001b[0m\u001b[0m\n",
      "\u001b[1;31mNameError\u001b[0m: name 'movie_titles' is not defined"
     ]
    }
   ],
   "source": [
    "split_genres = movie_titles.genres.str.split(\",\").dropna()\n",
    "split_genres.sample(10)"
   ]
  },
  {
   "cell_type": "code",
   "execution_count": 111,
   "metadata": {
    "cell_id": "00182-80d1a2f2-cfb0-4fdc-b3f5-f7bf8f904d61",
    "deepnote_cell_type": "code"
   },
   "outputs": [
    {
     "ename": "NameError",
     "evalue": "name 'split_genres' is not defined",
     "output_type": "error",
     "traceback": [
      "\u001b[1;31m---------------------------------------------------------------------------\u001b[0m",
      "\u001b[1;31mNameError\u001b[0m                                 Traceback (most recent call last)",
      "\u001b[1;32m<ipython-input-111-1580952e113b>\u001b[0m in \u001b[0;36m<module>\u001b[1;34m\u001b[0m\n\u001b[1;32m----> 1\u001b[1;33m \u001b[0mgenres\u001b[0m \u001b[1;33m=\u001b[0m \u001b[1;33m{\u001b[0m\u001b[0mgenre\u001b[0m \u001b[1;32mfor\u001b[0m \u001b[0mrow\u001b[0m \u001b[1;32min\u001b[0m \u001b[0msplit_genres\u001b[0m\u001b[1;33m.\u001b[0m\u001b[0miteritems\u001b[0m\u001b[1;33m(\u001b[0m\u001b[1;33m)\u001b[0m \u001b[1;32mfor\u001b[0m \u001b[0mgenre\u001b[0m \u001b[1;32min\u001b[0m \u001b[0mrow\u001b[0m\u001b[1;33m[\u001b[0m\u001b[1;36m1\u001b[0m\u001b[1;33m]\u001b[0m\u001b[1;33m}\u001b[0m\u001b[1;33m\u001b[0m\u001b[1;33m\u001b[0m\u001b[0m\n\u001b[0m",
      "\u001b[1;31mNameError\u001b[0m: name 'split_genres' is not defined"
     ]
    }
   ],
   "source": [
    "genres = {genre for row in split_genres.iteritems() for genre in row[1]}"
   ]
  },
  {
   "cell_type": "code",
   "execution_count": 112,
   "metadata": {
    "cell_id": "00183-6a621b1c-4aa6-4a44-aa61-9b54425631e3",
    "deepnote_cell_type": "code"
   },
   "outputs": [
    {
     "ename": "NameError",
     "evalue": "name 'genres' is not defined",
     "output_type": "error",
     "traceback": [
      "\u001b[1;31m---------------------------------------------------------------------------\u001b[0m",
      "\u001b[1;31mNameError\u001b[0m                                 Traceback (most recent call last)",
      "\u001b[1;32m<ipython-input-112-91af83914496>\u001b[0m in \u001b[0;36m<module>\u001b[1;34m\u001b[0m\n\u001b[1;32m----> 1\u001b[1;33m \u001b[0mgenres\u001b[0m\u001b[1;33m\u001b[0m\u001b[1;33m\u001b[0m\u001b[0m\n\u001b[0m",
      "\u001b[1;31mNameError\u001b[0m: name 'genres' is not defined"
     ]
    }
   ],
   "source": [
    "genres"
   ]
  },
  {
   "cell_type": "code",
   "execution_count": 113,
   "metadata": {
    "cell_id": "00184-377bdfb8-4cc9-4853-aa2e-e9f7ca19e476",
    "deepnote_cell_type": "code"
   },
   "outputs": [
    {
     "ename": "NameError",
     "evalue": "name 'movie_titles' is not defined",
     "output_type": "error",
     "traceback": [
      "\u001b[1;31m---------------------------------------------------------------------------\u001b[0m",
      "\u001b[1;31mNameError\u001b[0m                                 Traceback (most recent call last)",
      "\u001b[1;32m<ipython-input-113-8240ef6f57ab>\u001b[0m in \u001b[0;36m<module>\u001b[1;34m\u001b[0m\n\u001b[0;32m      1\u001b[0m \u001b[1;31m# \"One-hot\" encoding of genres\u001b[0m\u001b[1;33m\u001b[0m\u001b[1;33m\u001b[0m\u001b[1;33m\u001b[0m\u001b[0m\n\u001b[1;32m----> 2\u001b[1;33m movie_with_genres = movie_titles[['primaryTitle']].assign(\n\u001b[0m\u001b[0;32m      3\u001b[0m     \u001b[1;33m**\u001b[0m\u001b[1;33m{\u001b[0m\u001b[0mgenre\u001b[0m \u001b[1;33m:\u001b[0m \u001b[0mmovie_titles\u001b[0m\u001b[1;33m.\u001b[0m\u001b[0mgenres\u001b[0m\u001b[1;33m.\u001b[0m\u001b[0mstr\u001b[0m\u001b[1;33m.\u001b[0m\u001b[0mcontains\u001b[0m\u001b[1;33m(\u001b[0m\u001b[0mgenre\u001b[0m\u001b[1;33m)\u001b[0m \u001b[1;33m*\u001b[0m \u001b[1;36m1\u001b[0m \u001b[1;32mfor\u001b[0m \u001b[0mgenre\u001b[0m \u001b[1;32min\u001b[0m \u001b[0mgenres\u001b[0m\u001b[1;33m}\u001b[0m\u001b[1;33m\u001b[0m\u001b[1;33m\u001b[0m\u001b[0m\n\u001b[0;32m      4\u001b[0m )\n\u001b[0;32m      5\u001b[0m \u001b[0mmovie_with_genres\u001b[0m\u001b[1;33m.\u001b[0m\u001b[0msample\u001b[0m\u001b[1;33m(\u001b[0m\u001b[1;36m10\u001b[0m\u001b[1;33m)\u001b[0m\u001b[1;33m\u001b[0m\u001b[1;33m\u001b[0m\u001b[0m\n",
      "\u001b[1;31mNameError\u001b[0m: name 'movie_titles' is not defined"
     ]
    }
   ],
   "source": [
    "# \"One-hot\" encoding of genres\n",
    "movie_with_genres = movie_titles[['primaryTitle']].assign(\n",
    "    **{genre : movie_titles.genres.str.contains(genre) * 1 for genre in genres}\n",
    ")\n",
    "movie_with_genres.sample(10)"
   ]
  },
  {
   "cell_type": "code",
   "execution_count": 114,
   "metadata": {
    "cell_id": "00185-7c9667a4-dfbc-4f63-bf85-0220b8afa1b5",
    "deepnote_cell_type": "code"
   },
   "outputs": [
    {
     "ename": "NameError",
     "evalue": "name 'movie_with_genres' is not defined",
     "output_type": "error",
     "traceback": [
      "\u001b[1;31m---------------------------------------------------------------------------\u001b[0m",
      "\u001b[1;31mNameError\u001b[0m                                 Traceback (most recent call last)",
      "\u001b[1;32m<ipython-input-114-6fa64e0db783>\u001b[0m in \u001b[0;36m<module>\u001b[1;34m\u001b[0m\n\u001b[1;32m----> 1\u001b[1;33m \u001b[0mgenre_counts\u001b[0m \u001b[1;33m=\u001b[0m \u001b[0mmovie_with_genres\u001b[0m\u001b[1;33m[\u001b[0m\u001b[0mmovie_with_genres\u001b[0m \u001b[1;33m==\u001b[0m \u001b[1;36m1\u001b[0m\u001b[1;33m]\u001b[0m\u001b[1;33m.\u001b[0m\u001b[0miloc\u001b[0m\u001b[1;33m[\u001b[0m\u001b[1;33m:\u001b[0m\u001b[1;33m,\u001b[0m\u001b[1;36m1\u001b[0m\u001b[1;33m:\u001b[0m\u001b[1;33m]\u001b[0m\u001b[1;33m.\u001b[0m\u001b[0mcount\u001b[0m\u001b[1;33m(\u001b[0m\u001b[1;33m)\u001b[0m\u001b[1;33m\u001b[0m\u001b[1;33m\u001b[0m\u001b[0m\n\u001b[0m\u001b[0;32m      2\u001b[0m \u001b[0mgenre_counts\u001b[0m\u001b[1;33m\u001b[0m\u001b[1;33m\u001b[0m\u001b[0m\n",
      "\u001b[1;31mNameError\u001b[0m: name 'movie_with_genres' is not defined"
     ]
    }
   ],
   "source": [
    "genre_counts = movie_with_genres[movie_with_genres == 1].iloc[:,1:].count()\n",
    "genre_counts"
   ]
  },
  {
   "cell_type": "code",
   "execution_count": 115,
   "metadata": {
    "cell_id": "00186-b54a9a6b-aae7-44d9-87b6-1ce4ec16b2ce",
    "deepnote_cell_type": "code"
   },
   "outputs": [
    {
     "ename": "NameError",
     "evalue": "name 'genre_counts' is not defined",
     "output_type": "error",
     "traceback": [
      "\u001b[1;31m---------------------------------------------------------------------------\u001b[0m",
      "\u001b[1;31mNameError\u001b[0m                                 Traceback (most recent call last)",
      "\u001b[1;32m<ipython-input-115-1d7a9f7876bc>\u001b[0m in \u001b[0;36m<module>\u001b[1;34m\u001b[0m\n\u001b[1;32m----> 1\u001b[1;33m \u001b[0mgenre_counts\u001b[0m\u001b[1;33m.\u001b[0m\u001b[0mplot\u001b[0m\u001b[1;33m(\u001b[0m\u001b[0mkind\u001b[0m\u001b[1;33m=\u001b[0m\u001b[1;34m\"bar\"\u001b[0m\u001b[1;33m)\u001b[0m\u001b[1;33m\u001b[0m\u001b[1;33m\u001b[0m\u001b[0m\n\u001b[0m",
      "\u001b[1;31mNameError\u001b[0m: name 'genre_counts' is not defined"
     ]
    }
   ],
   "source": [
    "genre_counts.plot(kind=\"bar\")"
   ]
  },
  {
   "cell_type": "code",
   "execution_count": 116,
   "metadata": {
    "cell_id": "00187-d90ef14b-19d4-47a3-b952-b03f92f4cbac",
    "deepnote_cell_type": "code"
   },
   "outputs": [
    {
     "ename": "NameError",
     "evalue": "name 'movie_titles' is not defined",
     "output_type": "error",
     "traceback": [
      "\u001b[1;31m---------------------------------------------------------------------------\u001b[0m",
      "\u001b[1;31mNameError\u001b[0m                                 Traceback (most recent call last)",
      "\u001b[1;32m<ipython-input-116-bff0859182f7>\u001b[0m in \u001b[0;36m<module>\u001b[1;34m\u001b[0m\n\u001b[1;32m----> 1\u001b[1;33m \u001b[0mmovie_titles\u001b[0m\u001b[1;33m[\u001b[0m\u001b[1;34m\"startYear\"\u001b[0m\u001b[1;33m]\u001b[0m\u001b[1;33m.\u001b[0m\u001b[0mplot\u001b[0m\u001b[1;33m(\u001b[0m\u001b[0mkind\u001b[0m\u001b[1;33m=\u001b[0m\u001b[1;34m\"hist\"\u001b[0m\u001b[1;33m)\u001b[0m\u001b[1;33m\u001b[0m\u001b[1;33m\u001b[0m\u001b[0m\n\u001b[0m",
      "\u001b[1;31mNameError\u001b[0m: name 'movie_titles' is not defined"
     ]
    }
   ],
   "source": [
    "movie_titles[\"startYear\"].plot(kind=\"hist\")"
   ]
  },
  {
   "cell_type": "markdown",
   "metadata": {
    "cell_id": "00188-a5434c79-44ab-4c0d-93a2-dd2fe659326b",
    "deepnote_cell_type": "markdown"
   },
   "source": [
    "We see the one outlier and in general, the plots are not so nice. Being explicit sometimes helps."
   ]
  },
  {
   "cell_type": "markdown",
   "metadata": {
    "cell_id": "00224-bb92354d-7d1e-46f8-b068-924bdd26114a",
    "deepnote_cell_type": "markdown"
   },
   "source": [
    "## Merging data\n",
    "\n",
    "It is a common situation where we have two or more datasets with different columns that we need to bring together.\n",
    "This operation is called *merging* and the Pandas apparatus is to a great detail described in [the documentation](https://pandas.pydata.org/docs/user_guide/merging.html).\n",
    "\n",
    "In our case, we would like to attach the state populations to the dataset. \n"
   ]
  },
  {
   "cell_type": "code",
   "execution_count": 144,
   "metadata": {
    "cell_id": "00225-9cb43465-3c64-409d-93ae-c0bc774235b9",
    "deepnote_cell_type": "code",
    "deepnote_to_be_reexecuted": false,
    "execution_millis": 41,
    "execution_start": 1611507071392,
    "source_hash": "98a1918d",
    "tags": []
   },
   "outputs": [
    {
     "data": {
      "text/html": [
       "<div>\n",
       "<style scoped>\n",
       "    .dataframe tbody tr th:only-of-type {\n",
       "        vertical-align: middle;\n",
       "    }\n",
       "\n",
       "    .dataframe tbody tr th {\n",
       "        vertical-align: top;\n",
       "    }\n",
       "\n",
       "    .dataframe thead th {\n",
       "        text-align: right;\n",
       "    }\n",
       "</style>\n",
       "<table border=\"1\" class=\"dataframe\">\n",
       "  <thead>\n",
       "    <tr style=\"text-align: right;\">\n",
       "      <th></th>\n",
       "      <th>Territory</th>\n",
       "      <th>Population</th>\n",
       "    </tr>\n",
       "  </thead>\n",
       "  <tbody>\n",
       "    <tr>\n",
       "      <th>0</th>\n",
       "      <td>California</td>\n",
       "      <td>39368078</td>\n",
       "    </tr>\n",
       "    <tr>\n",
       "      <th>1</th>\n",
       "      <td>Texas</td>\n",
       "      <td>29360759</td>\n",
       "    </tr>\n",
       "    <tr>\n",
       "      <th>2</th>\n",
       "      <td>Florida</td>\n",
       "      <td>21733312</td>\n",
       "    </tr>\n",
       "    <tr>\n",
       "      <th>3</th>\n",
       "      <td>New York</td>\n",
       "      <td>19336776</td>\n",
       "    </tr>\n",
       "    <tr>\n",
       "      <th>4</th>\n",
       "      <td>Pennsylvania</td>\n",
       "      <td>12783254</td>\n",
       "    </tr>\n",
       "    <tr>\n",
       "      <th>5</th>\n",
       "      <td>Illinois</td>\n",
       "      <td>12587530</td>\n",
       "    </tr>\n",
       "    <tr>\n",
       "      <th>6</th>\n",
       "      <td>Ohio</td>\n",
       "      <td>11693217</td>\n",
       "    </tr>\n",
       "    <tr>\n",
       "      <th>7</th>\n",
       "      <td>Georgia</td>\n",
       "      <td>10710017</td>\n",
       "    </tr>\n",
       "    <tr>\n",
       "      <th>8</th>\n",
       "      <td>North Carolina</td>\n",
       "      <td>10600823</td>\n",
       "    </tr>\n",
       "    <tr>\n",
       "      <th>9</th>\n",
       "      <td>Michigan</td>\n",
       "      <td>9966555</td>\n",
       "    </tr>\n",
       "    <tr>\n",
       "      <th>10</th>\n",
       "      <td>New Jersey</td>\n",
       "      <td>8882371</td>\n",
       "    </tr>\n",
       "    <tr>\n",
       "      <th>11</th>\n",
       "      <td>Virginia</td>\n",
       "      <td>8590563</td>\n",
       "    </tr>\n",
       "    <tr>\n",
       "      <th>12</th>\n",
       "      <td>Washington</td>\n",
       "      <td>7693612</td>\n",
       "    </tr>\n",
       "    <tr>\n",
       "      <th>13</th>\n",
       "      <td>Arizona</td>\n",
       "      <td>7421401</td>\n",
       "    </tr>\n",
       "    <tr>\n",
       "      <th>14</th>\n",
       "      <td>Massachusetts</td>\n",
       "      <td>6893574</td>\n",
       "    </tr>\n",
       "    <tr>\n",
       "      <th>15</th>\n",
       "      <td>Tennessee</td>\n",
       "      <td>6886834</td>\n",
       "    </tr>\n",
       "    <tr>\n",
       "      <th>16</th>\n",
       "      <td>Indiana</td>\n",
       "      <td>6754953</td>\n",
       "    </tr>\n",
       "    <tr>\n",
       "      <th>17</th>\n",
       "      <td>Missouri</td>\n",
       "      <td>6151548</td>\n",
       "    </tr>\n",
       "    <tr>\n",
       "      <th>18</th>\n",
       "      <td>Maryland</td>\n",
       "      <td>6055802</td>\n",
       "    </tr>\n",
       "    <tr>\n",
       "      <th>19</th>\n",
       "      <td>Wisconsin</td>\n",
       "      <td>5832655</td>\n",
       "    </tr>\n",
       "    <tr>\n",
       "      <th>20</th>\n",
       "      <td>Colorado</td>\n",
       "      <td>5807719</td>\n",
       "    </tr>\n",
       "    <tr>\n",
       "      <th>21</th>\n",
       "      <td>Minnesota</td>\n",
       "      <td>5657342</td>\n",
       "    </tr>\n",
       "    <tr>\n",
       "      <th>22</th>\n",
       "      <td>South Carolina</td>\n",
       "      <td>5218040</td>\n",
       "    </tr>\n",
       "    <tr>\n",
       "      <th>23</th>\n",
       "      <td>Alabama</td>\n",
       "      <td>4921532</td>\n",
       "    </tr>\n",
       "    <tr>\n",
       "      <th>24</th>\n",
       "      <td>Louisiana</td>\n",
       "      <td>4645318</td>\n",
       "    </tr>\n",
       "    <tr>\n",
       "      <th>25</th>\n",
       "      <td>Kentucky</td>\n",
       "      <td>4477251</td>\n",
       "    </tr>\n",
       "    <tr>\n",
       "      <th>26</th>\n",
       "      <td>Oregon</td>\n",
       "      <td>4241507</td>\n",
       "    </tr>\n",
       "    <tr>\n",
       "      <th>27</th>\n",
       "      <td>Oklahoma</td>\n",
       "      <td>3980783</td>\n",
       "    </tr>\n",
       "    <tr>\n",
       "      <th>28</th>\n",
       "      <td>Connecticut</td>\n",
       "      <td>3557006</td>\n",
       "    </tr>\n",
       "    <tr>\n",
       "      <th>29</th>\n",
       "      <td>Utah</td>\n",
       "      <td>3249879</td>\n",
       "    </tr>\n",
       "    <tr>\n",
       "      <th>30</th>\n",
       "      <td>Iowa</td>\n",
       "      <td>3163561</td>\n",
       "    </tr>\n",
       "    <tr>\n",
       "      <th>31</th>\n",
       "      <td>Nevada</td>\n",
       "      <td>3138259</td>\n",
       "    </tr>\n",
       "    <tr>\n",
       "      <th>32</th>\n",
       "      <td>Arkansas</td>\n",
       "      <td>3030522</td>\n",
       "    </tr>\n",
       "    <tr>\n",
       "      <th>33</th>\n",
       "      <td>Mississippi</td>\n",
       "      <td>2966786</td>\n",
       "    </tr>\n",
       "    <tr>\n",
       "      <th>34</th>\n",
       "      <td>Kansas</td>\n",
       "      <td>2913805</td>\n",
       "    </tr>\n",
       "    <tr>\n",
       "      <th>35</th>\n",
       "      <td>New Mexico</td>\n",
       "      <td>2106319</td>\n",
       "    </tr>\n",
       "    <tr>\n",
       "      <th>36</th>\n",
       "      <td>Nebraska</td>\n",
       "      <td>1937552</td>\n",
       "    </tr>\n",
       "    <tr>\n",
       "      <th>37</th>\n",
       "      <td>Idaho</td>\n",
       "      <td>1826913</td>\n",
       "    </tr>\n",
       "    <tr>\n",
       "      <th>38</th>\n",
       "      <td>West Virginia</td>\n",
       "      <td>1784787</td>\n",
       "    </tr>\n",
       "    <tr>\n",
       "      <th>39</th>\n",
       "      <td>Hawaii</td>\n",
       "      <td>1407006</td>\n",
       "    </tr>\n",
       "    <tr>\n",
       "      <th>40</th>\n",
       "      <td>New Hampshire</td>\n",
       "      <td>1366275</td>\n",
       "    </tr>\n",
       "    <tr>\n",
       "      <th>41</th>\n",
       "      <td>Maine</td>\n",
       "      <td>1350141</td>\n",
       "    </tr>\n",
       "    <tr>\n",
       "      <th>42</th>\n",
       "      <td>Montana</td>\n",
       "      <td>1080577</td>\n",
       "    </tr>\n",
       "    <tr>\n",
       "      <th>43</th>\n",
       "      <td>Rhode Island</td>\n",
       "      <td>1057125</td>\n",
       "    </tr>\n",
       "    <tr>\n",
       "      <th>44</th>\n",
       "      <td>Delaware</td>\n",
       "      <td>986809</td>\n",
       "    </tr>\n",
       "    <tr>\n",
       "      <th>45</th>\n",
       "      <td>South Dakota</td>\n",
       "      <td>892717</td>\n",
       "    </tr>\n",
       "    <tr>\n",
       "      <th>46</th>\n",
       "      <td>North Dakota</td>\n",
       "      <td>765309</td>\n",
       "    </tr>\n",
       "    <tr>\n",
       "      <th>47</th>\n",
       "      <td>Alaska</td>\n",
       "      <td>731158</td>\n",
       "    </tr>\n",
       "    <tr>\n",
       "      <th>48</th>\n",
       "      <td>District of Columbia</td>\n",
       "      <td>712816</td>\n",
       "    </tr>\n",
       "    <tr>\n",
       "      <th>49</th>\n",
       "      <td>Vermont</td>\n",
       "      <td>623347</td>\n",
       "    </tr>\n",
       "    <tr>\n",
       "      <th>50</th>\n",
       "      <td>Wyoming</td>\n",
       "      <td>582328</td>\n",
       "    </tr>\n",
       "  </tbody>\n",
       "</table>\n",
       "</div>"
      ],
      "text/plain": [
       "               Territory  Population\n",
       "0             California    39368078\n",
       "1                  Texas    29360759\n",
       "2                Florida    21733312\n",
       "3               New York    19336776\n",
       "4           Pennsylvania    12783254\n",
       "5               Illinois    12587530\n",
       "6                   Ohio    11693217\n",
       "7                Georgia    10710017\n",
       "8         North Carolina    10600823\n",
       "9               Michigan     9966555\n",
       "10            New Jersey     8882371\n",
       "11              Virginia     8590563\n",
       "12            Washington     7693612\n",
       "13               Arizona     7421401\n",
       "14         Massachusetts     6893574\n",
       "15             Tennessee     6886834\n",
       "16               Indiana     6754953\n",
       "17              Missouri     6151548\n",
       "18              Maryland     6055802\n",
       "19             Wisconsin     5832655\n",
       "20              Colorado     5807719\n",
       "21             Minnesota     5657342\n",
       "22        South Carolina     5218040\n",
       "23               Alabama     4921532\n",
       "24             Louisiana     4645318\n",
       "25              Kentucky     4477251\n",
       "26                Oregon     4241507\n",
       "27              Oklahoma     3980783\n",
       "28           Connecticut     3557006\n",
       "29                  Utah     3249879\n",
       "30                  Iowa     3163561\n",
       "31                Nevada     3138259\n",
       "32              Arkansas     3030522\n",
       "33           Mississippi     2966786\n",
       "34                Kansas     2913805\n",
       "35            New Mexico     2106319\n",
       "36              Nebraska     1937552\n",
       "37                 Idaho     1826913\n",
       "38         West Virginia     1784787\n",
       "39                Hawaii     1407006\n",
       "40         New Hampshire     1366275\n",
       "41                 Maine     1350141\n",
       "42               Montana     1080577\n",
       "43          Rhode Island     1057125\n",
       "44              Delaware      986809\n",
       "45          South Dakota      892717\n",
       "46          North Dakota      765309\n",
       "47                Alaska      731158\n",
       "48  District of Columbia      712816\n",
       "49               Vermont      623347\n",
       "50               Wyoming      582328"
      ]
     },
     "execution_count": 144,
     "metadata": {},
     "output_type": "execute_result"
    }
   ],
   "source": [
    "population = pd.read_csv(\"data/us_state_population.csv\")\n",
    "population"
   ]
  },
  {
   "cell_type": "markdown",
   "metadata": {
    "cell_id": "00226-8147dc9b-914f-41f6-966b-b0cdcd7fdd03",
    "deepnote_cell_type": "markdown",
    "tags": []
   },
   "source": [
    "We will of course use the state name as the merge *key*. Before actually doing the merge, we can explore a bit whether all state names\n",
    "from the laser incidents dataset are present in our population table."
   ]
  },
  {
   "cell_type": "code",
   "execution_count": 145,
   "metadata": {
    "cell_id": "00227-6a0c8e33-2b0b-49a0-8f0f-32203eccfd66",
    "deepnote_cell_type": "code",
    "deepnote_to_be_reexecuted": false,
    "execution_millis": 1,
    "execution_start": 1611507614416,
    "source_hash": "5907dbcd",
    "tags": []
   },
   "outputs": [
    {
     "ename": "NameError",
     "evalue": "name 'laser_incidents' is not defined",
     "output_type": "error",
     "traceback": [
      "\u001b[1;31m---------------------------------------------------------------------------\u001b[0m",
      "\u001b[1;31mNameError\u001b[0m                                 Traceback (most recent call last)",
      "\u001b[1;32m<ipython-input-145-dd2fa8ca8574>\u001b[0m in \u001b[0;36m<module>\u001b[1;34m\u001b[0m\n\u001b[1;32m----> 1\u001b[1;33m \u001b[0munknown_states\u001b[0m \u001b[1;33m=\u001b[0m \u001b[0mlaser_incidents\u001b[0m\u001b[1;33m.\u001b[0m\u001b[0mloc\u001b[0m\u001b[1;33m[\u001b[0m\u001b[1;33m~\u001b[0m\u001b[0mlaser_incidents\u001b[0m\u001b[1;33m[\u001b[0m\u001b[1;34m\"State\"\u001b[0m\u001b[1;33m]\u001b[0m\u001b[1;33m.\u001b[0m\u001b[0misin\u001b[0m\u001b[1;33m(\u001b[0m\u001b[0mpopulation\u001b[0m\u001b[1;33m[\u001b[0m\u001b[1;34m\"Territory\"\u001b[0m\u001b[1;33m]\u001b[0m\u001b[1;33m)\u001b[0m\u001b[1;33m,\u001b[0m \u001b[1;34m\"State\"\u001b[0m\u001b[1;33m]\u001b[0m\u001b[1;33m\u001b[0m\u001b[1;33m\u001b[0m\u001b[0m\n\u001b[0m\u001b[0;32m      2\u001b[0m \u001b[0mprint\u001b[0m\u001b[1;33m(\u001b[0m\u001b[1;34mf\"There are {unknown_states.count()} rows with unknown states.\"\u001b[0m\u001b[1;33m)\u001b[0m\u001b[1;33m\u001b[0m\u001b[1;33m\u001b[0m\u001b[0m\n\u001b[0;32m      3\u001b[0m \u001b[0mprint\u001b[0m\u001b[1;33m(\u001b[0m\u001b[1;34mf\"Unknown state values are: \\n{list(unknown_states.unique())}.\"\u001b[0m\u001b[1;33m)\u001b[0m\u001b[1;33m\u001b[0m\u001b[1;33m\u001b[0m\u001b[0m\n",
      "\u001b[1;31mNameError\u001b[0m: name 'laser_incidents' is not defined"
     ]
    }
   ],
   "source": [
    "unknown_states = laser_incidents.loc[~laser_incidents[\"State\"].isin(population[\"Territory\"]), \"State\"]\n",
    "print(f\"There are {unknown_states.count()} rows with unknown states.\")\n",
    "print(f\"Unknown state values are: \\n{list(unknown_states.unique())}.\")"
   ]
  },
  {
   "cell_type": "markdown",
   "metadata": {
    "cell_id": "00228-b71602fc-802c-4d49-9352-842e9ff9a591",
    "deepnote_cell_type": "markdown"
   },
   "source": [
    "We could certainly clean the data by correcting some of the typos. Since the number of the rows with unknown states is not large\n",
    "(compared to the length of the whole dataset), we will deliberetly not fix the state names.\n",
    "Instead, we will remove those rows from the merged dataset by using the *inner* type of merge.\n",
    "All the merge types: *left*, *inner*, *outer* and *right* are well explained by the schema below.\n",
    "![merge types](image-20210124-115636.png)"
   ]
  },
  {
   "cell_type": "markdown",
   "metadata": {
    "cell_id": "00229-7ec9ba49-b9d3-489a-86bd-1e7965a512b0",
    "deepnote_cell_type": "markdown",
    "tags": []
   },
   "source": [
    "We can use the [`merge`](https://pandas.pydata.org/docs/reference/api/pandas.merge.html) function to add the `\"Population\"` values."
   ]
  },
  {
   "cell_type": "code",
   "execution_count": 146,
   "metadata": {
    "cell_id": "00230-ff4a24b6-527b-45f1-b552-a955156b6482",
    "deepnote_cell_type": "code",
    "deepnote_to_be_reexecuted": false,
    "execution_millis": 37,
    "execution_start": 1611508911052,
    "scrolled": true,
    "source_hash": "a9c59a48"
   },
   "outputs": [
    {
     "ename": "NameError",
     "evalue": "name 'laser_incidents' is not defined",
     "output_type": "error",
     "traceback": [
      "\u001b[1;31m---------------------------------------------------------------------------\u001b[0m",
      "\u001b[1;31mNameError\u001b[0m                                 Traceback (most recent call last)",
      "\u001b[1;32m<ipython-input-146-4ef0ec131c3e>\u001b[0m in \u001b[0;36m<module>\u001b[1;34m\u001b[0m\n\u001b[0;32m      1\u001b[0m laser_incidents_w_population = pd.merge(\n\u001b[1;32m----> 2\u001b[1;33m     \u001b[0mlaser_incidents\u001b[0m\u001b[1;33m,\u001b[0m \u001b[0mpopulation\u001b[0m\u001b[1;33m,\u001b[0m \u001b[0mleft_on\u001b[0m\u001b[1;33m=\u001b[0m\u001b[1;34m\"State\"\u001b[0m\u001b[1;33m,\u001b[0m \u001b[0mright_on\u001b[0m\u001b[1;33m=\u001b[0m\u001b[1;34m\"Territory\"\u001b[0m\u001b[1;33m,\u001b[0m \u001b[0mhow\u001b[0m\u001b[1;33m=\u001b[0m\u001b[1;34m\"inner\"\u001b[0m\u001b[1;33m\u001b[0m\u001b[1;33m\u001b[0m\u001b[0m\n\u001b[0m\u001b[0;32m      3\u001b[0m )\n",
      "\u001b[1;31mNameError\u001b[0m: name 'laser_incidents' is not defined"
     ]
    }
   ],
   "source": [
    "laser_incidents_w_population = pd.merge(\n",
    "    laser_incidents, population, left_on=\"State\", right_on=\"Territory\", how=\"inner\"\n",
    ")"
   ]
  },
  {
   "cell_type": "code",
   "execution_count": 147,
   "metadata": {
    "cell_id": "00231-6479b93f-1c71-4938-99c7-3ec9c177fc67",
    "deepnote_cell_type": "code",
    "deepnote_to_be_reexecuted": false,
    "execution_millis": 109,
    "execution_start": 1611508912450,
    "source_hash": "13cf3d59"
   },
   "outputs": [
    {
     "ename": "NameError",
     "evalue": "name 'laser_incidents_w_population' is not defined",
     "output_type": "error",
     "traceback": [
      "\u001b[1;31m---------------------------------------------------------------------------\u001b[0m",
      "\u001b[1;31mNameError\u001b[0m                                 Traceback (most recent call last)",
      "\u001b[1;32m<ipython-input-147-7154fa63a705>\u001b[0m in \u001b[0;36m<module>\u001b[1;34m\u001b[0m\n\u001b[1;32m----> 1\u001b[1;33m \u001b[0mlaser_incidents_w_population\u001b[0m\u001b[1;33m\u001b[0m\u001b[1;33m\u001b[0m\u001b[0m\n\u001b[0m",
      "\u001b[1;31mNameError\u001b[0m: name 'laser_incidents_w_population' is not defined"
     ]
    }
   ],
   "source": [
    "laser_incidents_w_population"
   ]
  },
  {
   "cell_type": "code",
   "execution_count": 148,
   "metadata": {
    "cell_id": "00232-d6b25695-d24a-46de-948d-e21f0d7d044d",
    "deepnote_cell_type": "code",
    "deepnote_to_be_reexecuted": false,
    "execution_millis": 261,
    "execution_start": 1611508936540,
    "source_hash": "e8ac57e1"
   },
   "outputs": [
    {
     "ename": "NameError",
     "evalue": "name 'laser_incidents_w_population' is not defined",
     "output_type": "error",
     "traceback": [
      "\u001b[1;31m---------------------------------------------------------------------------\u001b[0m",
      "\u001b[1;31mNameError\u001b[0m                                 Traceback (most recent call last)",
      "\u001b[1;32m<ipython-input-148-39c4483a897e>\u001b[0m in \u001b[0;36m<module>\u001b[1;34m\u001b[0m\n\u001b[1;32m----> 1\u001b[1;33m \u001b[0mlaser_incidents_w_population\u001b[0m\u001b[1;33m.\u001b[0m\u001b[0mdescribe\u001b[0m\u001b[1;33m(\u001b[0m\u001b[0minclude\u001b[0m\u001b[1;33m=\u001b[0m\u001b[1;34m\"all\"\u001b[0m\u001b[1;33m,\u001b[0m \u001b[0mdatetime_is_numeric\u001b[0m\u001b[1;33m=\u001b[0m\u001b[1;32mTrue\u001b[0m\u001b[1;33m)\u001b[0m\u001b[1;33m\u001b[0m\u001b[1;33m\u001b[0m\u001b[0m\n\u001b[0m",
      "\u001b[1;31mNameError\u001b[0m: name 'laser_incidents_w_population' is not defined"
     ]
    }
   ],
   "source": [
    "laser_incidents_w_population.describe(include=\"all\", datetime_is_numeric=True)"
   ]
  },
  {
   "cell_type": "markdown",
   "metadata": {
    "cell_id": "00233-a55496fd-adeb-4df6-acc8-95de93fb56fc",
    "deepnote_cell_type": "markdown"
   },
   "source": [
    "## Grouping & aggregation\n",
    "\n",
    "A common pattern in data analysis is grouping (or binning) data based on some property and getting some aggredate statistics.\n",
    "\n",
    "*Example:* Group this workshop participants by nationality a get the cardinality (the size) of each group."
   ]
  },
  {
   "cell_type": "markdown",
   "metadata": {
    "cell_id": "00234-cd96e084-45a7-4d0c-92b7-3b36e019f3dc",
    "deepnote_cell_type": "markdown",
    "tags": []
   },
   "source": [
    "Possibly the simplest group and aggregation is the `value_counts` method, which groups by the respective column value\n",
    "and yields the number (or normalized frequency) of each unique value in the data."
   ]
  },
  {
   "cell_type": "code",
   "execution_count": 149,
   "metadata": {
    "cell_id": "00235-ff04b023-4ba1-4c9e-95d2-ace15161ee6c",
    "deepnote_cell_type": "code",
    "deepnote_to_be_reexecuted": false,
    "execution_millis": 1,
    "execution_start": 1611509154649,
    "source_hash": "17d3e2ac",
    "tags": []
   },
   "outputs": [
    {
     "ename": "NameError",
     "evalue": "name 'laser_incidents_w_population' is not defined",
     "output_type": "error",
     "traceback": [
      "\u001b[1;31m---------------------------------------------------------------------------\u001b[0m",
      "\u001b[1;31mNameError\u001b[0m                                 Traceback (most recent call last)",
      "\u001b[1;32m<ipython-input-149-453443543956>\u001b[0m in \u001b[0;36m<module>\u001b[1;34m\u001b[0m\n\u001b[1;32m----> 1\u001b[1;33m \u001b[0mlaser_incidents_w_population\u001b[0m\u001b[1;33m[\u001b[0m\u001b[1;34m\"State\"\u001b[0m\u001b[1;33m]\u001b[0m\u001b[1;33m.\u001b[0m\u001b[0mvalue_counts\u001b[0m\u001b[1;33m(\u001b[0m\u001b[0mnormalize\u001b[0m\u001b[1;33m=\u001b[0m\u001b[1;32mFalse\u001b[0m\u001b[1;33m)\u001b[0m\u001b[1;33m\u001b[0m\u001b[1;33m\u001b[0m\u001b[0m\n\u001b[0m",
      "\u001b[1;31mNameError\u001b[0m: name 'laser_incidents_w_population' is not defined"
     ]
    }
   ],
   "source": [
    "laser_incidents_w_population[\"State\"].value_counts(normalize=False)"
   ]
  },
  {
   "cell_type": "markdown",
   "metadata": {
    "cell_id": "00236-162b4e43-c0a5-4e6e-81e7-c67d07c9727c",
    "deepnote_cell_type": "markdown",
    "tags": []
   },
   "source": [
    "This is just a primitive grouping and aggregation operation, we will look into more advanced patterns. \n",
    "Let us say we would like to get some numbers (statistics) for individual states.\n",
    "We can [`groupby`](https://pandas.pydata.org/docs/reference/api/pandas.DataFrame.groupby.html) the dataset by the `\"State\"` column:"
   ]
  },
  {
   "cell_type": "code",
   "execution_count": 150,
   "metadata": {
    "cell_id": "00237-40cb5372-c1dd-48e6-a1f7-78c8508ee65d",
    "deepnote_cell_type": "code",
    "deepnote_to_be_reexecuted": false,
    "execution_millis": 0,
    "execution_start": 1611509478519,
    "source_hash": "93ed3a20"
   },
   "outputs": [
    {
     "ename": "NameError",
     "evalue": "name 'laser_incidents_w_population' is not defined",
     "output_type": "error",
     "traceback": [
      "\u001b[1;31m---------------------------------------------------------------------------\u001b[0m",
      "\u001b[1;31mNameError\u001b[0m                                 Traceback (most recent call last)",
      "\u001b[1;32m<ipython-input-150-3f7ee3af92bc>\u001b[0m in \u001b[0;36m<module>\u001b[1;34m\u001b[0m\n\u001b[1;32m----> 1\u001b[1;33m \u001b[0mgrouped_by_state\u001b[0m \u001b[1;33m=\u001b[0m \u001b[0mlaser_incidents_w_population\u001b[0m\u001b[1;33m.\u001b[0m\u001b[0mgroupby\u001b[0m\u001b[1;33m(\u001b[0m\u001b[1;34m\"State\"\u001b[0m\u001b[1;33m)\u001b[0m\u001b[1;33m\u001b[0m\u001b[1;33m\u001b[0m\u001b[0m\n\u001b[0m",
      "\u001b[1;31mNameError\u001b[0m: name 'laser_incidents_w_population' is not defined"
     ]
    }
   ],
   "source": [
    "grouped_by_state = laser_incidents_w_population.groupby(\"State\")"
   ]
  },
  {
   "cell_type": "markdown",
   "metadata": {
    "cell_id": "00238-34236922-5ddf-42fe-9e33-0739ace84d5d",
    "deepnote_cell_type": "markdown"
   },
   "source": [
    "What did we get? "
   ]
  },
  {
   "cell_type": "code",
   "execution_count": 151,
   "metadata": {
    "cell_id": "00239-180ff963-2b88-45b6-9229-da93d83943ae",
    "deepnote_cell_type": "code",
    "deepnote_to_be_reexecuted": false,
    "execution_millis": 0,
    "execution_start": 1611509482910,
    "source_hash": "67295c6d"
   },
   "outputs": [
    {
     "ename": "NameError",
     "evalue": "name 'grouped_by_state' is not defined",
     "output_type": "error",
     "traceback": [
      "\u001b[1;31m---------------------------------------------------------------------------\u001b[0m",
      "\u001b[1;31mNameError\u001b[0m                                 Traceback (most recent call last)",
      "\u001b[1;32m<ipython-input-151-eb50895cd9ca>\u001b[0m in \u001b[0;36m<module>\u001b[1;34m\u001b[0m\n\u001b[1;32m----> 1\u001b[1;33m \u001b[0mgrouped_by_state\u001b[0m\u001b[1;33m\u001b[0m\u001b[1;33m\u001b[0m\u001b[0m\n\u001b[0m",
      "\u001b[1;31mNameError\u001b[0m: name 'grouped_by_state' is not defined"
     ]
    }
   ],
   "source": [
    "grouped_by_state"
   ]
  },
  {
   "cell_type": "markdown",
   "metadata": {
    "cell_id": "00240-02705e76-6766-43d1-bea8-92907f6ba93e",
    "deepnote_cell_type": "markdown"
   },
   "source": [
    "What is this `DataFrameGroupBy` object? [Its use case is](http://pandas.pydata.org/pandas-docs/stable/user_guide/groupby.html):\n",
    "* Splitting the data into groups based on some criteria.\n",
    "* Applying a function to each group independently.\n",
    "* Combining the results into a data structure.\n"
   ]
  },
  {
   "cell_type": "markdown",
   "metadata": {
    "cell_id": "00241-6f20b354-c6fa-4f80-aab2-a5bf03b1bc58",
    "deepnote_cell_type": "markdown"
   },
   "source": [
    "Let's try a simple aggregate: the mean of altitude for each state:"
   ]
  },
  {
   "cell_type": "code",
   "execution_count": 152,
   "metadata": {
    "cell_id": "00242-53cf6c41-e0fc-401e-86da-9feecba8c0d8",
    "deepnote_cell_type": "code",
    "deepnote_to_be_reexecuted": false,
    "execution_millis": 1,
    "execution_start": 1611515671248,
    "source_hash": "96a64c50"
   },
   "outputs": [
    {
     "ename": "NameError",
     "evalue": "name 'grouped_by_state' is not defined",
     "output_type": "error",
     "traceback": [
      "\u001b[1;31m---------------------------------------------------------------------------\u001b[0m",
      "\u001b[1;31mNameError\u001b[0m                                 Traceback (most recent call last)",
      "\u001b[1;32m<ipython-input-152-f2b78e4b6160>\u001b[0m in \u001b[0;36m<module>\u001b[1;34m\u001b[0m\n\u001b[1;32m----> 1\u001b[1;33m \u001b[0mgrouped_by_state\u001b[0m\u001b[1;33m[\u001b[0m\u001b[1;34m\"Altitude\"\u001b[0m\u001b[1;33m]\u001b[0m\u001b[1;33m.\u001b[0m\u001b[0mmean\u001b[0m\u001b[1;33m(\u001b[0m\u001b[1;33m)\u001b[0m\u001b[1;33m.\u001b[0m\u001b[0msort_values\u001b[0m\u001b[1;33m(\u001b[0m\u001b[1;33m)\u001b[0m\u001b[1;33m\u001b[0m\u001b[1;33m\u001b[0m\u001b[0m\n\u001b[0m",
      "\u001b[1;31mNameError\u001b[0m: name 'grouped_by_state' is not defined"
     ]
    }
   ],
   "source": [
    "grouped_by_state[\"Altitude\"].mean().sort_values()"
   ]
  },
  {
   "cell_type": "markdown",
   "metadata": {
    "cell_id": "00243-7ed92fb7-0072-4778-a14b-d361a388eedb",
    "deepnote_cell_type": "markdown"
   },
   "source": [
    "What if we were to group by year? We don't have a year column but we can just extract the year from the date and use it for `groupby`."
   ]
  },
  {
   "cell_type": "code",
   "execution_count": 153,
   "metadata": {
    "cell_id": "00244-fa3bee11-be57-4f94-9952-dfcdef83d3e5",
    "deepnote_cell_type": "code",
    "deepnote_to_be_reexecuted": false,
    "execution_millis": 1,
    "execution_start": 1611498164752,
    "source_hash": "fc8d42a7"
   },
   "outputs": [
    {
     "ename": "NameError",
     "evalue": "name 'laser_incidents_w_population' is not defined",
     "output_type": "error",
     "traceback": [
      "\u001b[1;31m---------------------------------------------------------------------------\u001b[0m",
      "\u001b[1;31mNameError\u001b[0m                                 Traceback (most recent call last)",
      "\u001b[1;32m<ipython-input-153-9a6f928e7b38>\u001b[0m in \u001b[0;36m<module>\u001b[1;34m\u001b[0m\n\u001b[1;32m----> 1\u001b[1;33m \u001b[0mgrouped_by_year\u001b[0m \u001b[1;33m=\u001b[0m \u001b[0mlaser_incidents_w_population\u001b[0m\u001b[1;33m.\u001b[0m\u001b[0mgroupby\u001b[0m\u001b[1;33m(\u001b[0m\u001b[0mlaser_incidents_w_population\u001b[0m\u001b[1;33m[\u001b[0m\u001b[1;34m\"timestamp\"\u001b[0m\u001b[1;33m]\u001b[0m\u001b[1;33m.\u001b[0m\u001b[0mdt\u001b[0m\u001b[1;33m.\u001b[0m\u001b[0myear\u001b[0m\u001b[1;33m)\u001b[0m\u001b[1;33m\u001b[0m\u001b[1;33m\u001b[0m\u001b[0m\n\u001b[0m",
      "\u001b[1;31mNameError\u001b[0m: name 'laser_incidents_w_population' is not defined"
     ]
    }
   ],
   "source": [
    "grouped_by_year = laser_incidents_w_population.groupby(laser_incidents_w_population[\"timestamp\"].dt.year)"
   ]
  },
  {
   "cell_type": "markdown",
   "metadata": {
    "cell_id": "00245-151ab8cf-19db-4991-aa09-10228e1f2ece",
    "deepnote_cell_type": "markdown",
    "tags": []
   },
   "source": [
    "You may have noticed how we extracted the year using the [`.dt` accessor](https://pandas.pydata.org/docs/user_guide/basics.html#basics-dt-accessors).\n",
    "We will use `.dt` even more below."
   ]
  },
  {
   "cell_type": "markdown",
   "metadata": {
    "cell_id": "00246-e25b5d25-0169-46dd-830a-0f370853727b",
    "deepnote_cell_type": "markdown",
    "tags": []
   },
   "source": [
    "Let's calculate the mean altitude of laser incidents per year. Are the lasers getting more powerful? 🤔"
   ]
  },
  {
   "cell_type": "code",
   "execution_count": 154,
   "metadata": {
    "cell_id": "00247-a6f39663-ecf7-40c6-9dee-9f55a04d8976",
    "deepnote_cell_type": "code",
    "deepnote_to_be_reexecuted": false,
    "execution_millis": 4,
    "execution_start": 1611515969081,
    "source_hash": "63689ae0",
    "tags": []
   },
   "outputs": [
    {
     "ename": "NameError",
     "evalue": "name 'grouped_by_year' is not defined",
     "output_type": "error",
     "traceback": [
      "\u001b[1;31m---------------------------------------------------------------------------\u001b[0m",
      "\u001b[1;31mNameError\u001b[0m                                 Traceback (most recent call last)",
      "\u001b[1;32m<ipython-input-154-9b1dcef4b057>\u001b[0m in \u001b[0;36m<module>\u001b[1;34m\u001b[0m\n\u001b[1;32m----> 1\u001b[1;33m \u001b[0mmean_altitude_per_year\u001b[0m \u001b[1;33m=\u001b[0m \u001b[0mgrouped_by_year\u001b[0m\u001b[1;33m[\u001b[0m\u001b[1;34m\"Altitude\"\u001b[0m\u001b[1;33m]\u001b[0m\u001b[1;33m.\u001b[0m\u001b[0mmean\u001b[0m\u001b[1;33m(\u001b[0m\u001b[1;33m)\u001b[0m\u001b[1;33m.\u001b[0m\u001b[0msort_index\u001b[0m\u001b[1;33m(\u001b[0m\u001b[1;33m)\u001b[0m\u001b[1;33m\u001b[0m\u001b[1;33m\u001b[0m\u001b[0m\n\u001b[0m\u001b[0;32m      2\u001b[0m \u001b[0mmean_altitude_per_year\u001b[0m\u001b[1;33m\u001b[0m\u001b[1;33m\u001b[0m\u001b[0m\n",
      "\u001b[1;31mNameError\u001b[0m: name 'grouped_by_year' is not defined"
     ]
    }
   ],
   "source": [
    "mean_altitude_per_year = grouped_by_year[\"Altitude\"].mean().sort_index()\n",
    "mean_altitude_per_year"
   ]
  },
  {
   "cell_type": "markdown",
   "metadata": {
    "cell_id": "00248-b0e4965f-87d6-417f-be95-e135dc69eb65",
    "deepnote_cell_type": "markdown",
    "tags": []
   },
   "source": [
    "We can also quickly plot the results, more on plotting in the next lessons."
   ]
  },
  {
   "cell_type": "code",
   "execution_count": 155,
   "metadata": {
    "cell_id": "00249-3a86526f-bd32-406b-a34e-4dc9c21e3364",
    "deepnote_cell_type": "code",
    "deepnote_to_be_reexecuted": false,
    "execution_millis": 352,
    "execution_start": 1611516072032,
    "source_hash": "f6c49ffd",
    "tags": []
   },
   "outputs": [
    {
     "ename": "NameError",
     "evalue": "name 'mean_altitude_per_year' is not defined",
     "output_type": "error",
     "traceback": [
      "\u001b[1;31m---------------------------------------------------------------------------\u001b[0m",
      "\u001b[1;31mNameError\u001b[0m                                 Traceback (most recent call last)",
      "\u001b[1;32m<ipython-input-155-a4302d3041da>\u001b[0m in \u001b[0;36m<module>\u001b[1;34m\u001b[0m\n\u001b[1;32m----> 1\u001b[1;33m \u001b[0mmean_altitude_per_year\u001b[0m\u001b[1;33m.\u001b[0m\u001b[0mplot\u001b[0m\u001b[1;33m(\u001b[0m\u001b[0mkind\u001b[0m\u001b[1;33m=\u001b[0m\u001b[1;34m\"bar\"\u001b[0m\u001b[1;33m)\u001b[0m\u001b[1;33m;\u001b[0m\u001b[1;33m\u001b[0m\u001b[1;33m\u001b[0m\u001b[0m\n\u001b[0m",
      "\u001b[1;31mNameError\u001b[0m: name 'mean_altitude_per_year' is not defined"
     ]
    }
   ],
   "source": [
    "mean_altitude_per_year.plot(kind=\"bar\");"
   ]
  },
  {
   "cell_type": "markdown",
   "metadata": {
    "cell_id": "00250-cc141cd5-94c6-4cc0-ad6c-55b447ffa775",
    "deepnote_cell_type": "markdown",
    "tags": []
   },
   "source": [
    "**Exercise:** Calculate the `sum` of injuries per year. Use the fact that `True + True = 2` ;)"
   ]
  },
  {
   "cell_type": "markdown",
   "metadata": {
    "cell_id": "00251-730c3364-9926-4709-ac1f-cf5c999862f4",
    "deepnote_cell_type": "markdown",
    "tags": []
   },
   "source": [
    "We can also create a new `Series` if the corresponding column does not exist in the dataframe and group it by another `Series`\n",
    "(which in this case is a column from the dataframe). Important is that the grouped and the by series have the same index."
   ]
  },
  {
   "cell_type": "code",
   "execution_count": 156,
   "metadata": {
    "cell_id": "00252-b9071b33-09a3-4608-9134-1c6740dced6e",
    "deepnote_cell_type": "code",
    "deepnote_to_be_reexecuted": false,
    "execution_millis": 45,
    "execution_start": 1611516644419,
    "source_hash": "27735942",
    "tags": []
   },
   "outputs": [
    {
     "ename": "NameError",
     "evalue": "name 'laser_incidents_w_population' is not defined",
     "output_type": "error",
     "traceback": [
      "\u001b[1;31m---------------------------------------------------------------------------\u001b[0m",
      "\u001b[1;31mNameError\u001b[0m                                 Traceback (most recent call last)",
      "\u001b[1;32m<ipython-input-156-bf890ff3ead7>\u001b[0m in \u001b[0;36m<module>\u001b[1;34m\u001b[0m\n\u001b[0;32m      1\u001b[0m \u001b[1;31m# how many incidents per million inhabitants are there for each state?\u001b[0m\u001b[1;33m\u001b[0m\u001b[1;33m\u001b[0m\u001b[1;33m\u001b[0m\u001b[0m\n\u001b[1;32m----> 2\u001b[1;33m \u001b[0mincidents_per_million\u001b[0m \u001b[1;33m=\u001b[0m \u001b[1;33m(\u001b[0m\u001b[1;36m1_000_000\u001b[0m \u001b[1;33m/\u001b[0m \u001b[0mlaser_incidents_w_population\u001b[0m\u001b[1;33m[\u001b[0m\u001b[1;34m\"Population\"\u001b[0m\u001b[1;33m]\u001b[0m\u001b[1;33m)\u001b[0m\u001b[1;33m.\u001b[0m\u001b[0mgroupby\u001b[0m\u001b[1;33m(\u001b[0m\u001b[0mlaser_incidents_w_population\u001b[0m\u001b[1;33m[\u001b[0m\u001b[1;34m\"State\"\u001b[0m\u001b[1;33m]\u001b[0m\u001b[1;33m)\u001b[0m\u001b[1;33m.\u001b[0m\u001b[0msum\u001b[0m\u001b[1;33m(\u001b[0m\u001b[1;33m)\u001b[0m\u001b[1;33m\u001b[0m\u001b[1;33m\u001b[0m\u001b[0m\n\u001b[0m\u001b[0;32m      3\u001b[0m \u001b[0mincidents_per_million\u001b[0m\u001b[1;33m.\u001b[0m\u001b[0msort_values\u001b[0m\u001b[1;33m(\u001b[0m\u001b[0mascending\u001b[0m\u001b[1;33m=\u001b[0m\u001b[1;32mFalse\u001b[0m\u001b[1;33m)\u001b[0m\u001b[1;33m\u001b[0m\u001b[1;33m\u001b[0m\u001b[0m\n",
      "\u001b[1;31mNameError\u001b[0m: name 'laser_incidents_w_population' is not defined"
     ]
    }
   ],
   "source": [
    "# how many incidents per million inhabitants are there for each state?\n",
    "incidents_per_million = (1_000_000 / laser_incidents_w_population[\"Population\"]).groupby(laser_incidents_w_population[\"State\"]).sum()\n",
    "incidents_per_million.sort_values(ascending=False)"
   ]
  },
  {
   "cell_type": "code",
   "execution_count": 157,
   "metadata": {
    "cell_id": "00253-2cf35a58-2508-425c-aef7-063c528317ea",
    "deepnote_cell_type": "code",
    "deepnote_to_be_reexecuted": false,
    "execution_millis": 1890,
    "execution_start": 1611516730888,
    "source_hash": "6ac122fc",
    "tags": []
   },
   "outputs": [
    {
     "ename": "NameError",
     "evalue": "name 'incidents_per_million' is not defined",
     "output_type": "error",
     "traceback": [
      "\u001b[1;31m---------------------------------------------------------------------------\u001b[0m",
      "\u001b[1;31mNameError\u001b[0m                                 Traceback (most recent call last)",
      "\u001b[1;32m<ipython-input-157-bcc667ee4fa3>\u001b[0m in \u001b[0;36m<module>\u001b[1;34m\u001b[0m\n\u001b[1;32m----> 1\u001b[1;33m \u001b[0mincidents_per_million\u001b[0m\u001b[1;33m.\u001b[0m\u001b[0msort_values\u001b[0m\u001b[1;33m(\u001b[0m\u001b[1;33m)\u001b[0m\u001b[1;33m.\u001b[0m\u001b[0mplot\u001b[0m\u001b[1;33m(\u001b[0m\u001b[0mkind\u001b[0m\u001b[1;33m=\u001b[0m\u001b[1;34m\"bar\"\u001b[0m\u001b[1;33m,\u001b[0m \u001b[0mfigsize\u001b[0m\u001b[1;33m=\u001b[0m\u001b[1;33m(\u001b[0m\u001b[1;36m15\u001b[0m\u001b[1;33m,\u001b[0m \u001b[1;36m3\u001b[0m\u001b[1;33m)\u001b[0m\u001b[1;33m)\u001b[0m\u001b[1;33m;\u001b[0m\u001b[1;33m\u001b[0m\u001b[1;33m\u001b[0m\u001b[0m\n\u001b[0m",
      "\u001b[1;31mNameError\u001b[0m: name 'incidents_per_million' is not defined"
     ]
    }
   ],
   "source": [
    "incidents_per_million.sort_values().plot(kind=\"bar\", figsize=(15, 3));"
   ]
  },
  {
   "cell_type": "markdown",
   "metadata": {
    "cell_id": "00254-d21271e7-9449-41fe-a96d-a57561b91e50",
    "deepnote_cell_type": "markdown",
    "tags": []
   },
   "source": [
    "## Time series operations\n",
    "\n",
    "We will briefly look at some more specific operation for time series data (data with a natural time axis).\n",
    "Typical operations for time series are resampling or rolling window transformations such as filtering.\n",
    "Note that Pandas is not a general digital signal processing library - there are other (more capable) tools for this purpose.\n",
    "\n",
    "First, we set the index to `\"timestamp\"` to make our dataframe inherently time indexed. This will make doing further time operations easier."
   ]
  },
  {
   "cell_type": "code",
   "execution_count": 158,
   "metadata": {
    "cell_id": "00255-c54372ae-004e-41f2-8334-35239a345c2d",
    "deepnote_cell_type": "code",
    "deepnote_to_be_reexecuted": false,
    "execution_millis": 82,
    "execution_start": 1611499336795,
    "source_hash": "255850a5",
    "tags": []
   },
   "outputs": [
    {
     "ename": "NameError",
     "evalue": "name 'laser_incidents' is not defined",
     "output_type": "error",
     "traceback": [
      "\u001b[1;31m---------------------------------------------------------------------------\u001b[0m",
      "\u001b[1;31mNameError\u001b[0m                                 Traceback (most recent call last)",
      "\u001b[1;32m<ipython-input-158-daedc1f62080>\u001b[0m in \u001b[0;36m<module>\u001b[1;34m\u001b[0m\n\u001b[1;32m----> 1\u001b[1;33m \u001b[0mincidents_w_time_index\u001b[0m \u001b[1;33m=\u001b[0m \u001b[0mlaser_incidents\u001b[0m\u001b[1;33m.\u001b[0m\u001b[0mset_index\u001b[0m\u001b[1;33m(\u001b[0m\u001b[1;34m\"timestamp\"\u001b[0m\u001b[1;33m)\u001b[0m\u001b[1;33m\u001b[0m\u001b[1;33m\u001b[0m\u001b[0m\n\u001b[0m\u001b[0;32m      2\u001b[0m \u001b[0mincidents_w_time_index\u001b[0m\u001b[1;33m\u001b[0m\u001b[1;33m\u001b[0m\u001b[0m\n",
      "\u001b[1;31mNameError\u001b[0m: name 'laser_incidents' is not defined"
     ]
    }
   ],
   "source": [
    "incidents_w_time_index = laser_incidents.set_index(\"timestamp\")\n",
    "incidents_w_time_index"
   ]
  },
  {
   "cell_type": "markdown",
   "metadata": {
    "cell_id": "00256-c91d8bbe-0421-40ea-ad11-0294041054c9",
    "deepnote_cell_type": "markdown",
    "tags": []
   },
   "source": [
    "First, turn the data into a time series of incidents per hour. This can be done by resampling to 1 hour and using \n",
    "`count` (basically on any column or on any column that has any non-NA value) to count the number of incidents."
   ]
  },
  {
   "cell_type": "code",
   "execution_count": 159,
   "metadata": {
    "cell_id": "00257-6b22d2e5-f4c0-4444-b231-4a84c8b33f77",
    "deepnote_cell_type": "code",
    "deepnote_to_be_reexecuted": false,
    "execution_millis": 19,
    "execution_start": 1611517748613,
    "source_hash": "a673441c",
    "tags": []
   },
   "outputs": [
    {
     "ename": "NameError",
     "evalue": "name 'incidents_w_time_index' is not defined",
     "output_type": "error",
     "traceback": [
      "\u001b[1;31m---------------------------------------------------------------------------\u001b[0m",
      "\u001b[1;31mNameError\u001b[0m                                 Traceback (most recent call last)",
      "\u001b[1;32m<ipython-input-159-ac020e62d77b>\u001b[0m in \u001b[0;36m<module>\u001b[1;34m\u001b[0m\n\u001b[1;32m----> 1\u001b[1;33m \u001b[0mincidents_hourly\u001b[0m \u001b[1;33m=\u001b[0m \u001b[0mincidents_w_time_index\u001b[0m\u001b[1;33m.\u001b[0m\u001b[0mnotna\u001b[0m\u001b[1;33m(\u001b[0m\u001b[1;33m)\u001b[0m\u001b[1;33m.\u001b[0m\u001b[0many\u001b[0m\u001b[1;33m(\u001b[0m\u001b[0maxis\u001b[0m\u001b[1;33m=\u001b[0m\u001b[1;34m\"columns\"\u001b[0m\u001b[1;33m)\u001b[0m\u001b[1;33m.\u001b[0m\u001b[0mresample\u001b[0m\u001b[1;33m(\u001b[0m\u001b[1;34m\"1H\"\u001b[0m\u001b[1;33m)\u001b[0m\u001b[1;33m.\u001b[0m\u001b[0mcount\u001b[0m\u001b[1;33m(\u001b[0m\u001b[1;33m)\u001b[0m\u001b[1;33m.\u001b[0m\u001b[0mrename\u001b[0m\u001b[1;33m(\u001b[0m\u001b[1;34m\"incidents per hour\"\u001b[0m\u001b[1;33m)\u001b[0m\u001b[1;33m\u001b[0m\u001b[1;33m\u001b[0m\u001b[0m\n\u001b[0m\u001b[0;32m      2\u001b[0m \u001b[0mincidents_hourly\u001b[0m\u001b[1;33m\u001b[0m\u001b[1;33m\u001b[0m\u001b[0m\n",
      "\u001b[1;31mNameError\u001b[0m: name 'incidents_w_time_index' is not defined"
     ]
    }
   ],
   "source": [
    "incidents_hourly = incidents_w_time_index.notna().any(axis=\"columns\").resample(\"1H\").count().rename(\"incidents per hour\")\n",
    "incidents_hourly"
   ]
  },
  {
   "cell_type": "markdown",
   "metadata": {
    "cell_id": "00258-2e038a7b-dfdf-4f1a-9db6-602b72bfed15",
    "deepnote_cell_type": "markdown",
    "tags": []
   },
   "source": [
    "Looking at those data gives us a bit too detailed information."
   ]
  },
  {
   "cell_type": "code",
   "execution_count": 160,
   "metadata": {
    "cell_id": "00259-400f3d4a-95df-4434-9554-b6abc9b19084",
    "deepnote_cell_type": "code",
    "deepnote_to_be_reexecuted": false,
    "execution_millis": 495,
    "execution_start": 1611517956996,
    "source_hash": "9cc2db73",
    "tags": []
   },
   "outputs": [
    {
     "ename": "NameError",
     "evalue": "name 'incidents_hourly' is not defined",
     "output_type": "error",
     "traceback": [
      "\u001b[1;31m---------------------------------------------------------------------------\u001b[0m",
      "\u001b[1;31mNameError\u001b[0m                                 Traceback (most recent call last)",
      "\u001b[1;32m<ipython-input-160-856f040e38bc>\u001b[0m in \u001b[0;36m<module>\u001b[1;34m\u001b[0m\n\u001b[1;32m----> 1\u001b[1;33m \u001b[0mincidents_hourly\u001b[0m\u001b[1;33m.\u001b[0m\u001b[0msort_index\u001b[0m\u001b[1;33m(\u001b[0m\u001b[1;33m)\u001b[0m\u001b[1;33m.\u001b[0m\u001b[0mplot\u001b[0m\u001b[1;33m(\u001b[0m\u001b[0mkind\u001b[0m\u001b[1;33m=\u001b[0m\u001b[1;34m\"line\"\u001b[0m\u001b[1;33m,\u001b[0m \u001b[0mfigsize\u001b[0m\u001b[1;33m=\u001b[0m\u001b[1;33m(\u001b[0m\u001b[1;36m15\u001b[0m\u001b[1;33m,\u001b[0m \u001b[1;36m3\u001b[0m\u001b[1;33m)\u001b[0m\u001b[1;33m)\u001b[0m\u001b[1;33m;\u001b[0m\u001b[1;33m\u001b[0m\u001b[1;33m\u001b[0m\u001b[0m\n\u001b[0m",
      "\u001b[1;31mNameError\u001b[0m: name 'incidents_hourly' is not defined"
     ]
    }
   ],
   "source": [
    "incidents_hourly.sort_index().plot(kind=\"line\", figsize=(15, 3));"
   ]
  },
  {
   "cell_type": "markdown",
   "metadata": {
    "cell_id": "00260-5084b047-e81c-4677-8c13-0e1c8b7e25b5",
    "deepnote_cell_type": "markdown",
    "tags": []
   },
   "source": [
    "A daily mean, the result of resampling to 1 day periods and calculating the mean, is already something more digestible. \n",
    "Though still a bit noisy."
   ]
  },
  {
   "cell_type": "code",
   "execution_count": 161,
   "metadata": {
    "cell_id": "00261-41a60c90-c1d7-4254-911a-a0ec99619f65",
    "deepnote_cell_type": "code",
    "deepnote_to_be_reexecuted": false,
    "execution_millis": 285,
    "execution_start": 1611518109508,
    "source_hash": "b08f63b6",
    "tags": []
   },
   "outputs": [
    {
     "ename": "NameError",
     "evalue": "name 'incidents_hourly' is not defined",
     "output_type": "error",
     "traceback": [
      "\u001b[1;31m---------------------------------------------------------------------------\u001b[0m",
      "\u001b[1;31mNameError\u001b[0m                                 Traceback (most recent call last)",
      "\u001b[1;32m<ipython-input-161-6f45845eb1eb>\u001b[0m in \u001b[0;36m<module>\u001b[1;34m\u001b[0m\n\u001b[1;32m----> 1\u001b[1;33m \u001b[0mincidents_daily\u001b[0m \u001b[1;33m=\u001b[0m \u001b[0mincidents_hourly\u001b[0m\u001b[1;33m.\u001b[0m\u001b[0mresample\u001b[0m\u001b[1;33m(\u001b[0m\u001b[1;34m\"1D\"\u001b[0m\u001b[1;33m)\u001b[0m\u001b[1;33m.\u001b[0m\u001b[0mmean\u001b[0m\u001b[1;33m(\u001b[0m\u001b[1;33m)\u001b[0m\u001b[1;33m\u001b[0m\u001b[1;33m\u001b[0m\u001b[0m\n\u001b[0m\u001b[0;32m      2\u001b[0m \u001b[0mincidents_daily\u001b[0m\u001b[1;33m.\u001b[0m\u001b[0mplot\u001b[0m\u001b[1;33m.\u001b[0m\u001b[0mline\u001b[0m\u001b[1;33m(\u001b[0m\u001b[0mfigsize\u001b[0m\u001b[1;33m=\u001b[0m\u001b[1;33m(\u001b[0m\u001b[1;36m15\u001b[0m\u001b[1;33m,\u001b[0m \u001b[1;36m3\u001b[0m\u001b[1;33m)\u001b[0m\u001b[1;33m)\u001b[0m\u001b[1;33m;\u001b[0m\u001b[1;33m\u001b[0m\u001b[1;33m\u001b[0m\u001b[0m\n",
      "\u001b[1;31mNameError\u001b[0m: name 'incidents_hourly' is not defined"
     ]
    }
   ],
   "source": [
    "incidents_daily = incidents_hourly.resample(\"1D\").mean()\n",
    "incidents_daily.plot.line(figsize=(15, 3));"
   ]
  },
  {
   "cell_type": "markdown",
   "metadata": {
    "cell_id": "00262-0b0a784a-ad1b-4466-93f0-38e3b8fc7357",
    "deepnote_cell_type": "markdown",
    "tags": []
   },
   "source": [
    "We can look at filtered data by rolling mean with, e.g., 28 days window size."
   ]
  },
  {
   "cell_type": "code",
   "execution_count": 162,
   "metadata": {
    "cell_id": "00263-4cf9649d-4308-4ca1-b27d-0a426d499edd",
    "deepnote_cell_type": "code",
    "deepnote_to_be_reexecuted": false,
    "execution_millis": 477,
    "execution_start": 1611499924816,
    "source_hash": "c3e5c2ca",
    "tags": []
   },
   "outputs": [
    {
     "ename": "NameError",
     "evalue": "name 'incidents_daily' is not defined",
     "output_type": "error",
     "traceback": [
      "\u001b[1;31m---------------------------------------------------------------------------\u001b[0m",
      "\u001b[1;31mNameError\u001b[0m                                 Traceback (most recent call last)",
      "\u001b[1;32m<ipython-input-162-10310ba5e26e>\u001b[0m in \u001b[0;36m<module>\u001b[1;34m\u001b[0m\n\u001b[1;32m----> 1\u001b[1;33m \u001b[0mincidents_daily_filtered\u001b[0m \u001b[1;33m=\u001b[0m \u001b[0mincidents_daily\u001b[0m\u001b[1;33m.\u001b[0m\u001b[0mrolling\u001b[0m\u001b[1;33m(\u001b[0m\u001b[1;34m\"28D\"\u001b[0m\u001b[1;33m)\u001b[0m\u001b[1;33m.\u001b[0m\u001b[0mmean\u001b[0m\u001b[1;33m(\u001b[0m\u001b[1;33m)\u001b[0m\u001b[1;33m\u001b[0m\u001b[1;33m\u001b[0m\u001b[0m\n\u001b[0m\u001b[0;32m      2\u001b[0m \u001b[0mincidents_daily\u001b[0m\u001b[1;33m.\u001b[0m\u001b[0mplot\u001b[0m\u001b[1;33m.\u001b[0m\u001b[0mline\u001b[0m\u001b[1;33m(\u001b[0m\u001b[0mfigsize\u001b[0m\u001b[1;33m=\u001b[0m\u001b[1;33m(\u001b[0m\u001b[1;36m15\u001b[0m\u001b[1;33m,\u001b[0m \u001b[1;36m3\u001b[0m\u001b[1;33m)\u001b[0m\u001b[1;33m)\u001b[0m\u001b[1;33m;\u001b[0m\u001b[1;33m\u001b[0m\u001b[1;33m\u001b[0m\u001b[0m\n\u001b[0;32m      3\u001b[0m \u001b[0mincidents_daily_filtered\u001b[0m\u001b[1;33m.\u001b[0m\u001b[0mplot\u001b[0m\u001b[1;33m.\u001b[0m\u001b[0mline\u001b[0m\u001b[1;33m(\u001b[0m\u001b[0mfigsize\u001b[0m\u001b[1;33m=\u001b[0m\u001b[1;33m(\u001b[0m\u001b[1;36m15\u001b[0m\u001b[1;33m,\u001b[0m \u001b[1;36m3\u001b[0m\u001b[1;33m)\u001b[0m\u001b[1;33m)\u001b[0m\u001b[1;33m;\u001b[0m\u001b[1;33m\u001b[0m\u001b[1;33m\u001b[0m\u001b[0m\n",
      "\u001b[1;31mNameError\u001b[0m: name 'incidents_daily' is not defined"
     ]
    }
   ],
   "source": [
    "incidents_daily_filtered = incidents_daily.rolling(\"28D\").mean()\n",
    "incidents_daily.plot.line(figsize=(15, 3));\n",
    "incidents_daily_filtered.plot.line(figsize=(15, 3));"
   ]
  },
  {
   "cell_type": "markdown",
   "metadata": {
    "cell_id": "00264-8c5514e8-7cbf-40d0-b166-ac381dc7e871",
    "deepnote_cell_type": "markdown"
   },
   "source": [
    "## Pivoting (Optional)\n",
    "\n",
    "> pivot (third-person singular simple present pivots, present participle pivoting, simple past and past participle pivoted)\n",
    " **To turn on an exact spot.**\n",
    " \n",
    "> A pivot table is a table of statistics that summarizes the data of a more extensive table ...\n",
    "> Although pivot table is a generic term, Microsoft Corporation trademarked PivotTable in the United States in 1994."
   ]
  },
  {
   "cell_type": "markdown",
   "metadata": {
    "cell_id": "00265-4da90634-7885-4cf5-9a5e-952d3a26528a",
    "deepnote_cell_type": "markdown"
   },
   "source": [
    "Our pivoting task: Get a table with numbers of titles per year (as row) and type (as column).\n",
    "\n",
    "One approach is to use `groupby`, `count` aggregation and `unstack`."
   ]
  },
  {
   "cell_type": "code",
   "execution_count": 163,
   "metadata": {
    "cell_id": "00266-c3335746-75b6-444a-a20e-a898d730bc50",
    "deepnote_cell_type": "code",
    "deepnote_to_be_reexecuted": false,
    "execution_millis": 1,
    "execution_start": 1611502902740,
    "source_hash": "dcc08335"
   },
   "outputs": [
    {
     "ename": "NameError",
     "evalue": "name 'laser_incidents_w_population' is not defined",
     "output_type": "error",
     "traceback": [
      "\u001b[1;31m---------------------------------------------------------------------------\u001b[0m",
      "\u001b[1;31mNameError\u001b[0m                                 Traceback (most recent call last)",
      "\u001b[1;32m<ipython-input-163-27bac84aea94>\u001b[0m in \u001b[0;36m<module>\u001b[1;34m\u001b[0m\n\u001b[1;32m----> 1\u001b[1;33m grouped_by_year_and_month = laser_incidents_w_population.groupby(\n\u001b[0m\u001b[0;32m      2\u001b[0m     [\n\u001b[0;32m      3\u001b[0m         \u001b[0mlaser_incidents_w_population\u001b[0m\u001b[1;33m[\u001b[0m\u001b[1;34m\"timestamp\"\u001b[0m\u001b[1;33m]\u001b[0m\u001b[1;33m.\u001b[0m\u001b[0mdt\u001b[0m\u001b[1;33m.\u001b[0m\u001b[0myear\u001b[0m\u001b[1;33m.\u001b[0m\u001b[0mastype\u001b[0m\u001b[1;33m(\u001b[0m\u001b[1;34m\"Int16\"\u001b[0m\u001b[1;33m)\u001b[0m\u001b[1;33m,\u001b[0m\u001b[1;33m\u001b[0m\u001b[1;33m\u001b[0m\u001b[0m\n\u001b[0;32m      4\u001b[0m         \u001b[0mlaser_incidents_w_population\u001b[0m\u001b[1;33m[\u001b[0m\u001b[1;34m\"timestamp\"\u001b[0m\u001b[1;33m]\u001b[0m\u001b[1;33m.\u001b[0m\u001b[0mdt\u001b[0m\u001b[1;33m.\u001b[0m\u001b[0mmonth\u001b[0m\u001b[1;33m.\u001b[0m\u001b[0mastype\u001b[0m\u001b[1;33m(\u001b[0m\u001b[1;34m\"Int16\"\u001b[0m\u001b[1;33m)\u001b[0m\u001b[1;33m,\u001b[0m\u001b[1;33m\u001b[0m\u001b[1;33m\u001b[0m\u001b[0m\n\u001b[0;32m      5\u001b[0m     ]\n",
      "\u001b[1;31mNameError\u001b[0m: name 'laser_incidents_w_population' is not defined"
     ]
    }
   ],
   "source": [
    "grouped_by_year_and_month = laser_incidents_w_population.groupby(\n",
    "    [\n",
    "        laser_incidents_w_population[\"timestamp\"].dt.year.astype(\"Int16\"),\n",
    "        laser_incidents_w_population[\"timestamp\"].dt.month.astype(\"Int16\"),\n",
    "    ]\n",
    ")"
   ]
  },
  {
   "cell_type": "code",
   "execution_count": 164,
   "metadata": {
    "cell_id": "00267-9ba7ab8c-7241-4988-93d0-8e91ca9a0a10",
    "deepnote_cell_type": "code",
    "deepnote_to_be_reexecuted": false,
    "execution_millis": 1,
    "execution_start": 1611502932876,
    "source_hash": "fc9fd6c2",
    "tags": []
   },
   "outputs": [
    {
     "ename": "NameError",
     "evalue": "name 'grouped_by_year_and_month' is not defined",
     "output_type": "error",
     "traceback": [
      "\u001b[1;31m---------------------------------------------------------------------------\u001b[0m",
      "\u001b[1;31mNameError\u001b[0m                                 Traceback (most recent call last)",
      "\u001b[1;32m<ipython-input-164-9e564831f2b0>\u001b[0m in \u001b[0;36m<module>\u001b[1;34m\u001b[0m\n\u001b[1;32m----> 1\u001b[1;33m \u001b[0mincidents_by_year_and_month\u001b[0m \u001b[1;33m=\u001b[0m \u001b[0mgrouped_by_year_and_month\u001b[0m\u001b[1;33m[\u001b[0m\u001b[1;34m\"timestamp\"\u001b[0m\u001b[1;33m]\u001b[0m\u001b[1;33m.\u001b[0m\u001b[0mcount\u001b[0m\u001b[1;33m(\u001b[0m\u001b[1;33m)\u001b[0m\u001b[1;33m.\u001b[0m\u001b[0mrename_axis\u001b[0m\u001b[1;33m(\u001b[0m\u001b[0mindex\u001b[0m\u001b[1;33m=\u001b[0m\u001b[1;33m[\u001b[0m\u001b[1;34m\"year\"\u001b[0m\u001b[1;33m,\u001b[0m \u001b[1;34m\"month\"\u001b[0m\u001b[1;33m]\u001b[0m\u001b[1;33m)\u001b[0m\u001b[1;33m.\u001b[0m\u001b[0mrename\u001b[0m\u001b[1;33m(\u001b[0m\u001b[1;34m\"incidents\"\u001b[0m\u001b[1;33m)\u001b[0m\u001b[1;33m\u001b[0m\u001b[1;33m\u001b[0m\u001b[0m\n\u001b[0m\u001b[0;32m      2\u001b[0m \u001b[0mincidents_by_year_and_month\u001b[0m\u001b[1;33m\u001b[0m\u001b[1;33m\u001b[0m\u001b[0m\n",
      "\u001b[1;31mNameError\u001b[0m: name 'grouped_by_year_and_month' is not defined"
     ]
    }
   ],
   "source": [
    "incidents_by_year_and_month = grouped_by_year_and_month[\"timestamp\"].count().rename_axis(index=[\"year\", \"month\"]).rename(\"incidents\")\n",
    "incidents_by_year_and_month"
   ]
  },
  {
   "cell_type": "code",
   "execution_count": 165,
   "metadata": {
    "cell_id": "00268-d26751c1-4cc5-487f-a785-28a0ad0bab1b",
    "deepnote_cell_type": "code",
    "deepnote_to_be_reexecuted": false,
    "execution_millis": 83,
    "execution_start": 1611502958913,
    "source_hash": "108189e3",
    "tags": []
   },
   "outputs": [
    {
     "ename": "NameError",
     "evalue": "name 'incidents_by_year_and_month' is not defined",
     "output_type": "error",
     "traceback": [
      "\u001b[1;31m---------------------------------------------------------------------------\u001b[0m",
      "\u001b[1;31mNameError\u001b[0m                                 Traceback (most recent call last)",
      "\u001b[1;32m<ipython-input-165-6cfcc4154b8b>\u001b[0m in \u001b[0;36m<module>\u001b[1;34m\u001b[0m\n\u001b[1;32m----> 1\u001b[1;33m \u001b[0mpivot_by_year_and_month\u001b[0m \u001b[1;33m=\u001b[0m \u001b[0mincidents_by_year_and_month\u001b[0m\u001b[1;33m.\u001b[0m\u001b[0munstack\u001b[0m\u001b[1;33m(\u001b[0m\u001b[1;33m)\u001b[0m\u001b[1;33m.\u001b[0m\u001b[0mfillna\u001b[0m\u001b[1;33m(\u001b[0m\u001b[1;36m0\u001b[0m\u001b[1;33m)\u001b[0m\u001b[1;33m\u001b[0m\u001b[1;33m\u001b[0m\u001b[0m\n\u001b[0m\u001b[0;32m      2\u001b[0m \u001b[0mpivot_by_year_and_month\u001b[0m\u001b[1;33m\u001b[0m\u001b[1;33m\u001b[0m\u001b[0m\n",
      "\u001b[1;31mNameError\u001b[0m: name 'incidents_by_year_and_month' is not defined"
     ]
    }
   ],
   "source": [
    "pivot_by_year_and_month = incidents_by_year_and_month.unstack().fillna(0)\n",
    "pivot_by_year_and_month"
   ]
  },
  {
   "cell_type": "code",
   "execution_count": 166,
   "metadata": {
    "cell_id": "00269-c6497434-70f1-4555-9acf-7d57fe8dfe37",
    "deepnote_cell_type": "code",
    "deepnote_to_be_reexecuted": false,
    "execution_millis": 1086,
    "execution_start": 1611503764638,
    "source_hash": "27612c07",
    "tags": []
   },
   "outputs": [
    {
     "ename": "NameError",
     "evalue": "name 'pivot_by_year_and_month' is not defined",
     "output_type": "error",
     "traceback": [
      "\u001b[1;31m---------------------------------------------------------------------------\u001b[0m",
      "\u001b[1;31mNameError\u001b[0m                                 Traceback (most recent call last)",
      "\u001b[1;32m<ipython-input-166-cdd8856e88ed>\u001b[0m in \u001b[0;36m<module>\u001b[1;34m\u001b[0m\n\u001b[0;32m      5\u001b[0m \u001b[0m_\u001b[0m\u001b[1;33m,\u001b[0m \u001b[0max\u001b[0m \u001b[1;33m=\u001b[0m \u001b[0mplt\u001b[0m\u001b[1;33m.\u001b[0m\u001b[0msubplots\u001b[0m\u001b[1;33m(\u001b[0m\u001b[0mfigsize\u001b[0m\u001b[1;33m=\u001b[0m\u001b[1;33m(\u001b[0m\u001b[1;36m18\u001b[0m\u001b[1;33m,\u001b[0m\u001b[1;36m5.5\u001b[0m\u001b[1;33m)\u001b[0m\u001b[1;33m)\u001b[0m   \u001b[1;31m# Vytvoříme dostatečně veliký graf\u001b[0m\u001b[1;33m\u001b[0m\u001b[1;33m\u001b[0m\u001b[0m\n\u001b[0;32m      6\u001b[0m sns.heatmap(\n\u001b[1;32m----> 7\u001b[1;33m     \u001b[0mpivot_by_year_and_month\u001b[0m\u001b[1;33m,\u001b[0m\u001b[1;33m\u001b[0m\u001b[1;33m\u001b[0m\u001b[0m\n\u001b[0m\u001b[0;32m      8\u001b[0m     \u001b[0max\u001b[0m\u001b[1;33m=\u001b[0m\u001b[0max\u001b[0m\u001b[1;33m,\u001b[0m                  \u001b[1;31m# Kreslíme do připraveného objektu `Axes`\u001b[0m\u001b[1;33m\u001b[0m\u001b[1;33m\u001b[0m\u001b[0m\n\u001b[0;32m      9\u001b[0m     \u001b[0mlinewidths\u001b[0m\u001b[1;33m=\u001b[0m\u001b[1;36m1\u001b[0m\u001b[1;33m,\u001b[0m           \u001b[1;31m# Oddělíme jednotlivá okénka\u001b[0m\u001b[1;33m\u001b[0m\u001b[1;33m\u001b[0m\u001b[0m\n",
      "\u001b[1;31mNameError\u001b[0m: name 'pivot_by_year_and_month' is not defined"
     ]
    },
    {
     "data": {
      "image/png": "[encoded data removed]",
      "text/plain": [
       "<Figure size 1296x396 with 1 Axes>"
      ]
     },
     "metadata": {
      "needs_background": "light"
     },
     "output_type": "display_data"
    }
   ],
   "source": [
    "import seaborn as sns\n",
    "import matplotlib.pyplot as plt\n",
    "\n",
    "\n",
    "_, ax = plt.subplots(figsize=(18,5.5))   # Vytvoříme dostatečně veliký graf\n",
    "sns.heatmap(\n",
    "    pivot_by_year_and_month,\n",
    "    ax=ax,                  # Kreslíme do připraveného objektu `Axes`\n",
    "    linewidths=1,           # Oddělíme jednotlivá okénka\n",
    "    annot=True,             # Chceme zobrazit hodnoty\n",
    "    fmt=\".0f\",                # Zobrazíme hodnoty jako celá čísla\n",
    "    # norm=log_norm,          # Použijeme škálování\n",
    "    cmap=\"flare\",            # Vybereme si barevnou paletu\n",
    "    cbar=False,             # Schováme barevný proužek vpravo, nepotřebujeme ho\n",
    ");"
   ]
  },
  {
   "cell_type": "markdown",
   "metadata": {
    "cell_id": "00270-53138d41-21c2-41d3-8986-5ba29eca16c6",
    "deepnote_cell_type": "markdown"
   },
   "source": [
    "The are also shortcut functions and methods: [DataFrame.pivot](https://pandas.pydata.org/docs/reference/api/pandas.DataFrame.pivot.html), \n",
    "[pivot_table](https://pandas.pydata.org/docs/reference/api/pandas.pivot_table.html)\n",
    "or [crosstab](https://pandas.pydata.org/docs/reference/api/pandas.crosstab.html). \n",
    "A nice overview is in the the [Pandas documentation: Reshaping and pivot tables](https://pandas.pydata.org/docs/user_guide/reshaping.html)."
   ]
  },
  {
   "cell_type": "markdown",
   "metadata": {
    "cell_id": "00271-ce6a6838-f48d-4dda-80ef-4800102f83e5",
    "deepnote_cell_type": "markdown"
   },
   "source": [
    "## Final mini-project - creative, unbounded, free-style\n",
    "\n",
    "Here are some ideas of what you can do with the data.\n",
    "\n",
    "* TODO"
   ]
  }
 ],
 "metadata": {
  "deepnote_execution_queue": [],
  "deepnote_notebook_id": "c07be921-4e1e-454b-99b6-9e0865476bab",
  "kernelspec": {
   "display_name": "Python 3",
   "language": "python",
   "name": "python3"
  },
  "language_info": {
   "codemirror_mode": {
    "name": "ipython",
    "version": 3
   },
   "file_extension": ".py",
   "mimetype": "text/x-python",
   "name": "python",
   "nbconvert_exporter": "python",
   "pygments_lexer": "ipython3",
   "version": "3.8.3"
  }
 },
 "nbformat": 4,
 "nbformat_minor": 4
}
