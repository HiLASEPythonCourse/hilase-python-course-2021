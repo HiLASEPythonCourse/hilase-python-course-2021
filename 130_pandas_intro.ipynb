{
    "cells": [
        {
            "cell_type": "markdown",
            "source": "# Pandas - Introduction\n\nThis notebook is the first part of a series devoted to the[`pandas` library.\nIt presents the basic objects of this library and how it plays with `numpy`.",
            "metadata": {
                "cell_id": "00000-2d5e46dc-7c03-4cf9-aaa9-fdd3008e88c6",
                "deepnote_cell_type": "markdown"
            }
        },
        {
            "cell_type": "code",
            "metadata": {
                "deepnote_to_be_reexecuted": false,
                "source_hash": "dbbf1542",
                "execution_millis": 1,
                "cell_id": "00002-5ba1b9f2-bdff-4b63-b19e-970ee39f016d",
                "execution_start": 1611480030860,
                "deepnote_cell_type": "code"
            },
            "source": "# Start using pandas (default import convention)\nimport pandas as pd\nimport numpy as np",
            "execution_count": 1,
            "outputs": []
        },
        {
            "cell_type": "code",
            "metadata": {
                "scrolled": true,
                "deepnote_to_be_reexecuted": false,
                "source_hash": "a1d46cae",
                "execution_millis": 4,
                "cell_id": "00003-5847a4b3-d01d-409b-8b94-dcc3e700d696",
                "execution_start": 1611480031196,
                "deepnote_cell_type": "code"
            },
            "source": "# Let pandas speak for themselves\nprint(pd.__doc__)",
            "execution_count": 2,
            "outputs": [
                {
                    "name": "stdout",
                    "text": "\npandas - a powerful data analysis and manipulation library for Python\n=====================================================================\n\n**pandas** is a Python package providing fast, flexible, and expressive data\nstructures designed to make working with \"relational\" or \"labeled\" data both\neasy and intuitive. It aims to be the fundamental high-level building block for\ndoing practical, **real world** data analysis in Python. Additionally, it has\nthe broader goal of becoming **the most powerful and flexible open source data\nanalysis / manipulation tool available in any language**. It is already well on\nits way toward this goal.\n\nMain Features\n-------------\nHere are just a few of the things that pandas does well:\n\n  - Easy handling of missing data in floating point as well as non-floating\n    point data.\n  - Size mutability: columns can be inserted and deleted from DataFrame and\n    higher dimensional objects\n  - Automatic and explicit data alignment: objects can be explicitly aligned\n    to a set of labels, or the user can simply ignore the labels and let\n    `Series`, `DataFrame`, etc. automatically align the data for you in\n    computations.\n  - Powerful, flexible group by functionality to perform split-apply-combine\n    operations on data sets, for both aggregating and transforming data.\n  - Make it easy to convert ragged, differently-indexed data in other Python\n    and NumPy data structures into DataFrame objects.\n  - Intelligent label-based slicing, fancy indexing, and subsetting of large\n    data sets.\n  - Intuitive merging and joining data sets.\n  - Flexible reshaping and pivoting of data sets.\n  - Hierarchical labeling of axes (possible to have multiple labels per tick).\n  - Robust IO tools for loading data from flat files (CSV and delimited),\n    Excel files, databases, and saving/loading data from the ultrafast HDF5\n    format.\n  - Time series-specific functionality: date range generation and frequency\n    conversion, moving window statistics, date shifting and lagging.\n\n",
                    "output_type": "stream"
                }
            ]
        },
        {
            "cell_type": "markdown",
            "source": "Visit the official website for a nicely written documentation: https://pandas.pydata.org",
            "metadata": {
                "cell_id": "00004-93360f8e-5414-41f0-a053-c6ac6711f0f6",
                "deepnote_cell_type": "markdown"
            }
        },
        {
            "cell_type": "code",
            "metadata": {
                "deepnote_to_be_reexecuted": false,
                "source_hash": "68b52b09",
                "execution_millis": 3,
                "cell_id": "00005-7f77105b-370f-488c-88fe-1c36b1baa700",
                "execution_start": 1611480032491,
                "deepnote_cell_type": "code"
            },
            "source": "# Current version (should be 0.24 in 2019)\nprint(pd.__version__)",
            "execution_count": 3,
            "outputs": [
                {
                    "name": "stdout",
                    "text": "1.2.0\n",
                    "output_type": "stream"
                }
            ]
        },
        {
            "cell_type": "markdown",
            "source": "## Basic objects ",
            "metadata": {
                "cell_id": "00006-6570a07e-4eac-4c20-ad9d-039562fc8578",
                "deepnote_cell_type": "markdown"
            }
        },
        {
            "cell_type": "markdown",
            "source": "The **pandas** library has a vast API with many useful functions. However, most of this revolves\naround two important classes:\n\n* Series\n* DataFrame\n\nIn this introduction, we will focus on them - what each of them does and how they relate to each other\nand numpy objects.",
            "metadata": {
                "cell_id": "00007-efd7cb32-40bd-4ffc-9280-a9ff64a539ad",
                "deepnote_cell_type": "markdown"
            }
        },
        {
            "cell_type": "markdown",
            "source": "### Series\n\nSeries is a one-dimensional data structure, central to pandas. \n\nFor a complete API, visit https://pandas.pydata.org/pandas-docs/stable/reference/api/pandas.Series.html",
            "metadata": {
                "cell_id": "00008-d0ab4b0e-ee39-4a6e-b8c6-e6d057bcad09",
                "deepnote_cell_type": "markdown"
            }
        },
        {
            "cell_type": "code",
            "metadata": {
                "deepnote_to_be_reexecuted": false,
                "source_hash": "c76e8792",
                "execution_millis": 4,
                "cell_id": "00009-42ec8394-7f83-449c-8de2-ae8dd0228b47",
                "execution_start": 1611480035325,
                "deepnote_cell_type": "code"
            },
            "source": "# My first series\nseries = pd.Series([1, 2, 3])\nseries",
            "execution_count": 4,
            "outputs": [
                {
                    "output_type": "execute_result",
                    "execution_count": 4,
                    "data": {
                        "text/plain": "0    1\n1    2\n2    3\ndtype: int64"
                    },
                    "metadata": {}
                }
            ]
        },
        {
            "cell_type": "markdown",
            "source": "This looks a bit like a Numpy array, does it not?\n\nActually, in most cases the Series wraps a Numpy array...",
            "metadata": {
                "cell_id": "00010-2777c983-b0b5-468b-93f7-7f643661ec6c",
                "deepnote_cell_type": "markdown"
            }
        },
        {
            "cell_type": "code",
            "metadata": {
                "deepnote_to_be_reexecuted": false,
                "source_hash": "44e6fad0",
                "execution_millis": 2,
                "cell_id": "00011-34a40105-2f24-4204-9862-ac29f2718f25",
                "execution_start": 1611480039685,
                "deepnote_cell_type": "code"
            },
            "source": "series.values  # The result is a Numpy array",
            "execution_count": 5,
            "outputs": [
                {
                    "output_type": "execute_result",
                    "execution_count": 5,
                    "data": {
                        "text/plain": "array([1, 2, 3])"
                    },
                    "metadata": {}
                }
            ]
        },
        {
            "cell_type": "markdown",
            "source": "...and if we construct the series from a numpy array, it wraps it directly.",
            "metadata": {
                "cell_id": "00012-d284e1a1-ee90-4dfe-8a56-a165db591e9c",
                "deepnote_cell_type": "markdown"
            }
        },
        {
            "cell_type": "code",
            "metadata": {
                "deepnote_to_be_reexecuted": false,
                "source_hash": "530871fe",
                "cell_id": "00013-5d8252ef-0c3b-4bf4-8b0d-5df92e74b3ee",
                "execution_start": 1611480043034,
                "execution_millis": 10,
                "deepnote_cell_type": "code"
            },
            "source": "zeros_array = np.zeros(10)\n\n# We check object identity\npd.Series(zeros_array).values is zeros_array",
            "execution_count": 6,
            "outputs": [
                {
                    "output_type": "execute_result",
                    "execution_count": 6,
                    "data": {
                        "text/plain": "True"
                    },
                    "metadata": {}
                }
            ]
        },
        {
            "cell_type": "markdown",
            "source": "But there is something more. Alongside the values, we see that each item (or \"row\") has a certain label. The collection of labels is called **index**.",
            "metadata": {
                "cell_id": "00014-51e781a0-1345-4641-ab6f-92af1275982a",
                "deepnote_cell_type": "markdown"
            }
        },
        {
            "cell_type": "code",
            "metadata": {
                "deepnote_to_be_reexecuted": false,
                "source_hash": "8f0869f4",
                "execution_millis": 1,
                "cell_id": "00015-47447b26-5886-4016-abc9-571880720b31",
                "execution_start": 1611480061372,
                "deepnote_cell_type": "code"
            },
            "source": "series.index",
            "execution_count": 7,
            "outputs": [
                {
                    "output_type": "execute_result",
                    "execution_count": 7,
                    "data": {
                        "text/plain": "RangeIndex(start=0, stop=3, step=1)"
                    },
                    "metadata": {}
                }
            ]
        },
        {
            "cell_type": "markdown",
            "source": "This index (see below) can be used, as its name suggests, to index items of the series.",
            "metadata": {
                "cell_id": "00016-ebe00c52-8f3a-498e-bef0-8b4147c0a3a2",
                "deepnote_cell_type": "markdown"
            }
        },
        {
            "cell_type": "code",
            "metadata": {
                "deepnote_to_be_reexecuted": false,
                "source_hash": "4a387647",
                "execution_millis": 2,
                "cell_id": "00017-5f809972-a99c-45cd-bb53-bdf711a4faac",
                "execution_start": 1611480074617,
                "deepnote_cell_type": "code"
            },
            "source": "# Return an element from the series\nseries.loc[1]",
            "execution_count": 8,
            "outputs": [
                {
                    "output_type": "execute_result",
                    "execution_count": 8,
                    "data": {
                        "text/plain": "2"
                    },
                    "metadata": {}
                }
            ]
        },
        {
            "cell_type": "code",
            "metadata": {
                "deepnote_to_be_reexecuted": false,
                "source_hash": "e117364f",
                "execution_millis": 3,
                "cell_id": "00018-d5276d50-e565-4e89-b775-da4da9192767",
                "execution_start": 1611480075777,
                "deepnote_cell_type": "code"
            },
            "source": "# Construction from a dictionary\nseries_ab = pd.Series({\"a\": 2, \"b\": 4})\nseries_ab",
            "execution_count": 9,
            "outputs": [
                {
                    "output_type": "execute_result",
                    "execution_count": 9,
                    "data": {
                        "text/plain": "a    2\nb    4\ndtype: int64"
                    },
                    "metadata": {}
                }
            ]
        },
        {
            "cell_type": "markdown",
            "source": "**Exercise**: Create a series with 5 elements.",
            "metadata": {
                "cell_id": "00019-1b6c16aa-64ba-4e5a-98eb-8c4ed158968a",
                "deepnote_cell_type": "markdown"
            }
        },
        {
            "cell_type": "code",
            "metadata": {
                "deepnote_to_be_reexecuted": false,
                "source_hash": "a257d19f",
                "execution_millis": 0,
                "cell_id": "00020-1308af75-cbce-4281-b3d3-4773f8a2e651",
                "execution_start": 1611480084320,
                "deepnote_cell_type": "code"
            },
            "source": "result = ...",
            "execution_count": 10,
            "outputs": []
        },
        {
            "cell_type": "markdown",
            "source": "### DataFrame",
            "metadata": {
                "cell_id": "00022-6169386b-3040-4202-8978-ff00a01898f9",
                "deepnote_cell_type": "markdown"
            }
        },
        {
            "cell_type": "markdown",
            "source": "A **DataFrame** is pandas' answer to Excel sheets - it is a collection of named columns (or, in our case, a collection of **Series**).\nQuite often, we directly read data frames from an external source, but it is possible to create them from:\n* a dict of Series, numpy arrays or other array-like objects\n* from an iterable of rows (where rows are Series, lists, dictionaries, ...)",
            "metadata": {
                "cell_id": "00023-1536df0b-9fe5-4789-8992-c57f67029e4a",
                "deepnote_cell_type": "markdown"
            }
        },
        {
            "cell_type": "code",
            "metadata": {
                "deepnote_to_be_reexecuted": false,
                "source_hash": "3d0048f",
                "cell_id": "00024-fc0f5e83-0ced-41b7-8aa3-3be5d9dd8e2e",
                "execution_millis": 4,
                "execution_start": 1611480247253,
                "deepnote_cell_type": "code"
            },
            "source": "# List of lists (no column names)\ntable = [\n    ['a', 1],\n    ['b', 3],\n    ['c', 5]\n]\ntable_df = pd.DataFrame(table)\ntable_df",
            "execution_count": 14,
            "outputs": [
                {
                    "output_type": "execute_result",
                    "execution_count": 14,
                    "data": {
                        "application/vnd.deepnote.dataframe.v2+json": {
                            "row_count": 3,
                            "column_count": 2,
                            "columns": [
                                {
                                    "name": 0,
                                    "dtype": "object",
                                    "stats": {
                                        "unique_count": 3,
                                        "nan_count": 0,
                                        "categories": [
                                            {
                                                "name": "a",
                                                "count": 1
                                            },
                                            {
                                                "name": "b",
                                                "count": 1
                                            },
                                            {
                                                "name": "c",
                                                "count": 1
                                            }
                                        ]
                                    }
                                },
                                {
                                    "name": 1,
                                    "dtype": "int64",
                                    "stats": {
                                        "unique_count": 3,
                                        "nan_count": 0,
                                        "min": 1,
                                        "max": 5,
                                        "histogram": [
                                            {
                                                "bin_start": 1,
                                                "bin_end": 1.4,
                                                "count": 1
                                            },
                                            {
                                                "bin_start": 1.4,
                                                "bin_end": 1.8,
                                                "count": 0
                                            },
                                            {
                                                "bin_start": 1.8,
                                                "bin_end": 2.2,
                                                "count": 0
                                            },
                                            {
                                                "bin_start": 2.2,
                                                "bin_end": 2.6,
                                                "count": 0
                                            },
                                            {
                                                "bin_start": 2.6,
                                                "bin_end": 3,
                                                "count": 0
                                            },
                                            {
                                                "bin_start": 3,
                                                "bin_end": 3.4000000000000004,
                                                "count": 1
                                            },
                                            {
                                                "bin_start": 3.4000000000000004,
                                                "bin_end": 3.8000000000000003,
                                                "count": 0
                                            },
                                            {
                                                "bin_start": 3.8000000000000003,
                                                "bin_end": 4.2,
                                                "count": 0
                                            },
                                            {
                                                "bin_start": 4.2,
                                                "bin_end": 4.6,
                                                "count": 0
                                            },
                                            {
                                                "bin_start": 4.6,
                                                "bin_end": 5,
                                                "count": 1
                                            }
                                        ]
                                    }
                                },
                                {
                                    "name": "_deepnote_index_column",
                                    "dtype": "int64"
                                }
                            ],
                            "rows_top": [
                                {
                                    "0": "a",
                                    "1": 1,
                                    "_deepnote_index_column": 0
                                },
                                {
                                    "0": "b",
                                    "1": 3,
                                    "_deepnote_index_column": 1
                                },
                                {
                                    "0": "c",
                                    "1": 5,
                                    "_deepnote_index_column": 2
                                }
                            ],
                            "rows_bottom": null
                        },
                        "text/plain": "   0  1\n0  a  1\n1  b  3\n2  c  5",
                        "text/html": "<div>\n<style scoped>\n    .dataframe tbody tr th:only-of-type {\n        vertical-align: middle;\n    }\n\n    .dataframe tbody tr th {\n        vertical-align: top;\n    }\n\n    .dataframe thead th {\n        text-align: right;\n    }\n</style>\n<table border=\"1\" class=\"dataframe\">\n  <thead>\n    <tr style=\"text-align: right;\">\n      <th></th>\n      <th>0</th>\n      <th>1</th>\n    </tr>\n  </thead>\n  <tbody>\n    <tr>\n      <th>0</th>\n      <td>a</td>\n      <td>1</td>\n    </tr>\n    <tr>\n      <th>1</th>\n      <td>b</td>\n      <td>3</td>\n    </tr>\n    <tr>\n      <th>2</th>\n      <td>c</td>\n      <td>5</td>\n    </tr>\n  </tbody>\n</table>\n</div>"
                    },
                    "metadata": {}
                }
            ]
        },
        {
            "cell_type": "code",
            "metadata": {
                "deepnote_to_be_reexecuted": false,
                "source_hash": "433789ee",
                "cell_id": "00025-3e8420ff-ff25-496e-a279-fe0dbedb65fa",
                "execution_millis": 22,
                "execution_start": 1611480252849,
                "deepnote_cell_type": "code"
            },
            "source": "# Dict of Series (with column names)\ndf = pd.DataFrame({\n    'number': pd.Series([1, 2, 3, 4], dtype=np.int8),\n    'letter': pd.Series(['a', 'b', 'c', 'd'])\n})\ndf",
            "execution_count": 15,
            "outputs": [
                {
                    "output_type": "execute_result",
                    "execution_count": 15,
                    "data": {
                        "application/vnd.deepnote.dataframe.v2+json": {
                            "row_count": 4,
                            "column_count": 2,
                            "columns": [
                                {
                                    "name": "number",
                                    "dtype": "int8",
                                    "stats": {
                                        "unique_count": 4,
                                        "nan_count": 0,
                                        "min": 1,
                                        "max": 4,
                                        "histogram": [
                                            {
                                                "bin_start": 1,
                                                "bin_end": 1.3,
                                                "count": 1
                                            },
                                            {
                                                "bin_start": 1.3,
                                                "bin_end": 1.6,
                                                "count": 0
                                            },
                                            {
                                                "bin_start": 1.6,
                                                "bin_end": 1.9,
                                                "count": 0
                                            },
                                            {
                                                "bin_start": 1.9,
                                                "bin_end": 2.2,
                                                "count": 1
                                            },
                                            {
                                                "bin_start": 2.2,
                                                "bin_end": 2.5,
                                                "count": 0
                                            },
                                            {
                                                "bin_start": 2.5,
                                                "bin_end": 2.8,
                                                "count": 0
                                            },
                                            {
                                                "bin_start": 2.8,
                                                "bin_end": 3.1,
                                                "count": 1
                                            },
                                            {
                                                "bin_start": 3.1,
                                                "bin_end": 3.4,
                                                "count": 0
                                            },
                                            {
                                                "bin_start": 3.4,
                                                "bin_end": 3.6999999999999997,
                                                "count": 0
                                            },
                                            {
                                                "bin_start": 3.6999999999999997,
                                                "bin_end": 4,
                                                "count": 1
                                            }
                                        ]
                                    }
                                },
                                {
                                    "name": "letter",
                                    "dtype": "object",
                                    "stats": {
                                        "unique_count": 4,
                                        "nan_count": 0,
                                        "categories": [
                                            {
                                                "name": "a",
                                                "count": 1
                                            },
                                            {
                                                "name": "b",
                                                "count": 1
                                            },
                                            {
                                                "name": "2 others",
                                                "count": 2
                                            }
                                        ]
                                    }
                                },
                                {
                                    "name": "_deepnote_index_column",
                                    "dtype": "int64"
                                }
                            ],
                            "rows_top": [
                                {
                                    "number": 1,
                                    "letter": "a",
                                    "_deepnote_index_column": 0
                                },
                                {
                                    "number": 2,
                                    "letter": "b",
                                    "_deepnote_index_column": 1
                                },
                                {
                                    "number": 3,
                                    "letter": "c",
                                    "_deepnote_index_column": 2
                                },
                                {
                                    "number": 4,
                                    "letter": "d",
                                    "_deepnote_index_column": 3
                                }
                            ],
                            "rows_bottom": null
                        },
                        "text/plain": "   number letter\n0       1      a\n1       2      b\n2       3      c\n3       4      d",
                        "text/html": "<div>\n<style scoped>\n    .dataframe tbody tr th:only-of-type {\n        vertical-align: middle;\n    }\n\n    .dataframe tbody tr th {\n        vertical-align: top;\n    }\n\n    .dataframe thead th {\n        text-align: right;\n    }\n</style>\n<table border=\"1\" class=\"dataframe\">\n  <thead>\n    <tr style=\"text-align: right;\">\n      <th></th>\n      <th>number</th>\n      <th>letter</th>\n    </tr>\n  </thead>\n  <tbody>\n    <tr>\n      <th>0</th>\n      <td>1</td>\n      <td>a</td>\n    </tr>\n    <tr>\n      <th>1</th>\n      <td>2</td>\n      <td>b</td>\n    </tr>\n    <tr>\n      <th>2</th>\n      <td>3</td>\n      <td>c</td>\n    </tr>\n    <tr>\n      <th>3</th>\n      <td>4</td>\n      <td>d</td>\n    </tr>\n  </tbody>\n</table>\n</div>"
                    },
                    "metadata": {}
                }
            ]
        },
        {
            "cell_type": "code",
            "metadata": {
                "scrolled": true,
                "deepnote_to_be_reexecuted": false,
                "source_hash": "31c05ea5",
                "cell_id": "00026-5e6df7e0-0e9a-49ab-afa5-99b7745118ee",
                "execution_start": 1611480255162,
                "execution_millis": 5,
                "deepnote_cell_type": "code"
            },
            "source": "# Numpy array (10x2), specify column names\ndata = np.random.normal(0, 1, (10, 2))\n\ndf = pd.DataFrame(data, columns=['a', 'b'])\ndf",
            "execution_count": 16,
            "outputs": [
                {
                    "output_type": "execute_result",
                    "execution_count": 16,
                    "data": {
                        "application/vnd.deepnote.dataframe.v2+json": {
                            "row_count": 10,
                            "column_count": 2,
                            "columns": [
                                {
                                    "name": "a",
                                    "dtype": "float64",
                                    "stats": {
                                        "unique_count": 10,
                                        "nan_count": 0,
                                        "min": -1.5589216477930736,
                                        "max": 1.906334806688237,
                                        "histogram": [
                                            {
                                                "bin_start": -1.5589216477930736,
                                                "bin_end": -1.2123960023449425,
                                                "count": 1
                                            },
                                            {
                                                "bin_start": -1.2123960023449425,
                                                "bin_end": -0.8658703568968116,
                                                "count": 1
                                            },
                                            {
                                                "bin_start": -0.8658703568968116,
                                                "bin_end": -0.5193447114486807,
                                                "count": 1
                                            },
                                            {
                                                "bin_start": -0.5193447114486807,
                                                "bin_end": -0.17281906600054953,
                                                "count": 2
                                            },
                                            {
                                                "bin_start": -0.17281906600054953,
                                                "bin_end": 0.1737065794475816,
                                                "count": 1
                                            },
                                            {
                                                "bin_start": 0.1737065794475816,
                                                "bin_end": 0.5202322248957123,
                                                "count": 2
                                            },
                                            {
                                                "bin_start": 0.5202322248957123,
                                                "bin_end": 0.8667578703438434,
                                                "count": 1
                                            },
                                            {
                                                "bin_start": 0.8667578703438434,
                                                "bin_end": 1.2132835157919746,
                                                "count": 0
                                            },
                                            {
                                                "bin_start": 1.2132835157919746,
                                                "bin_end": 1.5598091612401057,
                                                "count": 0
                                            },
                                            {
                                                "bin_start": 1.5598091612401057,
                                                "bin_end": 1.906334806688237,
                                                "count": 1
                                            }
                                        ]
                                    }
                                },
                                {
                                    "name": "b",
                                    "dtype": "float64",
                                    "stats": {
                                        "unique_count": 10,
                                        "nan_count": 0,
                                        "min": -0.8143980529655899,
                                        "max": 2.008265637515491,
                                        "histogram": [
                                            {
                                                "bin_start": -0.8143980529655899,
                                                "bin_end": -0.5321316839174818,
                                                "count": 1
                                            },
                                            {
                                                "bin_start": -0.5321316839174818,
                                                "bin_end": -0.2498653148693737,
                                                "count": 1
                                            },
                                            {
                                                "bin_start": -0.2498653148693737,
                                                "bin_end": 0.0324010541787344,
                                                "count": 1
                                            },
                                            {
                                                "bin_start": 0.0324010541787344,
                                                "bin_end": 0.3146674232268425,
                                                "count": 1
                                            },
                                            {
                                                "bin_start": 0.3146674232268425,
                                                "bin_end": 0.5969337922749505,
                                                "count": 4
                                            },
                                            {
                                                "bin_start": 0.5969337922749505,
                                                "bin_end": 0.8792001613230587,
                                                "count": 0
                                            },
                                            {
                                                "bin_start": 0.8792001613230587,
                                                "bin_end": 1.1614665303711669,
                                                "count": 1
                                            },
                                            {
                                                "bin_start": 1.1614665303711669,
                                                "bin_end": 1.4437328994192749,
                                                "count": 0
                                            },
                                            {
                                                "bin_start": 1.4437328994192749,
                                                "bin_end": 1.7259992684673828,
                                                "count": 0
                                            },
                                            {
                                                "bin_start": 1.7259992684673828,
                                                "bin_end": 2.008265637515491,
                                                "count": 1
                                            }
                                        ]
                                    }
                                },
                                {
                                    "name": "_deepnote_index_column",
                                    "dtype": "int64"
                                }
                            ],
                            "rows_top": [
                                {
                                    "a": 0.5494278887811774,
                                    "b": -0.08592212135697519,
                                    "_deepnote_index_column": 0
                                },
                                {
                                    "a": -0.45910710969245355,
                                    "b": 0.5912762593848716,
                                    "_deepnote_index_column": 1
                                },
                                {
                                    "a": -0.8444950726427216,
                                    "b": 2.008265637515491,
                                    "_deepnote_index_column": 2
                                },
                                {
                                    "a": 1.906334806688237,
                                    "b": -0.46203213601616994,
                                    "_deepnote_index_column": 3
                                },
                                {
                                    "a": -0.889533258234919,
                                    "b": 0.48339387563789826,
                                    "_deepnote_index_column": 4
                                },
                                {
                                    "a": 0.4978824868055963,
                                    "b": 0.13827254962981977,
                                    "_deepnote_index_column": 5
                                },
                                {
                                    "a": 0.33603201007249334,
                                    "b": 0.9449445220559705,
                                    "_deepnote_index_column": 6
                                },
                                {
                                    "a": -0.17060289551576824,
                                    "b": 0.429885149593838,
                                    "_deepnote_index_column": 7
                                },
                                {
                                    "a": -0.3115803908490554,
                                    "b": 0.5434981575021379,
                                    "_deepnote_index_column": 8
                                },
                                {
                                    "a": -1.5589216477930736,
                                    "b": -0.8143980529655899,
                                    "_deepnote_index_column": 9
                                }
                            ],
                            "rows_bottom": null
                        },
                        "text/plain": "          a         b\n0  0.549428 -0.085922\n1 -0.459107  0.591276\n2 -0.844495  2.008266\n3  1.906335 -0.462032\n4 -0.889533  0.483394\n5  0.497882  0.138273\n6  0.336032  0.944945\n7 -0.170603  0.429885\n8 -0.311580  0.543498\n9 -1.558922 -0.814398",
                        "text/html": "<div>\n<style scoped>\n    .dataframe tbody tr th:only-of-type {\n        vertical-align: middle;\n    }\n\n    .dataframe tbody tr th {\n        vertical-align: top;\n    }\n\n    .dataframe thead th {\n        text-align: right;\n    }\n</style>\n<table border=\"1\" class=\"dataframe\">\n  <thead>\n    <tr style=\"text-align: right;\">\n      <th></th>\n      <th>a</th>\n      <th>b</th>\n    </tr>\n  </thead>\n  <tbody>\n    <tr>\n      <th>0</th>\n      <td>0.549428</td>\n      <td>-0.085922</td>\n    </tr>\n    <tr>\n      <th>1</th>\n      <td>-0.459107</td>\n      <td>0.591276</td>\n    </tr>\n    <tr>\n      <th>2</th>\n      <td>-0.844495</td>\n      <td>2.008266</td>\n    </tr>\n    <tr>\n      <th>3</th>\n      <td>1.906335</td>\n      <td>-0.462032</td>\n    </tr>\n    <tr>\n      <th>4</th>\n      <td>-0.889533</td>\n      <td>0.483394</td>\n    </tr>\n    <tr>\n      <th>5</th>\n      <td>0.497882</td>\n      <td>0.138273</td>\n    </tr>\n    <tr>\n      <th>6</th>\n      <td>0.336032</td>\n      <td>0.944945</td>\n    </tr>\n    <tr>\n      <th>7</th>\n      <td>-0.170603</td>\n      <td>0.429885</td>\n    </tr>\n    <tr>\n      <th>8</th>\n      <td>-0.311580</td>\n      <td>0.543498</td>\n    </tr>\n    <tr>\n      <th>9</th>\n      <td>-1.558922</td>\n      <td>-0.814398</td>\n    </tr>\n  </tbody>\n</table>\n</div>"
                    },
                    "metadata": {}
                }
            ]
        },
        {
            "cell_type": "code",
            "metadata": {
                "deepnote_to_be_reexecuted": false,
                "source_hash": "ed5550ef",
                "cell_id": "00027-a59fb725-99c2-482c-b3de-c197d81083a7",
                "execution_millis": 5,
                "execution_start": 1611480300049,
                "deepnote_cell_type": "code"
            },
            "source": "# A DataFrame also has an index.\ndf.index",
            "execution_count": 20,
            "outputs": [
                {
                    "output_type": "execute_result",
                    "execution_count": 20,
                    "data": {
                        "text/plain": "RangeIndex(start=0, stop=10, step=1)"
                    },
                    "metadata": {}
                }
            ]
        },
        {
            "cell_type": "code",
            "source": "# The columns also form an index.\ndf.columns",
            "metadata": {
                "tags": [],
                "cell_id": "00026-58d0c69d-eb0c-4946-81e9-6f719e58ad01",
                "deepnote_to_be_reexecuted": false,
                "source_hash": "25d43fa0",
                "execution_start": 1611480272657,
                "execution_millis": 11,
                "deepnote_cell_type": "code"
            },
            "outputs": [
                {
                    "output_type": "execute_result",
                    "execution_count": 19,
                    "data": {
                        "text/plain": "Index(['a', 'b'], dtype='object')"
                    },
                    "metadata": {}
                }
            ],
            "execution_count": 19
        },
        {
            "cell_type": "code",
            "metadata": {
                "deepnote_to_be_reexecuted": false,
                "source_hash": "342beafe",
                "cell_id": "00028-24b4a3de-bd4c-48da-acbc-18bdbd54974f",
                "execution_start": 1611480255539,
                "execution_millis": 3,
                "deepnote_cell_type": "code"
            },
            "source": "# ...that is shared by all columns\ndf.index is df[\"a\"].index",
            "execution_count": 18,
            "outputs": [
                {
                    "output_type": "execute_result",
                    "execution_count": 18,
                    "data": {
                        "text/plain": "True"
                    },
                    "metadata": {}
                }
            ]
        },
        {
            "cell_type": "markdown",
            "source": "## D(ata) types\n\nPandas builds upon the numpy data types (mentioned earlier) and adds a couple of more.",
            "metadata": {
                "cell_id": "00029-678aa611-1689-4541-b162-0332fa5901f0",
                "deepnote_cell_type": "markdown"
            }
        },
        {
            "cell_type": "code",
            "metadata": {
                "deepnote_to_be_reexecuted": false,
                "source_hash": "6af9f238",
                "cell_id": "00030-3b6e230d-6b97-4640-a9be-dd72536233ed",
                "execution_millis": 1,
                "execution_start": 1611480414296,
                "deepnote_cell_type": "code"
            },
            "source": "typed_df = pd.DataFrame({\n  \"bool\": np.arange(5) % 2 == 0,\n  \"int\": range(5),\n  \"int[nan]\": pd.Series([np.nan, 0, 1, 2, 3], dtype=\"Int64\"),\n  \"float\": np.arange(5) * 3.14,\n  \"object\": [None, 1, \"2\", [3, 4], 5 + 6j],\n  \"string?\": [\"a\", \"b\", \"c\", \"d\", \"e\"],\n  \"string!\": pd.Series([\"a\", \"b\", \"c\", \"d\", \"e\"], dtype=\"string\"),\n  \"datetime\": pd.date_range('2018-01-01', periods=5, freq='3M'),\n  \"timedelta\": pd.timedelta_range(0, freq=\"1s\", periods=5),\n  \"category\": pd.Series([\"animal\", \"plant\", \"animal\", \"animal\", \"plant\"], dtype=\"category\")\n})\ntyped_df",
            "execution_count": 26,
            "outputs": [
                {
                    "output_type": "execute_result",
                    "execution_count": 26,
                    "data": {
                        "application/vnd.deepnote.dataframe.v2+json": {
                            "error": "Traceback (most recent call last):\n  File \"/shared-libs/code/variable_explorer.py\", line 123, in dataframe_formatter\n    return { MIME_TYPE: describe_pd_dataframe(df) }\n  File \"/shared-libs/code/variable_explorer_helpers.py\", line 109, in describe_pd_dataframe\n    df_display_top = df_analyzed.fillna('nan')\n  File \"/shared-libs/python3.7/py/lib/python3.7/site-packages/pandas/core/frame.py\", line 4465, in fillna\n    downcast=downcast,\n  File \"/shared-libs/python3.7/py/lib/python3.7/site-packages/pandas/core/generic.py\", line 6425, in fillna\n    value=value, limit=limit, inplace=inplace, downcast=downcast\n  File \"/shared-libs/python3.7/py/lib/python3.7/site-packages/pandas/core/internals/managers.py\", line 622, in fillna\n    \"fillna\", value=value, limit=limit, inplace=inplace, downcast=downcast\n  File \"/shared-libs/python3.7/py/lib/python3.7/site-packages/pandas/core/internals/managers.py\", line 427, in apply\n    applied = getattr(b, f)(**kwargs)\n  File \"/shared-libs/python3.7/py/lib/python3.7/site-packages/pandas/core/internals/blocks.py\", line 1918, in fillna\n    values = values.fillna(value=value, limit=limit)\n  File \"/shared-libs/python3.7/py/lib/python3.7/site-packages/pandas/core/arrays/base.py\", line 675, in fillna\n    new_values[mask] = value\n  File \"/shared-libs/python3.7/py/lib/python3.7/site-packages/pandas/core/arrays/masked.py\", line 124, in __setitem__\n    value, mask = self._coerce_to_array(value)\n  File \"/shared-libs/python3.7/py/lib/python3.7/site-packages/pandas/core/arrays/integer.py\", line 420, in _coerce_to_array\n    return coerce_to_array(value, dtype=self.dtype)\n  File \"/shared-libs/python3.7/py/lib/python3.7/site-packages/pandas/core/arrays/integer.py\", line 233, in coerce_to_array\n    raise TypeError(f\"{values.dtype} cannot be converted to an IntegerDtype\")\nTypeError: <U3 cannot be converted to an IntegerDtype\n"
                        },
                        "text/plain": "    bool  int  int[nan]  float  object string? string!   datetime  \\\n0   True    0      <NA>   0.00    None       a       a 2018-01-31   \n1  False    1         0   3.14       1       b       b 2018-04-30   \n2   True    2         1   6.28       2       c       c 2018-07-31   \n3  False    3         2   9.42  [3, 4]       d       d 2018-10-31   \n4   True    4         3  12.56  (5+6j)       e       e 2019-01-31   \n\n        timedelta category  \n0 0 days 00:00:00   animal  \n1 0 days 00:00:01    plant  \n2 0 days 00:00:02   animal  \n3 0 days 00:00:03   animal  \n4 0 days 00:00:04    plant  ",
                        "text/html": "<div>\n<style scoped>\n    .dataframe tbody tr th:only-of-type {\n        vertical-align: middle;\n    }\n\n    .dataframe tbody tr th {\n        vertical-align: top;\n    }\n\n    .dataframe thead th {\n        text-align: right;\n    }\n</style>\n<table border=\"1\" class=\"dataframe\">\n  <thead>\n    <tr style=\"text-align: right;\">\n      <th></th>\n      <th>bool</th>\n      <th>int</th>\n      <th>int[nan]</th>\n      <th>float</th>\n      <th>object</th>\n      <th>string?</th>\n      <th>string!</th>\n      <th>datetime</th>\n      <th>timedelta</th>\n      <th>category</th>\n    </tr>\n  </thead>\n  <tbody>\n    <tr>\n      <th>0</th>\n      <td>True</td>\n      <td>0</td>\n      <td>&lt;NA&gt;</td>\n      <td>0.00</td>\n      <td>None</td>\n      <td>a</td>\n      <td>a</td>\n      <td>2018-01-31</td>\n      <td>0 days 00:00:00</td>\n      <td>animal</td>\n    </tr>\n    <tr>\n      <th>1</th>\n      <td>False</td>\n      <td>1</td>\n      <td>0</td>\n      <td>3.14</td>\n      <td>1</td>\n      <td>b</td>\n      <td>b</td>\n      <td>2018-04-30</td>\n      <td>0 days 00:00:01</td>\n      <td>plant</td>\n    </tr>\n    <tr>\n      <th>2</th>\n      <td>True</td>\n      <td>2</td>\n      <td>1</td>\n      <td>6.28</td>\n      <td>2</td>\n      <td>c</td>\n      <td>c</td>\n      <td>2018-07-31</td>\n      <td>0 days 00:00:02</td>\n      <td>animal</td>\n    </tr>\n    <tr>\n      <th>3</th>\n      <td>False</td>\n      <td>3</td>\n      <td>2</td>\n      <td>9.42</td>\n      <td>[3, 4]</td>\n      <td>d</td>\n      <td>d</td>\n      <td>2018-10-31</td>\n      <td>0 days 00:00:03</td>\n      <td>animal</td>\n    </tr>\n    <tr>\n      <th>4</th>\n      <td>True</td>\n      <td>4</td>\n      <td>3</td>\n      <td>12.56</td>\n      <td>(5+6j)</td>\n      <td>e</td>\n      <td>e</td>\n      <td>2019-01-31</td>\n      <td>0 days 00:00:04</td>\n      <td>plant</td>\n    </tr>\n  </tbody>\n</table>\n</div>"
                    },
                    "metadata": {}
                }
            ]
        },
        {
            "cell_type": "code",
            "metadata": {
                "deepnote_to_be_reexecuted": false,
                "source_hash": "4f0d2239",
                "cell_id": "00031-bee3a2c0-c353-4b0c-b77a-a000ccb2788c",
                "execution_millis": 3,
                "execution_start": 1611480419772,
                "deepnote_cell_type": "code"
            },
            "source": "typed_df.dtypes",
            "execution_count": 27,
            "outputs": [
                {
                    "output_type": "execute_result",
                    "execution_count": 27,
                    "data": {
                        "text/plain": "bool                    bool\nint                    int64\nint[nan]               Int64\nfloat                float64\nobject                object\nstring?               object\nstring!               string\ndatetime      datetime64[ns]\ntimedelta    timedelta64[ns]\ncategory            category\ndtype: object"
                    },
                    "metadata": {}
                }
            ]
        },
        {
            "cell_type": "markdown",
            "source": "We will see some of the types practically used in further analysis.",
            "metadata": {
                "cell_id": "00032-3ec453ff-b305-4763-b609-2aff95d66746",
                "deepnote_cell_type": "markdown"
            }
        },
        {
            "cell_type": "markdown",
            "source": "## Indices & indexing\n\n",
            "metadata": {
                "cell_id": "00033-50dc2fa2-5fa7-4e11-915c-4199e378db21",
                "deepnote_cell_type": "markdown"
            }
        },
        {
            "cell_type": "code",
            "metadata": {
                "deepnote_to_be_reexecuted": false,
                "source_hash": "19f8a65a",
                "cell_id": "00034-32abb4e0-0f10-4df1-aea3-03da66e6b06c",
                "execution_start": 1611480437724,
                "execution_millis": 9,
                "deepnote_cell_type": "code"
            },
            "source": "abc_series = pd.Series(range(3), index=[\"a\", \"b\", \"c\"])\nabc_series",
            "execution_count": 28,
            "outputs": [
                {
                    "output_type": "execute_result",
                    "execution_count": 28,
                    "data": {
                        "text/plain": "a    0\nb    1\nc    2\ndtype: int64"
                    },
                    "metadata": {}
                }
            ]
        },
        {
            "cell_type": "code",
            "metadata": {
                "deepnote_to_be_reexecuted": false,
                "source_hash": "7cd8d5bf",
                "cell_id": "00035-259aa5f5-2d47-4b78-9a60-bfaf32ae1b35",
                "execution_start": 1611480449552,
                "execution_millis": 1,
                "deepnote_cell_type": "code"
            },
            "source": "abc_series.index",
            "execution_count": 29,
            "outputs": [
                {
                    "output_type": "execute_result",
                    "execution_count": 29,
                    "data": {
                        "text/plain": "Index(['a', 'b', 'c'], dtype='object')"
                    },
                    "metadata": {}
                }
            ]
        },
        {
            "cell_type": "code",
            "metadata": {
                "deepnote_to_be_reexecuted": false,
                "source_hash": "2812f42b",
                "cell_id": "00036-c847e804-ed52-4658-8f65-1a138213e27f",
                "execution_start": 1611480468106,
                "execution_millis": 4,
                "deepnote_cell_type": "code"
            },
            "source": "abc_series.index = [\"c\", \"d\", \"e\"]  # Changes the labels in-place!\nabc_series.index.name = \"letter\"\nabc_series",
            "execution_count": 30,
            "outputs": [
                {
                    "output_type": "execute_result",
                    "execution_count": 30,
                    "data": {
                        "text/plain": "letter\nc    0\nd    1\ne    2\ndtype: int64"
                    },
                    "metadata": {}
                }
            ]
        },
        {
            "cell_type": "code",
            "metadata": {
                "deepnote_to_be_reexecuted": false,
                "source_hash": "90a443a4",
                "cell_id": "00037-2389ef73-c073-46e7-bc13-f6762442030e",
                "execution_start": 1611480471996,
                "execution_millis": 1,
                "deepnote_cell_type": "code"
            },
            "source": "table = [\n    ['a', 1],\n    ['b', 3],\n    ['c', 5]\n]\ntable_df = pd.DataFrame(\n    table,\n    index=[\"first\", \"second\", \"third\"],\n    columns=[\"alpha\", \"beta\"]\n)\ntable_df",
            "execution_count": 31,
            "outputs": [
                {
                    "output_type": "execute_result",
                    "execution_count": 31,
                    "data": {
                        "application/vnd.deepnote.dataframe.v2+json": {
                            "row_count": 3,
                            "column_count": 2,
                            "columns": [
                                {
                                    "name": "alpha",
                                    "dtype": "object",
                                    "stats": {
                                        "unique_count": 3,
                                        "nan_count": 0,
                                        "categories": [
                                            {
                                                "name": "a",
                                                "count": 1
                                            },
                                            {
                                                "name": "b",
                                                "count": 1
                                            },
                                            {
                                                "name": "c",
                                                "count": 1
                                            }
                                        ]
                                    }
                                },
                                {
                                    "name": "beta",
                                    "dtype": "int64",
                                    "stats": {
                                        "unique_count": 3,
                                        "nan_count": 0,
                                        "min": 1,
                                        "max": 5,
                                        "histogram": [
                                            {
                                                "bin_start": 1,
                                                "bin_end": 1.4,
                                                "count": 1
                                            },
                                            {
                                                "bin_start": 1.4,
                                                "bin_end": 1.8,
                                                "count": 0
                                            },
                                            {
                                                "bin_start": 1.8,
                                                "bin_end": 2.2,
                                                "count": 0
                                            },
                                            {
                                                "bin_start": 2.2,
                                                "bin_end": 2.6,
                                                "count": 0
                                            },
                                            {
                                                "bin_start": 2.6,
                                                "bin_end": 3,
                                                "count": 0
                                            },
                                            {
                                                "bin_start": 3,
                                                "bin_end": 3.4000000000000004,
                                                "count": 1
                                            },
                                            {
                                                "bin_start": 3.4000000000000004,
                                                "bin_end": 3.8000000000000003,
                                                "count": 0
                                            },
                                            {
                                                "bin_start": 3.8000000000000003,
                                                "bin_end": 4.2,
                                                "count": 0
                                            },
                                            {
                                                "bin_start": 4.2,
                                                "bin_end": 4.6,
                                                "count": 0
                                            },
                                            {
                                                "bin_start": 4.6,
                                                "bin_end": 5,
                                                "count": 1
                                            }
                                        ]
                                    }
                                },
                                {
                                    "name": "_deepnote_index_column",
                                    "dtype": "object"
                                }
                            ],
                            "rows_top": [
                                {
                                    "alpha": "a",
                                    "beta": 1,
                                    "_deepnote_index_column": "first"
                                },
                                {
                                    "alpha": "b",
                                    "beta": 3,
                                    "_deepnote_index_column": "second"
                                },
                                {
                                    "alpha": "c",
                                    "beta": 5,
                                    "_deepnote_index_column": "third"
                                }
                            ],
                            "rows_bottom": null
                        },
                        "text/plain": "       alpha  beta\nfirst      a     1\nsecond     b     3\nthird      c     5",
                        "text/html": "<div>\n<style scoped>\n    .dataframe tbody tr th:only-of-type {\n        vertical-align: middle;\n    }\n\n    .dataframe tbody tr th {\n        vertical-align: top;\n    }\n\n    .dataframe thead th {\n        text-align: right;\n    }\n</style>\n<table border=\"1\" class=\"dataframe\">\n  <thead>\n    <tr style=\"text-align: right;\">\n      <th></th>\n      <th>alpha</th>\n      <th>beta</th>\n    </tr>\n  </thead>\n  <tbody>\n    <tr>\n      <th>first</th>\n      <td>a</td>\n      <td>1</td>\n    </tr>\n    <tr>\n      <th>second</th>\n      <td>b</td>\n      <td>3</td>\n    </tr>\n    <tr>\n      <th>third</th>\n      <td>c</td>\n      <td>5</td>\n    </tr>\n  </tbody>\n</table>\n</div>"
                    },
                    "metadata": {}
                }
            ]
        },
        {
            "cell_type": "code",
            "metadata": {
                "deepnote_to_be_reexecuted": false,
                "source_hash": "13d66294",
                "cell_id": "00038-9e4bb204-ec38-4156-9d84-4ba27d1949f8",
                "execution_start": 1611480487168,
                "execution_millis": 2,
                "deepnote_cell_type": "code"
            },
            "source": "alpha = table_df[\"alpha\"]  # Simple [] indexing in DataFrame returns Series\nalpha",
            "execution_count": 32,
            "outputs": [
                {
                    "output_type": "execute_result",
                    "execution_count": 32,
                    "data": {
                        "text/plain": "first     a\nsecond    b\nthird     c\nName: alpha, dtype: object"
                    },
                    "metadata": {}
                }
            ]
        },
        {
            "cell_type": "code",
            "metadata": {
                "deepnote_to_be_reexecuted": false,
                "source_hash": "ca4ed67d",
                "cell_id": "00039-d3e29353-1bdb-4d14-aa40-4c9c06ee2806",
                "execution_start": 1611480488922,
                "execution_millis": 4,
                "deepnote_cell_type": "code"
            },
            "source": "alpha[\"second\"]             # Simple [] indexing in Series returns scalar values.",
            "execution_count": 33,
            "outputs": [
                {
                    "output_type": "execute_result",
                    "execution_count": 33,
                    "data": {
                        "text/plain": "'b'"
                    },
                    "metadata": {}
                }
            ]
        },
        {
            "cell_type": "code",
            "metadata": {
                "deepnote_to_be_reexecuted": false,
                "source_hash": "71561b63",
                "cell_id": "00040-3dc834db-22df-442a-91a2-b2d3d2057e8b",
                "execution_start": 1611480493701,
                "execution_millis": 4,
                "deepnote_cell_type": "code"
            },
            "source": "alpha.second   # This also works",
            "execution_count": 34,
            "outputs": [
                {
                    "output_type": "execute_result",
                    "execution_count": 34,
                    "data": {
                        "text/plain": "'b'"
                    },
                    "metadata": {}
                }
            ]
        },
        {
            "cell_type": "markdown",
            "source": "but careful!",
            "metadata": {
                "cell_id": "00041-f829e685-f067-45f3-ac50-528314721d28",
                "deepnote_cell_type": "markdown"
            }
        },
        {
            "cell_type": "code",
            "metadata": {
                "deepnote_to_be_reexecuted": false,
                "source_hash": "b77fa13b",
                "cell_id": "00042-1c986cc2-6d06-40c1-938f-5451f8cbf9b6",
                "execution_start": 1611480496092,
                "execution_millis": 3,
                "deepnote_cell_type": "code"
            },
            "source": "alpha.first",
            "execution_count": 35,
            "outputs": [
                {
                    "output_type": "execute_result",
                    "execution_count": 35,
                    "data": {
                        "text/plain": "<bound method NDFrame.first of first     a\nsecond    b\nthird     c\nName: alpha, dtype: object>"
                    },
                    "metadata": {}
                }
            ]
        },
        {
            "cell_type": "markdown",
            "source": "A slice with a `[\"list\", \"of\", \"columns\"]` yields a `DataFrame` with those columns. \n\nFor example:",
            "metadata": {
                "cell_id": "00043-02128ed9-095d-4fbd-9d64-97ec723aa605",
                "deepnote_cell_type": "markdown"
            }
        },
        {
            "cell_type": "code",
            "metadata": {
                "deepnote_to_be_reexecuted": false,
                "source_hash": "b512d0f2",
                "cell_id": "00044-20be4a99-51da-4c6d-bd49-7700b7424851",
                "execution_start": 1611480507673,
                "execution_millis": 1,
                "deepnote_cell_type": "code"
            },
            "source": "table_df[[\"beta\", \"alpha\"]]",
            "execution_count": 36,
            "outputs": [
                {
                    "output_type": "execute_result",
                    "execution_count": 36,
                    "data": {
                        "application/vnd.deepnote.dataframe.v2+json": {
                            "row_count": 3,
                            "column_count": 2,
                            "columns": [
                                {
                                    "name": "beta",
                                    "dtype": "int64",
                                    "stats": {
                                        "unique_count": 3,
                                        "nan_count": 0,
                                        "min": 1,
                                        "max": 5,
                                        "histogram": [
                                            {
                                                "bin_start": 1,
                                                "bin_end": 1.4,
                                                "count": 1
                                            },
                                            {
                                                "bin_start": 1.4,
                                                "bin_end": 1.8,
                                                "count": 0
                                            },
                                            {
                                                "bin_start": 1.8,
                                                "bin_end": 2.2,
                                                "count": 0
                                            },
                                            {
                                                "bin_start": 2.2,
                                                "bin_end": 2.6,
                                                "count": 0
                                            },
                                            {
                                                "bin_start": 2.6,
                                                "bin_end": 3,
                                                "count": 0
                                            },
                                            {
                                                "bin_start": 3,
                                                "bin_end": 3.4000000000000004,
                                                "count": 1
                                            },
                                            {
                                                "bin_start": 3.4000000000000004,
                                                "bin_end": 3.8000000000000003,
                                                "count": 0
                                            },
                                            {
                                                "bin_start": 3.8000000000000003,
                                                "bin_end": 4.2,
                                                "count": 0
                                            },
                                            {
                                                "bin_start": 4.2,
                                                "bin_end": 4.6,
                                                "count": 0
                                            },
                                            {
                                                "bin_start": 4.6,
                                                "bin_end": 5,
                                                "count": 1
                                            }
                                        ]
                                    }
                                },
                                {
                                    "name": "alpha",
                                    "dtype": "object",
                                    "stats": {
                                        "unique_count": 3,
                                        "nan_count": 0,
                                        "categories": [
                                            {
                                                "name": "a",
                                                "count": 1
                                            },
                                            {
                                                "name": "b",
                                                "count": 1
                                            },
                                            {
                                                "name": "c",
                                                "count": 1
                                            }
                                        ]
                                    }
                                },
                                {
                                    "name": "_deepnote_index_column",
                                    "dtype": "object"
                                }
                            ],
                            "rows_top": [
                                {
                                    "beta": 1,
                                    "alpha": "a",
                                    "_deepnote_index_column": "first"
                                },
                                {
                                    "beta": 3,
                                    "alpha": "b",
                                    "_deepnote_index_column": "second"
                                },
                                {
                                    "beta": 5,
                                    "alpha": "c",
                                    "_deepnote_index_column": "third"
                                }
                            ],
                            "rows_bottom": null
                        },
                        "text/plain": "        beta alpha\nfirst      1     a\nsecond     3     b\nthird      5     c",
                        "text/html": "<div>\n<style scoped>\n    .dataframe tbody tr th:only-of-type {\n        vertical-align: middle;\n    }\n\n    .dataframe tbody tr th {\n        vertical-align: top;\n    }\n\n    .dataframe thead th {\n        text-align: right;\n    }\n</style>\n<table border=\"1\" class=\"dataframe\">\n  <thead>\n    <tr style=\"text-align: right;\">\n      <th></th>\n      <th>beta</th>\n      <th>alpha</th>\n    </tr>\n  </thead>\n  <tbody>\n    <tr>\n      <th>first</th>\n      <td>1</td>\n      <td>a</td>\n    </tr>\n    <tr>\n      <th>second</th>\n      <td>3</td>\n      <td>b</td>\n    </tr>\n    <tr>\n      <th>third</th>\n      <td>5</td>\n      <td>c</td>\n    </tr>\n  </tbody>\n</table>\n</div>"
                    },
                    "metadata": {}
                }
            ]
        },
        {
            "cell_type": "markdown",
            "source": "`[[\"column_name\"]]` returs a `DataFrame` as well, not `Series`:",
            "metadata": {
                "cell_id": "00045-87097e64-16fc-4715-9615-b01bcf22fa6b",
                "deepnote_cell_type": "markdown"
            }
        },
        {
            "cell_type": "code",
            "metadata": {
                "deepnote_to_be_reexecuted": false,
                "source_hash": "9f86bc6a",
                "cell_id": "00046-44114b51-5214-442f-b4ea-746cfec221a6",
                "execution_start": 1611480510971,
                "execution_millis": 4,
                "deepnote_cell_type": "code"
            },
            "source": "table_df[[\"alpha\"]]",
            "execution_count": 37,
            "outputs": [
                {
                    "output_type": "execute_result",
                    "execution_count": 37,
                    "data": {
                        "application/vnd.deepnote.dataframe.v2+json": {
                            "row_count": 3,
                            "column_count": 1,
                            "columns": [
                                {
                                    "name": "alpha",
                                    "dtype": "object",
                                    "stats": {
                                        "unique_count": 3,
                                        "nan_count": 0,
                                        "categories": [
                                            {
                                                "name": "a",
                                                "count": 1
                                            },
                                            {
                                                "name": "b",
                                                "count": 1
                                            },
                                            {
                                                "name": "c",
                                                "count": 1
                                            }
                                        ]
                                    }
                                },
                                {
                                    "name": "_deepnote_index_column",
                                    "dtype": "object"
                                }
                            ],
                            "rows_top": [
                                {
                                    "alpha": "a",
                                    "_deepnote_index_column": "first"
                                },
                                {
                                    "alpha": "b",
                                    "_deepnote_index_column": "second"
                                },
                                {
                                    "alpha": "c",
                                    "_deepnote_index_column": "third"
                                }
                            ],
                            "rows_bottom": null
                        },
                        "text/plain": "       alpha\nfirst      a\nsecond     b\nthird      c",
                        "text/html": "<div>\n<style scoped>\n    .dataframe tbody tr th:only-of-type {\n        vertical-align: middle;\n    }\n\n    .dataframe tbody tr th {\n        vertical-align: top;\n    }\n\n    .dataframe thead th {\n        text-align: right;\n    }\n</style>\n<table border=\"1\" class=\"dataframe\">\n  <thead>\n    <tr style=\"text-align: right;\">\n      <th></th>\n      <th>alpha</th>\n    </tr>\n  </thead>\n  <tbody>\n    <tr>\n      <th>first</th>\n      <td>a</td>\n    </tr>\n    <tr>\n      <th>second</th>\n      <td>b</td>\n    </tr>\n    <tr>\n      <th>third</th>\n      <td>c</td>\n    </tr>\n  </tbody>\n</table>\n</div>"
                    },
                    "metadata": {}
                }
            ]
        },
        {
            "cell_type": "markdown",
            "source": "There are two ways how to properly index rows & cells in the DataFrame:\n\n- `loc` for label-based indexing\n- `iloc` for order-based indexing (it does not use the **index** at all)\n\nNote the square brackets. The mentioned attributes actually are not methods\nbut special \"indexer\" objects. They accept one or two arguments specifying\nthe position along one or both axes.",
            "metadata": {
                "cell_id": "00047-b36368bb-ef35-4d86-88e1-2b447dd9dd34",
                "deepnote_cell_type": "markdown"
            }
        },
        {
            "cell_type": "markdown",
            "source": "**Exercise:** Create `DataFrame` whose `x`-column is $0, \\frac{1}{4}\\pi, \\frac{1}{2}\\pi, .. 2\\pi $, `y` column is `cos(x)` and index are `fractions` `0, 1/4, 1/2 ... 2`",
            "metadata": {
                "cell_id": "00048-463cad6f-7c6b-4cbc-b0e8-4bda670af5c5",
                "deepnote_cell_type": "markdown"
            }
        },
        {
            "cell_type": "code",
            "metadata": {
                "deepnote_to_be_reexecuted": false,
                "source_hash": "2ccc186a",
                "cell_id": "00049-923b787e-2290-4bf4-a0b7-4a715e1c1b57",
                "execution_start": 1611480561408,
                "execution_millis": 111,
                "deepnote_cell_type": "code"
            },
            "source": "import fractions\n\nindex = [fractions.Fraction(n, ___) for n in range(___)]\nx = np.___([___ for ___ in ___])\ny = ___\n\ndf = pd.DataFrame(___, index = ___)\n\n# display\ndf",
            "execution_count": 38,
            "outputs": [
                {
                    "output_type": "error",
                    "ename": "TypeError",
                    "evalue": "'method' object cannot be interpreted as an integer",
                    "traceback": [
                        "\u001b[0;31m---------------------------------------------------------------------------\u001b[0m",
                        "\u001b[0;31mTypeError\u001b[0m                                 Traceback (most recent call last)",
                        "\u001b[0;32m<ipython-input-38-ea2ec7a07528>\u001b[0m in \u001b[0;36m<module>\u001b[0;34m\u001b[0m\n\u001b[1;32m      1\u001b[0m \u001b[0;32mimport\u001b[0m \u001b[0mfractions\u001b[0m\u001b[0;34m\u001b[0m\u001b[0;34m\u001b[0m\u001b[0m\n\u001b[1;32m      2\u001b[0m \u001b[0;34m\u001b[0m\u001b[0m\n\u001b[0;32m----> 3\u001b[0;31m \u001b[0mindex\u001b[0m \u001b[0;34m=\u001b[0m \u001b[0;34m[\u001b[0m\u001b[0mfractions\u001b[0m\u001b[0;34m.\u001b[0m\u001b[0mFraction\u001b[0m\u001b[0;34m(\u001b[0m\u001b[0mn\u001b[0m\u001b[0;34m,\u001b[0m \u001b[0m___\u001b[0m\u001b[0;34m)\u001b[0m \u001b[0;32mfor\u001b[0m \u001b[0mn\u001b[0m \u001b[0;32min\u001b[0m \u001b[0mrange\u001b[0m\u001b[0;34m(\u001b[0m\u001b[0m___\u001b[0m\u001b[0;34m)\u001b[0m\u001b[0;34m]\u001b[0m\u001b[0;34m\u001b[0m\u001b[0;34m\u001b[0m\u001b[0m\n\u001b[0m\u001b[1;32m      4\u001b[0m \u001b[0mx\u001b[0m \u001b[0;34m=\u001b[0m \u001b[0mnp\u001b[0m\u001b[0;34m.\u001b[0m\u001b[0m___\u001b[0m\u001b[0;34m(\u001b[0m\u001b[0;34m[\u001b[0m\u001b[0m___\u001b[0m \u001b[0;32mfor\u001b[0m \u001b[0m___\u001b[0m \u001b[0;32min\u001b[0m \u001b[0m___\u001b[0m\u001b[0;34m]\u001b[0m\u001b[0;34m)\u001b[0m\u001b[0;34m\u001b[0m\u001b[0;34m\u001b[0m\u001b[0m\n\u001b[1;32m      5\u001b[0m \u001b[0my\u001b[0m \u001b[0;34m=\u001b[0m \u001b[0m___\u001b[0m\u001b[0;34m\u001b[0m\u001b[0;34m\u001b[0m\u001b[0m\n",
                        "\u001b[0;31mTypeError\u001b[0m: 'method' object cannot be interpreted as an integer"
                    ]
                }
            ]
        },
        {
            "cell_type": "markdown",
            "source": "#### loc\n",
            "metadata": {
                "cell_id": "00051-d752f044-6453-4408-a6de-0d839763b76b",
                "deepnote_cell_type": "markdown"
            }
        },
        {
            "cell_type": "code",
            "metadata": {
                "deepnote_to_be_reexecuted": true,
                "source_hash": "eaeea355",
                "cell_id": "00052-cd472118-a3ab-4fdf-877f-b34feb160012",
                "deepnote_cell_type": "code"
            },
            "source": "first = table_df.loc[\"first\"]\nfirst",
            "execution_count": null,
            "outputs": []
        },
        {
            "cell_type": "code",
            "metadata": {
                "deepnote_to_be_reexecuted": true,
                "source_hash": "f6fdb961",
                "cell_id": "00053-946c15db-1f8d-4456-b544-8d9217d7c3e3",
                "deepnote_cell_type": "code"
            },
            "source": "table_df.loc[\"first\", \"beta\"]            ",
            "execution_count": null,
            "outputs": []
        },
        {
            "cell_type": "code",
            "metadata": {
                "deepnote_to_be_reexecuted": true,
                "source_hash": "9f0543fa",
                "cell_id": "00054-c2863c99-4007-46d5-b621-902c99f4ebaa",
                "deepnote_cell_type": "code"
            },
            "source": "table_df.loc[\"first\":\"second\", \"beta\"]   # Use ranges (inclusive)",
            "execution_count": null,
            "outputs": []
        },
        {
            "cell_type": "markdown",
            "source": "#### iloc",
            "metadata": {
                "cell_id": "00055-0269da49-4603-4e89-a918-89cf183963b6",
                "deepnote_cell_type": "markdown"
            }
        },
        {
            "cell_type": "code",
            "metadata": {
                "deepnote_to_be_reexecuted": true,
                "source_hash": "589116e5",
                "cell_id": "00056-42c1398a-c8c2-4058-b29e-7fbd7492e015",
                "deepnote_cell_type": "code"
            },
            "source": "table_df.iloc[1]",
            "execution_count": null,
            "outputs": []
        },
        {
            "cell_type": "code",
            "metadata": {
                "deepnote_to_be_reexecuted": true,
                "source_hash": "22edf038",
                "cell_id": "00057-6538f32a-6bf3-4023-bd72-b09f9f93f651",
                "deepnote_cell_type": "code"
            },
            "source": "table_df.iloc[0:4:2]   # Select every second row",
            "execution_count": null,
            "outputs": []
        },
        {
            "cell_type": "code",
            "metadata": {
                "deepnote_to_be_reexecuted": true,
                "source_hash": "9381f832",
                "cell_id": "00058-0c30d2bc-2364-4dd3-bdd5-c26c7c10eb4e",
                "deepnote_cell_type": "code"
            },
            "source": "table_df.at[\"first\", \"beta\"]",
            "execution_count": null,
            "outputs": []
        },
        {
            "cell_type": "code",
            "metadata": {
                "deepnote_to_be_reexecuted": true,
                "source_hash": "5ab74605",
                "cell_id": "00059-12f13481-7803-4e1e-b14e-d0a8e2dfe8a5",
                "deepnote_cell_type": "code"
            },
            "source": "type(table_df.at)",
            "execution_count": null,
            "outputs": []
        },
        {
            "cell_type": "markdown",
            "source": "## Modifying DataFrames\n\nAdding a new column is like assigning to adding a key/value pair to a dict.\nNote that the operation, unlike most others, does modify the DataFrame.",
            "metadata": {
                "cell_id": "00060-b2631a48-97ac-4ceb-bdd4-5f7646ae12af",
                "deepnote_cell_type": "markdown"
            }
        },
        {
            "cell_type": "code",
            "metadata": {
                "deepnote_to_be_reexecuted": true,
                "source_hash": "19406c5f",
                "cell_id": "00061-f37d9259-386d-4aa8-81e9-f04b91218859",
                "deepnote_cell_type": "code"
            },
            "source": "from datetime import datetime\ntable_df[\"now\"] = datetime.now()\ntable_df",
            "execution_count": null,
            "outputs": []
        },
        {
            "cell_type": "markdown",
            "source": "Non-destructive version that returns a new DataFrame, uses the `assign` method:",
            "metadata": {
                "cell_id": "00062-c159fe13-4abd-448b-bcd3-84e258daa24f",
                "deepnote_cell_type": "markdown"
            }
        },
        {
            "cell_type": "code",
            "metadata": {
                "deepnote_to_be_reexecuted": true,
                "source_hash": "6960fea5",
                "cell_id": "00063-b1d052b5-bc6b-4b96-88da-d3275d19d9bc",
                "deepnote_cell_type": "code"
            },
            "source": "table_df.assign(delta = [True, False, True])",
            "execution_count": null,
            "outputs": []
        },
        {
            "cell_type": "code",
            "metadata": {
                "deepnote_to_be_reexecuted": true,
                "source_hash": "17c762c7",
                "cell_id": "00064-3966f654-fcdc-474f-9c22-2d88060a5e58",
                "deepnote_cell_type": "code"
            },
            "source": "# However, the original DataFrame is not changed\ntable_df",
            "execution_count": null,
            "outputs": []
        },
        {
            "cell_type": "markdown",
            "source": "Deleting a column is very easy too.",
            "metadata": {
                "cell_id": "00065-6b62a3b9-a6c2-485d-ba2c-d57bf24e0a18",
                "deepnote_cell_type": "markdown"
            }
        },
        {
            "cell_type": "code",
            "metadata": {
                "deepnote_to_be_reexecuted": true,
                "source_hash": "c9dffb9a",
                "cell_id": "00066-5f72938d-3ab7-4ab3-8122-cf7c78540364",
                "deepnote_cell_type": "code"
            },
            "source": "del table_df[\"now\"]\ntable_df",
            "execution_count": null,
            "outputs": []
        },
        {
            "cell_type": "markdown",
            "source": "The **drop** method works with both rows and columns (creating a new data frame).",
            "metadata": {
                "cell_id": "00067-35aa7a39-fad1-4c8e-a156-21edd5370d9a",
                "deepnote_cell_type": "markdown"
            }
        },
        {
            "cell_type": "code",
            "metadata": {
                "deepnote_to_be_reexecuted": true,
                "source_hash": "ade330b4",
                "cell_id": "00068-862eb5e1-5646-4a06-b071-9875b453da82",
                "deepnote_cell_type": "code"
            },
            "source": "table_df.drop(\"beta\", axis=1)",
            "execution_count": null,
            "outputs": []
        },
        {
            "cell_type": "code",
            "metadata": {
                "deepnote_to_be_reexecuted": true,
                "source_hash": "ce27d27f",
                "cell_id": "00069-56686947-232e-4c1f-aaa5-52ae3749e221",
                "deepnote_cell_type": "code"
            },
            "source": "table_df.drop(\"second\", axis=0)",
            "execution_count": null,
            "outputs": []
        },
        {
            "cell_type": "markdown",
            "source": "**Exercise:** Use a combination of `reset_index`, `drop` and `set_index` to transform `table_df` into `pd.DataFrame({'index': table_df.index}, index=table_df[\"alpha\"])`",
            "metadata": {
                "cell_id": "00070-d118c1c5-f503-4c1f-8549-ae52de8fd831",
                "deepnote_cell_type": "markdown"
            }
        },
        {
            "cell_type": "code",
            "metadata": {
                "deepnote_to_be_reexecuted": false,
                "source_hash": "d5f2663e",
                "cell_id": "00071-1e976c81-d9d9-4111-9937-21fd45177fde",
                "execution_start": 1611480611376,
                "execution_millis": 1,
                "deepnote_cell_type": "code"
            },
            "source": "results = table_df.___.___.___\n\n# display\nresult",
            "execution_count": 39,
            "outputs": [
                {
                    "output_type": "error",
                    "ename": "AttributeError",
                    "evalue": "'DataFrame' object has no attribute '___'",
                    "traceback": [
                        "\u001b[0;31m---------------------------------------------------------------------------\u001b[0m",
                        "\u001b[0;31mAttributeError\u001b[0m                            Traceback (most recent call last)",
                        "\u001b[0;32m<ipython-input-39-5451763304e5>\u001b[0m in \u001b[0;36m<module>\u001b[0;34m\u001b[0m\n\u001b[0;32m----> 1\u001b[0;31m \u001b[0mresults\u001b[0m \u001b[0;34m=\u001b[0m \u001b[0mtable_df\u001b[0m\u001b[0;34m.\u001b[0m\u001b[0m___\u001b[0m\u001b[0;34m.\u001b[0m\u001b[0m___\u001b[0m\u001b[0;34m.\u001b[0m\u001b[0m___\u001b[0m\u001b[0;34m\u001b[0m\u001b[0;34m\u001b[0m\u001b[0m\n\u001b[0m\u001b[1;32m      2\u001b[0m \u001b[0;34m\u001b[0m\u001b[0m\n\u001b[1;32m      3\u001b[0m \u001b[0;31m# display\u001b[0m\u001b[0;34m\u001b[0m\u001b[0;34m\u001b[0m\u001b[0;34m\u001b[0m\u001b[0m\n\u001b[1;32m      4\u001b[0m \u001b[0mresult\u001b[0m\u001b[0;34m\u001b[0m\u001b[0;34m\u001b[0m\u001b[0m\n",
                        "\u001b[0;32m/shared-libs/python3.7/py/lib/python3.7/site-packages/pandas/core/generic.py\u001b[0m in \u001b[0;36m__getattr__\u001b[0;34m(self, name)\u001b[0m\n\u001b[1;32m   5458\u001b[0m             \u001b[0;32mif\u001b[0m \u001b[0mself\u001b[0m\u001b[0;34m.\u001b[0m\u001b[0m_info_axis\u001b[0m\u001b[0;34m.\u001b[0m\u001b[0m_can_hold_identifiers_and_holds_name\u001b[0m\u001b[0;34m(\u001b[0m\u001b[0mname\u001b[0m\u001b[0;34m)\u001b[0m\u001b[0;34m:\u001b[0m\u001b[0;34m\u001b[0m\u001b[0;34m\u001b[0m\u001b[0m\n\u001b[1;32m   5459\u001b[0m                 \u001b[0;32mreturn\u001b[0m \u001b[0mself\u001b[0m\u001b[0;34m[\u001b[0m\u001b[0mname\u001b[0m\u001b[0;34m]\u001b[0m\u001b[0;34m\u001b[0m\u001b[0;34m\u001b[0m\u001b[0m\n\u001b[0;32m-> 5460\u001b[0;31m             \u001b[0;32mreturn\u001b[0m \u001b[0mobject\u001b[0m\u001b[0;34m.\u001b[0m\u001b[0m__getattribute__\u001b[0m\u001b[0;34m(\u001b[0m\u001b[0mself\u001b[0m\u001b[0;34m,\u001b[0m \u001b[0mname\u001b[0m\u001b[0;34m)\u001b[0m\u001b[0;34m\u001b[0m\u001b[0;34m\u001b[0m\u001b[0m\n\u001b[0m\u001b[1;32m   5461\u001b[0m \u001b[0;34m\u001b[0m\u001b[0m\n\u001b[1;32m   5462\u001b[0m     \u001b[0;32mdef\u001b[0m \u001b[0m__setattr__\u001b[0m\u001b[0;34m(\u001b[0m\u001b[0mself\u001b[0m\u001b[0;34m,\u001b[0m \u001b[0mname\u001b[0m\u001b[0;34m:\u001b[0m \u001b[0mstr\u001b[0m\u001b[0;34m,\u001b[0m \u001b[0mvalue\u001b[0m\u001b[0;34m)\u001b[0m \u001b[0;34m->\u001b[0m \u001b[0;32mNone\u001b[0m\u001b[0;34m:\u001b[0m\u001b[0;34m\u001b[0m\u001b[0;34m\u001b[0m\u001b[0m\n",
                        "\u001b[0;31mAttributeError\u001b[0m: 'DataFrame' object has no attribute '___'"
                    ]
                }
            ]
        },
        {
            "cell_type": "markdown",
            "source": "---\n**Let's get some data!**",
            "metadata": {
                "cell_id": "00073-ac2aca58-f767-4193-a670-01707c1b0e20",
                "deepnote_cell_type": "markdown"
            }
        },
                {
            "cell_type": "markdown",
            "source": "# Pandas - Reading data\n\nThis notebook is the second part of the series devoted to the pandas library.\n\nIt explores the ways how data can be imported into DataFrames. \n\nMore details can be found in the official documentation: http://pandas.pydata.org/pandas-docs/stable/user_guide/io.html\n\nMost of the functions for reading data are named `pandas.read_XXX`, where XXX is the format used. We will go through several commonly used ones.",
            "metadata": {
                "cell_id": "00000-e201ad38-bab3-4752-bb9d-0ea4e579a6e5",
                "deepnote_cell_type": "markdown"
            }
        },
        {
            "cell_type": "markdown",
            "source": "### This tutorial data sets origins\n\n* IMDB: https://datasets.imdbws.com/\n* Box office (Kaggle / TMDB): https://www.kaggle.com/c/tmdb-box-office-prediction/data\n* Awards: https://en.wikipedia.org/wiki/List_of_Academy_Award-winning_films\n* Rotten Tomatoes: https://data.world/prasert/rotten-tomatoes-top-movies-by-genre\n* Guardian: https://www.theguardian.com/news/datablog/2010/oct/16/greatest-films-of-all-time\n* Wikipedia movies: https://github.com/prust/wikipedia-movie-data\n",
            "metadata": {
                "cell_id": "00001-d64efb64-57c0-4e7d-90e7-5c28e5caf811",
                "deepnote_cell_type": "markdown"
            }
        },
        {
            "cell_type": "code",
            "metadata": {
                "cell_id": "00003-db6af2c3-907f-4567-a1a7-e350cebe403b",
                "deepnote_to_be_reexecuted": false,
                "source_hash": "6e1324e7",
                "execution_start": 1611499547261,
                "execution_millis": 0,
                "deepnote_cell_type": "code"
            },
            "source": "# List functions for input in pandas.\n\nprint(\"\\n\".join(method for method in dir(pd) if method.startswith(\"read_\")))",
            "execution_count": 13,
            "outputs": [
                {
                    "name": "stdout",
                    "text": "read_clipboard\nread_csv\nread_excel\nread_feather\nread_fwf\nread_gbq\nread_hdf\nread_html\nread_json\nread_orc\nread_parquet\nread_pickle\nread_sas\nread_spss\nread_sql\nread_sql_query\nread_sql_table\nread_stata\nread_table\n",
                    "output_type": "stream"
                }
            ]
        },
        {
            "cell_type": "markdown",
            "source": "## Read CSV\n\nNowadays, a lot of data comes in the textual Comma-separated values format (CSV).\nAlthough not properly standardized, it is the de-facto standard for files that are not\nhuge and are meant to be read by human eyes too.\n\nLet's read the population of U.S. states (and several other territories that we will need later):",
            "metadata": {
                "cell_id": "00004-19bf39d6-b1e0-49c1-9a53-aeb25d94db0b",
                "deepnote_cell_type": "markdown"
            }
        },
        {
            "cell_type": "code",
            "metadata": {
                "cell_id": "00006-288c35a0-b7bc-4521-b7e7-06243e04539f",
                "deepnote_to_be_reexecuted": false,
                "source_hash": "6caee636",
                "execution_start": 1611517775367,
                "execution_millis": 15,
                "deepnote_cell_type": "code"
            },
            "source": "territories = pd.read_csv(\"data/us_state_population.csv\")\nterritories.head(9)",
            "execution_count": 14,
            "outputs": [
                {
                    "output_type": "execute_result",
                    "execution_count": 14,
                    "data": {
                        "application/vnd.deepnote.dataframe.v2+json": {
                            "row_count": 9,
                            "column_count": 2,
                            "columns": [
                                {
                                    "name": "Territory",
                                    "dtype": "object",
                                    "stats": {
                                        "unique_count": 9,
                                        "nan_count": 0,
                                        "categories": [
                                            {
                                                "name": "California",
                                                "count": 1
                                            },
                                            {
                                                "name": "Texas",
                                                "count": 1
                                            },
                                            {
                                                "name": "7 others",
                                                "count": 7
                                            }
                                        ]
                                    }
                                },
                                {
                                    "name": "Population",
                                    "dtype": "int64",
                                    "stats": {
                                        "unique_count": 9,
                                        "nan_count": 0,
                                        "min": 10600823,
                                        "max": 39368078,
                                        "histogram": [
                                            {
                                                "bin_start": 10600823,
                                                "bin_end": 13477548.5,
                                                "count": 5
                                            },
                                            {
                                                "bin_start": 13477548.5,
                                                "bin_end": 16354274,
                                                "count": 0
                                            },
                                            {
                                                "bin_start": 16354274,
                                                "bin_end": 19230999.5,
                                                "count": 0
                                            },
                                            {
                                                "bin_start": 19230999.5,
                                                "bin_end": 22107725,
                                                "count": 2
                                            },
                                            {
                                                "bin_start": 22107725,
                                                "bin_end": 24984450.5,
                                                "count": 0
                                            },
                                            {
                                                "bin_start": 24984450.5,
                                                "bin_end": 27861176,
                                                "count": 0
                                            },
                                            {
                                                "bin_start": 27861176,
                                                "bin_end": 30737901.5,
                                                "count": 1
                                            },
                                            {
                                                "bin_start": 30737901.5,
                                                "bin_end": 33614627,
                                                "count": 0
                                            },
                                            {
                                                "bin_start": 33614627,
                                                "bin_end": 36491352.5,
                                                "count": 0
                                            },
                                            {
                                                "bin_start": 36491352.5,
                                                "bin_end": 39368078,
                                                "count": 1
                                            }
                                        ]
                                    }
                                },
                                {
                                    "name": "_deepnote_index_column",
                                    "dtype": "int64"
                                }
                            ],
                            "rows_top": [
                                {
                                    "Territory": "California",
                                    "Population": 39368078,
                                    "_deepnote_index_column": 0
                                },
                                {
                                    "Territory": "Texas",
                                    "Population": 29360759,
                                    "_deepnote_index_column": 1
                                },
                                {
                                    "Territory": "Florida",
                                    "Population": 21733312,
                                    "_deepnote_index_column": 2
                                },
                                {
                                    "Territory": "New York",
                                    "Population": 19336776,
                                    "_deepnote_index_column": 3
                                },
                                {
                                    "Territory": "Pennsylvania",
                                    "Population": 12783254,
                                    "_deepnote_index_column": 4
                                },
                                {
                                    "Territory": "Illinois",
                                    "Population": 12587530,
                                    "_deepnote_index_column": 5
                                },
                                {
                                    "Territory": "Ohio",
                                    "Population": 11693217,
                                    "_deepnote_index_column": 6
                                },
                                {
                                    "Territory": "Georgia",
                                    "Population": 10710017,
                                    "_deepnote_index_column": 7
                                },
                                {
                                    "Territory": "North Carolina",
                                    "Population": 10600823,
                                    "_deepnote_index_column": 8
                                }
                            ],
                            "rows_bottom": null
                        },
                        "text/plain": "        Territory  Population\n0      California    39368078\n1           Texas    29360759\n2         Florida    21733312\n3        New York    19336776\n4    Pennsylvania    12783254\n5        Illinois    12587530\n6            Ohio    11693217\n7         Georgia    10710017\n8  North Carolina    10600823",
                        "text/html": "<div>\n<style scoped>\n    .dataframe tbody tr th:only-of-type {\n        vertical-align: middle;\n    }\n\n    .dataframe tbody tr th {\n        vertical-align: top;\n    }\n\n    .dataframe thead th {\n        text-align: right;\n    }\n</style>\n<table border=\"1\" class=\"dataframe\">\n  <thead>\n    <tr style=\"text-align: right;\">\n      <th></th>\n      <th>Territory</th>\n      <th>Population</th>\n    </tr>\n  </thead>\n  <tbody>\n    <tr>\n      <th>0</th>\n      <td>California</td>\n      <td>39368078</td>\n    </tr>\n    <tr>\n      <th>1</th>\n      <td>Texas</td>\n      <td>29360759</td>\n    </tr>\n    <tr>\n      <th>2</th>\n      <td>Florida</td>\n      <td>21733312</td>\n    </tr>\n    <tr>\n      <th>3</th>\n      <td>New York</td>\n      <td>19336776</td>\n    </tr>\n    <tr>\n      <th>4</th>\n      <td>Pennsylvania</td>\n      <td>12783254</td>\n    </tr>\n    <tr>\n      <th>5</th>\n      <td>Illinois</td>\n      <td>12587530</td>\n    </tr>\n    <tr>\n      <th>6</th>\n      <td>Ohio</td>\n      <td>11693217</td>\n    </tr>\n    <tr>\n      <th>7</th>\n      <td>Georgia</td>\n      <td>10710017</td>\n    </tr>\n    <tr>\n      <th>8</th>\n      <td>North Carolina</td>\n      <td>10600823</td>\n    </tr>\n  </tbody>\n</table>\n</div>"
                    },
                    "metadata": {}
                }
            ]
        },
        {
            "cell_type": "markdown",
            "source": "The automatic data type parsing automatically converts columns to appropriate types:",
            "metadata": {
                "cell_id": "00007-bd4c50fa-afe7-4374-8b26-04c57b50c1c2",
                "deepnote_cell_type": "markdown"
            }
        },
        {
            "cell_type": "code",
            "metadata": {
                "cell_id": "00008-ef540848-1b48-422a-ad8e-0e8c690c126c",
                "deepnote_to_be_reexecuted": false,
                "source_hash": "ec8087cf",
                "execution_millis": 1,
                "execution_start": 1611517800058,
                "deepnote_cell_type": "code"
            },
            "source": "territories.dtypes",
            "execution_count": 16,
            "outputs": [
                {
                    "output_type": "execute_result",
                    "execution_count": 16,
                    "data": {
                        "text/plain": "Territory     object\nPopulation     int64\ndtype: object"
                    },
                    "metadata": {}
                }
            ]
        },
        {
            "cell_type": "markdown",
            "source": "Sometimes the CSV input does not work out of the box. Although pandas automatically understands and reads zipped files,\nit usually does not automatically infer the file format - for details, see the `read_csv` documentation here: \nhttps://pandas.pydata.org/pandas-docs/stable/reference/api/pandas.read_csv.html",
            "metadata": {
                "cell_id": "00009-42bb0698-7876-4cd3-be26-6a6bff8f9ef5",
                "deepnote_cell_type": "markdown"
            }
        },
        {
            "cell_type": "code",
            "metadata": {
                "cell_id": "00010-e6b71d78-507e-4e6d-b75d-e953899809c1",
                "deepnote_cell_type": "code"
            },
            "source": "pd.read_csv('../data/title.basics.tsv.gz')",
            "execution_count": null,
            "outputs": []
        },
        {
            "cell_type": "markdown",
            "source": "...in this case, the CSV file does not use commas to separate values. Therefore, we need to specify a few more arguments:",
            "metadata": {
                "cell_id": "00011-7c02b57e-8c69-4c63-a3dd-1b2cef65fc1f",
                "deepnote_cell_type": "markdown"
            }
        },
        {
            "cell_type": "code",
            "metadata": {
                "cell_id": "00012-d8dc660f-aa44-4b11-8949-902e30dbe3fd",
                "deepnote_cell_type": "code"
            },
            "source": "imdb_titles = pd.read_csv('../data/title.basics.tsv.gz', sep='\\t')\nimdb_titles.head()",
            "execution_count": null,
            "outputs": []
        },
        {
            "cell_type": "markdown",
            "source": "Noticed the `\\N` endYear values?\n\n**Exercise:** Use `na_values` argument to mark `\\N` as a null (missing) value. ",
            "metadata": {
                "cell_id": "00013-ced9c679-ea5b-4faa-a0b4-7804b363071b",
                "deepnote_cell_type": "markdown"
            }
        },
        {
            "cell_type": "code",
            "metadata": {
                "cell_id": "00014-3609e8e2-f3fe-4163-909e-1ff304c60cbf",
                "deepnote_cell_type": "code"
            },
            "source": "%exercise\n\nimdb_titles = pd.read_csv('../data/title.basics.tsv.gz', sep='\\t', na_values=...)",
            "execution_count": null,
            "outputs": []
        },
        {
            "cell_type": "code",
            "metadata": {
                "cell_id": "00015-d42f5adb-6736-40b2-94e6-3253cb6f5ab9",
                "deepnote_cell_type": "code"
            },
            "source": "%validate\n\nassert pd.isna(imdb_titles.loc[0, 'endYear'])",
            "execution_count": null,
            "outputs": []
        },
        {
            "cell_type": "markdown",
            "source": "See the difference?",
            "metadata": {
                "cell_id": "00016-34286dd8-9155-4e7b-9ef7-f00d95a4f0e4",
                "deepnote_cell_type": "markdown"
            }
        },
        {
            "cell_type": "code",
            "metadata": {
                "cell_id": "00017-8a5f1b06-98ee-40f4-8152-ba062abf7f2d",
                "deepnote_cell_type": "code"
            },
            "source": "imdb_titles.head()",
            "execution_count": null,
            "outputs": []
        },
        {
            "cell_type": "markdown",
            "source": "## Read Excel\n\nLet's read the list of laser accidents involving ",
            "metadata": {
                "cell_id": "00018-659b7d33-9d66-4ec8-b683-9df4f9064f56",
                "deepnote_cell_type": "markdown"
            }
        },
        {
            "cell_type": "code",
            "metadata": {
                "cell_id": "00019-6c397e4d-b954-4b9c-99a8-37d5fcab47bf",
                "deepnote_cell_type": "code"
            },
            "source": "pd.read_excel(\"../data/guardian-greatest_films_of_all_time.xlsx\")",
            "execution_count": null,
            "outputs": []
        },
        {
            "cell_type": "markdown",
            "source": "Hmmmmph... Pandas parsed just the first spreadsheet. Let's see what are the options. If in doubt, look in the documentation:\nhttps://pandas.pydata.org/pandas-docs/stable/reference/io.html#excel",
            "metadata": {
                "cell_id": "00020-b42285e8-9134-47e7-92f1-7afb20db9b6e",
                "deepnote_cell_type": "markdown"
            }
        },
        {
            "cell_type": "code",
            "metadata": {
                "cell_id": "00021-f36a996d-728b-48d1-8243-e8686283d6b2",
                "deepnote_cell_type": "code"
            },
            "source": "xlsx = pd.io.excel.ExcelFile(\"../data/guardian-greatest_films_of_all_time.xlsx\")\nxlsx",
            "execution_count": null,
            "outputs": []
        },
        {
            "cell_type": "code",
            "metadata": {
                "cell_id": "00022-fccbf5a1-72d5-47e0-bb1b-65d3ec1f5486",
                "deepnote_cell_type": "code"
            },
            "source": "xlsx.sheet_names",
            "execution_count": null,
            "outputs": []
        },
        {
            "cell_type": "code",
            "metadata": {
                "cell_id": "00023-e2bd3600-d66c-4a07-9e73-49ff2b1f4646",
                "deepnote_cell_type": "code"
            },
            "source": "xlsx.parse(\"HORROR\")",
            "execution_count": null,
            "outputs": []
        },
        {
            "cell_type": "code",
            "metadata": {
                "cell_id": "00024-7f138dfc-84e2-4142-a619-fb0318d37212",
                "deepnote_cell_type": "code"
            },
            "source": "%exercise\n\ncrimes =...                    # Find the table of crime movies\ntenth_best = crimes.loc[...]   # Find the 10-th best crime movie\nmovie_name = ...               # Get the name of the movie\n\n# display\nmovie_name",
            "execution_count": null,
            "outputs": []
        },
        {
            "cell_type": "code",
            "metadata": {
                "cell_id": "00025-a5e27f2d-5f02-43c9-a3be-fb7caa2bf6b1",
                "deepnote_cell_type": "code"
            },
            "source": "%validate\n\nassert movie_name[7:9] == \"la\"",
            "execution_count": null,
            "outputs": []
        },
        {
            "cell_type": "markdown",
            "source": "## Read HTML (Optional)\n\nPandas is able to scrape data from tables embedded in web pages using the `read_html` function.\nThis might or might not bring you good results and probably you will have to tweak your\ndata frame manually. But it is a good starting point - much better than being forced to parse\nthe HTML ourselves!\n\nLet's download a list of highest-grossing films from wikipedia!",
            "metadata": {
                "cell_id": "00031-0c51493e-79b9-4dc5-9831-da39da3f613c",
                "deepnote_cell_type": "markdown"
            }
        },
        {
            "cell_type": "code",
            "metadata": {
                "cell_id": "00032-cbfdb276-ab04-4546-b3e1-947ab782dd81",
                "deepnote_cell_type": "code"
            },
            "source": "tables = pd.read_html(\"https://en.wikipedia.org/wiki/List_of_highest-grossing_films\")\ntype(tables), len(tables)",
            "execution_count": null,
            "outputs": []
        },
        {
            "cell_type": "markdown",
            "source": "Does the page really contain 95 tables? The number is quite high and we must check which of the tables\nare meaningful and which are not. We are mostly interested in the first displayed one.\n\n**Exercise:** Find **i** to obtain the right table:",
            "metadata": {
                "cell_id": "00033-fd7a867e-a5ad-4323-bd1a-5aa2181c34e8",
                "deepnote_cell_type": "markdown"
            }
        },
        {
            "cell_type": "code",
            "metadata": {
                "cell_id": "00034-c09dc691-6b17-42aa-9c93-42a4332641aa",
                "deepnote_cell_type": "code"
            },
            "source": "%exercise\n\ni = ...\n\ntable = tables[i]\ntable.head(10)",
            "execution_count": null,
            "outputs": []
        },
        {
            "cell_type": "markdown",
            "source": "## Write CSV\n\nPandas is able to write to many various formats but the usage is similar. ",
            "metadata": {
                "cell_id": "00036-8a763cb8-5162-4a37-a63f-ba2017d059f7",
                "deepnote_cell_type": "markdown"
            }
        },
        {
            "cell_type": "code",
            "metadata": {
                "cell_id": "00037-9b564bf0-d7d9-4284-9bc7-2810a864192e",
                "deepnote_cell_type": "code"
            },
            "source": "award_table.to_csv(\"awards.csv\", index=False)",
            "execution_count": null,
            "outputs": []
        },
        {
            "cell_type": "code",
            "metadata": {
                "cell_id": "00038-21694f3e-44f0-443c-bf1f-1c90b0bce77a",
                "deepnote_cell_type": "code"
            },
            "source": "%head awards.csv 10",
            "execution_count": null,
            "outputs": []
        },
        {
            "cell_type": "markdown",
            "source": "Note: When done with this notebook, we suggest that you shutdown the kernel to free the memory.",
            "metadata": {
                "cell_id": "00042-2d7a2325-7f33-408b-8f2e-a11fa2ad440e",
                "deepnote_cell_type": "markdown"
            }
        },
        {
            "cell_type": "code",
            "metadata": {
                "cell_id": "00043-0c2a62b3-6cad-40e2-af71-5f8f7568629c",
                "deepnote_cell_type": "code"
            },
            "source": "",
            "execution_count": null,
            "outputs": []
        },
                {
            "cell_type": "markdown",
            "source": "# Pandas - Data manipulations\n\nThis notebook is the third part of the collection devoted to the pandas library.",
            "metadata": {
                "cell_id": "00000-54d8d529-0ce7-4cba-bf8f-093e4b521828",
                "deepnote_cell_type": "markdown"
            }
        },
        {
            "cell_type": "code",
            "metadata": {
                "cell_id": "00001-f7c7139d-7616-4298-bf05-c19be289e711",
                "deepnote_to_be_reexecuted": false,
                "source_hash": "96abeb7",
                "execution_millis": 1,
                "execution_start": 1611500429284,
                "deepnote_cell_type": "code"
            },
            "source": "# Necesssary import evil\n\nimport pandas as pd\nimport numpy as np\n# ? from IPython.display import display, HTML, IFrame\n\nnp.random.seed(42)",
            "execution_count": 8,
            "outputs": []
        },
        {
            "cell_type": "markdown",
            "source": "In the previous notebook, we imported data from several data formats.\nLet's start from there and see what basic manipulations we can do\nwith the DataFrames.",
            "metadata": {
                "cell_id": "00004-a27879ef-8011-40a9-a650-91034910686f",
                "deepnote_cell_type": "markdown"
            }
        },
        {
            "cell_type": "code",
            "metadata": {
                "cell_id": "00005-475e2f41-eec3-4718-9890-4cd200b278f6",
                "deepnote_to_be_reexecuted": false,
                "source_hash": "160179d0",
                "execution_millis": 2488,
                "execution_start": 1611517397961,
                "deepnote_cell_type": "code"
            },
            "source": "laser_incidents = pd.read_excel(\"https://www.faa.gov/about/initiatives/lasers/laws/media/Laser_Report_2019_final.xlsx\", usecols=\"A:J\")\nlaser_incidents",
            "execution_count": 28,
            "outputs": [
                {
                    "output_type": "execute_result",
                    "execution_count": 28,
                    "data": {
                        "application/vnd.deepnote.dataframe.v2+json": {
                            "error": "Traceback (most recent call last):\n  File \"/shared-libs/code/variable_explorer.py\", line 123, in dataframe_formatter\n    return { MIME_TYPE: describe_pd_dataframe(df) }\n  File \"/shared-libs/code/variable_explorer_helpers.py\", line 135, in describe_pd_dataframe\n    columns[i]['stats']['histogram'] = get_histogram(column)\n  File \"/shared-libs/code/variable_explorer_helpers.py\", line 19, in get_histogram\n    np_array = np.array(pd_series.dt.total_seconds())\nAttributeError: 'DatetimeProperties' object has no attribute 'total_seconds'\n"
                        },
                        "text/plain": "     Incident Date  Incident Time Flight ID Aircraft Altitude Airport  \\\n0       2019-01-01             35      N3EG     C421     2500     SAT   \n1       2019-01-01             43   RPA3469     E75S     4000     IAH   \n2       2019-01-01             44   UAL1607     A319     4000     IAH   \n3       2019-01-01            110    N205TM     BE20     2500     HDC   \n4       2019-01-01            115   JIA5233     CRJ9     2000     JAX   \n...            ...            ...       ...      ...      ...     ...   \n6131    2019-12-31            845   ASH5861     CRJ9     3000     JAN   \n6132    2019-12-31            929      N22P     CRUZ     2500     HNL   \n6133    2019-12-31           2310    GTH530     GLF4      500     SJU   \n6134    2019-12-31           2312   AMF6916      SW4      600     SJU   \n6135    2019-12-31           2327    N715TH     C172     3000     CHO   \n\n     Laser Color Injury              City        State  \n0          Green     No       San Antonio        Texas  \n1          Green     No           Houston        Texas  \n2          Green     No           Houston        Texas  \n3          Green     No           Hammond    Louisiana  \n4          Green     No      Jacksonville      Florida  \n...          ...    ...               ...          ...  \n6131       Green     No          Jackson   Mississippi  \n6132       Green     No          Honolulu       Hawaii  \n6133       White     No          Carolina  Puerto Rico  \n6134       Green     No          Carolina  Puerto Rico  \n6135       Green     No  Charlottesville      Virginia  \n\n[6136 rows x 10 columns]",
                        "text/html": "<div>\n<style scoped>\n    .dataframe tbody tr th:only-of-type {\n        vertical-align: middle;\n    }\n\n    .dataframe tbody tr th {\n        vertical-align: top;\n    }\n\n    .dataframe thead th {\n        text-align: right;\n    }\n</style>\n<table border=\"1\" class=\"dataframe\">\n  <thead>\n    <tr style=\"text-align: right;\">\n      <th></th>\n      <th>Incident Date</th>\n      <th>Incident Time</th>\n      <th>Flight ID</th>\n      <th>Aircraft</th>\n      <th>Altitude</th>\n      <th>Airport</th>\n      <th>Laser Color</th>\n      <th>Injury</th>\n      <th>City</th>\n      <th>State</th>\n    </tr>\n  </thead>\n  <tbody>\n    <tr>\n      <th>0</th>\n      <td>2019-01-01</td>\n      <td>35</td>\n      <td>N3EG</td>\n      <td>C421</td>\n      <td>2500</td>\n      <td>SAT</td>\n      <td>Green</td>\n      <td>No</td>\n      <td>San Antonio</td>\n      <td>Texas</td>\n    </tr>\n    <tr>\n      <th>1</th>\n      <td>2019-01-01</td>\n      <td>43</td>\n      <td>RPA3469</td>\n      <td>E75S</td>\n      <td>4000</td>\n      <td>IAH</td>\n      <td>Green</td>\n      <td>No</td>\n      <td>Houston</td>\n      <td>Texas</td>\n    </tr>\n    <tr>\n      <th>2</th>\n      <td>2019-01-01</td>\n      <td>44</td>\n      <td>UAL1607</td>\n      <td>A319</td>\n      <td>4000</td>\n      <td>IAH</td>\n      <td>Green</td>\n      <td>No</td>\n      <td>Houston</td>\n      <td>Texas</td>\n    </tr>\n    <tr>\n      <th>3</th>\n      <td>2019-01-01</td>\n      <td>110</td>\n      <td>N205TM</td>\n      <td>BE20</td>\n      <td>2500</td>\n      <td>HDC</td>\n      <td>Green</td>\n      <td>No</td>\n      <td>Hammond</td>\n      <td>Louisiana</td>\n    </tr>\n    <tr>\n      <th>4</th>\n      <td>2019-01-01</td>\n      <td>115</td>\n      <td>JIA5233</td>\n      <td>CRJ9</td>\n      <td>2000</td>\n      <td>JAX</td>\n      <td>Green</td>\n      <td>No</td>\n      <td>Jacksonville</td>\n      <td>Florida</td>\n    </tr>\n    <tr>\n      <th>...</th>\n      <td>...</td>\n      <td>...</td>\n      <td>...</td>\n      <td>...</td>\n      <td>...</td>\n      <td>...</td>\n      <td>...</td>\n      <td>...</td>\n      <td>...</td>\n      <td>...</td>\n    </tr>\n    <tr>\n      <th>6131</th>\n      <td>2019-12-31</td>\n      <td>845</td>\n      <td>ASH5861</td>\n      <td>CRJ9</td>\n      <td>3000</td>\n      <td>JAN</td>\n      <td>Green</td>\n      <td>No</td>\n      <td>Jackson</td>\n      <td>Mississippi</td>\n    </tr>\n    <tr>\n      <th>6132</th>\n      <td>2019-12-31</td>\n      <td>929</td>\n      <td>N22P</td>\n      <td>CRUZ</td>\n      <td>2500</td>\n      <td>HNL</td>\n      <td>Green</td>\n      <td>No</td>\n      <td>Honolulu</td>\n      <td>Hawaii</td>\n    </tr>\n    <tr>\n      <th>6133</th>\n      <td>2019-12-31</td>\n      <td>2310</td>\n      <td>GTH530</td>\n      <td>GLF4</td>\n      <td>500</td>\n      <td>SJU</td>\n      <td>White</td>\n      <td>No</td>\n      <td>Carolina</td>\n      <td>Puerto Rico</td>\n    </tr>\n    <tr>\n      <th>6134</th>\n      <td>2019-12-31</td>\n      <td>2312</td>\n      <td>AMF6916</td>\n      <td>SW4</td>\n      <td>600</td>\n      <td>SJU</td>\n      <td>Green</td>\n      <td>No</td>\n      <td>Carolina</td>\n      <td>Puerto Rico</td>\n    </tr>\n    <tr>\n      <th>6135</th>\n      <td>2019-12-31</td>\n      <td>2327</td>\n      <td>N715TH</td>\n      <td>C172</td>\n      <td>3000</td>\n      <td>CHO</td>\n      <td>Green</td>\n      <td>No</td>\n      <td>Charlottesville</td>\n      <td>Virginia</td>\n    </tr>\n  </tbody>\n</table>\n<p>6136 rows × 10 columns</p>\n</div>"
                    },
                    "metadata": {}
                }
            ]
        },
        {
            "cell_type": "markdown",
            "source": "## First look at the data\n\nLet's see what we have in the datasets...",
            "metadata": {
                "cell_id": "00008-89d287b9-091c-492d-a09a-a0cfc92bee2f",
                "deepnote_cell_type": "markdown"
            }
        },
        {
            "cell_type": "code",
            "metadata": {
                "cell_id": "00009-de762414-52d7-4f04-87c2-31e5b8804487",
                "deepnote_to_be_reexecuted": false,
                "source_hash": "d7fcfe1b",
                "execution_millis": 19,
                "execution_start": 1611500432769,
                "deepnote_cell_type": "code"
            },
            "source": "laser_incidents.head()",
            "execution_count": 10,
            "outputs": [
                {
                    "output_type": "execute_result",
                    "execution_count": 10,
                    "data": {
                        "application/vnd.deepnote.dataframe.v2+json": {
                            "error": "Traceback (most recent call last):\n  File \"/shared-libs/code/variable_explorer.py\", line 123, in dataframe_formatter\n    return { MIME_TYPE: describe_pd_dataframe(df) }\n  File \"/shared-libs/code/variable_explorer_helpers.py\", line 135, in describe_pd_dataframe\n    columns[i]['stats']['histogram'] = get_histogram(column)\n  File \"/shared-libs/code/variable_explorer_helpers.py\", line 19, in get_histogram\n    np_array = np.array(pd_series.dt.total_seconds())\nAttributeError: 'DatetimeProperties' object has no attribute 'total_seconds'\n"
                        },
                        "text/plain": "  Incident Date  Incident Time Flight ID Aircraft Altitude Airport  \\\n0    2019-01-01             35      N3EG     C421     2500     SAT   \n1    2019-01-01             43   RPA3469     E75S     4000     IAH   \n2    2019-01-01             44   UAL1607     A319     4000     IAH   \n3    2019-01-01            110    N205TM     BE20     2500     HDC   \n4    2019-01-01            115   JIA5233     CRJ9     2000     JAX   \n\n  Laser Color Injury          City      State  ...  Unnamed: 15  Unnamed: 16  \\\n0       Green     No   San Antonio      Texas  ...          NaN          NaN   \n1       Green     No       Houston      Texas  ...          NaN          NaN   \n2       Green     No       Houston      Texas  ...          NaN          NaN   \n3       Green     No       Hammond  Louisiana  ...          NaN          NaN   \n4       Green     No  Jacksonville    Florida  ...          NaN          NaN   \n\n   Unnamed: 17  Unnamed: 18  Unnamed: 19  Unnamed: 20  Unnamed: 21  \\\n0          NaN          NaN          NaN          NaN          NaN   \n1          NaN          NaN          NaN          NaN          NaN   \n2          NaN          NaN          NaN          NaN          NaN   \n3          NaN          NaN          NaN          NaN          NaN   \n4          NaN          NaN          NaN          NaN          NaN   \n\n   Unnamed: 22  Unnamed: 23  Unnamed: 24  \n0          NaN          NaN          NaN  \n1          NaN          NaN          NaN  \n2          NaN          NaN          NaN  \n3          NaN          NaN          NaN  \n4          NaN          NaN          NaN  \n\n[5 rows x 25 columns]",
                        "text/html": "<div>\n<style scoped>\n    .dataframe tbody tr th:only-of-type {\n        vertical-align: middle;\n    }\n\n    .dataframe tbody tr th {\n        vertical-align: top;\n    }\n\n    .dataframe thead th {\n        text-align: right;\n    }\n</style>\n<table border=\"1\" class=\"dataframe\">\n  <thead>\n    <tr style=\"text-align: right;\">\n      <th></th>\n      <th>Incident Date</th>\n      <th>Incident Time</th>\n      <th>Flight ID</th>\n      <th>Aircraft</th>\n      <th>Altitude</th>\n      <th>Airport</th>\n      <th>Laser Color</th>\n      <th>Injury</th>\n      <th>City</th>\n      <th>State</th>\n      <th>...</th>\n      <th>Unnamed: 15</th>\n      <th>Unnamed: 16</th>\n      <th>Unnamed: 17</th>\n      <th>Unnamed: 18</th>\n      <th>Unnamed: 19</th>\n      <th>Unnamed: 20</th>\n      <th>Unnamed: 21</th>\n      <th>Unnamed: 22</th>\n      <th>Unnamed: 23</th>\n      <th>Unnamed: 24</th>\n    </tr>\n  </thead>\n  <tbody>\n    <tr>\n      <th>0</th>\n      <td>2019-01-01</td>\n      <td>35</td>\n      <td>N3EG</td>\n      <td>C421</td>\n      <td>2500</td>\n      <td>SAT</td>\n      <td>Green</td>\n      <td>No</td>\n      <td>San Antonio</td>\n      <td>Texas</td>\n      <td>...</td>\n      <td>NaN</td>\n      <td>NaN</td>\n      <td>NaN</td>\n      <td>NaN</td>\n      <td>NaN</td>\n      <td>NaN</td>\n      <td>NaN</td>\n      <td>NaN</td>\n      <td>NaN</td>\n      <td>NaN</td>\n    </tr>\n    <tr>\n      <th>1</th>\n      <td>2019-01-01</td>\n      <td>43</td>\n      <td>RPA3469</td>\n      <td>E75S</td>\n      <td>4000</td>\n      <td>IAH</td>\n      <td>Green</td>\n      <td>No</td>\n      <td>Houston</td>\n      <td>Texas</td>\n      <td>...</td>\n      <td>NaN</td>\n      <td>NaN</td>\n      <td>NaN</td>\n      <td>NaN</td>\n      <td>NaN</td>\n      <td>NaN</td>\n      <td>NaN</td>\n      <td>NaN</td>\n      <td>NaN</td>\n      <td>NaN</td>\n    </tr>\n    <tr>\n      <th>2</th>\n      <td>2019-01-01</td>\n      <td>44</td>\n      <td>UAL1607</td>\n      <td>A319</td>\n      <td>4000</td>\n      <td>IAH</td>\n      <td>Green</td>\n      <td>No</td>\n      <td>Houston</td>\n      <td>Texas</td>\n      <td>...</td>\n      <td>NaN</td>\n      <td>NaN</td>\n      <td>NaN</td>\n      <td>NaN</td>\n      <td>NaN</td>\n      <td>NaN</td>\n      <td>NaN</td>\n      <td>NaN</td>\n      <td>NaN</td>\n      <td>NaN</td>\n    </tr>\n    <tr>\n      <th>3</th>\n      <td>2019-01-01</td>\n      <td>110</td>\n      <td>N205TM</td>\n      <td>BE20</td>\n      <td>2500</td>\n      <td>HDC</td>\n      <td>Green</td>\n      <td>No</td>\n      <td>Hammond</td>\n      <td>Louisiana</td>\n      <td>...</td>\n      <td>NaN</td>\n      <td>NaN</td>\n      <td>NaN</td>\n      <td>NaN</td>\n      <td>NaN</td>\n      <td>NaN</td>\n      <td>NaN</td>\n      <td>NaN</td>\n      <td>NaN</td>\n      <td>NaN</td>\n    </tr>\n    <tr>\n      <th>4</th>\n      <td>2019-01-01</td>\n      <td>115</td>\n      <td>JIA5233</td>\n      <td>CRJ9</td>\n      <td>2000</td>\n      <td>JAX</td>\n      <td>Green</td>\n      <td>No</td>\n      <td>Jacksonville</td>\n      <td>Florida</td>\n      <td>...</td>\n      <td>NaN</td>\n      <td>NaN</td>\n      <td>NaN</td>\n      <td>NaN</td>\n      <td>NaN</td>\n      <td>NaN</td>\n      <td>NaN</td>\n      <td>NaN</td>\n      <td>NaN</td>\n      <td>NaN</td>\n    </tr>\n  </tbody>\n</table>\n<p>5 rows × 25 columns</p>\n</div>"
                    },
                    "metadata": {}
                }
            ]
        },
        {
            "cell_type": "code",
            "metadata": {
                "cell_id": "00010-da92642a-f4da-4665-9ebe-9914a8ef1909",
                "deepnote_to_be_reexecuted": false,
                "source_hash": "b1255b56",
                "execution_start": 1611500381768,
                "execution_millis": 66,
                "deepnote_cell_type": "code"
            },
            "source": "laser_incidents.tail()",
            "execution_count": 6,
            "outputs": [
                {
                    "output_type": "execute_result",
                    "execution_count": 6,
                    "data": {
                        "application/vnd.deepnote.dataframe.v2+json": {
                            "error": "Traceback (most recent call last):\n  File \"/shared-libs/code/variable_explorer.py\", line 123, in dataframe_formatter\n    return { MIME_TYPE: describe_pd_dataframe(df) }\n  File \"/shared-libs/code/variable_explorer_helpers.py\", line 135, in describe_pd_dataframe\n    columns[i]['stats']['histogram'] = get_histogram(column)\n  File \"/shared-libs/code/variable_explorer_helpers.py\", line 19, in get_histogram\n    np_array = np.array(pd_series.dt.total_seconds())\nAttributeError: 'DatetimeProperties' object has no attribute 'total_seconds'\n"
                        },
                        "text/plain": "     Incident Date  Incident Time Flight ID Aircraft Altitude Airport  \\\n6131    2019-12-31            845   ASH5861     CRJ9     3000     JAN   \n6132    2019-12-31            929      N22P     CRUZ     2500     HNL   \n6133    2019-12-31           2310    GTH530     GLF4      500     SJU   \n6134    2019-12-31           2312   AMF6916      SW4      600     SJU   \n6135    2019-12-31           2327    N715TH     C172     3000     CHO   \n\n     Laser Color Injury              City        State  ...  Unnamed: 15  \\\n6131       Green     No          Jackson   Mississippi  ...          NaN   \n6132       Green     No          Honolulu       Hawaii  ...          NaN   \n6133       White     No          Carolina  Puerto Rico  ...          NaN   \n6134       Green     No          Carolina  Puerto Rico  ...          NaN   \n6135       Green     No  Charlottesville      Virginia  ...          NaN   \n\n      Unnamed: 16  Unnamed: 17  Unnamed: 18  Unnamed: 19  Unnamed: 20  \\\n6131          NaN          NaN          NaN          NaN          NaN   \n6132          NaN          NaN          NaN          NaN          NaN   \n6133          NaN          NaN          NaN          NaN          NaN   \n6134          NaN          NaN          NaN          NaN          NaN   \n6135          NaN          NaN          NaN          NaN          NaN   \n\n      Unnamed: 21  Unnamed: 22  Unnamed: 23  Unnamed: 24  \n6131          NaN          NaN          NaN          NaN  \n6132          NaN          NaN          NaN          NaN  \n6133          NaN          NaN          NaN          NaN  \n6134          NaN          NaN          NaN          NaN  \n6135          NaN          NaN          NaN          NaN  \n\n[5 rows x 25 columns]",
                        "text/html": "<div>\n<style scoped>\n    .dataframe tbody tr th:only-of-type {\n        vertical-align: middle;\n    }\n\n    .dataframe tbody tr th {\n        vertical-align: top;\n    }\n\n    .dataframe thead th {\n        text-align: right;\n    }\n</style>\n<table border=\"1\" class=\"dataframe\">\n  <thead>\n    <tr style=\"text-align: right;\">\n      <th></th>\n      <th>Incident Date</th>\n      <th>Incident Time</th>\n      <th>Flight ID</th>\n      <th>Aircraft</th>\n      <th>Altitude</th>\n      <th>Airport</th>\n      <th>Laser Color</th>\n      <th>Injury</th>\n      <th>City</th>\n      <th>State</th>\n      <th>...</th>\n      <th>Unnamed: 15</th>\n      <th>Unnamed: 16</th>\n      <th>Unnamed: 17</th>\n      <th>Unnamed: 18</th>\n      <th>Unnamed: 19</th>\n      <th>Unnamed: 20</th>\n      <th>Unnamed: 21</th>\n      <th>Unnamed: 22</th>\n      <th>Unnamed: 23</th>\n      <th>Unnamed: 24</th>\n    </tr>\n  </thead>\n  <tbody>\n    <tr>\n      <th>6131</th>\n      <td>2019-12-31</td>\n      <td>845</td>\n      <td>ASH5861</td>\n      <td>CRJ9</td>\n      <td>3000</td>\n      <td>JAN</td>\n      <td>Green</td>\n      <td>No</td>\n      <td>Jackson</td>\n      <td>Mississippi</td>\n      <td>...</td>\n      <td>NaN</td>\n      <td>NaN</td>\n      <td>NaN</td>\n      <td>NaN</td>\n      <td>NaN</td>\n      <td>NaN</td>\n      <td>NaN</td>\n      <td>NaN</td>\n      <td>NaN</td>\n      <td>NaN</td>\n    </tr>\n    <tr>\n      <th>6132</th>\n      <td>2019-12-31</td>\n      <td>929</td>\n      <td>N22P</td>\n      <td>CRUZ</td>\n      <td>2500</td>\n      <td>HNL</td>\n      <td>Green</td>\n      <td>No</td>\n      <td>Honolulu</td>\n      <td>Hawaii</td>\n      <td>...</td>\n      <td>NaN</td>\n      <td>NaN</td>\n      <td>NaN</td>\n      <td>NaN</td>\n      <td>NaN</td>\n      <td>NaN</td>\n      <td>NaN</td>\n      <td>NaN</td>\n      <td>NaN</td>\n      <td>NaN</td>\n    </tr>\n    <tr>\n      <th>6133</th>\n      <td>2019-12-31</td>\n      <td>2310</td>\n      <td>GTH530</td>\n      <td>GLF4</td>\n      <td>500</td>\n      <td>SJU</td>\n      <td>White</td>\n      <td>No</td>\n      <td>Carolina</td>\n      <td>Puerto Rico</td>\n      <td>...</td>\n      <td>NaN</td>\n      <td>NaN</td>\n      <td>NaN</td>\n      <td>NaN</td>\n      <td>NaN</td>\n      <td>NaN</td>\n      <td>NaN</td>\n      <td>NaN</td>\n      <td>NaN</td>\n      <td>NaN</td>\n    </tr>\n    <tr>\n      <th>6134</th>\n      <td>2019-12-31</td>\n      <td>2312</td>\n      <td>AMF6916</td>\n      <td>SW4</td>\n      <td>600</td>\n      <td>SJU</td>\n      <td>Green</td>\n      <td>No</td>\n      <td>Carolina</td>\n      <td>Puerto Rico</td>\n      <td>...</td>\n      <td>NaN</td>\n      <td>NaN</td>\n      <td>NaN</td>\n      <td>NaN</td>\n      <td>NaN</td>\n      <td>NaN</td>\n      <td>NaN</td>\n      <td>NaN</td>\n      <td>NaN</td>\n      <td>NaN</td>\n    </tr>\n    <tr>\n      <th>6135</th>\n      <td>2019-12-31</td>\n      <td>2327</td>\n      <td>N715TH</td>\n      <td>C172</td>\n      <td>3000</td>\n      <td>CHO</td>\n      <td>Green</td>\n      <td>No</td>\n      <td>Charlottesville</td>\n      <td>Virginia</td>\n      <td>...</td>\n      <td>NaN</td>\n      <td>NaN</td>\n      <td>NaN</td>\n      <td>NaN</td>\n      <td>NaN</td>\n      <td>NaN</td>\n      <td>NaN</td>\n      <td>NaN</td>\n      <td>NaN</td>\n      <td>NaN</td>\n    </tr>\n  </tbody>\n</table>\n<p>5 rows × 25 columns</p>\n</div>"
                    },
                    "metadata": {}
                }
            ]
        },
        {
            "cell_type": "markdown",
            "source": "For an unknown, potentially unevenly distributed dataset, looking at the beginning / end is typically not the best idea. We'd rather sample randomly:",
            "metadata": {
                "cell_id": "00011-2ee154ee-abd3-40e0-b608-b99984f89d1d",
                "deepnote_cell_type": "markdown"
            }
        },
        {
            "cell_type": "code",
            "metadata": {
                "cell_id": "00012-3b7049fe-9e66-4ca4-b751-0b77dbe6544e",
                "deepnote_to_be_reexecuted": false,
                "source_hash": "5df125b9",
                "execution_millis": 1,
                "execution_start": 1611517478639,
                "deepnote_cell_type": "code"
            },
            "source": "# Show a few examples\nlaser_incidents.sample(10)",
            "execution_count": 29,
            "outputs": [
                {
                    "output_type": "execute_result",
                    "execution_count": 29,
                    "data": {
                        "application/vnd.deepnote.dataframe.v2+json": {
                            "error": "Traceback (most recent call last):\n  File \"/shared-libs/code/variable_explorer.py\", line 123, in dataframe_formatter\n    return { MIME_TYPE: describe_pd_dataframe(df) }\n  File \"/shared-libs/code/variable_explorer_helpers.py\", line 135, in describe_pd_dataframe\n    columns[i]['stats']['histogram'] = get_histogram(column)\n  File \"/shared-libs/code/variable_explorer_helpers.py\", line 19, in get_histogram\n    np_array = np.array(pd_series.dt.total_seconds())\nAttributeError: 'DatetimeProperties' object has no attribute 'total_seconds'\n"
                        },
                        "text/plain": "     Incident Date  Incident Time Flight ID Aircraft Altitude Airport  \\\n3073    2019-07-13            250    N714ER     C150     3500     CAK   \n724     2019-02-14            555   FDX1287     B757    29000     LIT   \n1829    2019-04-03            525   UAL1075     B737     1700     SNA   \n5056    2019-11-06           2355     EIWFI     CL60     2000     MIA   \n3313    2019-08-13            530   AAL1270     B738    24000     SAF   \n5270    2019-11-17            135    N546CW     P28A     7500     PDT   \n2936    2019-07-25           1050   FDX1869     B767     4000     EMT   \n3796    2019-08-02            515    SWA368   B737/L    14000     SJC   \n3388    2019-08-31            340   CPZ5846     E75S    14000     PVU   \n4122    2019-09-16            235   UCA4985     E45X    11000     GON   \n\n     Laser Color Injury         City        State  \n3073       Green     No        Akron         Ohio  \n724        Green     No  Little Rock     Arkansas  \n1829       Green     No    Santa Ana   California  \n5056       Green     No        Miami      Florida  \n3313       Green     No     Santa Fe   New Mexico  \n5270       Green     No    Pendleton       Oregon  \n2936       Green     No     El Monte   California  \n3796       Green     No     San Jose   California  \n3388       Green     No        Provo         Utah  \n4122       Green     No       Groton  Connecticut  ",
                        "text/html": "<div>\n<style scoped>\n    .dataframe tbody tr th:only-of-type {\n        vertical-align: middle;\n    }\n\n    .dataframe tbody tr th {\n        vertical-align: top;\n    }\n\n    .dataframe thead th {\n        text-align: right;\n    }\n</style>\n<table border=\"1\" class=\"dataframe\">\n  <thead>\n    <tr style=\"text-align: right;\">\n      <th></th>\n      <th>Incident Date</th>\n      <th>Incident Time</th>\n      <th>Flight ID</th>\n      <th>Aircraft</th>\n      <th>Altitude</th>\n      <th>Airport</th>\n      <th>Laser Color</th>\n      <th>Injury</th>\n      <th>City</th>\n      <th>State</th>\n    </tr>\n  </thead>\n  <tbody>\n    <tr>\n      <th>3073</th>\n      <td>2019-07-13</td>\n      <td>250</td>\n      <td>N714ER</td>\n      <td>C150</td>\n      <td>3500</td>\n      <td>CAK</td>\n      <td>Green</td>\n      <td>No</td>\n      <td>Akron</td>\n      <td>Ohio</td>\n    </tr>\n    <tr>\n      <th>724</th>\n      <td>2019-02-14</td>\n      <td>555</td>\n      <td>FDX1287</td>\n      <td>B757</td>\n      <td>29000</td>\n      <td>LIT</td>\n      <td>Green</td>\n      <td>No</td>\n      <td>Little Rock</td>\n      <td>Arkansas</td>\n    </tr>\n    <tr>\n      <th>1829</th>\n      <td>2019-04-03</td>\n      <td>525</td>\n      <td>UAL1075</td>\n      <td>B737</td>\n      <td>1700</td>\n      <td>SNA</td>\n      <td>Green</td>\n      <td>No</td>\n      <td>Santa Ana</td>\n      <td>California</td>\n    </tr>\n    <tr>\n      <th>5056</th>\n      <td>2019-11-06</td>\n      <td>2355</td>\n      <td>EIWFI</td>\n      <td>CL60</td>\n      <td>2000</td>\n      <td>MIA</td>\n      <td>Green</td>\n      <td>No</td>\n      <td>Miami</td>\n      <td>Florida</td>\n    </tr>\n    <tr>\n      <th>3313</th>\n      <td>2019-08-13</td>\n      <td>530</td>\n      <td>AAL1270</td>\n      <td>B738</td>\n      <td>24000</td>\n      <td>SAF</td>\n      <td>Green</td>\n      <td>No</td>\n      <td>Santa Fe</td>\n      <td>New Mexico</td>\n    </tr>\n    <tr>\n      <th>5270</th>\n      <td>2019-11-17</td>\n      <td>135</td>\n      <td>N546CW</td>\n      <td>P28A</td>\n      <td>7500</td>\n      <td>PDT</td>\n      <td>Green</td>\n      <td>No</td>\n      <td>Pendleton</td>\n      <td>Oregon</td>\n    </tr>\n    <tr>\n      <th>2936</th>\n      <td>2019-07-25</td>\n      <td>1050</td>\n      <td>FDX1869</td>\n      <td>B767</td>\n      <td>4000</td>\n      <td>EMT</td>\n      <td>Green</td>\n      <td>No</td>\n      <td>El Monte</td>\n      <td>California</td>\n    </tr>\n    <tr>\n      <th>3796</th>\n      <td>2019-08-02</td>\n      <td>515</td>\n      <td>SWA368</td>\n      <td>B737/L</td>\n      <td>14000</td>\n      <td>SJC</td>\n      <td>Green</td>\n      <td>No</td>\n      <td>San Jose</td>\n      <td>California</td>\n    </tr>\n    <tr>\n      <th>3388</th>\n      <td>2019-08-31</td>\n      <td>340</td>\n      <td>CPZ5846</td>\n      <td>E75S</td>\n      <td>14000</td>\n      <td>PVU</td>\n      <td>Green</td>\n      <td>No</td>\n      <td>Provo</td>\n      <td>Utah</td>\n    </tr>\n    <tr>\n      <th>4122</th>\n      <td>2019-09-16</td>\n      <td>235</td>\n      <td>UCA4985</td>\n      <td>E45X</td>\n      <td>11000</td>\n      <td>GON</td>\n      <td>Green</td>\n      <td>No</td>\n      <td>Groton</td>\n      <td>Connecticut</td>\n    </tr>\n  </tbody>\n</table>\n</div>"
                    },
                    "metadata": {}
                }
            ]
        },
        {
            "cell_type": "markdown",
            "source": "`describe` is often useful to get the basics statistics.",
            "metadata": {
                "cell_id": "00013-cb1edbec-e414-48b4-b476-91854cdfe428",
                "deepnote_cell_type": "markdown"
            }
        },
        {
            "cell_type": "code",
            "metadata": {
                "cell_id": "00014-f76b99af-a34d-48ec-987b-f89f15cd9698",
                "deepnote_to_be_reexecuted": false,
                "source_hash": "be4eb1ee",
                "execution_millis": 123,
                "execution_start": 1611517493738,
                "deepnote_cell_type": "code"
            },
            "source": "laser_incidents.describe(include=\"all\")",
            "execution_count": 30,
            "outputs": [
                {
                    "name": "stderr",
                    "text": "/shared-libs/python3.7/py-core/lib/python3.7/site-packages/ipykernel_launcher.py:1: FutureWarning: Treating datetime data as categorical rather than numeric in `.describe` is deprecated and will be removed in a future version of pandas. Specify `datetime_is_numeric=True` to silence this warning and adopt the future behavior now.\n  \"\"\"Entry point for launching an IPython kernel.\n",
                    "output_type": "stream"
                },
                {
                    "output_type": "execute_result",
                    "execution_count": 30,
                    "data": {
                        "application/vnd.deepnote.dataframe.v2+json": {
                            "row_count": 13,
                            "column_count": 10,
                            "columns": [
                                {
                                    "name": "Incident Date",
                                    "dtype": "object",
                                    "stats": {
                                        "unique_count": 6,
                                        "nan_count": 7,
                                        "categories": [
                                            {
                                                "name": "6136",
                                                "count": 1
                                            },
                                            {
                                                "name": "5 others",
                                                "count": 5
                                            },
                                            {
                                                "name": "Missing",
                                                "count": 7
                                            }
                                        ]
                                    }
                                },
                                {
                                    "name": "Incident Time",
                                    "dtype": "float64",
                                    "stats": {
                                        "unique_count": 8,
                                        "nan_count": 5,
                                        "min": 0,
                                        "max": 6136,
                                        "histogram": [
                                            {
                                                "bin_start": 0,
                                                "bin_end": 613.6,
                                                "count": 6
                                            },
                                            {
                                                "bin_start": 613.6,
                                                "bin_end": 1227.2,
                                                "count": 0
                                            },
                                            {
                                                "bin_start": 1227.2,
                                                "bin_end": 1840.8000000000002,
                                                "count": 0
                                            },
                                            {
                                                "bin_start": 1840.8000000000002,
                                                "bin_end": 2454.4,
                                                "count": 1
                                            },
                                            {
                                                "bin_start": 2454.4,
                                                "bin_end": 3068,
                                                "count": 0
                                            },
                                            {
                                                "bin_start": 3068,
                                                "bin_end": 3681.6000000000004,
                                                "count": 0
                                            },
                                            {
                                                "bin_start": 3681.6000000000004,
                                                "bin_end": 4295.2,
                                                "count": 0
                                            },
                                            {
                                                "bin_start": 4295.2,
                                                "bin_end": 4908.8,
                                                "count": 0
                                            },
                                            {
                                                "bin_start": 4908.8,
                                                "bin_end": 5522.400000000001,
                                                "count": 0
                                            },
                                            {
                                                "bin_start": 5522.400000000001,
                                                "bin_end": 6136,
                                                "count": 1
                                            }
                                        ]
                                    }
                                },
                                {
                                    "name": "Flight ID",
                                    "dtype": "object",
                                    "stats": {
                                        "unique_count": 4,
                                        "nan_count": 9,
                                        "categories": [
                                            {
                                                "name": "6135",
                                                "count": 1
                                            },
                                            {
                                                "name": "3 others",
                                                "count": 3
                                            },
                                            {
                                                "name": "Missing",
                                                "count": 9
                                            }
                                        ]
                                    }
                                },
                                {
                                    "name": "Aircraft",
                                    "dtype": "object",
                                    "stats": {
                                        "unique_count": 4,
                                        "nan_count": 9,
                                        "categories": [
                                            {
                                                "name": "6134",
                                                "count": 1
                                            },
                                            {
                                                "name": "3 others",
                                                "count": 3
                                            },
                                            {
                                                "name": "Missing",
                                                "count": 9
                                            }
                                        ]
                                    }
                                },
                                {
                                    "name": "Altitude",
                                    "dtype": "float64",
                                    "stats": {
                                        "unique_count": 4,
                                        "nan_count": 9,
                                        "min": 188,
                                        "max": 6136,
                                        "histogram": [
                                            {
                                                "bin_start": 188,
                                                "bin_end": 782.8,
                                                "count": 2
                                            },
                                            {
                                                "bin_start": 782.8,
                                                "bin_end": 1377.6,
                                                "count": 0
                                            },
                                            {
                                                "bin_start": 1377.6,
                                                "bin_end": 1972.3999999999999,
                                                "count": 0
                                            },
                                            {
                                                "bin_start": 1972.3999999999999,
                                                "bin_end": 2567.2,
                                                "count": 0
                                            },
                                            {
                                                "bin_start": 2567.2,
                                                "bin_end": 3162,
                                                "count": 0
                                            },
                                            {
                                                "bin_start": 3162,
                                                "bin_end": 3756.7999999999997,
                                                "count": 0
                                            },
                                            {
                                                "bin_start": 3756.7999999999997,
                                                "bin_end": 4351.599999999999,
                                                "count": 1
                                            },
                                            {
                                                "bin_start": 4351.599999999999,
                                                "bin_end": 4946.4,
                                                "count": 0
                                            },
                                            {
                                                "bin_start": 4946.4,
                                                "bin_end": 5541.2,
                                                "count": 0
                                            },
                                            {
                                                "bin_start": 5541.2,
                                                "bin_end": 6136,
                                                "count": 1
                                            }
                                        ]
                                    }
                                },
                                {
                                    "name": "Airport",
                                    "dtype": "object",
                                    "stats": {
                                        "unique_count": 4,
                                        "nan_count": 9,
                                        "categories": [
                                            {
                                                "name": "6136",
                                                "count": 1
                                            },
                                            {
                                                "name": "3 others",
                                                "count": 3
                                            },
                                            {
                                                "name": "Missing",
                                                "count": 9
                                            }
                                        ]
                                    }
                                },
                                {
                                    "name": "Laser Color",
                                    "dtype": "object",
                                    "stats": {
                                        "unique_count": 4,
                                        "nan_count": 9,
                                        "categories": [
                                            {
                                                "name": "6136",
                                                "count": 1
                                            },
                                            {
                                                "name": "3 others",
                                                "count": 3
                                            },
                                            {
                                                "name": "Missing",
                                                "count": 9
                                            }
                                        ]
                                    }
                                },
                                {
                                    "name": "Injury",
                                    "dtype": "object",
                                    "stats": {
                                        "unique_count": 4,
                                        "nan_count": 9,
                                        "categories": [
                                            {
                                                "name": "6136",
                                                "count": 1
                                            },
                                            {
                                                "name": "3 others",
                                                "count": 3
                                            },
                                            {
                                                "name": "Missing",
                                                "count": 9
                                            }
                                        ]
                                    }
                                },
                                {
                                    "name": "City",
                                    "dtype": "object",
                                    "stats": {
                                        "unique_count": 4,
                                        "nan_count": 9,
                                        "categories": [
                                            {
                                                "name": "6136",
                                                "count": 1
                                            },
                                            {
                                                "name": "3 others",
                                                "count": 3
                                            },
                                            {
                                                "name": "Missing",
                                                "count": 9
                                            }
                                        ]
                                    }
                                },
                                {
                                    "name": "State",
                                    "dtype": "object",
                                    "stats": {
                                        "unique_count": 4,
                                        "nan_count": 9,
                                        "categories": [
                                            {
                                                "name": "6136",
                                                "count": 1
                                            },
                                            {
                                                "name": "3 others",
                                                "count": 3
                                            },
                                            {
                                                "name": "Missing",
                                                "count": 9
                                            }
                                        ]
                                    }
                                },
                                {
                                    "name": "_deepnote_index_column",
                                    "dtype": "object"
                                }
                            ],
                            "rows_top": [
                                {
                                    "Incident Date": "6136",
                                    "Incident Time": "6136.0",
                                    "Flight ID": "6135",
                                    "Aircraft": "6134",
                                    "Altitude": "6136.0",
                                    "Airport": "6136",
                                    "Laser Color": "6136",
                                    "Injury": "6136",
                                    "City": "6136",
                                    "State": "6136",
                                    "_deepnote_index_column": "count"
                                },
                                {
                                    "Incident Date": "365",
                                    "Incident Time": "nan",
                                    "Flight ID": "5296",
                                    "Aircraft": "495",
                                    "Altitude": "188.0",
                                    "Airport": "672",
                                    "Laser Color": "28",
                                    "Injury": "3",
                                    "City": "769",
                                    "State": "58",
                                    "_deepnote_index_column": "unique"
                                },
                                {
                                    "Incident Date": "2019-01-05 00:00:00",
                                    "Incident Time": "nan",
                                    "Flight ID": "N473CA",
                                    "Aircraft": "B737",
                                    "Altitude": "4000.0",
                                    "Airport": "PHX",
                                    "Laser Color": "Green",
                                    "Injury": "No",
                                    "City": "Phoenix",
                                    "State": "California",
                                    "_deepnote_index_column": "top"
                                },
                                {
                                    "Incident Date": "37",
                                    "Incident Time": "nan",
                                    "Flight ID": "8",
                                    "Aircraft": "662",
                                    "Altitude": "413.0",
                                    "Airport": "163",
                                    "Laser Color": "5350",
                                    "Injury": "6092",
                                    "City": "185",
                                    "State": "1167",
                                    "_deepnote_index_column": "freq"
                                },
                                {
                                    "Incident Date": "2019-01-01 00:00:00",
                                    "Incident Time": "nan",
                                    "Flight ID": "nan",
                                    "Aircraft": "nan",
                                    "Altitude": "nan",
                                    "Airport": "nan",
                                    "Laser Color": "nan",
                                    "Injury": "nan",
                                    "City": "nan",
                                    "State": "nan",
                                    "_deepnote_index_column": "first"
                                },
                                {
                                    "Incident Date": "2019-12-31 00:00:00",
                                    "Incident Time": "nan",
                                    "Flight ID": "nan",
                                    "Aircraft": "nan",
                                    "Altitude": "nan",
                                    "Airport": "nan",
                                    "Laser Color": "nan",
                                    "Injury": "nan",
                                    "City": "nan",
                                    "State": "nan",
                                    "_deepnote_index_column": "last"
                                },
                                {
                                    "Incident Date": "nan",
                                    "Incident Time": "472.17470664928294",
                                    "Flight ID": "nan",
                                    "Aircraft": "nan",
                                    "Altitude": "nan",
                                    "Airport": "nan",
                                    "Laser Color": "nan",
                                    "Injury": "nan",
                                    "City": "nan",
                                    "State": "nan",
                                    "_deepnote_index_column": "mean"
                                },
                                {
                                    "Incident Date": "nan",
                                    "Incident Time": "501.2805503642726",
                                    "Flight ID": "nan",
                                    "Aircraft": "nan",
                                    "Altitude": "nan",
                                    "Airport": "nan",
                                    "Laser Color": "nan",
                                    "Injury": "nan",
                                    "City": "nan",
                                    "State": "nan",
                                    "_deepnote_index_column": "std"
                                },
                                {
                                    "Incident Date": "nan",
                                    "Incident Time": "0.0",
                                    "Flight ID": "nan",
                                    "Aircraft": "nan",
                                    "Altitude": "nan",
                                    "Airport": "nan",
                                    "Laser Color": "nan",
                                    "Injury": "nan",
                                    "City": "nan",
                                    "State": "nan",
                                    "_deepnote_index_column": "min"
                                },
                                {
                                    "Incident Date": "nan",
                                    "Incident Time": "212.0",
                                    "Flight ID": "nan",
                                    "Aircraft": "nan",
                                    "Altitude": "nan",
                                    "Airport": "nan",
                                    "Laser Color": "nan",
                                    "Injury": "nan",
                                    "City": "nan",
                                    "State": "nan",
                                    "_deepnote_index_column": "25%"
                                },
                                {
                                    "Incident Date": "nan",
                                    "Incident Time": "340.0",
                                    "Flight ID": "nan",
                                    "Aircraft": "nan",
                                    "Altitude": "nan",
                                    "Airport": "nan",
                                    "Laser Color": "nan",
                                    "Injury": "nan",
                                    "City": "nan",
                                    "State": "nan",
                                    "_deepnote_index_column": "50%"
                                },
                                {
                                    "Incident Date": "nan",
                                    "Incident Time": "522.0",
                                    "Flight ID": "nan",
                                    "Aircraft": "nan",
                                    "Altitude": "nan",
                                    "Airport": "nan",
                                    "Laser Color": "nan",
                                    "Injury": "nan",
                                    "City": "nan",
                                    "State": "nan",
                                    "_deepnote_index_column": "75%"
                                },
                                {
                                    "Incident Date": "nan",
                                    "Incident Time": "2359.0",
                                    "Flight ID": "nan",
                                    "Aircraft": "nan",
                                    "Altitude": "nan",
                                    "Airport": "nan",
                                    "Laser Color": "nan",
                                    "Injury": "nan",
                                    "City": "nan",
                                    "State": "nan",
                                    "_deepnote_index_column": "max"
                                }
                            ],
                            "rows_bottom": null
                        },
                        "text/plain": "              Incident Date  Incident Time Flight ID Aircraft  Altitude  \\\ncount                  6136    6136.000000      6135     6134    6136.0   \nunique                  365            NaN      5296      495     188.0   \ntop     2019-01-05 00:00:00            NaN    N473CA     B737    4000.0   \nfreq                     37            NaN         8      662     413.0   \nfirst   2019-01-01 00:00:00            NaN       NaN      NaN       NaN   \nlast    2019-12-31 00:00:00            NaN       NaN      NaN       NaN   \nmean                    NaN     472.174707       NaN      NaN       NaN   \nstd                     NaN     501.280550       NaN      NaN       NaN   \nmin                     NaN       0.000000       NaN      NaN       NaN   \n25%                     NaN     212.000000       NaN      NaN       NaN   \n50%                     NaN     340.000000       NaN      NaN       NaN   \n75%                     NaN     522.000000       NaN      NaN       NaN   \nmax                     NaN    2359.000000       NaN      NaN       NaN   \n\n       Airport Laser Color Injury     City       State  \ncount     6136        6136   6136     6136        6136  \nunique     672          28      3      769          58  \ntop        PHX       Green     No  Phoenix  California  \nfreq       163        5350   6092      185        1167  \nfirst      NaN         NaN    NaN      NaN         NaN  \nlast       NaN         NaN    NaN      NaN         NaN  \nmean       NaN         NaN    NaN      NaN         NaN  \nstd        NaN         NaN    NaN      NaN         NaN  \nmin        NaN         NaN    NaN      NaN         NaN  \n25%        NaN         NaN    NaN      NaN         NaN  \n50%        NaN         NaN    NaN      NaN         NaN  \n75%        NaN         NaN    NaN      NaN         NaN  \nmax        NaN         NaN    NaN      NaN         NaN  ",
                        "text/html": "<div>\n<style scoped>\n    .dataframe tbody tr th:only-of-type {\n        vertical-align: middle;\n    }\n\n    .dataframe tbody tr th {\n        vertical-align: top;\n    }\n\n    .dataframe thead th {\n        text-align: right;\n    }\n</style>\n<table border=\"1\" class=\"dataframe\">\n  <thead>\n    <tr style=\"text-align: right;\">\n      <th></th>\n      <th>Incident Date</th>\n      <th>Incident Time</th>\n      <th>Flight ID</th>\n      <th>Aircraft</th>\n      <th>Altitude</th>\n      <th>Airport</th>\n      <th>Laser Color</th>\n      <th>Injury</th>\n      <th>City</th>\n      <th>State</th>\n    </tr>\n  </thead>\n  <tbody>\n    <tr>\n      <th>count</th>\n      <td>6136</td>\n      <td>6136.000000</td>\n      <td>6135</td>\n      <td>6134</td>\n      <td>6136.0</td>\n      <td>6136</td>\n      <td>6136</td>\n      <td>6136</td>\n      <td>6136</td>\n      <td>6136</td>\n    </tr>\n    <tr>\n      <th>unique</th>\n      <td>365</td>\n      <td>NaN</td>\n      <td>5296</td>\n      <td>495</td>\n      <td>188.0</td>\n      <td>672</td>\n      <td>28</td>\n      <td>3</td>\n      <td>769</td>\n      <td>58</td>\n    </tr>\n    <tr>\n      <th>top</th>\n      <td>2019-01-05 00:00:00</td>\n      <td>NaN</td>\n      <td>N473CA</td>\n      <td>B737</td>\n      <td>4000.0</td>\n      <td>PHX</td>\n      <td>Green</td>\n      <td>No</td>\n      <td>Phoenix</td>\n      <td>California</td>\n    </tr>\n    <tr>\n      <th>freq</th>\n      <td>37</td>\n      <td>NaN</td>\n      <td>8</td>\n      <td>662</td>\n      <td>413.0</td>\n      <td>163</td>\n      <td>5350</td>\n      <td>6092</td>\n      <td>185</td>\n      <td>1167</td>\n    </tr>\n    <tr>\n      <th>first</th>\n      <td>2019-01-01 00:00:00</td>\n      <td>NaN</td>\n      <td>NaN</td>\n      <td>NaN</td>\n      <td>NaN</td>\n      <td>NaN</td>\n      <td>NaN</td>\n      <td>NaN</td>\n      <td>NaN</td>\n      <td>NaN</td>\n    </tr>\n    <tr>\n      <th>last</th>\n      <td>2019-12-31 00:00:00</td>\n      <td>NaN</td>\n      <td>NaN</td>\n      <td>NaN</td>\n      <td>NaN</td>\n      <td>NaN</td>\n      <td>NaN</td>\n      <td>NaN</td>\n      <td>NaN</td>\n      <td>NaN</td>\n    </tr>\n    <tr>\n      <th>mean</th>\n      <td>NaN</td>\n      <td>472.174707</td>\n      <td>NaN</td>\n      <td>NaN</td>\n      <td>NaN</td>\n      <td>NaN</td>\n      <td>NaN</td>\n      <td>NaN</td>\n      <td>NaN</td>\n      <td>NaN</td>\n    </tr>\n    <tr>\n      <th>std</th>\n      <td>NaN</td>\n      <td>501.280550</td>\n      <td>NaN</td>\n      <td>NaN</td>\n      <td>NaN</td>\n      <td>NaN</td>\n      <td>NaN</td>\n      <td>NaN</td>\n      <td>NaN</td>\n      <td>NaN</td>\n    </tr>\n    <tr>\n      <th>min</th>\n      <td>NaN</td>\n      <td>0.000000</td>\n      <td>NaN</td>\n      <td>NaN</td>\n      <td>NaN</td>\n      <td>NaN</td>\n      <td>NaN</td>\n      <td>NaN</td>\n      <td>NaN</td>\n      <td>NaN</td>\n    </tr>\n    <tr>\n      <th>25%</th>\n      <td>NaN</td>\n      <td>212.000000</td>\n      <td>NaN</td>\n      <td>NaN</td>\n      <td>NaN</td>\n      <td>NaN</td>\n      <td>NaN</td>\n      <td>NaN</td>\n      <td>NaN</td>\n      <td>NaN</td>\n    </tr>\n    <tr>\n      <th>50%</th>\n      <td>NaN</td>\n      <td>340.000000</td>\n      <td>NaN</td>\n      <td>NaN</td>\n      <td>NaN</td>\n      <td>NaN</td>\n      <td>NaN</td>\n      <td>NaN</td>\n      <td>NaN</td>\n      <td>NaN</td>\n    </tr>\n    <tr>\n      <th>75%</th>\n      <td>NaN</td>\n      <td>522.000000</td>\n      <td>NaN</td>\n      <td>NaN</td>\n      <td>NaN</td>\n      <td>NaN</td>\n      <td>NaN</td>\n      <td>NaN</td>\n      <td>NaN</td>\n      <td>NaN</td>\n    </tr>\n    <tr>\n      <th>max</th>\n      <td>NaN</td>\n      <td>2359.000000</td>\n      <td>NaN</td>\n      <td>NaN</td>\n      <td>NaN</td>\n      <td>NaN</td>\n      <td>NaN</td>\n      <td>NaN</td>\n      <td>NaN</td>\n      <td>NaN</td>\n    </tr>\n  </tbody>\n</table>\n</div>"
                    },
                    "metadata": {}
                }
            ]
        },
        {
            "cell_type": "markdown",
            "source": "Notice that only some columns, to be procise columns with properly recognized numeric type, are reported.",
            "metadata": {
                "cell_id": "00015-b9a2784a-9727-4d3a-b946-a48e74b17df0",
                "deepnote_cell_type": "markdown"
            }
        },
        {
            "cell_type": "markdown",
            "source": "### Column data types",
            "metadata": {
                "cell_id": "00016-314e4e7d-b28c-41d8-a53a-d3a6169b71cd",
                "deepnote_cell_type": "markdown"
            }
        },
        {
            "cell_type": "code",
            "metadata": {
                "cell_id": "00017-bc05546e-85e0-40fe-aaf0-f586449c07a5",
                "deepnote_to_be_reexecuted": false,
                "source_hash": "c825f3d4",
                "execution_millis": 1,
                "execution_start": 1611517564704,
                "deepnote_cell_type": "code"
            },
            "source": "laser_incidents.dtypes",
            "execution_count": 31,
            "outputs": [
                {
                    "output_type": "execute_result",
                    "execution_count": 31,
                    "data": {
                        "text/plain": "Incident Date    datetime64[ns]\nIncident Time             int64\nFlight ID                object\nAircraft                 object\nAltitude                 object\nAirport                  object\nLaser Color              object\nInjury                   object\nCity                     object\nState                    object\ndtype: object"
                    },
                    "metadata": {}
                }
            ]
        },
        {
            "cell_type": "markdown",
            "source": "Let's investigate some of the columns...\n\nTo analyze **Laser Color**, we can look at its typical values.",
            "metadata": {
                "cell_id": "00018-ea3ee936-0ddb-486e-b2de-d08a0e53d286",
                "deepnote_cell_type": "markdown"
            }
        },
        {
            "cell_type": "code",
            "metadata": {
                "cell_id": "00019-e69fd928-8ef8-4684-88e6-cc3ec305ea9b",
                "deepnote_to_be_reexecuted": false,
                "source_hash": "7a451c24",
                "execution_millis": 13,
                "execution_start": 1611500628329,
                "deepnote_cell_type": "code"
            },
            "source": "laser_incidents[\"Laser Color\"].describe()",
            "execution_count": 14,
            "outputs": [
                {
                    "output_type": "execute_result",
                    "execution_count": 14,
                    "data": {
                        "text/plain": "count      6136\nunique       28\ntop       Green\nfreq       5350\nName: Laser Color, dtype: object"
                    },
                    "metadata": {}
                }
            ]
        },
        {
            "cell_type": "markdown",
            "source": "Not too many different values.",
            "metadata": {
                "cell_id": "00020-12e2c4ab-ded3-4caf-9d44-3ed824c0d2be",
                "deepnote_cell_type": "markdown"
            }
        },
        {
            "cell_type": "code",
            "metadata": {
                "cell_id": "00021-3135ca40-e3f1-42bd-addf-aff02b0df744",
                "deepnote_to_be_reexecuted": false,
                "source_hash": "bb7bc601",
                "execution_start": 1611500644404,
                "execution_millis": 1,
                "deepnote_cell_type": "code"
            },
            "source": "laser_incidents[\"Laser Color\"].unique()",
            "execution_count": 15,
            "outputs": [
                {
                    "output_type": "execute_result",
                    "execution_count": 15,
                    "data": {
                        "text/plain": "array(['Green', 'Blue and Purple', 'Red', 'Blue', 'Green and Red',\n       'White', 'Blue and Green', 'Multi', 'Purple', 'Green and White',\n       'Yellow and White', 'Blue and White', 'White or Amber', 'Unknown',\n       'Red and White', 'Yellow', 'Orange', 'Green and yellow',\n       'Red and Green', 'Amber', 'yellow', 'purple', 'white',\n       'Yellow and Green', 'Green  ', 'green', 'White and Blue',\n       'Red, Blue, and Green'], dtype=object)"
                    },
                    "metadata": {}
                }
            ]
        },
        {
            "cell_type": "code",
            "metadata": {
                "scrolled": true,
                "cell_id": "00022-3b630eca-3c3a-418c-870a-e3d53adca7e5",
                "deepnote_to_be_reexecuted": false,
                "source_hash": "e58027f8",
                "execution_start": 1611500682360,
                "execution_millis": 1,
                "deepnote_cell_type": "code"
            },
            "source": "laser_incidents[\"Laser Color\"].value_counts(normalize=True)",
            "execution_count": 16,
            "outputs": [
                {
                    "output_type": "execute_result",
                    "execution_count": 16,
                    "data": {
                        "text/plain": "Green                   0.871904\nBlue                    0.081486\nWhite                   0.013364\nRed                     0.011571\nUnknown                 0.006682\nPurple                  0.005215\nGreen and Red           0.002119\nMulti                   0.001304\nBlue and Purple         0.000978\nYellow                  0.000815\nRed and Green           0.000652\nOrange                  0.000652\nBlue and Green          0.000489\nBlue and White          0.000489\nRed and White           0.000163\ngreen                   0.000163\nWhite and Blue          0.000163\nyellow                  0.000163\nYellow and White        0.000163\npurple                  0.000163\nGreen and yellow        0.000163\nGreen                   0.000163\nYellow and Green        0.000163\nRed, Blue, and Green    0.000163\nGreen and White         0.000163\nAmber                   0.000163\nwhite                   0.000163\nWhite or Amber          0.000163\nName: Laser Color, dtype: float64"
                    },
                    "metadata": {}
                }
            ]
        },
        {
            "cell_type": "markdown",
            "source": "This column is a very good candidate to turn into a pandas-special, **Categorical** data type. (See https://pandas.pydata.org/pandas-docs/stable/user_guide/categorical.html)",
            "metadata": {
                "cell_id": "00023-b1bbb2c0-fbef-4d39-8f07-9e897435b558",
                "deepnote_cell_type": "markdown"
            }
        },
        {
            "cell_type": "code",
            "metadata": {
                "cell_id": "00024-cf43535d-6a02-4045-a5ef-0267240910aa",
                "deepnote_to_be_reexecuted": false,
                "source_hash": "fd1c77fa",
                "execution_millis": 2,
                "execution_start": 1611516925979,
                "deepnote_cell_type": "code"
            },
            "source": "laser_incidents[\"Laser Color\"].memory_usage(deep=True)   # ~60 bytes per item",
            "execution_count": 20,
            "outputs": [
                {
                    "output_type": "execute_result",
                    "execution_count": 20,
                    "data": {
                        "text/plain": "380379"
                    },
                    "metadata": {}
                }
            ]
        },
        {
            "cell_type": "code",
            "metadata": {
                "cell_id": "00025-f1185b9e-35d7-4a21-a14e-a3fc56b5b248",
                "deepnote_to_be_reexecuted": false,
                "source_hash": "ac02b36b",
                "execution_start": 1611500765377,
                "execution_millis": 5,
                "deepnote_cell_type": "code"
            },
            "source": "color_category = laser_incidents[\"Laser Color\"].astype(\"category\")\ncolor_category.sample(10)",
            "execution_count": 18,
            "outputs": [
                {
                    "output_type": "execute_result",
                    "execution_count": 18,
                    "data": {
                        "text/plain": "4290      Green\n3206       Blue\n5767    Unknown\n5097      Green\n2684      Green\n3256      Green\n4851      Green\n1032      Green\n3830      Green\n4471       Blue\nName: Laser Color, dtype: category\nCategories (28, object): ['Amber', 'Blue', 'Blue and Green', 'Blue and Purple', ..., 'green', 'purple', 'white', 'yellow']"
                    },
                    "metadata": {}
                }
            ]
        },
        {
            "cell_type": "code",
            "metadata": {
                "cell_id": "00026-b037e330-8c20-4fc8-bbc6-173af234a5c8",
                "deepnote_to_be_reexecuted": false,
                "source_hash": "31548793",
                "execution_millis": 1,
                "execution_start": 1611516998492,
                "deepnote_cell_type": "code"
            },
            "source": "color_category.memory_usage(deep=True)              # ~1-2 bytes per item",
            "execution_count": 23,
            "outputs": [
                {
                    "output_type": "execute_result",
                    "execution_count": 23,
                    "data": {
                        "text/plain": "9206"
                    },
                    "metadata": {}
                }
            ]
        },
        {
            "cell_type": "markdown",
            "source": "**Exercise:** Remember that assigning or replacing a column inside a dataframe works the same way as setting a value inside a dict.\nPlease, replace the original \"Laser Color\" column with the new Categorical series:",
            "metadata": {
                "cell_id": "00027-a0f55d2f-b624-4bbe-ad12-dd4aff57340d",
                "deepnote_cell_type": "markdown"
            }
        },
        {
            "cell_type": "markdown",
            "source": "Pandas is generally quite good at guessing (inferring) number types. \nYou may wonder why `startYear` is float and not int though. \nThis is a consequence of not having an integer nan in numpy. There's been many discussions about this.",
            "metadata": {
                "cell_id": "00030-dbaf8951-a61e-4365-b513-fc6db15b12da",
                "deepnote_cell_type": "markdown"
            }
        },
        {
            "cell_type": "code",
            "metadata": {
                "cell_id": "00031-ea7a0151-1ab3-415c-a911-4dbb8ea254bf",
                "deepnote_to_be_reexecuted": false,
                "source_hash": "8bc46429",
                "execution_millis": 0,
                "execution_start": 1611517118032,
                "deepnote_cell_type": "code"
            },
            "source": "laser_incidents[\"Altitude\"]",
            "execution_count": 26,
            "outputs": [
                {
                    "output_type": "execute_result",
                    "execution_count": 26,
                    "data": {
                        "text/plain": "0       2500\n1       4000\n2       4000\n3       2500\n4       2000\n        ... \n6131    3000\n6132    2500\n6133     500\n6134     600\n6135    3000\nName: Altitude, Length: 6136, dtype: object"
                    },
                    "metadata": {}
                }
            ]
        },
        {
            "cell_type": "code",
            "metadata": {
                "cell_id": "00033-10ae5d25-4121-458c-8e8f-ad76644506ad",
                "deepnote_cell_type": "code"
            },
            "source": "imdb_titles.startYear.astype(int)",
            "execution_count": null,
            "outputs": []
        },
        {
            "cell_type": "code",
            "metadata": {
                "scrolled": true,
                "cell_id": "00034-5d3f3ed0-9d35-41b6-b11b-3f7741b08a86",
                "deepnote_cell_type": "code"
            },
            "source": "# To address that, pandas 0.24 Introduced nullable integers\nimdb_titles.startYear.astype(\"Int64\").tail(20)",
            "execution_count": null,
            "outputs": []
        },
        {
            "cell_type": "markdown",
            "source": "### Filtering\n\nIndexing in pandas Series / DataFrames (`[]`) support also boolean (masked) arrays. These arrays can be obtained by applying boolean operations on them.\n\nYou can also use standard **comparison operators** like `<`, `<=`, `==`, `>=`, `>`, `!=`. \n\nIt is possible to perform **logical operators** with boolean series too. But note that `and`, `or`, `not` are keywords. You \n\nAs an example, find all movies!",
            "metadata": {
                "cell_id": "00035-cbbdc79a-3d94-4f89-a55c-c2937abaefcb",
                "deepnote_cell_type": "markdown"
            }
        },
        {
            "cell_type": "code",
            "metadata": {
                "cell_id": "00036-3bef719d-03d4-4002-a662-df4c4d8ef0ed",
                "deepnote_cell_type": "code"
            },
            "source": "is_movie = (imdb_titles.titleType == \"movie\")\nis_movie.sample(10)",
            "execution_count": null,
            "outputs": []
        },
        {
            "cell_type": "markdown",
            "source": "Now we can directly apply the boolean mask. (Note: This is no magic. You can construct the mask yourself)",
            "metadata": {
                "cell_id": "00037-f2f888ea-342b-40be-b27e-ee2bc11e7629",
                "deepnote_cell_type": "markdown"
            }
        },
        {
            "cell_type": "code",
            "metadata": {
                "cell_id": "00038-34079ec0-6fbd-42e6-8dfc-551fa607456d",
                "deepnote_cell_type": "code"
            },
            "source": "imdb_titles[is_movie].sample(10)",
            "execution_count": null,
            "outputs": []
        },
        {
            "cell_type": "markdown",
            "source": "Or maybe we should include TV movies as well?",
            "metadata": {
                "cell_id": "00039-95632333-caa4-487c-bb10-004ebda65ba3",
                "deepnote_cell_type": "markdown"
            }
        },
        {
            "cell_type": "code",
            "metadata": {
                "cell_id": "00040-40ff8f34-fb05-44cb-ad34-e7250ff186e0",
                "deepnote_cell_type": "code"
            },
            "source": "# isin takes an array of possible values\nmovie_titles = imdb_titles[imdb_titles.titleType.isin([\"movie\", \"tvMovie\"])]\nmovie_titles.sample(10)",
            "execution_count": null,
            "outputs": []
        },
        {
            "cell_type": "markdown",
            "source": "We may wonder why we have two title-ish columns: originalTitle and primaryTitle.",
            "metadata": {
                "cell_id": "00041-22530645-060f-450a-9410-aff7749d0f26",
                "deepnote_cell_type": "markdown"
            }
        },
        {
            "cell_type": "code",
            "metadata": {
                "cell_id": "00042-79dd5eed-eeb7-4d47-85e1-7888eb296188",
                "deepnote_cell_type": "code"
            },
            "source": "different_title = (movie_titles.originalTitle != movie_titles.primaryTitle)\ndifferent_title.name = \"Different title\"   # Series can have names (Note: DataFrames can't)\ndifferent_title.value_counts()",
            "execution_count": null,
            "outputs": []
        },
        {
            "cell_type": "markdown",
            "source": "### Visualization intermezzo\n\nWithout much further ado, let's create our first plot.",
            "metadata": {
                "cell_id": "00043-4607227e-7d86-4611-967e-0caeb661e45d",
                "deepnote_cell_type": "markdown"
            }
        },
        {
            "cell_type": "code",
            "metadata": {
                "cell_id": "00044-2f62967c-4eaa-40e5-a498-3b837a7ed2e3",
                "deepnote_cell_type": "code"
            },
            "source": "different_title.value_counts().plot(kind=\"bar\")",
            "execution_count": null,
            "outputs": []
        },
        {
            "cell_type": "markdown",
            "source": "We may also want to get rid of wrong / incomplete data.",
            "metadata": {
                "cell_id": "00047-f505446c-46e9-49ac-bc96-49cc35794f75",
                "deepnote_cell_type": "markdown"
            }
        },
        {
            "cell_type": "code",
            "metadata": {
                "cell_id": "00048-b4deeb15-5738-4aeb-9707-1c3a766671c0",
                "deepnote_cell_type": "code"
            },
            "source": "# Movies from the future?\nimdb_titles[imdb_titles.startYear > 2019].startYear.value_counts()",
            "execution_count": null,
            "outputs": []
        },
        {
            "cell_type": "code",
            "metadata": {
                "cell_id": "00049-c81d9670-1eec-4380-949c-8a6d783eede4",
                "deepnote_cell_type": "code"
            },
            "source": "# Movies with startYear undefined\nimdb_titles[imdb_titles.startYear.isna()].head()",
            "execution_count": null,
            "outputs": []
        },
        {
            "cell_type": "markdown",
            "source": "**Exercise:** Use the `imdb_titles.startYear > 2019` filter and `dropna` method to get rid of rows with wrong / undefined years.",
            "metadata": {
                "cell_id": "00050-de725eed-6d15-4d1a-8180-5f64bf226cd1",
                "deepnote_cell_type": "markdown"
            }
        },
        {
            "cell_type": "code",
            "metadata": {
                "cell_id": "00051-7386b970-f0b8-40e2-8c00-e15739bdf8b9",
                "deepnote_cell_type": "code"
            },
            "source": "%exercise\n\nimdb_correct_titles = imdb_titles[___].dropna(subset=___)",
            "execution_count": null,
            "outputs": []
        },
        {
            "cell_type": "code",
            "metadata": {
                "cell_id": "00052-c4b04d21-b23e-490b-a345-09a7f7ab357e",
                "deepnote_cell_type": "code"
            },
            "source": "%validate\n\nassert not (imdb_correct_titles.startYear > 2019).any()\nassert not imdb_correct_titles.startYear.isna().any()\nassert imdb_correct_titles.shape == (1694587, 9)",
            "execution_count": null,
            "outputs": []
        },
        {
            "cell_type": "markdown",
            "source": "**Exercise:** Drop `titleType` and `endYear` columns and rows with `NaN` values (use `dropna`).",
            "metadata": {
                "cell_id": "00053-68ccf0c9-4e9d-43cf-9b79-2bc420a95fa2",
                "deepnote_cell_type": "markdown"
            }
        },
        {
            "cell_type": "code",
            "metadata": {
                "cell_id": "00054-ea822439-a521-4902-aed5-99ef620dcc06",
                "deepnote_cell_type": "code"
            },
            "source": "%exercise\n\nmovie_titles = (movie_titles\n                .drop(columns=___)\n                .___\n                )",
            "execution_count": null,
            "outputs": []
        },
        {
            "cell_type": "code",
            "metadata": {
                "cell_id": "00055-b0b1d8b4-c2e2-44b9-9b25-468352746d2e",
                "deepnote_cell_type": "code"
            },
            "source": "%validate\n\nassert not any(result.isna().any())\nassert sorted(result.columns) == ['genres', 'isAdult', 'originalTitle',  'primaryTitle', \n                                        'runtimeMinutes', 'startYear', 'tconst']",
            "execution_count": null,
            "outputs": []
        },
        {
            "cell_type": "markdown",
            "source": "## Sorting",
            "metadata": {
                "cell_id": "00056-7d06d529-4ed0-4e1d-8b14-b8ef1761b4aa",
                "deepnote_cell_type": "markdown"
            }
        },
        {
            "cell_type": "code",
            "metadata": {
                "cell_id": "00057-9bf1402b-e360-4018-87af-c456462dd2a4",
                "deepnote_cell_type": "code"
            },
            "source": "# Display 5 longest movies \nmovie_titles.sort_values(\"runtimeMinutes\", ascending=False).head()",
            "execution_count": null,
            "outputs": []
        },
        {
            "cell_type": "markdown",
            "source": "Hmm, let's look at *Modern Times Forever* - an apt title :)",
            "metadata": {
                "cell_id": "00058-5f0837d1-0790-4df5-8afc-32440482101e",
                "deepnote_cell_type": "markdown"
            }
        },
        {
            "cell_type": "code",
            "metadata": {
                "cell_id": "00059-712fccba-6b39-4c75-9134-44792206f1b6",
                "deepnote_cell_type": "code"
            },
            "source": "IFrame(\n    src=\"https://en.wikipedia.org/wiki/Modern_Times_Forever_(Stora_Enso_Building,_Helsinki)\",\n    width=900,\n    height=400,\n)",
            "execution_count": null,
            "outputs": []
        },
        {
            "cell_type": "code",
            "metadata": {
                "cell_id": "00060-851ea11f-153c-4f7a-bf73-da3ece8edfbc",
                "deepnote_cell_type": "code"
            },
            "source": "# Alternative\nmovie_titles.nlargest(5, \"runtimeMinutes\")",
            "execution_count": null,
            "outputs": []
        },
        {
            "cell_type": "markdown",
            "source": "**Exercise:** Find the 10 oldest movies that are longer than 2 hours",
            "metadata": {
                "cell_id": "00061-093e457f-f4d1-431f-91d9-dab9fe2ef0d2",
                "deepnote_cell_type": "markdown"
            }
        },
        {
            "cell_type": "code",
            "metadata": {
                "cell_id": "00062-407f22ac-2729-4dbc-a722-bdf47cec043f",
                "deepnote_cell_type": "code"
            },
            "source": "%exercise\n\nresult = movie_titles[___].___(___, ___)\nresult",
            "execution_count": null,
            "outputs": []
        },
        {
            "cell_type": "code",
            "metadata": {
                "cell_id": "00063-f342f2ea-34bf-4326-afca-d7af02dd77a7",
                "deepnote_cell_type": "code"
            },
            "source": "%validate\n\nassert result.iloc[9][\"startYear\"] == 1914",
            "execution_count": null,
            "outputs": []
        },
        {
            "cell_type": "code",
            "metadata": {
                "cell_id": "00064-d5ea8210-4b8d-4eed-be34-c457672f2849",
                "deepnote_cell_type": "code"
            },
            "source": "movie_titles[(movie_titles[\"primaryTitle\"].str.startswith(\"Indiana Jones\")) & (movie_titles[\"titleType\"] == \"movie\")]",
            "execution_count": null,
            "outputs": []
        },
        {
            "cell_type": "markdown",
            "source": "## Arithmetics and string manipulation",
            "metadata": {
                "cell_id": "00065-3666d69a-30a6-47f2-b704-85b8376db5c2",
                "deepnote_cell_type": "markdown"
            }
        },
        {
            "cell_type": "markdown",
            "source": "Standard **arithmetic operators** work on numerical columms too. And so do mathematical functions. Note all such operations are performed in a vector-like fashion.",
            "metadata": {
                "cell_id": "00066-e9b214ee-2c9b-45a6-ab7d-f1de41b731ab",
                "deepnote_cell_type": "markdown"
            }
        },
        {
            "cell_type": "code",
            "metadata": {
                "cell_id": "00067-4a6adc87-6e5b-4ba1-a1cf-da93d8720258",
                "deepnote_cell_type": "code"
            },
            "source": "movie_titles[[\"originalTitle\", \"startYear\"]].assign(age = 2019 - movie_titles[\"startYear\"]).sample(20)",
            "execution_count": null,
            "outputs": []
        },
        {
            "cell_type": "markdown",
            "source": "**Exercise:** Calculate the length of movies in hours.",
            "metadata": {
                "cell_id": "00068-9b6cb1ed-50d9-48cf-8626-01928ad113e1",
                "deepnote_cell_type": "markdown"
            }
        },
        {
            "cell_type": "code",
            "metadata": {
                "cell_id": "00069-319a15c0-9f0a-4ce7-b329-842475d7b843",
                "deepnote_cell_type": "code"
            },
            "source": "%exercise\n\nresult = movie_titles[[\"originalTitle\", \"runtimeMinutes\"]].assign(... = ...)\nresult.sample(10)",
            "execution_count": null,
            "outputs": []
        },
        {
            "cell_type": "code",
            "metadata": {
                "cell_id": "00070-f72454c3-4f36-47f2-9da6-112170acae0c",
                "deepnote_cell_type": "code"
            },
            "source": "%validate\n\nassert result.iloc[0][\"hours\"] == 0.75",
            "execution_count": null,
            "outputs": []
        },
        {
            "cell_type": "code",
            "metadata": {
                "cell_id": "00071-5212dc93-3aef-4a6f-aed6-f4822c66580e",
                "deepnote_cell_type": "code"
            },
            "source": "# If only the following had any sense!\nnp.sin(movie_titles[\"runtimeMinutes\"]).sample(10)",
            "execution_count": null,
            "outputs": []
        },
        {
            "cell_type": "markdown",
            "source": "### Summary statistics\n\nNote that the following methods return scalars",
            "metadata": {
                "cell_id": "00072-23aa98e0-bd99-4e20-ba9e-44cf34a34e50",
                "deepnote_cell_type": "markdown"
            }
        },
        {
            "cell_type": "code",
            "metadata": {
                "cell_id": "00073-093cd0db-5981-4694-9a01-6ba3697fa157",
                "deepnote_cell_type": "code"
            },
            "source": "# Average length of the movies\nmovie_titles[\"runtimeMinutes\"].mean()",
            "execution_count": null,
            "outputs": []
        },
        {
            "cell_type": "code",
            "metadata": {
                "cell_id": "00074-c4890a92-1420-465d-a3c6-822c47e1973c",
                "deepnote_cell_type": "code"
            },
            "source": "# Standard deviation\nmovie_titles[\"runtimeMinutes\"].std()",
            "execution_count": null,
            "outputs": []
        },
        {
            "cell_type": "code",
            "metadata": {
                "cell_id": "00075-f62ad745-e1f6-47fa-96df-0e149f85bcfa",
                "deepnote_cell_type": "code"
            },
            "source": "movie_titles[\"startYear\"].max()",
            "execution_count": null,
            "outputs": []
        },
        {
            "cell_type": "markdown",
            "source": "**Exercise:** How many years would it take to watch all movies in the catalogue?",
            "metadata": {
                "cell_id": "00076-650d7861-ef3e-4df8-879e-4bfdcd8090d4",
                "deepnote_cell_type": "markdown"
            }
        },
        {
            "cell_type": "code",
            "metadata": {
                "cell_id": "00077-9da78603-df24-4a1c-a5f1-bb8c4f91de10",
                "deepnote_cell_type": "code"
            },
            "source": "%exercise\nresult = movie_titles[\"runtimeMinutes\"] ...\nresult",
            "execution_count": null,
            "outputs": []
        },
        {
            "cell_type": "code",
            "metadata": {
                "cell_id": "00078-538f24be-0a15-414f-82c1-e9300f696df1",
                "deepnote_cell_type": "code"
            },
            "source": "%validate\n\nassert np.round(result, 3) == 65.154",
            "execution_count": null,
            "outputs": []
        },
        {
            "cell_type": "markdown",
            "source": "### Basic string operations\n\nThese are typically accessed using the `.str` \"accessor\" of the Series like this:\n    \n- series.str.lower\n- series.str.split\n- series.str.startswith\n- series.str.contains\n- ...",
            "metadata": {
                "cell_id": "00079-3838faa3-054d-42cb-8d4a-bd14bc0fe7db",
                "deepnote_cell_type": "markdown"
            }
        },
        {
            "cell_type": "code",
            "metadata": {
                "cell_id": "00080-fd1446cb-2dec-4062-a491-2f267c6344b5",
                "deepnote_cell_type": "code"
            },
            "source": "movie_titles[(movie_titles[\"primaryTitle\"].str.startswith(\"Star Wars: Episode\")) & (movie_titles[\"titleType\"] == \"movie\")]",
            "execution_count": null,
            "outputs": []
        },
        {
            "cell_type": "markdown",
            "source": "**Exercise:** Find all Pink Panther movies. Note that their title does not necessarily start with \"Pink\"",
            "metadata": {
                "cell_id": "00081-446e5e94-703a-4552-8eb9-0a8c0c775a59",
                "deepnote_cell_type": "markdown"
            }
        },
        {
            "cell_type": "code",
            "metadata": {
                "cell_id": "00082-c4d7e518-a7e3-4061-8732-0c29b63a436f",
                "deepnote_cell_type": "code"
            },
            "source": "%exercise\n\nis_pink = ...\npink = movie_titles[is_pink]\npink",
            "execution_count": null,
            "outputs": []
        },
        {
            "cell_type": "code",
            "metadata": {
                "cell_id": "00083-8ba2a650-c79c-4a66-ba3e-4ac324124940",
                "deepnote_cell_type": "code"
            },
            "source": "%validate\n\nassert pink.shape[0] == 14",
            "execution_count": null,
            "outputs": []
        },
        {
            "cell_type": "code",
            "metadata": {
                "cell_id": "00084-ddc9543c-e9be-4f30-b004-d2605c667f1a",
                "deepnote_cell_type": "code"
            },
            "source": "# String arithmetics work too!\nurl = \"https://www.imdb.com/title/\" + movie_titles[\"tconst\"]\nmovie_titles[[\"primaryTitle\"]].assign(url=url).sample(10)",
            "execution_count": null,
            "outputs": []
        },
        {
            "cell_type": "markdown",
            "source": "Let's investigate the genres a bit:",
            "metadata": {
                "cell_id": "00085-333a1900-ad7b-4eff-92c3-8935695f878b",
                "deepnote_cell_type": "markdown"
            }
        },
        {
            "cell_type": "code",
            "metadata": {
                "cell_id": "00086-8ee40674-8663-4f3e-9985-c63011b61207",
                "deepnote_cell_type": "code"
            },
            "source": "split_genres = movie_titles.genres.str.split(\",\").dropna()\nsplit_genres.sample(10)",
            "execution_count": null,
            "outputs": []
        },
        {
            "cell_type": "code",
            "metadata": {
                "cell_id": "00087-93efb479-599b-499f-96fb-5467d030504a",
                "deepnote_cell_type": "code"
            },
            "source": "genres = {genre for row in split_genres.iteritems() for genre in row[1]}",
            "execution_count": null,
            "outputs": []
        },
        {
            "cell_type": "code",
            "metadata": {
                "cell_id": "00088-47065f39-4079-47fc-9564-c1cb69a1d4a3",
                "deepnote_cell_type": "code"
            },
            "source": "genres",
            "execution_count": null,
            "outputs": []
        },
        {
            "cell_type": "code",
            "metadata": {
                "cell_id": "00089-6c7256e8-4831-4611-a606-451eafd4dcfc",
                "deepnote_cell_type": "code"
            },
            "source": "# \"One-hot\" encoding of genres\nmovie_with_genres = movie_titles[['primaryTitle']].assign(\n    **{genre : movie_titles.genres.str.contains(genre) * 1 for genre in genres}\n)\nmovie_with_genres.sample(10)",
            "execution_count": null,
            "outputs": []
        },
        {
            "cell_type": "code",
            "metadata": {
                "cell_id": "00090-120c7ae6-f2f9-4983-831a-b54bc46ef2c1",
                "deepnote_cell_type": "code"
            },
            "source": "genre_counts = movie_with_genres[movie_with_genres == 1].iloc[:,1:].count()\ngenre_counts",
            "execution_count": null,
            "outputs": []
        },
        {
            "cell_type": "code",
            "metadata": {
                "cell_id": "00091-c7121691-9a8f-4519-bf32-7c69b7611ef5",
                "deepnote_cell_type": "code"
            },
            "source": "genre_counts.plot(kind=\"bar\")",
            "execution_count": null,
            "outputs": []
        },
        {
            "cell_type": "code",
            "metadata": {
                "cell_id": "00092-0b86dda0-3ab7-4397-a721-7b099ddabbd7",
                "deepnote_cell_type": "code"
            },
            "source": "movie_titles[\"startYear\"].plot(kind=\"hist\")",
            "execution_count": null,
            "outputs": []
        },
        {
            "cell_type": "markdown",
            "source": "We see the one outlier and in general, the plots are not so nice. Being explicit sometimes helps.",
            "metadata": {
                "cell_id": "00093-bd8a8d2c-c551-4b6c-b778-3529e6acb5b1",
                "deepnote_cell_type": "markdown"
            }
        },
        {
            "cell_type": "code",
            "metadata": {
                "cell_id": "00094-90ff3654-8eab-48a7-b30a-a4aa12a61be3",
                "deepnote_cell_type": "code"
            },
            "source": "ax = movie_titles[\"startYear\"].plot(kind=\"hist\", bins=23, range=(1890, 2020))",
            "execution_count": null,
            "outputs": []
        },
        {
            "cell_type": "markdown",
            "source": "No movies before 1900 / 1910? Really? Let's check:",
            "metadata": {
                "cell_id": "00095-9b2c4cb8-a252-46c7-b33e-61193d096321",
                "deepnote_cell_type": "markdown"
            }
        },
        {
            "cell_type": "code",
            "metadata": {
                "cell_id": "00096-0da6736d-3a91-4f00-bde4-7de0edb1c6f7",
                "deepnote_cell_type": "code"
            },
            "source": "ax = movie_titles[\"startYear\"].plot(kind=\"hist\", bins=23, range=(1890, 2020))\nax.set_yscale(\"log\")",
            "execution_count": null,
            "outputs": []
        },
        {
            "cell_type": "markdown",
            "source": "**Exercise:** Plot a histogram of runtime minutes (limiting to a reasonable range).",
            "metadata": {
                "cell_id": "00097-77a9c925-ae24-4c41-9b10-6c0b7f51d9a2",
                "deepnote_cell_type": "markdown"
            }
        },
        {
            "cell_type": "code",
            "metadata": {
                "cell_id": "00098-bf8a14eb-81db-4956-a701-b81f0f808dd8",
                "deepnote_cell_type": "code"
            },
            "source": "%exercise\n\nmovie_titles[___].plot(___)",
            "execution_count": null,
            "outputs": []
        },
        {
            "cell_type": "code",
            "metadata": {
                "cell_id": "00099-4737ecb1-0ebe-458a-8b8c-40aa0296d9df",
                "deepnote_cell_type": "code"
            },
            "source": "# Note: this is something that could be mor easily done with .groupby operation\naverage_genre_length = (movie_with_genres.iloc[:,1:].apply(lambda s: s * movie_titles[\"runtimeMinutes\"])).sum() / genre_counts",
            "execution_count": null,
            "outputs": []
        },
        {
            "cell_type": "code",
            "metadata": {
                "cell_id": "00100-ed10fa5c-3725-450c-8430-5125b123d175",
                "deepnote_cell_type": "code"
            },
            "source": "average_genre_length",
            "execution_count": null,
            "outputs": []
        },
        {
            "cell_type": "markdown",
            "source": "**Exercise:** Sort the genres from the longest to shortest and visualize them using a bar plot.",
            "metadata": {
                "cell_id": "00101-7d0636b0-f063-4ff1-9224-04b301c0ddcf",
                "deepnote_cell_type": "markdown"
            }
        },
        {
            "cell_type": "code",
            "metadata": {
                "cell_id": "00102-7e2e3f04-5fd3-4ab3-a0f0-580a05159703",
                "deepnote_cell_type": "code"
            },
            "source": "%exercise\n\n___.___.plot(___)",
            "execution_count": null,
            "outputs": []
        },
        {
            "cell_type": "markdown",
            "source": "**Exercise**: Find proper filters for the Lord of the Rings trilogy. Note that you will probably need to combine more conditions (multiple solutions possible).",
            "metadata": {
                "cell_id": "00103-7276a8f4-83e8-4f43-9f12-2e4c7afab623",
                "deepnote_cell_type": "markdown"
            }
        },
        {
            "cell_type": "code",
            "metadata": {
                "cell_id": "00104-9448ac61-01fe-48ce-85fc-720b1a47dbf4",
                "deepnote_cell_type": "code"
            },
            "source": "%exercise\n\nis_lotr = ...\nis_real_lotr = is_lotr & \n\nmovie_titles[is_real_lotr]",
            "execution_count": null,
            "outputs": []
        },
        {
            "cell_type": "markdown",
            "source": "**Exercise**: What is longer? The Lord of the Rings trilogy or The Hobbit \"trilogy\"?\n\nUse the previous as a base to find the Hobbit movies. Then calculate the total length of each trio.",
            "metadata": {
                "cell_id": "00105-6ab3eda5-a0d5-4498-a68a-03a3ede25517",
                "deepnote_cell_type": "markdown"
            }
        },
        {
            "cell_type": "code",
            "metadata": {
                "cell_id": "00106-c2a9e294-7d9d-409f-a704-590bb1fbb676",
                "deepnote_cell_type": "code"
            },
            "source": "%exercise\n\nis_hobbit = ...\nis_real_hobbit = ...\n\nhobbit_length = ...\nlotr_length = ...\n\nprint(f\"The Hobbit length: {hobbit_length}, The Lord of the Rings length: {lotr_length}\")\n\npd.concat([movie_titles[is_real_lotr], movie_titles[is_real_hobbit]]).sort_values(\"startYear\")",
            "execution_count": null,
            "outputs": []
        },
        {
            "cell_type": "code",
            "metadata": {
                "cell_id": "00107-34ada3b6-2dc0-46a2-9a56-189fe1b62a84",
                "deepnote_cell_type": "code"
            },
            "source": "%validate\n\nassert hobbit_length % 100 == 74\nassert lotr_length // 100 == 5",
            "execution_count": null,
            "outputs": []
        },
        {
            "cell_type": "markdown",
            "source": "**Exercise:** Find the movie with the (primary) longest title.\n\nHint: `idxmax()` method on the Series returns the index of the item with the maximum value. You can't (at least should) not use the maximum value itself.",
            "metadata": {
                "cell_id": "00108-7859184e-7096-42f2-84be-772a24ca1ecf",
                "deepnote_cell_type": "markdown"
            }
        },
        {
            "cell_type": "code",
            "metadata": {
                "cell_id": "00109-268cb37e-34ef-4577-812a-5259abbf91c8",
                "deepnote_cell_type": "code"
            },
            "source": "%exercise\n\nlongest_title_movie = ...\n\nprint(longest_title_movie[\"primaryTitle\"])\n\nlongest_title_movie",
            "execution_count": null,
            "outputs": []
        },
        {
            "cell_type": "code",
            "metadata": {
                "cell_id": "00110-b83d2329-2220-4538-bfbb-05b8a908e280",
                "deepnote_cell_type": "code"
            },
            "source": "%validate\n\nassert longest_title_movie[\"primaryTitle\"][2] == \"s\"",
            "execution_count": null,
            "outputs": []
        },
        {
            "cell_type": "markdown",
            "source": "# Pandas - Merging, grouping, aggregation and time series",
            "metadata": {
                "cell_id": "00000-dd790159-50de-4db1-b282-2cff0cf3f4bb",
                "deepnote_cell_type": "markdown"
            }
        },
        {
            "cell_type": "code",
            "metadata": {
                "cell_id": "00001-fdfa530a-69a5-4943-aa89-f20a5fbe3ebb",
                "deepnote_to_be_reexecuted": false,
                "source_hash": "39ff73be",
                "execution_start": 1611480799731,
                "execution_millis": 0,
                "deepnote_cell_type": "code"
            },
            "source": "# Necesssary import evil\n\nimport pandas as pd\nimport numpy as np\nfrom IPython.display import display, HTML, IFrame\n\nnp.random.seed(42)",
            "execution_count": 1,
            "outputs": []
        },
        {
            "cell_type": "code",
            "metadata": {
                "cell_id": "00003-afc9bd69-21d7-484c-b0f1-110c82a8a423",
                "deepnote_cell_type": "code"
            },
            "source": "# make the cells wide\ndisplay(HTML(\"<style>.container { width:95% !important; }</style>\"))",
            "execution_count": null,
            "outputs": []
        },
        {
            "cell_type": "code",
            "metadata": {
                "cell_id": "00004-afb2e230-cd99-4f7f-875d-46c2789452e9",
                "deepnote_to_be_reexecuted": false,
                "source_hash": "77ca92eb",
                "execution_millis": 7948,
                "execution_start": 1611486423580,
                "deepnote_cell_type": "code"
            },
            "source": "available_reports = (\n    \"https://www.faa.gov/about/initiatives/lasers/laws/media/Laser_Report_2020.xlsx\",\n    \"https://www.faa.gov/about/initiatives/lasers/laws/media/Laser_Report_2019_final.xlsx\",\n    \"https://www.faa.gov/about/initiatives/lasers/laws/media/Laser_Report_2018_final.xlsx\",\n    \"https://www.faa.gov/about/initiatives/lasers/laws/media/reported_laser_illumination_incidents_CY_2017.xlsx\",\n    \"https://www.faa.gov/about/initiatives/lasers/laws/media/reported_laser_illumination_incidents_CY_2016.xlsx\",\n    \"https://www.faa.gov/about/initiatives/lasers/laws/media/reported_laser_illumination_incidents_CY_2015.xls\",\n    # the columns here are very different, skip it for this analysis\n    # \"https://www.faa.gov/about/initiatives/lasers/laws/media/laser_incidents_2010-2014.xls\",\n)\n\nlaser_incidents_raw = pd.concat((pd.read_excel(url) for url in available_reports), axis=0, ignore_index=True)",
            "execution_count": 45,
            "outputs": [
                {
                    "output_type": "execute_result",
                    "execution_count": 45,
                    "data": {
                        "application/vnd.deepnote.dataframe.v2+json": {
                            "error": "Traceback (most recent call last):\n  File \"/shared-libs/code/variable_explorer.py\", line 123, in dataframe_formatter\n    return { MIME_TYPE: describe_pd_dataframe(df) }\n  File \"/shared-libs/code/variable_explorer_helpers.py\", line 135, in describe_pd_dataframe\n    columns[i]['stats']['histogram'] = get_histogram(column)\n  File \"/shared-libs/code/variable_explorer_helpers.py\", line 19, in get_histogram\n    np_array = np.array(pd_series.dt.total_seconds())\nAttributeError: 'DatetimeProperties' object has no attribute 'total_seconds'\n"
                        },
                        "text/plain": "      Incident Date Incident Time Flight ID             Aircraft Altitude  \\\n0        2020-01-01           148    N424RP               DA42/A     8500   \n1        2020-01-01           155   AMF1829                 B190    40000   \n2        2020-01-01           214   NKS1881                 A320     2500   \n3        2020-01-01           217   FDX3873                 B763     3000   \n4        2020-01-01           218   SWA3635                 B739    11000   \n...             ...           ...       ...                  ...      ...   \n36458    2015-12-31           525    VRD917  A320 (AIRBUS - A-32     8000   \n36459    2015-12-31           623   DAL2371  B738 (BOEING - 737-    11000   \n36460    2015-12-31          1111   Unknown              Unknown     2000   \n36461    2015-12-31          1147    UAL197                 B737      300   \n36462    2015-12-31          2314    EJA336               E55P/L     1000   \n\n      Airport Laser Color Injury               City       State  ...  \\\n0         SBA       Green     No      Santa Barbara  California  ...   \n1         SSF       Green     No        San Antonio       Texas  ...   \n2         TPA       Green     No              Tampa     Florida  ...   \n3         DFW       Green     No        Fort Worth        Texas  ...   \n4         MOD       Green     No            Modesto  California  ...   \n...       ...         ...    ...                ...         ...  ...   \n36458     LAS       Green     No          Las Vegas         NaN  ...   \n36459     LHM       Green     No            Lincoln         NaN  ...   \n36460     FOK       Green     No  Westhampton Beach         NaN  ...   \n36461     GUM       Green     No               Guam         NaN  ...   \n36462     APF       Green     No             Naples         NaN  ...   \n\n       Unnamed: 58  Unnamed: 59  Unnamed: 60  Unnamed: 61  Unnamed: 62  \\\n0              NaN          NaN          NaN          NaN          NaN   \n1              NaN          NaN          NaN          NaN          NaN   \n2              NaN          NaN          NaN          NaN          NaN   \n3              NaN          NaN          NaN          NaN          NaN   \n4              NaN          NaN          NaN          NaN          NaN   \n...            ...          ...          ...          ...          ...   \n36458          NaN          NaN          NaN          NaN          NaN   \n36459          NaN          NaN          NaN          NaN          NaN   \n36460          NaN          NaN          NaN          NaN          NaN   \n36461          NaN          NaN          NaN          NaN          NaN   \n36462          NaN          NaN          NaN          NaN          NaN   \n\n       Unnamed: 63  Unnamed: 64  Unnamed: 65  Aviation Altitude      State   \n0              NaN          NaN          NaN                NaN         NaN  \n1              NaN          NaN          NaN                NaN         NaN  \n2              NaN          NaN          NaN                NaN         NaN  \n3              NaN          NaN          NaN                NaN         NaN  \n4              NaN          NaN          NaN                NaN         NaN  \n...            ...          ...          ...                ...         ...  \n36458          NaN          NaN          NaN                NaN      Nevada  \n36459          NaN          NaN          NaN                NaN  California  \n36460          NaN          NaN          NaN                NaN    New York  \n36461          NaN          NaN          NaN                NaN        Guam  \n36462          NaN          NaN          NaN                NaN     Florida  \n\n[36463 rows x 68 columns]",
                        "text/html": "<div>\n<style scoped>\n    .dataframe tbody tr th:only-of-type {\n        vertical-align: middle;\n    }\n\n    .dataframe tbody tr th {\n        vertical-align: top;\n    }\n\n    .dataframe thead th {\n        text-align: right;\n    }\n</style>\n<table border=\"1\" class=\"dataframe\">\n  <thead>\n    <tr style=\"text-align: right;\">\n      <th></th>\n      <th>Incident Date</th>\n      <th>Incident Time</th>\n      <th>Flight ID</th>\n      <th>Aircraft</th>\n      <th>Altitude</th>\n      <th>Airport</th>\n      <th>Laser Color</th>\n      <th>Injury</th>\n      <th>City</th>\n      <th>State</th>\n      <th>...</th>\n      <th>Unnamed: 58</th>\n      <th>Unnamed: 59</th>\n      <th>Unnamed: 60</th>\n      <th>Unnamed: 61</th>\n      <th>Unnamed: 62</th>\n      <th>Unnamed: 63</th>\n      <th>Unnamed: 64</th>\n      <th>Unnamed: 65</th>\n      <th>Aviation Altitude</th>\n      <th>State</th>\n    </tr>\n  </thead>\n  <tbody>\n    <tr>\n      <th>0</th>\n      <td>2020-01-01</td>\n      <td>148</td>\n      <td>N424RP</td>\n      <td>DA42/A</td>\n      <td>8500</td>\n      <td>SBA</td>\n      <td>Green</td>\n      <td>No</td>\n      <td>Santa Barbara</td>\n      <td>California</td>\n      <td>...</td>\n      <td>NaN</td>\n      <td>NaN</td>\n      <td>NaN</td>\n      <td>NaN</td>\n      <td>NaN</td>\n      <td>NaN</td>\n      <td>NaN</td>\n      <td>NaN</td>\n      <td>NaN</td>\n      <td>NaN</td>\n    </tr>\n    <tr>\n      <th>1</th>\n      <td>2020-01-01</td>\n      <td>155</td>\n      <td>AMF1829</td>\n      <td>B190</td>\n      <td>40000</td>\n      <td>SSF</td>\n      <td>Green</td>\n      <td>No</td>\n      <td>San Antonio</td>\n      <td>Texas</td>\n      <td>...</td>\n      <td>NaN</td>\n      <td>NaN</td>\n      <td>NaN</td>\n      <td>NaN</td>\n      <td>NaN</td>\n      <td>NaN</td>\n      <td>NaN</td>\n      <td>NaN</td>\n      <td>NaN</td>\n      <td>NaN</td>\n    </tr>\n    <tr>\n      <th>2</th>\n      <td>2020-01-01</td>\n      <td>214</td>\n      <td>NKS1881</td>\n      <td>A320</td>\n      <td>2500</td>\n      <td>TPA</td>\n      <td>Green</td>\n      <td>No</td>\n      <td>Tampa</td>\n      <td>Florida</td>\n      <td>...</td>\n      <td>NaN</td>\n      <td>NaN</td>\n      <td>NaN</td>\n      <td>NaN</td>\n      <td>NaN</td>\n      <td>NaN</td>\n      <td>NaN</td>\n      <td>NaN</td>\n      <td>NaN</td>\n      <td>NaN</td>\n    </tr>\n    <tr>\n      <th>3</th>\n      <td>2020-01-01</td>\n      <td>217</td>\n      <td>FDX3873</td>\n      <td>B763</td>\n      <td>3000</td>\n      <td>DFW</td>\n      <td>Green</td>\n      <td>No</td>\n      <td>Fort Worth</td>\n      <td>Texas</td>\n      <td>...</td>\n      <td>NaN</td>\n      <td>NaN</td>\n      <td>NaN</td>\n      <td>NaN</td>\n      <td>NaN</td>\n      <td>NaN</td>\n      <td>NaN</td>\n      <td>NaN</td>\n      <td>NaN</td>\n      <td>NaN</td>\n    </tr>\n    <tr>\n      <th>4</th>\n      <td>2020-01-01</td>\n      <td>218</td>\n      <td>SWA3635</td>\n      <td>B739</td>\n      <td>11000</td>\n      <td>MOD</td>\n      <td>Green</td>\n      <td>No</td>\n      <td>Modesto</td>\n      <td>California</td>\n      <td>...</td>\n      <td>NaN</td>\n      <td>NaN</td>\n      <td>NaN</td>\n      <td>NaN</td>\n      <td>NaN</td>\n      <td>NaN</td>\n      <td>NaN</td>\n      <td>NaN</td>\n      <td>NaN</td>\n      <td>NaN</td>\n    </tr>\n    <tr>\n      <th>...</th>\n      <td>...</td>\n      <td>...</td>\n      <td>...</td>\n      <td>...</td>\n      <td>...</td>\n      <td>...</td>\n      <td>...</td>\n      <td>...</td>\n      <td>...</td>\n      <td>...</td>\n      <td>...</td>\n      <td>...</td>\n      <td>...</td>\n      <td>...</td>\n      <td>...</td>\n      <td>...</td>\n      <td>...</td>\n      <td>...</td>\n      <td>...</td>\n      <td>...</td>\n      <td>...</td>\n    </tr>\n    <tr>\n      <th>36458</th>\n      <td>2015-12-31</td>\n      <td>525</td>\n      <td>VRD917</td>\n      <td>A320 (AIRBUS - A-32</td>\n      <td>8000</td>\n      <td>LAS</td>\n      <td>Green</td>\n      <td>No</td>\n      <td>Las Vegas</td>\n      <td>NaN</td>\n      <td>...</td>\n      <td>NaN</td>\n      <td>NaN</td>\n      <td>NaN</td>\n      <td>NaN</td>\n      <td>NaN</td>\n      <td>NaN</td>\n      <td>NaN</td>\n      <td>NaN</td>\n      <td>NaN</td>\n      <td>Nevada</td>\n    </tr>\n    <tr>\n      <th>36459</th>\n      <td>2015-12-31</td>\n      <td>623</td>\n      <td>DAL2371</td>\n      <td>B738 (BOEING - 737-</td>\n      <td>11000</td>\n      <td>LHM</td>\n      <td>Green</td>\n      <td>No</td>\n      <td>Lincoln</td>\n      <td>NaN</td>\n      <td>...</td>\n      <td>NaN</td>\n      <td>NaN</td>\n      <td>NaN</td>\n      <td>NaN</td>\n      <td>NaN</td>\n      <td>NaN</td>\n      <td>NaN</td>\n      <td>NaN</td>\n      <td>NaN</td>\n      <td>California</td>\n    </tr>\n    <tr>\n      <th>36460</th>\n      <td>2015-12-31</td>\n      <td>1111</td>\n      <td>Unknown</td>\n      <td>Unknown</td>\n      <td>2000</td>\n      <td>FOK</td>\n      <td>Green</td>\n      <td>No</td>\n      <td>Westhampton Beach</td>\n      <td>NaN</td>\n      <td>...</td>\n      <td>NaN</td>\n      <td>NaN</td>\n      <td>NaN</td>\n      <td>NaN</td>\n      <td>NaN</td>\n      <td>NaN</td>\n      <td>NaN</td>\n      <td>NaN</td>\n      <td>NaN</td>\n      <td>New York</td>\n    </tr>\n    <tr>\n      <th>36461</th>\n      <td>2015-12-31</td>\n      <td>1147</td>\n      <td>UAL197</td>\n      <td>B737</td>\n      <td>300</td>\n      <td>GUM</td>\n      <td>Green</td>\n      <td>No</td>\n      <td>Guam</td>\n      <td>NaN</td>\n      <td>...</td>\n      <td>NaN</td>\n      <td>NaN</td>\n      <td>NaN</td>\n      <td>NaN</td>\n      <td>NaN</td>\n      <td>NaN</td>\n      <td>NaN</td>\n      <td>NaN</td>\n      <td>NaN</td>\n      <td>Guam</td>\n    </tr>\n    <tr>\n      <th>36462</th>\n      <td>2015-12-31</td>\n      <td>2314</td>\n      <td>EJA336</td>\n      <td>E55P/L</td>\n      <td>1000</td>\n      <td>APF</td>\n      <td>Green</td>\n      <td>No</td>\n      <td>Naples</td>\n      <td>NaN</td>\n      <td>...</td>\n      <td>NaN</td>\n      <td>NaN</td>\n      <td>NaN</td>\n      <td>NaN</td>\n      <td>NaN</td>\n      <td>NaN</td>\n      <td>NaN</td>\n      <td>NaN</td>\n      <td>NaN</td>\n      <td>Florida</td>\n    </tr>\n  </tbody>\n</table>\n<p>36463 rows × 68 columns</p>\n</div>"
                    },
                    "metadata": {}
                }
            ]
        },
        {
            "cell_type": "code",
            "source": "laser_incidents_raw.to_csv(\"data/laser_incidents_2015-2020_raw.csv\")",
            "metadata": {
                "tags": [],
                "cell_id": "00005-7eef7b6b-5190-4b53-90cc-ae68a0901191",
                "deepnote_to_be_reexecuted": false,
                "source_hash": "bcb7b6ea",
                "execution_start": 1611486508372,
                "execution_millis": 882,
                "deepnote_cell_type": "code"
            },
            "outputs": [],
            "execution_count": 46
        },
        {
            "cell_type": "code",
            "source": "laser_incidents_raw = pd.read_csv(\"data/laser_incidents_2015-2020_raw.csv\")",
            "metadata": {
                "tags": [],
                "cell_id": "00005-841a8e7d-ee48-46d8-b141-95d5179273ef",
                "deepnote_cell_type": "code"
            },
            "outputs": [],
            "execution_count": null
        },
        {
            "cell_type": "code",
            "source": "laser_incidents_raw",
            "metadata": {
                "tags": [],
                "cell_id": "00006-6e96ccee-054f-4d3b-9a20-144bfbe15036",
                "deepnote_to_be_reexecuted": false,
                "source_hash": "b1cedd11",
                "execution_start": 1611504234494,
                "execution_millis": 293,
                "deepnote_cell_type": "code"
            },
            "outputs": [
                {
                    "output_type": "execute_result",
                    "execution_count": 238,
                    "data": {
                        "application/vnd.deepnote.dataframe.v2+json": {
                            "error": "Traceback (most recent call last):\n  File \"/shared-libs/code/variable_explorer.py\", line 123, in dataframe_formatter\n    return { MIME_TYPE: describe_pd_dataframe(df) }\n  File \"/shared-libs/code/variable_explorer_helpers.py\", line 135, in describe_pd_dataframe\n    columns[i]['stats']['histogram'] = get_histogram(column)\n  File \"/shared-libs/code/variable_explorer_helpers.py\", line 19, in get_histogram\n    np_array = np.array(pd_series.dt.total_seconds())\nAttributeError: 'DatetimeProperties' object has no attribute 'total_seconds'\n"
                        },
                        "text/plain": "      Incident Date Incident Time Flight ID             Aircraft Altitude  \\\n0        2020-01-01           148    N424RP               DA42/A     8500   \n1        2020-01-01           155   AMF1829                 B190    40000   \n2        2020-01-01           214   NKS1881                 A320     2500   \n3        2020-01-01           217   FDX3873                 B763     3000   \n4        2020-01-01           218   SWA3635                 B739    11000   \n...             ...           ...       ...                  ...      ...   \n36458    2015-12-31           525    VRD917  A320 (AIRBUS - A-32     8000   \n36459    2015-12-31           623   DAL2371  B738 (BOEING - 737-    11000   \n36460    2015-12-31          1111   Unknown              Unknown     2000   \n36461    2015-12-31          1147    UAL197                 B737      300   \n36462    2015-12-31          2314    EJA336               E55P/L     1000   \n\n      Airport Laser Color Injury               City       State  ...  \\\n0         SBA       Green     No      Santa Barbara  California  ...   \n1         SSF       Green     No        San Antonio       Texas  ...   \n2         TPA       Green     No              Tampa     Florida  ...   \n3         DFW       Green     No        Fort Worth        Texas  ...   \n4         MOD       Green     No            Modesto  California  ...   \n...       ...         ...    ...                ...         ...  ...   \n36458     LAS       Green     No          Las Vegas         NaN  ...   \n36459     LHM       Green     No            Lincoln         NaN  ...   \n36460     FOK       Green     No  Westhampton Beach         NaN  ...   \n36461     GUM       Green     No               Guam         NaN  ...   \n36462     APF       Green     No             Naples         NaN  ...   \n\n       Unnamed: 58  Unnamed: 59  Unnamed: 60  Unnamed: 61  Unnamed: 62  \\\n0              NaN          NaN          NaN          NaN          NaN   \n1              NaN          NaN          NaN          NaN          NaN   \n2              NaN          NaN          NaN          NaN          NaN   \n3              NaN          NaN          NaN          NaN          NaN   \n4              NaN          NaN          NaN          NaN          NaN   \n...            ...          ...          ...          ...          ...   \n36458          NaN          NaN          NaN          NaN          NaN   \n36459          NaN          NaN          NaN          NaN          NaN   \n36460          NaN          NaN          NaN          NaN          NaN   \n36461          NaN          NaN          NaN          NaN          NaN   \n36462          NaN          NaN          NaN          NaN          NaN   \n\n       Unnamed: 63  Unnamed: 64  Unnamed: 65  Aviation Altitude      State   \n0              NaN          NaN          NaN                NaN         NaN  \n1              NaN          NaN          NaN                NaN         NaN  \n2              NaN          NaN          NaN                NaN         NaN  \n3              NaN          NaN          NaN                NaN         NaN  \n4              NaN          NaN          NaN                NaN         NaN  \n...            ...          ...          ...                ...         ...  \n36458          NaN          NaN          NaN                NaN      Nevada  \n36459          NaN          NaN          NaN                NaN  California  \n36460          NaN          NaN          NaN                NaN    New York  \n36461          NaN          NaN          NaN                NaN        Guam  \n36462          NaN          NaN          NaN                NaN     Florida  \n\n[36463 rows x 68 columns]",
                        "text/html": "<div>\n<style scoped>\n    .dataframe tbody tr th:only-of-type {\n        vertical-align: middle;\n    }\n\n    .dataframe tbody tr th {\n        vertical-align: top;\n    }\n\n    .dataframe thead th {\n        text-align: right;\n    }\n</style>\n<table border=\"1\" class=\"dataframe\">\n  <thead>\n    <tr style=\"text-align: right;\">\n      <th></th>\n      <th>Incident Date</th>\n      <th>Incident Time</th>\n      <th>Flight ID</th>\n      <th>Aircraft</th>\n      <th>Altitude</th>\n      <th>Airport</th>\n      <th>Laser Color</th>\n      <th>Injury</th>\n      <th>City</th>\n      <th>State</th>\n      <th>...</th>\n      <th>Unnamed: 58</th>\n      <th>Unnamed: 59</th>\n      <th>Unnamed: 60</th>\n      <th>Unnamed: 61</th>\n      <th>Unnamed: 62</th>\n      <th>Unnamed: 63</th>\n      <th>Unnamed: 64</th>\n      <th>Unnamed: 65</th>\n      <th>Aviation Altitude</th>\n      <th>State</th>\n    </tr>\n  </thead>\n  <tbody>\n    <tr>\n      <th>0</th>\n      <td>2020-01-01</td>\n      <td>148</td>\n      <td>N424RP</td>\n      <td>DA42/A</td>\n      <td>8500</td>\n      <td>SBA</td>\n      <td>Green</td>\n      <td>No</td>\n      <td>Santa Barbara</td>\n      <td>California</td>\n      <td>...</td>\n      <td>NaN</td>\n      <td>NaN</td>\n      <td>NaN</td>\n      <td>NaN</td>\n      <td>NaN</td>\n      <td>NaN</td>\n      <td>NaN</td>\n      <td>NaN</td>\n      <td>NaN</td>\n      <td>NaN</td>\n    </tr>\n    <tr>\n      <th>1</th>\n      <td>2020-01-01</td>\n      <td>155</td>\n      <td>AMF1829</td>\n      <td>B190</td>\n      <td>40000</td>\n      <td>SSF</td>\n      <td>Green</td>\n      <td>No</td>\n      <td>San Antonio</td>\n      <td>Texas</td>\n      <td>...</td>\n      <td>NaN</td>\n      <td>NaN</td>\n      <td>NaN</td>\n      <td>NaN</td>\n      <td>NaN</td>\n      <td>NaN</td>\n      <td>NaN</td>\n      <td>NaN</td>\n      <td>NaN</td>\n      <td>NaN</td>\n    </tr>\n    <tr>\n      <th>2</th>\n      <td>2020-01-01</td>\n      <td>214</td>\n      <td>NKS1881</td>\n      <td>A320</td>\n      <td>2500</td>\n      <td>TPA</td>\n      <td>Green</td>\n      <td>No</td>\n      <td>Tampa</td>\n      <td>Florida</td>\n      <td>...</td>\n      <td>NaN</td>\n      <td>NaN</td>\n      <td>NaN</td>\n      <td>NaN</td>\n      <td>NaN</td>\n      <td>NaN</td>\n      <td>NaN</td>\n      <td>NaN</td>\n      <td>NaN</td>\n      <td>NaN</td>\n    </tr>\n    <tr>\n      <th>3</th>\n      <td>2020-01-01</td>\n      <td>217</td>\n      <td>FDX3873</td>\n      <td>B763</td>\n      <td>3000</td>\n      <td>DFW</td>\n      <td>Green</td>\n      <td>No</td>\n      <td>Fort Worth</td>\n      <td>Texas</td>\n      <td>...</td>\n      <td>NaN</td>\n      <td>NaN</td>\n      <td>NaN</td>\n      <td>NaN</td>\n      <td>NaN</td>\n      <td>NaN</td>\n      <td>NaN</td>\n      <td>NaN</td>\n      <td>NaN</td>\n      <td>NaN</td>\n    </tr>\n    <tr>\n      <th>4</th>\n      <td>2020-01-01</td>\n      <td>218</td>\n      <td>SWA3635</td>\n      <td>B739</td>\n      <td>11000</td>\n      <td>MOD</td>\n      <td>Green</td>\n      <td>No</td>\n      <td>Modesto</td>\n      <td>California</td>\n      <td>...</td>\n      <td>NaN</td>\n      <td>NaN</td>\n      <td>NaN</td>\n      <td>NaN</td>\n      <td>NaN</td>\n      <td>NaN</td>\n      <td>NaN</td>\n      <td>NaN</td>\n      <td>NaN</td>\n      <td>NaN</td>\n    </tr>\n    <tr>\n      <th>...</th>\n      <td>...</td>\n      <td>...</td>\n      <td>...</td>\n      <td>...</td>\n      <td>...</td>\n      <td>...</td>\n      <td>...</td>\n      <td>...</td>\n      <td>...</td>\n      <td>...</td>\n      <td>...</td>\n      <td>...</td>\n      <td>...</td>\n      <td>...</td>\n      <td>...</td>\n      <td>...</td>\n      <td>...</td>\n      <td>...</td>\n      <td>...</td>\n      <td>...</td>\n      <td>...</td>\n    </tr>\n    <tr>\n      <th>36458</th>\n      <td>2015-12-31</td>\n      <td>525</td>\n      <td>VRD917</td>\n      <td>A320 (AIRBUS - A-32</td>\n      <td>8000</td>\n      <td>LAS</td>\n      <td>Green</td>\n      <td>No</td>\n      <td>Las Vegas</td>\n      <td>NaN</td>\n      <td>...</td>\n      <td>NaN</td>\n      <td>NaN</td>\n      <td>NaN</td>\n      <td>NaN</td>\n      <td>NaN</td>\n      <td>NaN</td>\n      <td>NaN</td>\n      <td>NaN</td>\n      <td>NaN</td>\n      <td>Nevada</td>\n    </tr>\n    <tr>\n      <th>36459</th>\n      <td>2015-12-31</td>\n      <td>623</td>\n      <td>DAL2371</td>\n      <td>B738 (BOEING - 737-</td>\n      <td>11000</td>\n      <td>LHM</td>\n      <td>Green</td>\n      <td>No</td>\n      <td>Lincoln</td>\n      <td>NaN</td>\n      <td>...</td>\n      <td>NaN</td>\n      <td>NaN</td>\n      <td>NaN</td>\n      <td>NaN</td>\n      <td>NaN</td>\n      <td>NaN</td>\n      <td>NaN</td>\n      <td>NaN</td>\n      <td>NaN</td>\n      <td>California</td>\n    </tr>\n    <tr>\n      <th>36460</th>\n      <td>2015-12-31</td>\n      <td>1111</td>\n      <td>Unknown</td>\n      <td>Unknown</td>\n      <td>2000</td>\n      <td>FOK</td>\n      <td>Green</td>\n      <td>No</td>\n      <td>Westhampton Beach</td>\n      <td>NaN</td>\n      <td>...</td>\n      <td>NaN</td>\n      <td>NaN</td>\n      <td>NaN</td>\n      <td>NaN</td>\n      <td>NaN</td>\n      <td>NaN</td>\n      <td>NaN</td>\n      <td>NaN</td>\n      <td>NaN</td>\n      <td>New York</td>\n    </tr>\n    <tr>\n      <th>36461</th>\n      <td>2015-12-31</td>\n      <td>1147</td>\n      <td>UAL197</td>\n      <td>B737</td>\n      <td>300</td>\n      <td>GUM</td>\n      <td>Green</td>\n      <td>No</td>\n      <td>Guam</td>\n      <td>NaN</td>\n      <td>...</td>\n      <td>NaN</td>\n      <td>NaN</td>\n      <td>NaN</td>\n      <td>NaN</td>\n      <td>NaN</td>\n      <td>NaN</td>\n      <td>NaN</td>\n      <td>NaN</td>\n      <td>NaN</td>\n      <td>Guam</td>\n    </tr>\n    <tr>\n      <th>36462</th>\n      <td>2015-12-31</td>\n      <td>2314</td>\n      <td>EJA336</td>\n      <td>E55P/L</td>\n      <td>1000</td>\n      <td>APF</td>\n      <td>Green</td>\n      <td>No</td>\n      <td>Naples</td>\n      <td>NaN</td>\n      <td>...</td>\n      <td>NaN</td>\n      <td>NaN</td>\n      <td>NaN</td>\n      <td>NaN</td>\n      <td>NaN</td>\n      <td>NaN</td>\n      <td>NaN</td>\n      <td>NaN</td>\n      <td>NaN</td>\n      <td>Florida</td>\n    </tr>\n  </tbody>\n</table>\n<p>36463 rows × 68 columns</p>\n</div>"
                    },
                    "metadata": {}
                }
            ],
            "execution_count": 238
        },
        {
            "cell_type": "markdown",
            "source": "## Data cleaning\n\nTODO move to IO",
            "metadata": {
                "tags": [],
                "cell_id": "00007-00ff07c7-7476-43d6-8cbc-af9f72b73164",
                "deepnote_cell_type": "markdown"
            }
        },
        {
            "cell_type": "code",
            "source": "# use only meaningful columns, not Unnamed ...\nlaser_incidents = laser_incidents_raw[[column for column in laser_incidents.columns if \"Unnamed\" not in column]]\nlaser_incidents.columns",
            "metadata": {
                "tags": [],
                "cell_id": "00005-0f8082c3-817c-4f26-90c2-10b040c75043",
                "deepnote_to_be_reexecuted": false,
                "source_hash": "a55aa4d",
                "execution_millis": 1,
                "execution_start": 1611486552256,
                "deepnote_cell_type": "code"
            },
            "outputs": [
                {
                    "output_type": "execute_result",
                    "execution_count": 48,
                    "data": {
                        "text/plain": "Index(['Incident Date', 'Incident Time', 'Flight ID', 'Aircraft', 'Altitude',\n       'Airport', 'Laser Color', 'Injury', 'City', 'State',\n       'Aviation Altitude', 'State '],\n      dtype='object')"
                    },
                    "metadata": {}
                }
            ],
            "execution_count": 48
        },
        {
            "cell_type": "code",
            "source": "# there are \"State\" and \"State \" columns: merge them into a single one\nlaser_incidents = laser_incidents.assign(State=laser_incidents[\"State\"].where(laser_incidents[\"State\"].notna(), laser_incidents[\"State \"]))",
            "metadata": {
                "tags": [],
                "cell_id": "00006-428fa8a9-24f7-4f9b-8cd8-c90eea10e95f",
                "deepnote_to_be_reexecuted": false,
                "source_hash": "c4360c78",
                "execution_millis": 8,
                "execution_start": 1611486555523,
                "deepnote_cell_type": "code"
            },
            "outputs": [],
            "execution_count": 49
        },
        {
            "cell_type": "code",
            "source": "# strip white space from state names\nlaser_incidents = laser_incidents.assign(State=laser_incidents[\"State\"].str.strip())",
            "metadata": {
                "tags": [],
                "cell_id": "00007-d6d3335d-f9b0-4a51-ab2b-fccaaa82e95b",
                "deepnote_to_be_reexecuted": false,
                "source_hash": "ff651f0f",
                "execution_millis": 5,
                "execution_start": 1611486556439,
                "deepnote_cell_type": "code"
            },
            "outputs": [],
            "execution_count": 50
        },
        {
            "cell_type": "code",
            "source": "# drop columns we do not need any more (\"Aviation Altitude\" are all NA values)\nlaser_incidents = laser_incidents.drop(columns=[\"State \", \"Aviation Altitude\"])",
            "metadata": {
                "tags": [],
                "cell_id": "00007-026517c1-a7a9-4877-925c-35278027028d",
                "deepnote_to_be_reexecuted": false,
                "source_hash": "6b97d2fc",
                "execution_millis": 4,
                "execution_start": 1611486557210,
                "deepnote_cell_type": "code"
            },
            "outputs": [],
            "execution_count": 51
        },
        {
            "cell_type": "code",
            "source": "import collections\n\n# needed below for mapping string values to bool\n# yes and no are defined, anything else becomes NA\nvalue_to_bool = collections.defaultdict(lambda: pd.NA)\nvalue_to_bool[\"yes\"] = True\nvalue_to_bool[\"no\"] = False\n\n\n# try to convert to better dtypes\nlaser_incidents = laser_incidents.convert_dtypes()\n# convert some columns manually with some preprocessing\nlaser_incidents = laser_incidents.assign(\n    **{\n        \"Incident Time\": laser_incidents[\"Incident Time\"].astype(\"string\"),\n        \"Altitude\": pd.to_numeric(laser_incidents[\"Altitude\"], errors=\"coerce\"),\n        \"Injury\": laser_incidents[\"Injury\"]\n        .str.lower()\n        .str.strip()\n        .map(value_to_bool)\n        .astype(\"boolean\"),\n    }\n)\nlaser_incidents.dtypes\n",
            "metadata": {
                "tags": [],
                "cell_id": "00010-aeeb3e0e-d1e7-4984-9e1e-a8ec2676b429",
                "deepnote_to_be_reexecuted": false,
                "source_hash": "5acc3b27",
                "execution_millis": 16,
                "execution_start": 1611489106040,
                "deepnote_cell_type": "code"
            },
            "outputs": [
                {
                    "output_type": "execute_result",
                    "execution_count": 123,
                    "data": {
                        "text/plain": "Incident Date    datetime64[ns]\nIncident Time            string\nFlight ID                object\nAircraft                 object\nAltitude                  Int64\nAirport                  string\nLaser Color              string\nInjury                  boolean\nCity                     string\nState                    string\ntimestamp        datetime64[ns]\ndtype: object"
                    },
                    "metadata": {}
                }
            ],
            "execution_count": 123
        },
        {
            "cell_type": "code",
            "source": "# there are suspicious times\nlaser_incidents.loc[laser_incidents[\"Incident Time\"].astype(\"string\").str.len() > 4]",
            "metadata": {
                "tags": [],
                "cell_id": "00010-a1ac849b-3066-4ca6-85a6-3009e5f2c997",
                "deepnote_to_be_reexecuted": false,
                "source_hash": "f242756e",
                "execution_millis": 1,
                "execution_start": 1611489133861,
                "deepnote_cell_type": "code"
            },
            "outputs": [
                {
                    "output_type": "execute_result",
                    "execution_count": 124,
                    "data": {
                        "application/vnd.deepnote.dataframe.v2+json": {
                            "error": "Traceback (most recent call last):\n  File \"/shared-libs/code/variable_explorer.py\", line 123, in dataframe_formatter\n    return { MIME_TYPE: describe_pd_dataframe(df) }\n  File \"/shared-libs/code/variable_explorer_helpers.py\", line 135, in describe_pd_dataframe\n    columns[i]['stats']['histogram'] = get_histogram(column)\n  File \"/shared-libs/code/variable_explorer_helpers.py\", line 19, in get_histogram\n    np_array = np.array(pd_series.dt.total_seconds())\nAttributeError: 'DatetimeProperties' object has no attribute 'total_seconds'\n"
                        },
                        "text/plain": "Empty DataFrame\nColumns: [Incident Date, Incident Time, Flight ID, Aircraft, Altitude, Airport, Laser Color, Injury, City, State, timestamp]\nIndex: []",
                        "text/html": "<div>\n<style scoped>\n    .dataframe tbody tr th:only-of-type {\n        vertical-align: middle;\n    }\n\n    .dataframe tbody tr th {\n        vertical-align: top;\n    }\n\n    .dataframe thead th {\n        text-align: right;\n    }\n</style>\n<table border=\"1\" class=\"dataframe\">\n  <thead>\n    <tr style=\"text-align: right;\">\n      <th></th>\n      <th>Incident Date</th>\n      <th>Incident Time</th>\n      <th>Flight ID</th>\n      <th>Aircraft</th>\n      <th>Altitude</th>\n      <th>Airport</th>\n      <th>Laser Color</th>\n      <th>Injury</th>\n      <th>City</th>\n      <th>State</th>\n      <th>timestamp</th>\n    </tr>\n  </thead>\n  <tbody>\n  </tbody>\n</table>\n</div>"
                    },
                    "metadata": {}
                }
            ],
            "execution_count": 124
        },
        {
            "cell_type": "code",
            "source": "# make the suspicious times NA\nlaser_incidents.loc[laser_incidents[\"Incident Time\"].astype(\"string\").str.len() > 4, \"Incident Time\"] = pd.NA",
            "metadata": {
                "tags": [],
                "cell_id": "00012-21c3df13-f4c8-4a45-84a0-29b01e45b6c3",
                "deepnote_to_be_reexecuted": false,
                "source_hash": "6fe340d7",
                "execution_millis": 7,
                "execution_start": 1611489134875,
                "deepnote_cell_type": "code"
            },
            "outputs": [],
            "execution_count": 125
        },
        {
            "cell_type": "code",
            "source": "# using string manipulation and time deltas to construct full time stamps (date + time)\nlaser_incidents = laser_incidents.assign(\n    timestamp=laser_incidents[\"Incident Date\"]\n    + pd.to_timedelta(\n        laser_incidents[\"Incident Time\"].str[:-2]\n        + \"h\"\n        + laser_incidents[\"Incident Time\"].str[-2:]\n        + \"min\",\n        errors=\"coerce\",\n    )\n)",
            "metadata": {
                "tags": [],
                "cell_id": "00014-bbd506a5-c5da-4859-84b5-671139f06c37",
                "deepnote_to_be_reexecuted": false,
                "source_hash": "955363b4",
                "execution_millis": 220,
                "execution_start": 1611489149238,
                "deepnote_cell_type": "code"
            },
            "outputs": [],
            "execution_count": 126
        },
        {
            "cell_type": "code",
            "source": "laser_incidents",
            "metadata": {
                "tags": [],
                "cell_id": "00015-bb5c0921-69a3-4c1a-8029-b99eb28c8311",
                "deepnote_to_be_reexecuted": false,
                "source_hash": "79ec277d",
                "execution_millis": 44,
                "execution_start": 1611489156361,
                "deepnote_cell_type": "code"
            },
            "outputs": [
                {
                    "output_type": "execute_result",
                    "execution_count": 127,
                    "data": {
                        "application/vnd.deepnote.dataframe.v2+json": {
                            "error": "Traceback (most recent call last):\n  File \"/shared-libs/code/variable_explorer.py\", line 123, in dataframe_formatter\n    return { MIME_TYPE: describe_pd_dataframe(df) }\n  File \"/shared-libs/code/variable_explorer_helpers.py\", line 116, in describe_pd_dataframe\n    df_display_bottom = df_analyzed.iloc[skip_end:].fillna('nan')\n  File \"/shared-libs/python3.7/py/lib/python3.7/site-packages/pandas/core/frame.py\", line 4465, in fillna\n    downcast=downcast,\n  File \"/shared-libs/python3.7/py/lib/python3.7/site-packages/pandas/core/generic.py\", line 6425, in fillna\n    value=value, limit=limit, inplace=inplace, downcast=downcast\n  File \"/shared-libs/python3.7/py/lib/python3.7/site-packages/pandas/core/internals/managers.py\", line 622, in fillna\n    \"fillna\", value=value, limit=limit, inplace=inplace, downcast=downcast\n  File \"/shared-libs/python3.7/py/lib/python3.7/site-packages/pandas/core/internals/managers.py\", line 427, in apply\n    applied = getattr(b, f)(**kwargs)\n  File \"/shared-libs/python3.7/py/lib/python3.7/site-packages/pandas/core/internals/blocks.py\", line 1918, in fillna\n    values = values.fillna(value=value, limit=limit)\n  File \"/shared-libs/python3.7/py/lib/python3.7/site-packages/pandas/core/arrays/base.py\", line 675, in fillna\n    new_values[mask] = value\n  File \"/shared-libs/python3.7/py/lib/python3.7/site-packages/pandas/core/arrays/masked.py\", line 124, in __setitem__\n    value, mask = self._coerce_to_array(value)\n  File \"/shared-libs/python3.7/py/lib/python3.7/site-packages/pandas/core/arrays/integer.py\", line 420, in _coerce_to_array\n    return coerce_to_array(value, dtype=self.dtype)\n  File \"/shared-libs/python3.7/py/lib/python3.7/site-packages/pandas/core/arrays/integer.py\", line 233, in coerce_to_array\n    raise TypeError(f\"{values.dtype} cannot be converted to an IntegerDtype\")\nTypeError: <U3 cannot be converted to an IntegerDtype\n"
                        },
                        "text/plain": "      Incident Date Incident Time Flight ID             Aircraft  Altitude  \\\n0        2020-01-01           148    N424RP               DA42/A      8500   \n1        2020-01-01           155   AMF1829                 B190     40000   \n2        2020-01-01           214   NKS1881                 A320      2500   \n3        2020-01-01           217   FDX3873                 B763      3000   \n4        2020-01-01           218   SWA3635                 B739     11000   \n...             ...           ...       ...                  ...       ...   \n36458    2015-12-31           525    VRD917  A320 (AIRBUS - A-32      8000   \n36459    2015-12-31           623   DAL2371  B738 (BOEING - 737-     11000   \n36460    2015-12-31          1111   Unknown              Unknown      2000   \n36461    2015-12-31          1147    UAL197                 B737       300   \n36462    2015-12-31          2314    EJA336               E55P/L      1000   \n\n      Airport Laser Color  Injury               City       State  \\\n0         SBA       Green   False      Santa Barbara  California   \n1         SSF       Green   False        San Antonio       Texas   \n2         TPA       Green   False              Tampa     Florida   \n3         DFW       Green   False        Fort Worth        Texas   \n4         MOD       Green   False            Modesto  California   \n...       ...         ...     ...                ...         ...   \n36458     LAS       Green   False          Las Vegas      Nevada   \n36459     LHM       Green   False            Lincoln  California   \n36460     FOK       Green   False  Westhampton Beach    New York   \n36461     GUM       Green   False               Guam        Guam   \n36462     APF       Green   False             Naples     Florida   \n\n                timestamp  \n0     2020-01-01 01:48:00  \n1     2020-01-01 01:55:00  \n2     2020-01-01 02:14:00  \n3     2020-01-01 02:17:00  \n4     2020-01-01 02:18:00  \n...                   ...  \n36458 2015-12-31 05:25:00  \n36459 2015-12-31 06:23:00  \n36460 2015-12-31 11:11:00  \n36461 2015-12-31 11:47:00  \n36462 2015-12-31 23:14:00  \n\n[36463 rows x 11 columns]",
                        "text/html": "<div>\n<style scoped>\n    .dataframe tbody tr th:only-of-type {\n        vertical-align: middle;\n    }\n\n    .dataframe tbody tr th {\n        vertical-align: top;\n    }\n\n    .dataframe thead th {\n        text-align: right;\n    }\n</style>\n<table border=\"1\" class=\"dataframe\">\n  <thead>\n    <tr style=\"text-align: right;\">\n      <th></th>\n      <th>Incident Date</th>\n      <th>Incident Time</th>\n      <th>Flight ID</th>\n      <th>Aircraft</th>\n      <th>Altitude</th>\n      <th>Airport</th>\n      <th>Laser Color</th>\n      <th>Injury</th>\n      <th>City</th>\n      <th>State</th>\n      <th>timestamp</th>\n    </tr>\n  </thead>\n  <tbody>\n    <tr>\n      <th>0</th>\n      <td>2020-01-01</td>\n      <td>148</td>\n      <td>N424RP</td>\n      <td>DA42/A</td>\n      <td>8500</td>\n      <td>SBA</td>\n      <td>Green</td>\n      <td>False</td>\n      <td>Santa Barbara</td>\n      <td>California</td>\n      <td>2020-01-01 01:48:00</td>\n    </tr>\n    <tr>\n      <th>1</th>\n      <td>2020-01-01</td>\n      <td>155</td>\n      <td>AMF1829</td>\n      <td>B190</td>\n      <td>40000</td>\n      <td>SSF</td>\n      <td>Green</td>\n      <td>False</td>\n      <td>San Antonio</td>\n      <td>Texas</td>\n      <td>2020-01-01 01:55:00</td>\n    </tr>\n    <tr>\n      <th>2</th>\n      <td>2020-01-01</td>\n      <td>214</td>\n      <td>NKS1881</td>\n      <td>A320</td>\n      <td>2500</td>\n      <td>TPA</td>\n      <td>Green</td>\n      <td>False</td>\n      <td>Tampa</td>\n      <td>Florida</td>\n      <td>2020-01-01 02:14:00</td>\n    </tr>\n    <tr>\n      <th>3</th>\n      <td>2020-01-01</td>\n      <td>217</td>\n      <td>FDX3873</td>\n      <td>B763</td>\n      <td>3000</td>\n      <td>DFW</td>\n      <td>Green</td>\n      <td>False</td>\n      <td>Fort Worth</td>\n      <td>Texas</td>\n      <td>2020-01-01 02:17:00</td>\n    </tr>\n    <tr>\n      <th>4</th>\n      <td>2020-01-01</td>\n      <td>218</td>\n      <td>SWA3635</td>\n      <td>B739</td>\n      <td>11000</td>\n      <td>MOD</td>\n      <td>Green</td>\n      <td>False</td>\n      <td>Modesto</td>\n      <td>California</td>\n      <td>2020-01-01 02:18:00</td>\n    </tr>\n    <tr>\n      <th>...</th>\n      <td>...</td>\n      <td>...</td>\n      <td>...</td>\n      <td>...</td>\n      <td>...</td>\n      <td>...</td>\n      <td>...</td>\n      <td>...</td>\n      <td>...</td>\n      <td>...</td>\n      <td>...</td>\n    </tr>\n    <tr>\n      <th>36458</th>\n      <td>2015-12-31</td>\n      <td>525</td>\n      <td>VRD917</td>\n      <td>A320 (AIRBUS - A-32</td>\n      <td>8000</td>\n      <td>LAS</td>\n      <td>Green</td>\n      <td>False</td>\n      <td>Las Vegas</td>\n      <td>Nevada</td>\n      <td>2015-12-31 05:25:00</td>\n    </tr>\n    <tr>\n      <th>36459</th>\n      <td>2015-12-31</td>\n      <td>623</td>\n      <td>DAL2371</td>\n      <td>B738 (BOEING - 737-</td>\n      <td>11000</td>\n      <td>LHM</td>\n      <td>Green</td>\n      <td>False</td>\n      <td>Lincoln</td>\n      <td>California</td>\n      <td>2015-12-31 06:23:00</td>\n    </tr>\n    <tr>\n      <th>36460</th>\n      <td>2015-12-31</td>\n      <td>1111</td>\n      <td>Unknown</td>\n      <td>Unknown</td>\n      <td>2000</td>\n      <td>FOK</td>\n      <td>Green</td>\n      <td>False</td>\n      <td>Westhampton Beach</td>\n      <td>New York</td>\n      <td>2015-12-31 11:11:00</td>\n    </tr>\n    <tr>\n      <th>36461</th>\n      <td>2015-12-31</td>\n      <td>1147</td>\n      <td>UAL197</td>\n      <td>B737</td>\n      <td>300</td>\n      <td>GUM</td>\n      <td>Green</td>\n      <td>False</td>\n      <td>Guam</td>\n      <td>Guam</td>\n      <td>2015-12-31 11:47:00</td>\n    </tr>\n    <tr>\n      <th>36462</th>\n      <td>2015-12-31</td>\n      <td>2314</td>\n      <td>EJA336</td>\n      <td>E55P/L</td>\n      <td>1000</td>\n      <td>APF</td>\n      <td>Green</td>\n      <td>False</td>\n      <td>Naples</td>\n      <td>Florida</td>\n      <td>2015-12-31 23:14:00</td>\n    </tr>\n  </tbody>\n</table>\n<p>36463 rows × 11 columns</p>\n</div>"
                    },
                    "metadata": {}
                }
            ],
            "execution_count": 127
        },
        {
            "cell_type": "code",
            "source": "laser_incidents.dtypes",
            "metadata": {
                "tags": [],
                "cell_id": "00016-6136793f-b41b-48e9-91f2-55e9fb829f11",
                "deepnote_to_be_reexecuted": false,
                "source_hash": "c825f3d4",
                "execution_millis": 1,
                "execution_start": 1611489160868,
                "deepnote_cell_type": "code"
            },
            "outputs": [
                {
                    "output_type": "execute_result",
                    "execution_count": 128,
                    "data": {
                        "text/plain": "Incident Date    datetime64[ns]\nIncident Time            string\nFlight ID                object\nAircraft                 object\nAltitude                  Int64\nAirport                  string\nLaser Color              string\nInjury                  boolean\nCity                     string\nState                    string\ntimestamp        datetime64[ns]\ndtype: object"
                    },
                    "metadata": {}
                }
            ],
            "execution_count": 128
        },
        {
            "cell_type": "markdown",
            "source": "## Merging data\n\nIt is a common situation where we have two or more datasets with different columns that we need to bring together.\nThis operation is called *merging* and the Pandas apparatus is to a great detail described in [the documentation](https://pandas.pydata.org/docs/user_guide/merging.html).\n\nIn our case, we would like to attach the state populations to the dataset. \n",
            "metadata": {
                "cell_id": "00008-f55b716f-3eea-445d-b48a-6d583937bfcb",
                "deepnote_cell_type": "markdown"
            }
        },
        {
            "cell_type": "code",
            "source": "population = pd.read_csv(\"data/us_state_population.csv\")\npopulation",
            "metadata": {
                "tags": [],
                "cell_id": "00009-7b2386bd-ef37-457a-ad77-53a296babd6f",
                "deepnote_to_be_reexecuted": false,
                "source_hash": "98a1918d",
                "execution_millis": 41,
                "execution_start": 1611507071392,
                "deepnote_cell_type": "code"
            },
            "outputs": [
                {
                    "output_type": "execute_result",
                    "execution_count": 239,
                    "data": {
                        "application/vnd.deepnote.dataframe.v2+json": {
                            "row_count": 51,
                            "column_count": 2,
                            "columns": [
                                {
                                    "name": "Territory",
                                    "dtype": "object",
                                    "stats": {
                                        "unique_count": 51,
                                        "nan_count": 0,
                                        "categories": [
                                            {
                                                "name": "California",
                                                "count": 1
                                            },
                                            {
                                                "name": "Texas",
                                                "count": 1
                                            },
                                            {
                                                "name": "49 others",
                                                "count": 49
                                            }
                                        ]
                                    }
                                },
                                {
                                    "name": "Population",
                                    "dtype": "int64",
                                    "stats": {
                                        "unique_count": 51,
                                        "nan_count": 0,
                                        "min": 582328,
                                        "max": 39368078,
                                        "histogram": [
                                            {
                                                "bin_start": 582328,
                                                "bin_end": 4460903,
                                                "count": 25
                                            },
                                            {
                                                "bin_start": 4460903,
                                                "bin_end": 8339478,
                                                "count": 14
                                            },
                                            {
                                                "bin_start": 8339478,
                                                "bin_end": 12218053,
                                                "count": 6
                                            },
                                            {
                                                "bin_start": 12218053,
                                                "bin_end": 16096628,
                                                "count": 2
                                            },
                                            {
                                                "bin_start": 16096628,
                                                "bin_end": 19975203,
                                                "count": 1
                                            },
                                            {
                                                "bin_start": 19975203,
                                                "bin_end": 23853778,
                                                "count": 1
                                            },
                                            {
                                                "bin_start": 23853778,
                                                "bin_end": 27732353,
                                                "count": 0
                                            },
                                            {
                                                "bin_start": 27732353,
                                                "bin_end": 31610928,
                                                "count": 1
                                            },
                                            {
                                                "bin_start": 31610928,
                                                "bin_end": 35489503,
                                                "count": 0
                                            },
                                            {
                                                "bin_start": 35489503,
                                                "bin_end": 39368078,
                                                "count": 1
                                            }
                                        ]
                                    }
                                },
                                {
                                    "name": "_deepnote_index_column",
                                    "dtype": "int64"
                                }
                            ],
                            "rows_top": [
                                {
                                    "Territory": "California",
                                    "Population": 39368078,
                                    "_deepnote_index_column": 0
                                },
                                {
                                    "Territory": "Texas",
                                    "Population": 29360759,
                                    "_deepnote_index_column": 1
                                },
                                {
                                    "Territory": "Florida",
                                    "Population": 21733312,
                                    "_deepnote_index_column": 2
                                },
                                {
                                    "Territory": "New York",
                                    "Population": 19336776,
                                    "_deepnote_index_column": 3
                                },
                                {
                                    "Territory": "Pennsylvania",
                                    "Population": 12783254,
                                    "_deepnote_index_column": 4
                                },
                                {
                                    "Territory": "Illinois",
                                    "Population": 12587530,
                                    "_deepnote_index_column": 5
                                },
                                {
                                    "Territory": "Ohio",
                                    "Population": 11693217,
                                    "_deepnote_index_column": 6
                                },
                                {
                                    "Territory": "Georgia",
                                    "Population": 10710017,
                                    "_deepnote_index_column": 7
                                },
                                {
                                    "Territory": "North Carolina",
                                    "Population": 10600823,
                                    "_deepnote_index_column": 8
                                },
                                {
                                    "Territory": "Michigan",
                                    "Population": 9966555,
                                    "_deepnote_index_column": 9
                                },
                                {
                                    "Territory": "New Jersey",
                                    "Population": 8882371,
                                    "_deepnote_index_column": 10
                                },
                                {
                                    "Territory": "Virginia",
                                    "Population": 8590563,
                                    "_deepnote_index_column": 11
                                },
                                {
                                    "Territory": "Washington",
                                    "Population": 7693612,
                                    "_deepnote_index_column": 12
                                },
                                {
                                    "Territory": "Arizona",
                                    "Population": 7421401,
                                    "_deepnote_index_column": 13
                                },
                                {
                                    "Territory": "Massachusetts",
                                    "Population": 6893574,
                                    "_deepnote_index_column": 14
                                },
                                {
                                    "Territory": "Tennessee",
                                    "Population": 6886834,
                                    "_deepnote_index_column": 15
                                },
                                {
                                    "Territory": "Indiana",
                                    "Population": 6754953,
                                    "_deepnote_index_column": 16
                                },
                                {
                                    "Territory": "Missouri",
                                    "Population": 6151548,
                                    "_deepnote_index_column": 17
                                },
                                {
                                    "Territory": "Maryland",
                                    "Population": 6055802,
                                    "_deepnote_index_column": 18
                                },
                                {
                                    "Territory": "Wisconsin",
                                    "Population": 5832655,
                                    "_deepnote_index_column": 19
                                },
                                {
                                    "Territory": "Colorado",
                                    "Population": 5807719,
                                    "_deepnote_index_column": 20
                                },
                                {
                                    "Territory": "Minnesota",
                                    "Population": 5657342,
                                    "_deepnote_index_column": 21
                                },
                                {
                                    "Territory": "South Carolina",
                                    "Population": 5218040,
                                    "_deepnote_index_column": 22
                                },
                                {
                                    "Territory": "Alabama",
                                    "Population": 4921532,
                                    "_deepnote_index_column": 23
                                },
                                {
                                    "Territory": "Louisiana",
                                    "Population": 4645318,
                                    "_deepnote_index_column": 24
                                },
                                {
                                    "Territory": "Kentucky",
                                    "Population": 4477251,
                                    "_deepnote_index_column": 25
                                },
                                {
                                    "Territory": "Oregon",
                                    "Population": 4241507,
                                    "_deepnote_index_column": 26
                                },
                                {
                                    "Territory": "Oklahoma",
                                    "Population": 3980783,
                                    "_deepnote_index_column": 27
                                },
                                {
                                    "Territory": "Connecticut",
                                    "Population": 3557006,
                                    "_deepnote_index_column": 28
                                },
                                {
                                    "Territory": "Utah",
                                    "Population": 3249879,
                                    "_deepnote_index_column": 29
                                },
                                {
                                    "Territory": "Iowa",
                                    "Population": 3163561,
                                    "_deepnote_index_column": 30
                                },
                                {
                                    "Territory": "Nevada",
                                    "Population": 3138259,
                                    "_deepnote_index_column": 31
                                },
                                {
                                    "Territory": "Arkansas",
                                    "Population": 3030522,
                                    "_deepnote_index_column": 32
                                },
                                {
                                    "Territory": "Mississippi",
                                    "Population": 2966786,
                                    "_deepnote_index_column": 33
                                },
                                {
                                    "Territory": "Kansas",
                                    "Population": 2913805,
                                    "_deepnote_index_column": 34
                                },
                                {
                                    "Territory": "New Mexico",
                                    "Population": 2106319,
                                    "_deepnote_index_column": 35
                                },
                                {
                                    "Territory": "Nebraska",
                                    "Population": 1937552,
                                    "_deepnote_index_column": 36
                                },
                                {
                                    "Territory": "Idaho",
                                    "Population": 1826913,
                                    "_deepnote_index_column": 37
                                },
                                {
                                    "Territory": "West Virginia",
                                    "Population": 1784787,
                                    "_deepnote_index_column": 38
                                },
                                {
                                    "Territory": "Hawaii",
                                    "Population": 1407006,
                                    "_deepnote_index_column": 39
                                },
                                {
                                    "Territory": "New Hampshire",
                                    "Population": 1366275,
                                    "_deepnote_index_column": 40
                                },
                                {
                                    "Territory": "Maine",
                                    "Population": 1350141,
                                    "_deepnote_index_column": 41
                                },
                                {
                                    "Territory": "Montana",
                                    "Population": 1080577,
                                    "_deepnote_index_column": 42
                                },
                                {
                                    "Territory": "Rhode Island",
                                    "Population": 1057125,
                                    "_deepnote_index_column": 43
                                },
                                {
                                    "Territory": "Delaware",
                                    "Population": 986809,
                                    "_deepnote_index_column": 44
                                },
                                {
                                    "Territory": "South Dakota",
                                    "Population": 892717,
                                    "_deepnote_index_column": 45
                                },
                                {
                                    "Territory": "North Dakota",
                                    "Population": 765309,
                                    "_deepnote_index_column": 46
                                },
                                {
                                    "Territory": "Alaska",
                                    "Population": 731158,
                                    "_deepnote_index_column": 47
                                },
                                {
                                    "Territory": "District of Columbia",
                                    "Population": 712816,
                                    "_deepnote_index_column": 48
                                },
                                {
                                    "Territory": "Vermont",
                                    "Population": 623347,
                                    "_deepnote_index_column": 49
                                },
                                {
                                    "Territory": "Wyoming",
                                    "Population": 582328,
                                    "_deepnote_index_column": 50
                                }
                            ],
                            "rows_bottom": null
                        },
                        "text/plain": "               Territory  Population\n0             California    39368078\n1                  Texas    29360759\n2                Florida    21733312\n3               New York    19336776\n4           Pennsylvania    12783254\n5               Illinois    12587530\n6                   Ohio    11693217\n7                Georgia    10710017\n8         North Carolina    10600823\n9               Michigan     9966555\n10            New Jersey     8882371\n11              Virginia     8590563\n12            Washington     7693612\n13               Arizona     7421401\n14         Massachusetts     6893574\n15             Tennessee     6886834\n16               Indiana     6754953\n17              Missouri     6151548\n18              Maryland     6055802\n19             Wisconsin     5832655\n20              Colorado     5807719\n21             Minnesota     5657342\n22        South Carolina     5218040\n23               Alabama     4921532\n24             Louisiana     4645318\n25              Kentucky     4477251\n26                Oregon     4241507\n27              Oklahoma     3980783\n28           Connecticut     3557006\n29                  Utah     3249879\n30                  Iowa     3163561\n31                Nevada     3138259\n32              Arkansas     3030522\n33           Mississippi     2966786\n34                Kansas     2913805\n35            New Mexico     2106319\n36              Nebraska     1937552\n37                 Idaho     1826913\n38         West Virginia     1784787\n39                Hawaii     1407006\n40         New Hampshire     1366275\n41                 Maine     1350141\n42               Montana     1080577\n43          Rhode Island     1057125\n44              Delaware      986809\n45          South Dakota      892717\n46          North Dakota      765309\n47                Alaska      731158\n48  District of Columbia      712816\n49               Vermont      623347\n50               Wyoming      582328",
                        "text/html": "<div>\n<style scoped>\n    .dataframe tbody tr th:only-of-type {\n        vertical-align: middle;\n    }\n\n    .dataframe tbody tr th {\n        vertical-align: top;\n    }\n\n    .dataframe thead th {\n        text-align: right;\n    }\n</style>\n<table border=\"1\" class=\"dataframe\">\n  <thead>\n    <tr style=\"text-align: right;\">\n      <th></th>\n      <th>Territory</th>\n      <th>Population</th>\n    </tr>\n  </thead>\n  <tbody>\n    <tr>\n      <th>0</th>\n      <td>California</td>\n      <td>39368078</td>\n    </tr>\n    <tr>\n      <th>1</th>\n      <td>Texas</td>\n      <td>29360759</td>\n    </tr>\n    <tr>\n      <th>2</th>\n      <td>Florida</td>\n      <td>21733312</td>\n    </tr>\n    <tr>\n      <th>3</th>\n      <td>New York</td>\n      <td>19336776</td>\n    </tr>\n    <tr>\n      <th>4</th>\n      <td>Pennsylvania</td>\n      <td>12783254</td>\n    </tr>\n    <tr>\n      <th>5</th>\n      <td>Illinois</td>\n      <td>12587530</td>\n    </tr>\n    <tr>\n      <th>6</th>\n      <td>Ohio</td>\n      <td>11693217</td>\n    </tr>\n    <tr>\n      <th>7</th>\n      <td>Georgia</td>\n      <td>10710017</td>\n    </tr>\n    <tr>\n      <th>8</th>\n      <td>North Carolina</td>\n      <td>10600823</td>\n    </tr>\n    <tr>\n      <th>9</th>\n      <td>Michigan</td>\n      <td>9966555</td>\n    </tr>\n    <tr>\n      <th>10</th>\n      <td>New Jersey</td>\n      <td>8882371</td>\n    </tr>\n    <tr>\n      <th>11</th>\n      <td>Virginia</td>\n      <td>8590563</td>\n    </tr>\n    <tr>\n      <th>12</th>\n      <td>Washington</td>\n      <td>7693612</td>\n    </tr>\n    <tr>\n      <th>13</th>\n      <td>Arizona</td>\n      <td>7421401</td>\n    </tr>\n    <tr>\n      <th>14</th>\n      <td>Massachusetts</td>\n      <td>6893574</td>\n    </tr>\n    <tr>\n      <th>15</th>\n      <td>Tennessee</td>\n      <td>6886834</td>\n    </tr>\n    <tr>\n      <th>16</th>\n      <td>Indiana</td>\n      <td>6754953</td>\n    </tr>\n    <tr>\n      <th>17</th>\n      <td>Missouri</td>\n      <td>6151548</td>\n    </tr>\n    <tr>\n      <th>18</th>\n      <td>Maryland</td>\n      <td>6055802</td>\n    </tr>\n    <tr>\n      <th>19</th>\n      <td>Wisconsin</td>\n      <td>5832655</td>\n    </tr>\n    <tr>\n      <th>20</th>\n      <td>Colorado</td>\n      <td>5807719</td>\n    </tr>\n    <tr>\n      <th>21</th>\n      <td>Minnesota</td>\n      <td>5657342</td>\n    </tr>\n    <tr>\n      <th>22</th>\n      <td>South Carolina</td>\n      <td>5218040</td>\n    </tr>\n    <tr>\n      <th>23</th>\n      <td>Alabama</td>\n      <td>4921532</td>\n    </tr>\n    <tr>\n      <th>24</th>\n      <td>Louisiana</td>\n      <td>4645318</td>\n    </tr>\n    <tr>\n      <th>25</th>\n      <td>Kentucky</td>\n      <td>4477251</td>\n    </tr>\n    <tr>\n      <th>26</th>\n      <td>Oregon</td>\n      <td>4241507</td>\n    </tr>\n    <tr>\n      <th>27</th>\n      <td>Oklahoma</td>\n      <td>3980783</td>\n    </tr>\n    <tr>\n      <th>28</th>\n      <td>Connecticut</td>\n      <td>3557006</td>\n    </tr>\n    <tr>\n      <th>29</th>\n      <td>Utah</td>\n      <td>3249879</td>\n    </tr>\n    <tr>\n      <th>30</th>\n      <td>Iowa</td>\n      <td>3163561</td>\n    </tr>\n    <tr>\n      <th>31</th>\n      <td>Nevada</td>\n      <td>3138259</td>\n    </tr>\n    <tr>\n      <th>32</th>\n      <td>Arkansas</td>\n      <td>3030522</td>\n    </tr>\n    <tr>\n      <th>33</th>\n      <td>Mississippi</td>\n      <td>2966786</td>\n    </tr>\n    <tr>\n      <th>34</th>\n      <td>Kansas</td>\n      <td>2913805</td>\n    </tr>\n    <tr>\n      <th>35</th>\n      <td>New Mexico</td>\n      <td>2106319</td>\n    </tr>\n    <tr>\n      <th>36</th>\n      <td>Nebraska</td>\n      <td>1937552</td>\n    </tr>\n    <tr>\n      <th>37</th>\n      <td>Idaho</td>\n      <td>1826913</td>\n    </tr>\n    <tr>\n      <th>38</th>\n      <td>West Virginia</td>\n      <td>1784787</td>\n    </tr>\n    <tr>\n      <th>39</th>\n      <td>Hawaii</td>\n      <td>1407006</td>\n    </tr>\n    <tr>\n      <th>40</th>\n      <td>New Hampshire</td>\n      <td>1366275</td>\n    </tr>\n    <tr>\n      <th>41</th>\n      <td>Maine</td>\n      <td>1350141</td>\n    </tr>\n    <tr>\n      <th>42</th>\n      <td>Montana</td>\n      <td>1080577</td>\n    </tr>\n    <tr>\n      <th>43</th>\n      <td>Rhode Island</td>\n      <td>1057125</td>\n    </tr>\n    <tr>\n      <th>44</th>\n      <td>Delaware</td>\n      <td>986809</td>\n    </tr>\n    <tr>\n      <th>45</th>\n      <td>South Dakota</td>\n      <td>892717</td>\n    </tr>\n    <tr>\n      <th>46</th>\n      <td>North Dakota</td>\n      <td>765309</td>\n    </tr>\n    <tr>\n      <th>47</th>\n      <td>Alaska</td>\n      <td>731158</td>\n    </tr>\n    <tr>\n      <th>48</th>\n      <td>District of Columbia</td>\n      <td>712816</td>\n    </tr>\n    <tr>\n      <th>49</th>\n      <td>Vermont</td>\n      <td>623347</td>\n    </tr>\n    <tr>\n      <th>50</th>\n      <td>Wyoming</td>\n      <td>582328</td>\n    </tr>\n  </tbody>\n</table>\n</div>"
                    },
                    "metadata": {}
                }
            ],
            "execution_count": 239
        },
        {
            "cell_type": "markdown",
            "source": "We will of course use the state name as the merge *key*. Before actually doing the merge, we can explore a bit whether all state names\nfrom the laser incidents dataset are present in our population table.",
            "metadata": {
                "tags": [],
                "cell_id": "00020-f7c6b66a-7748-4ded-bcda-05c589433e78",
                "deepnote_cell_type": "markdown"
            }
        },
        {
            "cell_type": "code",
            "source": "unknown_states = laser_incidents.loc[~laser_incidents[\"State\"].isin(population[\"Territory\"]), \"State\"]\nprint(f\"There are {unknown_states.count()} rows with unknown states.\")\nprint(f\"Unknown state values are: \\n{list(unknown_states.unique())}.\")",
            "metadata": {
                "tags": [],
                "cell_id": "00010-21ae8604-3ff5-4059-87f7-d48afc13788c",
                "deepnote_to_be_reexecuted": false,
                "source_hash": "5907dbcd",
                "execution_millis": 1,
                "execution_start": 1611507614416,
                "deepnote_cell_type": "code"
            },
            "outputs": [
                {
                    "name": "stdout",
                    "text": "There are 1026 rows with unknown states.\nUnknown state values are: \n['Puerto Rico', <NA>, 'Virgin Islands', 'Miami', 'Guam', 'North Hampshire', 'Marina Islands', 'Teas', 'Mexico', 'DC', 'VA', 'Northern Marina Islands', 'Mariana Islands', 'Oho', 'Northern Marianas Is', 'UNKN', 'U.S. Virgin Islands', 'Massachussets', 'FLorida', 'D.C.', 'MIchigan', 'Northern Mariana Is', 'Micronesia'].\n",
                    "output_type": "stream"
                }
            ],
            "execution_count": 248
        },
        {
            "cell_type": "markdown",
            "source": "We could certainly clean the data by correcting some of the typos. Since the number of the rows with unknown states is not large\n(compared to the length of the whole dataset), we will deliberetly not fix the state names.\nInstead, we will remove those rows from the merged dataset by using the *inner* type of merge.\nAll the merge types: *left*, *inner*, *outer* and *right* are well explained by the schema below.\n![merge types](image-20210124-115636.png)",
            "metadata": {
                "cell_id": "00009-6ff0c12d-a2fa-4828-8fab-d1bdab51dcd3",
                "deepnote_cell_type": "markdown"
            }
        },
        {
            "cell_type": "markdown",
            "source": "We can use the [`merge`](https://pandas.pydata.org/docs/reference/api/pandas.merge.html) function to add the `\"Population\"` values.",
            "metadata": {
                "tags": [],
                "cell_id": "00023-583d81be-28af-441b-9dc2-6bb4b3b1b3ae",
                "deepnote_cell_type": "markdown"
            }
        },
        {
            "cell_type": "code",
            "metadata": {
                "scrolled": true,
                "cell_id": "00010-601ba9a8-17b7-4b5c-b11e-eb6a48d4bb8a",
                "deepnote_to_be_reexecuted": false,
                "source_hash": "a9c59a48",
                "execution_millis": 37,
                "execution_start": 1611508911052,
                "deepnote_cell_type": "code"
            },
            "source": "laser_incidents_w_population = pd.merge(\n    laser_incidents, population, left_on=\"State\", right_on=\"Territory\", how=\"inner\"\n)",
            "execution_count": 249,
            "outputs": []
        },
        {
            "cell_type": "code",
            "metadata": {
                "cell_id": "00012-bdf7d899-be58-4b1f-8b58-3efa81e46001",
                "deepnote_to_be_reexecuted": false,
                "source_hash": "13cf3d59",
                "execution_millis": 109,
                "execution_start": 1611508912450,
                "deepnote_cell_type": "code"
            },
            "source": "laser_incidents_w_population",
            "execution_count": 250,
            "outputs": [
                {
                    "output_type": "execute_result",
                    "execution_count": 250,
                    "data": {
                        "application/vnd.deepnote.dataframe.v2+json": {
                            "error": "Traceback (most recent call last):\n  File \"/shared-libs/code/variable_explorer.py\", line 123, in dataframe_formatter\n    return { MIME_TYPE: describe_pd_dataframe(df) }\n  File \"/shared-libs/code/variable_explorer_helpers.py\", line 116, in describe_pd_dataframe\n    df_display_bottom = df_analyzed.iloc[skip_end:].fillna('nan')\n  File \"/shared-libs/python3.7/py/lib/python3.7/site-packages/pandas/core/frame.py\", line 4465, in fillna\n    downcast=downcast,\n  File \"/shared-libs/python3.7/py/lib/python3.7/site-packages/pandas/core/generic.py\", line 6425, in fillna\n    value=value, limit=limit, inplace=inplace, downcast=downcast\n  File \"/shared-libs/python3.7/py/lib/python3.7/site-packages/pandas/core/internals/managers.py\", line 622, in fillna\n    \"fillna\", value=value, limit=limit, inplace=inplace, downcast=downcast\n  File \"/shared-libs/python3.7/py/lib/python3.7/site-packages/pandas/core/internals/managers.py\", line 427, in apply\n    applied = getattr(b, f)(**kwargs)\n  File \"/shared-libs/python3.7/py/lib/python3.7/site-packages/pandas/core/internals/blocks.py\", line 1918, in fillna\n    values = values.fillna(value=value, limit=limit)\n  File \"/shared-libs/python3.7/py/lib/python3.7/site-packages/pandas/core/arrays/base.py\", line 675, in fillna\n    new_values[mask] = value\n  File \"/shared-libs/python3.7/py/lib/python3.7/site-packages/pandas/core/arrays/masked.py\", line 124, in __setitem__\n    value, mask = self._coerce_to_array(value)\n  File \"/shared-libs/python3.7/py/lib/python3.7/site-packages/pandas/core/arrays/integer.py\", line 420, in _coerce_to_array\n    return coerce_to_array(value, dtype=self.dtype)\n  File \"/shared-libs/python3.7/py/lib/python3.7/site-packages/pandas/core/arrays/integer.py\", line 233, in coerce_to_array\n    raise TypeError(f\"{values.dtype} cannot be converted to an IntegerDtype\")\nTypeError: <U3 cannot be converted to an IntegerDtype\n"
                        },
                        "text/plain": "      Incident Date Incident Time Flight ID            Aircraft  Altitude  \\\n0        2020-01-01           148    N424RP              DA42/A      8500   \n1        2020-01-01           218   SWA3635                B739     11000   \n2        2020-01-01           310   SWA6092                B737     11000   \n3        2020-01-01           325    DAL930                A319      5000   \n4        2020-01-01           435   DAL1211                A320      7500   \n...             ...           ...       ...                 ...       ...   \n35426    2016-11-30          2048     FRG89                E120      5000   \n35427    2015-05-16           213    N226CV                C560      9000   \n35428    2015-06-07           410   ASQ558T               E45/X      7000   \n35429    2015-08-17           106   GJS3621                CRJ7      5000   \n35430    2015-08-29           230    N359AR  DHC6 (DE HAVILLAND      7500   \n\n      Airport Laser Color  Injury           City       State  \\\n0         SBA       Green   False  Santa Barbara  California   \n1         MOD       Green   False        Modesto  California   \n2         SNS       Green   False        Salinas  California   \n3         MYF       Green   False      San Diego  California   \n4         LAX       Green   False    Los Angeles  California   \n...       ...         ...     ...            ...         ...   \n35426     BTV       Green   False    Burlington      Vermont   \n35427     BTV       Green   False     Burlington     Vermont   \n35428     BTV       Green   False     Burlington     Vermont   \n35429     BTV       Green   False     Burlington     Vermont   \n35430     BTV       Green   False     Burlington     Vermont   \n\n                timestamp   Territory  Population  \n0     2020-01-01 01:48:00  California    39368078  \n1     2020-01-01 02:18:00  California    39368078  \n2     2020-01-01 03:10:00  California    39368078  \n3     2020-01-01 03:25:00  California    39368078  \n4     2020-01-01 04:35:00  California    39368078  \n...                   ...         ...         ...  \n35426 2016-11-30 20:48:00     Vermont      623347  \n35427 2015-05-16 02:13:00     Vermont      623347  \n35428 2015-06-07 04:10:00     Vermont      623347  \n35429 2015-08-17 01:06:00     Vermont      623347  \n35430 2015-08-29 02:30:00     Vermont      623347  \n\n[35431 rows x 13 columns]",
                        "text/html": "<div>\n<style scoped>\n    .dataframe tbody tr th:only-of-type {\n        vertical-align: middle;\n    }\n\n    .dataframe tbody tr th {\n        vertical-align: top;\n    }\n\n    .dataframe thead th {\n        text-align: right;\n    }\n</style>\n<table border=\"1\" class=\"dataframe\">\n  <thead>\n    <tr style=\"text-align: right;\">\n      <th></th>\n      <th>Incident Date</th>\n      <th>Incident Time</th>\n      <th>Flight ID</th>\n      <th>Aircraft</th>\n      <th>Altitude</th>\n      <th>Airport</th>\n      <th>Laser Color</th>\n      <th>Injury</th>\n      <th>City</th>\n      <th>State</th>\n      <th>timestamp</th>\n      <th>Territory</th>\n      <th>Population</th>\n    </tr>\n  </thead>\n  <tbody>\n    <tr>\n      <th>0</th>\n      <td>2020-01-01</td>\n      <td>148</td>\n      <td>N424RP</td>\n      <td>DA42/A</td>\n      <td>8500</td>\n      <td>SBA</td>\n      <td>Green</td>\n      <td>False</td>\n      <td>Santa Barbara</td>\n      <td>California</td>\n      <td>2020-01-01 01:48:00</td>\n      <td>California</td>\n      <td>39368078</td>\n    </tr>\n    <tr>\n      <th>1</th>\n      <td>2020-01-01</td>\n      <td>218</td>\n      <td>SWA3635</td>\n      <td>B739</td>\n      <td>11000</td>\n      <td>MOD</td>\n      <td>Green</td>\n      <td>False</td>\n      <td>Modesto</td>\n      <td>California</td>\n      <td>2020-01-01 02:18:00</td>\n      <td>California</td>\n      <td>39368078</td>\n    </tr>\n    <tr>\n      <th>2</th>\n      <td>2020-01-01</td>\n      <td>310</td>\n      <td>SWA6092</td>\n      <td>B737</td>\n      <td>11000</td>\n      <td>SNS</td>\n      <td>Green</td>\n      <td>False</td>\n      <td>Salinas</td>\n      <td>California</td>\n      <td>2020-01-01 03:10:00</td>\n      <td>California</td>\n      <td>39368078</td>\n    </tr>\n    <tr>\n      <th>3</th>\n      <td>2020-01-01</td>\n      <td>325</td>\n      <td>DAL930</td>\n      <td>A319</td>\n      <td>5000</td>\n      <td>MYF</td>\n      <td>Green</td>\n      <td>False</td>\n      <td>San Diego</td>\n      <td>California</td>\n      <td>2020-01-01 03:25:00</td>\n      <td>California</td>\n      <td>39368078</td>\n    </tr>\n    <tr>\n      <th>4</th>\n      <td>2020-01-01</td>\n      <td>435</td>\n      <td>DAL1211</td>\n      <td>A320</td>\n      <td>7500</td>\n      <td>LAX</td>\n      <td>Green</td>\n      <td>False</td>\n      <td>Los Angeles</td>\n      <td>California</td>\n      <td>2020-01-01 04:35:00</td>\n      <td>California</td>\n      <td>39368078</td>\n    </tr>\n    <tr>\n      <th>...</th>\n      <td>...</td>\n      <td>...</td>\n      <td>...</td>\n      <td>...</td>\n      <td>...</td>\n      <td>...</td>\n      <td>...</td>\n      <td>...</td>\n      <td>...</td>\n      <td>...</td>\n      <td>...</td>\n      <td>...</td>\n      <td>...</td>\n    </tr>\n    <tr>\n      <th>35426</th>\n      <td>2016-11-30</td>\n      <td>2048</td>\n      <td>FRG89</td>\n      <td>E120</td>\n      <td>5000</td>\n      <td>BTV</td>\n      <td>Green</td>\n      <td>False</td>\n      <td>Burlington</td>\n      <td>Vermont</td>\n      <td>2016-11-30 20:48:00</td>\n      <td>Vermont</td>\n      <td>623347</td>\n    </tr>\n    <tr>\n      <th>35427</th>\n      <td>2015-05-16</td>\n      <td>213</td>\n      <td>N226CV</td>\n      <td>C560</td>\n      <td>9000</td>\n      <td>BTV</td>\n      <td>Green</td>\n      <td>False</td>\n      <td>Burlington</td>\n      <td>Vermont</td>\n      <td>2015-05-16 02:13:00</td>\n      <td>Vermont</td>\n      <td>623347</td>\n    </tr>\n    <tr>\n      <th>35428</th>\n      <td>2015-06-07</td>\n      <td>410</td>\n      <td>ASQ558T</td>\n      <td>E45/X</td>\n      <td>7000</td>\n      <td>BTV</td>\n      <td>Green</td>\n      <td>False</td>\n      <td>Burlington</td>\n      <td>Vermont</td>\n      <td>2015-06-07 04:10:00</td>\n      <td>Vermont</td>\n      <td>623347</td>\n    </tr>\n    <tr>\n      <th>35429</th>\n      <td>2015-08-17</td>\n      <td>106</td>\n      <td>GJS3621</td>\n      <td>CRJ7</td>\n      <td>5000</td>\n      <td>BTV</td>\n      <td>Green</td>\n      <td>False</td>\n      <td>Burlington</td>\n      <td>Vermont</td>\n      <td>2015-08-17 01:06:00</td>\n      <td>Vermont</td>\n      <td>623347</td>\n    </tr>\n    <tr>\n      <th>35430</th>\n      <td>2015-08-29</td>\n      <td>230</td>\n      <td>N359AR</td>\n      <td>DHC6 (DE HAVILLAND</td>\n      <td>7500</td>\n      <td>BTV</td>\n      <td>Green</td>\n      <td>False</td>\n      <td>Burlington</td>\n      <td>Vermont</td>\n      <td>2015-08-29 02:30:00</td>\n      <td>Vermont</td>\n      <td>623347</td>\n    </tr>\n  </tbody>\n</table>\n<p>35431 rows × 13 columns</p>\n</div>"
                    },
                    "metadata": {}
                }
            ]
        },
        {
            "cell_type": "code",
            "metadata": {
                "cell_id": "00044-3d894e9c-c70a-4066-bf80-1d4c2eb3bc7a",
                "deepnote_to_be_reexecuted": false,
                "source_hash": "e8ac57e1",
                "execution_millis": 261,
                "execution_start": 1611508936540,
                "deepnote_cell_type": "code"
            },
            "source": "laser_incidents_w_population.describe(include=\"all\", datetime_is_numeric=True)",
            "execution_count": 251,
            "outputs": [
                {
                    "output_type": "execute_result",
                    "execution_count": 251,
                    "data": {
                        "application/vnd.deepnote.dataframe.v2+json": {
                            "row_count": 11,
                            "column_count": 13,
                            "columns": [
                                {
                                    "name": "Incident Date",
                                    "dtype": "object",
                                    "stats": {
                                        "unique_count": 7,
                                        "nan_count": 4,
                                        "categories": [
                                            {
                                                "name": "35431",
                                                "count": 1
                                            },
                                            {
                                                "name": "6 others",
                                                "count": 6
                                            },
                                            {
                                                "name": "Missing",
                                                "count": 4
                                            }
                                        ]
                                    }
                                },
                                {
                                    "name": "Incident Time",
                                    "dtype": "object",
                                    "stats": {
                                        "unique_count": 4,
                                        "nan_count": 7,
                                        "categories": [
                                            {
                                                "name": "35430",
                                                "count": 1
                                            },
                                            {
                                                "name": "3 others",
                                                "count": 3
                                            },
                                            {
                                                "name": "Missing",
                                                "count": 7
                                            }
                                        ]
                                    }
                                },
                                {
                                    "name": "Flight ID",
                                    "dtype": "object",
                                    "stats": {
                                        "unique_count": 4,
                                        "nan_count": 7,
                                        "categories": [
                                            {
                                                "name": "35419",
                                                "count": 1
                                            },
                                            {
                                                "name": "3 others",
                                                "count": 3
                                            },
                                            {
                                                "name": "Missing",
                                                "count": 7
                                            }
                                        ]
                                    }
                                },
                                {
                                    "name": "Aircraft",
                                    "dtype": "object",
                                    "stats": {
                                        "unique_count": 4,
                                        "nan_count": 7,
                                        "categories": [
                                            {
                                                "name": "35379",
                                                "count": 1
                                            },
                                            {
                                                "name": "3 others",
                                                "count": 3
                                            },
                                            {
                                                "name": "Missing",
                                                "count": 7
                                            }
                                        ]
                                    }
                                },
                                {
                                    "name": "Altitude",
                                    "dtype": "float64",
                                    "stats": {
                                        "unique_count": 8,
                                        "nan_count": 3,
                                        "min": 0,
                                        "max": 240000,
                                        "histogram": [
                                            {
                                                "bin_start": 0,
                                                "bin_end": 24000,
                                                "count": 6
                                            },
                                            {
                                                "bin_start": 24000,
                                                "bin_end": 48000,
                                                "count": 1
                                            },
                                            {
                                                "bin_start": 48000,
                                                "bin_end": 72000,
                                                "count": 0
                                            },
                                            {
                                                "bin_start": 72000,
                                                "bin_end": 96000,
                                                "count": 0
                                            },
                                            {
                                                "bin_start": 96000,
                                                "bin_end": 120000,
                                                "count": 0
                                            },
                                            {
                                                "bin_start": 120000,
                                                "bin_end": 144000,
                                                "count": 0
                                            },
                                            {
                                                "bin_start": 144000,
                                                "bin_end": 168000,
                                                "count": 0
                                            },
                                            {
                                                "bin_start": 168000,
                                                "bin_end": 192000,
                                                "count": 0
                                            },
                                            {
                                                "bin_start": 192000,
                                                "bin_end": 216000,
                                                "count": 0
                                            },
                                            {
                                                "bin_start": 216000,
                                                "bin_end": 240000,
                                                "count": 1
                                            }
                                        ]
                                    }
                                },
                                {
                                    "name": "Airport",
                                    "dtype": "object",
                                    "stats": {
                                        "unique_count": 4,
                                        "nan_count": 7,
                                        "categories": [
                                            {
                                                "name": "35422",
                                                "count": 1
                                            },
                                            {
                                                "name": "3 others",
                                                "count": 3
                                            },
                                            {
                                                "name": "Missing",
                                                "count": 7
                                            }
                                        ]
                                    }
                                },
                                {
                                    "name": "Laser Color",
                                    "dtype": "object",
                                    "stats": {
                                        "unique_count": 4,
                                        "nan_count": 7,
                                        "categories": [
                                            {
                                                "name": "35430",
                                                "count": 1
                                            },
                                            {
                                                "name": "3 others",
                                                "count": 3
                                            },
                                            {
                                                "name": "Missing",
                                                "count": 7
                                            }
                                        ]
                                    }
                                },
                                {
                                    "name": "Injury",
                                    "dtype": "object",
                                    "stats": {
                                        "unique_count": 4,
                                        "nan_count": 7,
                                        "categories": [
                                            {
                                                "name": "35416",
                                                "count": 1
                                            },
                                            {
                                                "name": "3 others",
                                                "count": 3
                                            },
                                            {
                                                "name": "Missing",
                                                "count": 7
                                            }
                                        ]
                                    }
                                },
                                {
                                    "name": "City",
                                    "dtype": "object",
                                    "stats": {
                                        "unique_count": 4,
                                        "nan_count": 7,
                                        "categories": [
                                            {
                                                "name": "35430",
                                                "count": 1
                                            },
                                            {
                                                "name": "3 others",
                                                "count": 3
                                            },
                                            {
                                                "name": "Missing",
                                                "count": 7
                                            }
                                        ]
                                    }
                                },
                                {
                                    "name": "State",
                                    "dtype": "object",
                                    "stats": {
                                        "unique_count": 4,
                                        "nan_count": 7,
                                        "categories": [
                                            {
                                                "name": "35431",
                                                "count": 1
                                            },
                                            {
                                                "name": "3 others",
                                                "count": 3
                                            },
                                            {
                                                "name": "Missing",
                                                "count": 7
                                            }
                                        ]
                                    }
                                },
                                {
                                    "name": "timestamp",
                                    "dtype": "object",
                                    "stats": {
                                        "unique_count": 7,
                                        "nan_count": 4,
                                        "categories": [
                                            {
                                                "name": "32617",
                                                "count": 1
                                            },
                                            {
                                                "name": "6 others",
                                                "count": 6
                                            },
                                            {
                                                "name": "Missing",
                                                "count": 4
                                            }
                                        ]
                                    }
                                },
                                {
                                    "name": "Territory",
                                    "dtype": "object",
                                    "stats": {
                                        "unique_count": 4,
                                        "nan_count": 7,
                                        "categories": [
                                            {
                                                "name": "35431",
                                                "count": 1
                                            },
                                            {
                                                "name": "3 others",
                                                "count": 3
                                            },
                                            {
                                                "name": "Missing",
                                                "count": 7
                                            }
                                        ]
                                    }
                                },
                                {
                                    "name": "Population",
                                    "dtype": "float64",
                                    "stats": {
                                        "unique_count": 8,
                                        "nan_count": 3,
                                        "min": 35431,
                                        "max": 39368078,
                                        "histogram": [
                                            {
                                                "bin_start": 35431,
                                                "bin_end": 3968695.7,
                                                "count": 2
                                            },
                                            {
                                                "bin_start": 3968695.7,
                                                "bin_end": 7901960.4,
                                                "count": 1
                                            },
                                            {
                                                "bin_start": 7901960.4,
                                                "bin_end": 11835225.100000001,
                                                "count": 1
                                            },
                                            {
                                                "bin_start": 11835225.100000001,
                                                "bin_end": 15768489.8,
                                                "count": 1
                                            },
                                            {
                                                "bin_start": 15768489.8,
                                                "bin_end": 19701754.5,
                                                "count": 1
                                            },
                                            {
                                                "bin_start": 19701754.5,
                                                "bin_end": 23635019.200000003,
                                                "count": 0
                                            },
                                            {
                                                "bin_start": 23635019.200000003,
                                                "bin_end": 27568283.900000002,
                                                "count": 0
                                            },
                                            {
                                                "bin_start": 27568283.900000002,
                                                "bin_end": 31501548.6,
                                                "count": 1
                                            },
                                            {
                                                "bin_start": 31501548.6,
                                                "bin_end": 35434813.300000004,
                                                "count": 0
                                            },
                                            {
                                                "bin_start": 35434813.300000004,
                                                "bin_end": 39368078,
                                                "count": 1
                                            }
                                        ]
                                    }
                                },
                                {
                                    "name": "_deepnote_index_column",
                                    "dtype": "object"
                                }
                            ],
                            "rows_top": [
                                {
                                    "Incident Date": "35431",
                                    "Incident Time": "35430",
                                    "Flight ID": "35419",
                                    "Aircraft": "35379",
                                    "Altitude": "35197.0",
                                    "Airport": "35422",
                                    "Laser Color": "35430",
                                    "Injury": "35416",
                                    "City": "35430",
                                    "State": "35431",
                                    "timestamp": "32617",
                                    "Territory": "35431",
                                    "Population": "35431.0",
                                    "_deepnote_index_column": "count"
                                },
                                {
                                    "Incident Date": "nan",
                                    "Incident Time": "1097",
                                    "Flight ID": "24316",
                                    "Aircraft": "1682",
                                    "Altitude": "nan",
                                    "Airport": "1994",
                                    "Laser Color": "106",
                                    "Injury": "2",
                                    "City": "2218",
                                    "State": "51",
                                    "timestamp": "nan",
                                    "Territory": "51",
                                    "Population": "nan",
                                    "_deepnote_index_column": "unique"
                                },
                                {
                                    "Incident Date": "nan",
                                    "Incident Time": "300",
                                    "Flight ID": "UNKN",
                                    "Aircraft": "B737",
                                    "Altitude": "nan",
                                    "Airport": "LAX",
                                    "Laser Color": "Green",
                                    "Injury": "False",
                                    "City": "Phoenix",
                                    "State": "California",
                                    "timestamp": "nan",
                                    "Territory": "California",
                                    "Population": "nan",
                                    "_deepnote_index_column": "top"
                                },
                                {
                                    "Incident Date": "nan",
                                    "Incident Time": "291",
                                    "Flight ID": "47",
                                    "Aircraft": "3750",
                                    "Altitude": "nan",
                                    "Airport": "988",
                                    "Laser Color": "31775",
                                    "Injury": "35237",
                                    "City": "1156",
                                    "State": "7268",
                                    "timestamp": "nan",
                                    "Territory": "7268",
                                    "Population": "nan",
                                    "_deepnote_index_column": "freq"
                                },
                                {
                                    "Incident Date": "2017-09-01 14:59:37.138663936",
                                    "Incident Time": "nan",
                                    "Flight ID": "nan",
                                    "Aircraft": "nan",
                                    "Altitude": "7463.649401937665",
                                    "Airport": "nan",
                                    "Laser Color": "nan",
                                    "Injury": "nan",
                                    "City": "nan",
                                    "State": "nan",
                                    "timestamp": "2017-09-03 00:07:18.454180096",
                                    "Territory": "nan",
                                    "Population": "17064545.618441477",
                                    "_deepnote_index_column": "mean"
                                },
                                {
                                    "Incident Date": "2015-01-01 00:00:00",
                                    "Incident Time": "nan",
                                    "Flight ID": "nan",
                                    "Aircraft": "nan",
                                    "Altitude": "0.0",
                                    "Airport": "nan",
                                    "Laser Color": "nan",
                                    "Injury": "nan",
                                    "City": "nan",
                                    "State": "nan",
                                    "timestamp": "2015-01-01 02:00:00",
                                    "Territory": "nan",
                                    "Population": "582328.0",
                                    "_deepnote_index_column": "min"
                                },
                                {
                                    "Incident Date": "2016-03-23 00:00:00",
                                    "Incident Time": "nan",
                                    "Flight ID": "nan",
                                    "Aircraft": "nan",
                                    "Altitude": "2500.0",
                                    "Airport": "nan",
                                    "Laser Color": "nan",
                                    "Injury": "nan",
                                    "City": "nan",
                                    "State": "nan",
                                    "timestamp": "2016-03-27 02:36:00",
                                    "Territory": "nan",
                                    "Population": "5807719.0",
                                    "_deepnote_index_column": "25%"
                                },
                                {
                                    "Incident Date": "2017-08-07 00:00:00",
                                    "Incident Time": "nan",
                                    "Flight ID": "nan",
                                    "Aircraft": "nan",
                                    "Altitude": "5000.0",
                                    "Airport": "nan",
                                    "Laser Color": "nan",
                                    "Injury": "nan",
                                    "City": "nan",
                                    "State": "nan",
                                    "timestamp": "2017-08-05 02:01:00",
                                    "Territory": "nan",
                                    "Population": "10710017.0",
                                    "_deepnote_index_column": "50%"
                                },
                                {
                                    "Incident Date": "2019-01-14 00:00:00",
                                    "Incident Time": "nan",
                                    "Flight ID": "nan",
                                    "Aircraft": "nan",
                                    "Altitude": "10000.0",
                                    "Airport": "nan",
                                    "Laser Color": "nan",
                                    "Injury": "nan",
                                    "City": "nan",
                                    "State": "nan",
                                    "timestamp": "2019-01-21 04:38:00",
                                    "Territory": "nan",
                                    "Population": "29360759.0",
                                    "_deepnote_index_column": "75%"
                                },
                                {
                                    "Incident Date": "2020-08-01 00:00:00",
                                    "Incident Time": "nan",
                                    "Flight ID": "nan",
                                    "Aircraft": "nan",
                                    "Altitude": "240000.0",
                                    "Airport": "nan",
                                    "Laser Color": "nan",
                                    "Injury": "nan",
                                    "City": "nan",
                                    "State": "nan",
                                    "timestamp": "2020-08-01 10:49:00",
                                    "Territory": "nan",
                                    "Population": "39368078.0",
                                    "_deepnote_index_column": "max"
                                },
                                {
                                    "Incident Date": "nan",
                                    "Incident Time": "nan",
                                    "Flight ID": "nan",
                                    "Aircraft": "nan",
                                    "Altitude": "7679.188189161823",
                                    "Airport": "nan",
                                    "Laser Color": "nan",
                                    "Injury": "nan",
                                    "City": "nan",
                                    "State": "nan",
                                    "timestamp": "nan",
                                    "Territory": "nan",
                                    "Population": "13847058.556604773",
                                    "_deepnote_index_column": "std"
                                }
                            ],
                            "rows_bottom": null
                        },
                        "text/plain": "                        Incident Date Incident Time Flight ID Aircraft  \\\ncount                           35431         35430     35419    35379   \nunique                            NaN          1097     24316     1682   \ntop                               NaN           300      UNKN     B737   \nfreq                              NaN           291        47     3750   \nmean    2017-09-01 14:59:37.138663936           NaN       NaN      NaN   \nmin               2015-01-01 00:00:00           NaN       NaN      NaN   \n25%               2016-03-23 00:00:00           NaN       NaN      NaN   \n50%               2017-08-07 00:00:00           NaN       NaN      NaN   \n75%               2019-01-14 00:00:00           NaN       NaN      NaN   \nmax               2020-08-01 00:00:00           NaN       NaN      NaN   \nstd                               NaN           NaN       NaN      NaN   \n\n             Altitude Airport Laser Color Injury     City       State  \\\ncount    35197.000000   35422       35430  35416    35430       35431   \nunique            NaN    1994         106      2     2218          51   \ntop               NaN     LAX       Green  False  Phoenix  California   \nfreq              NaN     988       31775  35237     1156        7268   \nmean      7463.649402     NaN         NaN    NaN      NaN         NaN   \nmin          0.000000     NaN         NaN    NaN      NaN         NaN   \n25%       2500.000000     NaN         NaN    NaN      NaN         NaN   \n50%       5000.000000     NaN         NaN    NaN      NaN         NaN   \n75%      10000.000000     NaN         NaN    NaN      NaN         NaN   \nmax     240000.000000     NaN         NaN    NaN      NaN         NaN   \nstd       7679.188189     NaN         NaN    NaN      NaN         NaN   \n\n                            timestamp   Territory    Population  \ncount                           32617       35431  3.543100e+04  \nunique                            NaN          51           NaN  \ntop                               NaN  California           NaN  \nfreq                              NaN        7268           NaN  \nmean    2017-09-03 00:07:18.454180096         NaN  1.706455e+07  \nmin               2015-01-01 02:00:00         NaN  5.823280e+05  \n25%               2016-03-27 02:36:00         NaN  5.807719e+06  \n50%               2017-08-05 02:01:00         NaN  1.071002e+07  \n75%               2019-01-21 04:38:00         NaN  2.936076e+07  \nmax               2020-08-01 10:49:00         NaN  3.936808e+07  \nstd                               NaN         NaN  1.384706e+07  ",
                        "text/html": "<div>\n<style scoped>\n    .dataframe tbody tr th:only-of-type {\n        vertical-align: middle;\n    }\n\n    .dataframe tbody tr th {\n        vertical-align: top;\n    }\n\n    .dataframe thead th {\n        text-align: right;\n    }\n</style>\n<table border=\"1\" class=\"dataframe\">\n  <thead>\n    <tr style=\"text-align: right;\">\n      <th></th>\n      <th>Incident Date</th>\n      <th>Incident Time</th>\n      <th>Flight ID</th>\n      <th>Aircraft</th>\n      <th>Altitude</th>\n      <th>Airport</th>\n      <th>Laser Color</th>\n      <th>Injury</th>\n      <th>City</th>\n      <th>State</th>\n      <th>timestamp</th>\n      <th>Territory</th>\n      <th>Population</th>\n    </tr>\n  </thead>\n  <tbody>\n    <tr>\n      <th>count</th>\n      <td>35431</td>\n      <td>35430</td>\n      <td>35419</td>\n      <td>35379</td>\n      <td>35197.000000</td>\n      <td>35422</td>\n      <td>35430</td>\n      <td>35416</td>\n      <td>35430</td>\n      <td>35431</td>\n      <td>32617</td>\n      <td>35431</td>\n      <td>3.543100e+04</td>\n    </tr>\n    <tr>\n      <th>unique</th>\n      <td>NaN</td>\n      <td>1097</td>\n      <td>24316</td>\n      <td>1682</td>\n      <td>NaN</td>\n      <td>1994</td>\n      <td>106</td>\n      <td>2</td>\n      <td>2218</td>\n      <td>51</td>\n      <td>NaN</td>\n      <td>51</td>\n      <td>NaN</td>\n    </tr>\n    <tr>\n      <th>top</th>\n      <td>NaN</td>\n      <td>300</td>\n      <td>UNKN</td>\n      <td>B737</td>\n      <td>NaN</td>\n      <td>LAX</td>\n      <td>Green</td>\n      <td>False</td>\n      <td>Phoenix</td>\n      <td>California</td>\n      <td>NaN</td>\n      <td>California</td>\n      <td>NaN</td>\n    </tr>\n    <tr>\n      <th>freq</th>\n      <td>NaN</td>\n      <td>291</td>\n      <td>47</td>\n      <td>3750</td>\n      <td>NaN</td>\n      <td>988</td>\n      <td>31775</td>\n      <td>35237</td>\n      <td>1156</td>\n      <td>7268</td>\n      <td>NaN</td>\n      <td>7268</td>\n      <td>NaN</td>\n    </tr>\n    <tr>\n      <th>mean</th>\n      <td>2017-09-01 14:59:37.138663936</td>\n      <td>NaN</td>\n      <td>NaN</td>\n      <td>NaN</td>\n      <td>7463.649402</td>\n      <td>NaN</td>\n      <td>NaN</td>\n      <td>NaN</td>\n      <td>NaN</td>\n      <td>NaN</td>\n      <td>2017-09-03 00:07:18.454180096</td>\n      <td>NaN</td>\n      <td>1.706455e+07</td>\n    </tr>\n    <tr>\n      <th>min</th>\n      <td>2015-01-01 00:00:00</td>\n      <td>NaN</td>\n      <td>NaN</td>\n      <td>NaN</td>\n      <td>0.000000</td>\n      <td>NaN</td>\n      <td>NaN</td>\n      <td>NaN</td>\n      <td>NaN</td>\n      <td>NaN</td>\n      <td>2015-01-01 02:00:00</td>\n      <td>NaN</td>\n      <td>5.823280e+05</td>\n    </tr>\n    <tr>\n      <th>25%</th>\n      <td>2016-03-23 00:00:00</td>\n      <td>NaN</td>\n      <td>NaN</td>\n      <td>NaN</td>\n      <td>2500.000000</td>\n      <td>NaN</td>\n      <td>NaN</td>\n      <td>NaN</td>\n      <td>NaN</td>\n      <td>NaN</td>\n      <td>2016-03-27 02:36:00</td>\n      <td>NaN</td>\n      <td>5.807719e+06</td>\n    </tr>\n    <tr>\n      <th>50%</th>\n      <td>2017-08-07 00:00:00</td>\n      <td>NaN</td>\n      <td>NaN</td>\n      <td>NaN</td>\n      <td>5000.000000</td>\n      <td>NaN</td>\n      <td>NaN</td>\n      <td>NaN</td>\n      <td>NaN</td>\n      <td>NaN</td>\n      <td>2017-08-05 02:01:00</td>\n      <td>NaN</td>\n      <td>1.071002e+07</td>\n    </tr>\n    <tr>\n      <th>75%</th>\n      <td>2019-01-14 00:00:00</td>\n      <td>NaN</td>\n      <td>NaN</td>\n      <td>NaN</td>\n      <td>10000.000000</td>\n      <td>NaN</td>\n      <td>NaN</td>\n      <td>NaN</td>\n      <td>NaN</td>\n      <td>NaN</td>\n      <td>2019-01-21 04:38:00</td>\n      <td>NaN</td>\n      <td>2.936076e+07</td>\n    </tr>\n    <tr>\n      <th>max</th>\n      <td>2020-08-01 00:00:00</td>\n      <td>NaN</td>\n      <td>NaN</td>\n      <td>NaN</td>\n      <td>240000.000000</td>\n      <td>NaN</td>\n      <td>NaN</td>\n      <td>NaN</td>\n      <td>NaN</td>\n      <td>NaN</td>\n      <td>2020-08-01 10:49:00</td>\n      <td>NaN</td>\n      <td>3.936808e+07</td>\n    </tr>\n    <tr>\n      <th>std</th>\n      <td>NaN</td>\n      <td>NaN</td>\n      <td>NaN</td>\n      <td>NaN</td>\n      <td>7679.188189</td>\n      <td>NaN</td>\n      <td>NaN</td>\n      <td>NaN</td>\n      <td>NaN</td>\n      <td>NaN</td>\n      <td>NaN</td>\n      <td>NaN</td>\n      <td>1.384706e+07</td>\n    </tr>\n  </tbody>\n</table>\n</div>"
                    },
                    "metadata": {}
                }
            ]
        },
        {
            "cell_type": "markdown",
            "source": "## Grouping & aggregation\n\nA common pattern in data analysis is grouping (or binning) data based on some property and getting some aggredate statistics.\n\n*Example:* Group this workshop participants by nationality a get the cardinality (the size) of each group.",
            "metadata": {
                "cell_id": "00070-154131dc-2d01-4f16-ae8d-5bff3e7b0b96",
                "deepnote_cell_type": "markdown"
            }
        },
        {
            "cell_type": "markdown",
            "source": "Possibly the simplest group and aggregation is the `value_counts` method, which groups by the respective column value\nand yields the number (or normalized frequency) of each unique value in the data.",
            "metadata": {
                "tags": [],
                "cell_id": "00028-35e85a41-cbdb-433c-a057-9c5e8050e912",
                "deepnote_cell_type": "markdown"
            }
        },
        {
            "cell_type": "code",
            "source": "laser_incidents_w_population[\"State\"].value_counts(normalize=False)",
            "metadata": {
                "tags": [],
                "cell_id": "00026-cfe6ef85-d6ba-44c2-8202-c9efcade4e80",
                "deepnote_to_be_reexecuted": false,
                "source_hash": "17d3e2ac",
                "execution_millis": 1,
                "execution_start": 1611509154649,
                "deepnote_cell_type": "code"
            },
            "outputs": [
                {
                    "output_type": "execute_result",
                    "execution_count": 252,
                    "data": {
                        "text/plain": "California              7268\nTexas                   3620\nFlorida                 2702\nArizona                 1910\nColorado                 988\nWashington               982\nKentucky                 952\nIllinois                 946\nNew York                 921\nOregon                   895\nTennessee                888\nNevada                   837\nPennsylvania             826\nIndiana                  812\nUtah                     789\nOhio                     750\nGeorgia                  714\nNorth Carolina           605\nMissouri                 547\nMinnesota                531\nNew Jersey               519\nMichigan                 505\nHawaii                   500\nAlabama                  473\nOklahoma                 412\nVirginia                 412\nNew Mexico               401\nLouisiana                351\nMassachusetts            346\nSouth Carolina           306\nMaryland                 255\nArkansas                 237\nIdaho                    237\nWisconsin                207\nIowa                     200\nConnecticut              185\nDistrict of Columbia     183\nKansas                   172\nMississippi              156\nMontana                  134\nNebraska                 112\nWest Virginia            108\nNorth Dakota              92\nNew Hampshire             86\nRhode Island              81\nAlaska                    67\nMaine                     66\nSouth Dakota              52\nDelaware                  43\nVermont                   28\nWyoming                   22\nName: State, dtype: int64"
                    },
                    "metadata": {}
                }
            ],
            "execution_count": 252
        },
        {
            "cell_type": "markdown",
            "source": "This is just a primitive grouping and aggregation operation, we will look into more advanced patterns. \nLet us say we would like to get some numbers (statistics) for individual states.\nWe can [`groupby`](https://pandas.pydata.org/docs/reference/api/pandas.DataFrame.groupby.html) the dataset by the `\"State\"` column:",
            "metadata": {
                "tags": [],
                "cell_id": "00030-41af7b3a-faad-4f6f-9ca1-87b1db8baaf7",
                "deepnote_cell_type": "markdown"
            }
        },
        {
            "cell_type": "code",
            "metadata": {
                "cell_id": "00072-b326adb9-d32d-406f-a094-043ef10d643a",
                "deepnote_to_be_reexecuted": false,
                "source_hash": "93ed3a20",
                "execution_millis": 0,
                "execution_start": 1611509478519,
                "deepnote_cell_type": "code"
            },
            "source": "grouped_by_state = laser_incidents_w_population.groupby(\"State\")",
            "execution_count": 253,
            "outputs": []
        },
        {
            "cell_type": "markdown",
            "source": "What did we get? ",
            "metadata": {
                "cell_id": "00073-a3fb04d2-ecdb-4c7d-8851-ea1fbcd2260d",
                "deepnote_cell_type": "markdown"
            }
        },
        {
            "cell_type": "code",
            "metadata": {
                "cell_id": "00074-e9ed40dd-811c-4b5e-aa3f-7c9e3d3b7e14",
                "deepnote_to_be_reexecuted": false,
                "source_hash": "67295c6d",
                "execution_millis": 0,
                "execution_start": 1611509482910,
                "deepnote_cell_type": "code"
            },
            "source": "grouped_by_state",
            "execution_count": 254,
            "outputs": [
                {
                    "output_type": "execute_result",
                    "execution_count": 254,
                    "data": {
                        "text/plain": "<pandas.core.groupby.generic.DataFrameGroupBy object at 0x7ff180eae790>"
                    },
                    "metadata": {}
                }
            ]
        },
        {
            "cell_type": "markdown",
            "source": "What is this `DataFrameGroupBy` object? [Its use case is](http://pandas.pydata.org/pandas-docs/stable/user_guide/groupby.html):\n* Splitting the data into groups based on some criteria.\n* Applying a function to each group independently.\n* Combining the results into a data structure.\n",
            "metadata": {
                "cell_id": "00075-453afb5c-06b3-423c-ab94-e352e5c370b9",
                "deepnote_cell_type": "markdown"
            }
        },
        {
            "cell_type": "markdown",
            "source": "Let's try a simple aggregate: the mean of altitude for each state:",
            "metadata": {
                "cell_id": "00076-fe152661-c162-45e6-91f6-824e0ff6014f",
                "deepnote_cell_type": "markdown"
            }
        },
        {
            "cell_type": "code",
            "metadata": {
                "cell_id": "00077-0a0256af-100d-4946-944b-a30f77ce9818",
                "deepnote_to_be_reexecuted": false,
                "source_hash": "96a64c50",
                "execution_millis": 1,
                "execution_start": 1611515671248,
                "deepnote_cell_type": "code"
            },
            "source": "grouped_by_state[\"Altitude\"].mean().sort_values()",
            "execution_count": 255,
            "outputs": [
                {
                    "output_type": "execute_result",
                    "execution_count": 255,
                    "data": {
                        "text/plain": "State\nHawaii                   4564.536585\nFlorida                  4970.406773\nAlaska                   5209.848485\nWisconsin                5529.951220\nNew York                 5530.208743\nMaryland                 6071.739130\nDistrict of Columbia     6087.144444\nNew Jersey               6204.306950\nIllinois                 6306.310566\nMassachusetts            6473.763848\nTexas                    6487.493759\nDelaware                 6602.380952\nArizona                  6678.333158\nNevada                   6730.037485\nCalifornia               6919.705613\nWashington               7110.687629\nLouisiana                7276.276353\nNebraska                 7277.321429\nMichigan                 7330.459082\nOregon                   7411.285231\nSouth Dakota             7419.607843\nNorth Dakota             7455.434783\nOhio                     7482.409880\nPennsylvania             7518.614724\nConnecticut              7519.562842\nVermont                  7610.714286\nIdaho                    7636.756410\nOklahoma                 7678.803440\nMontana                  7780.620155\nVirginia                 7903.889976\nRhode Island             8186.875000\nMinnesota                8191.869811\nSouth Carolina           8593.535948\nKansas                   8661.994152\nIndiana                  8664.055693\nMaine                    8733.333333\nAlabama                  8821.210191\nMississippi              8828.685897\nTennessee                8987.354402\nNorth Carolina           9251.180763\nNew Hampshire            9591.764706\nUtah                     9892.935197\nIowa                    10174.619289\nMissouri                10548.161468\nNew Mexico              10714.706030\nGeorgia                 11130.663854\nArkansas                11203.483051\nColorado                11301.869388\nKentucky                11583.086225\nWest Virginia           12108.386792\nWyoming                 18238.095238\nName: Altitude, dtype: Float64"
                    },
                    "metadata": {}
                }
            ]
        },
        {
            "cell_type": "markdown",
            "source": "What if we were to group by year? We don't have a year column but we can just extract the year from the date and use it for `groupby`.",
            "metadata": {
                "cell_id": "00083-70eede69-217c-431d-a2ef-4514af47a149",
                "deepnote_cell_type": "markdown"
            }
        },
        {
            "cell_type": "code",
            "metadata": {
                "cell_id": "00084-f7d262b5-f83b-4676-a574-a1fa7440b2d9",
                "deepnote_to_be_reexecuted": false,
                "source_hash": "fc8d42a7",
                "execution_start": 1611498164752,
                "execution_millis": 1,
                "deepnote_cell_type": "code"
            },
            "source": "grouped_by_year = laser_incidents_w_population.groupby(laser_incidents_w_population[\"timestamp\"].dt.year)",
            "execution_count": 152,
            "outputs": []
        },
        {
            "cell_type": "markdown",
            "source": "You may have noticed how we extracted the year using the [`.dt` accessor](https://pandas.pydata.org/docs/user_guide/basics.html#basics-dt-accessors).\nWe will use `.dt` even more below.",
            "metadata": {
                "tags": [],
                "cell_id": "00039-9e9ed9b5-729c-4782-8761-0da02c95a93d",
                "deepnote_cell_type": "markdown"
            }
        },
        {
            "cell_type": "markdown",
            "source": "Let's calculate the mean altitude of laser incidents per year. Are the lasers getting more powerful? 🤔",
            "metadata": {
                "tags": [],
                "cell_id": "00036-6521176f-034b-4cce-b9e9-1944f16d3b46",
                "deepnote_cell_type": "markdown"
            }
        },
        {
            "cell_type": "code",
            "source": "mean_altitude_per_year = grouped_by_year[\"Altitude\"].mean().sort_index()\nmean_altitude_per_year",
            "metadata": {
                "tags": [],
                "cell_id": "00036-ae97f608-ad31-473d-9ee8-b3fe0cdec187",
                "deepnote_to_be_reexecuted": false,
                "source_hash": "63689ae0",
                "execution_millis": 4,
                "execution_start": 1611515969081,
                "deepnote_cell_type": "code"
            },
            "outputs": [
                {
                    "output_type": "execute_result",
                    "execution_count": 258,
                    "data": {
                        "text/plain": "timestamp\n2015.0    6639.865011\n2016.0    7169.452716\n2017.0    7536.853347\n2018.0    7674.939628\n2019.0    8312.384213\n2020.0    8684.153212\nName: Altitude, dtype: Float64"
                    },
                    "metadata": {}
                }
            ],
            "execution_count": 258
        },
        {
            "cell_type": "markdown",
            "source": "We can also quickly plot the results, more on plotting in the next lessons.",
            "metadata": {
                "tags": [],
                "cell_id": "00042-1aaadca8-6f05-460e-8cd2-f34ac0b7e866",
                "deepnote_cell_type": "markdown"
            }
        },
        {
            "cell_type": "code",
            "source": "mean_altitude_per_year.plot(kind=\"bar\");",
            "metadata": {
                "tags": [],
                "cell_id": "00042-c0571639-2725-4011-b5a1-6e513c37ddf4",
                "deepnote_to_be_reexecuted": false,
                "source_hash": "f6c49ffd",
                "execution_millis": 352,
                "execution_start": 1611516072032,
                "deepnote_cell_type": "code"
            },
            "outputs": [
                {
                    "data": {
                        "text/plain": "<Figure size 432x288 with 1 Axes>",
                        "image/png": "[encoded data removed]"
                    },
                    "metadata": {
                        "needs_background": "light"
                    },
                    "output_type": "display_data"
                }
            ],
            "execution_count": 262
        },
        {
            "cell_type": "markdown",
            "source": "**Exercise:** Calculate the `sum` of injuries per year. Use the fact that `True + True = 2` ;)",
            "metadata": {
                "tags": [],
                "cell_id": "00044-10ce41fb-77a9-4635-8242-0b0c2df70d30",
                "deepnote_cell_type": "markdown"
            }
        },
        {
            "cell_type": "markdown",
            "source": "We can also create a new `Series` if the corresponding column does not exist in the dataframe and group it by another `Series`\n(which in this case is a column from the dataframe). Important is that the grouped and the by series have the same index.",
            "metadata": {
                "tags": [],
                "cell_id": "00045-ce3ee384-cde1-4e7a-b02f-8c3022146850",
                "deepnote_cell_type": "markdown"
            }
        },
        {
            "cell_type": "code",
            "source": "# how many incidents per million inhabitants are there for each state?\nincidents_per_million = (1_000_000 / laser_incidents_w_population[\"Population\"]).groupby(laser_incidents_w_population[\"State\"]).sum()\nincidents_per_million.sort_values(ascending=False)",
            "metadata": {
                "tags": [],
                "cell_id": "00039-0f02c89b-4a66-4824-ac5b-ec126fa7b8d5",
                "deepnote_to_be_reexecuted": false,
                "source_hash": "27735942",
                "execution_millis": 45,
                "execution_start": 1611516644419,
                "deepnote_cell_type": "code"
            },
            "outputs": [
                {
                    "output_type": "execute_result",
                    "execution_count": 270,
                    "data": {
                        "text/plain": "State\nHawaii                  355.364512\nNevada                  266.708388\nArizona                 257.363805\nDistrict of Columbia    256.728244\nUtah                    242.778270\nKentucky                212.630473\nOregon                  211.009908\nNew Mexico              190.379520\nCalifornia              184.616582\nColorado                170.118423\nIdaho                   129.727031\nTennessee               128.941688\nWashington              127.638358\nFlorida                 124.325275\nMontana                 124.007822\nTexas                   123.293815\nNorth Dakota            120.212881\nIndiana                 120.208090\nOklahoma                103.497227\nAlabama                  96.108285\nMinnesota                93.860332\nAlaska                   91.635460\nMissouri                 88.920707\nArkansas                 78.204349\nRhode Island             76.622916\nLouisiana                75.559951\nIllinois                 75.153743\nGeorgia                  66.666561\nPennsylvania             64.615786\nOhio                     64.139749\nIowa                     63.219897\nNew Hampshire            62.944868\nWest Virginia            60.511422\nKansas                   59.029345\nSouth Carolina           58.642709\nNew Jersey               58.430345\nSouth Dakota             58.249143\nNebraska                 57.804900\nNorth Carolina           57.071041\nMississippi              52.582155\nConnecticut              52.010033\nMichigan                 50.669464\nMassachusetts            50.191671\nMaine                    48.883783\nVirginia                 47.959604\nNew York                 47.629450\nVermont                  44.918801\nDelaware                 43.574795\nMaryland                 42.108378\nWyoming                  37.779396\nWisconsin                35.489841\nName: Population, dtype: float64"
                    },
                    "metadata": {}
                }
            ],
            "execution_count": 270
        },
        {
            "cell_type": "code",
            "source": "incidents_per_million.sort_values().plot(kind=\"bar\", figsize=(15, 3));",
            "metadata": {
                "tags": [],
                "cell_id": "00040-132b38b6-5965-4079-bc64-f032fde14395",
                "deepnote_to_be_reexecuted": false,
                "source_hash": "6ac122fc",
                "execution_millis": 1890,
                "execution_start": 1611516730888,
                "deepnote_cell_type": "code"
            },
            "outputs": [
                {
                    "data": {
                        "text/plain": "<Figure size 1080x216 with 1 Axes>",
                        "image/png": "[encoded data removed]"
                    },
                    "metadata": {
                        "needs_background": "light"
                    },
                    "output_type": "display_data"
                }
            ],
            "execution_count": 272
        },
        {
            "cell_type": "markdown",
            "source": "## Time series operations\n\nWe will briefly look at some more specific operation for time series data (data with a natural time axis).\nTypical operations for time series are resampling or rolling window transformations such as filtering.\nNote that Pandas is not a general digital signal processing library - there are other (more capable) tools for this purpose.\n\nFirst, we set the index to `\"timestamp\"` to make our dataframe inherently time indexed. This will make doing further time operations easier.",
            "metadata": {
                "tags": [],
                "cell_id": "00041-4acaaa06-e7de-491c-96c9-0554339085b5",
                "deepnote_cell_type": "markdown"
            }
        },
        {
            "cell_type": "code",
            "source": "incidents_w_time_index = laser_incidents.set_index(\"timestamp\")\nincidents_w_time_index",
            "metadata": {
                "tags": [],
                "cell_id": "00042-dd28c2d2-0c78-4319-8698-ac0c42f79c8e",
                "deepnote_to_be_reexecuted": false,
                "source_hash": "255850a5",
                "execution_start": 1611499336795,
                "execution_millis": 82,
                "deepnote_cell_type": "code"
            },
            "outputs": [
                {
                    "output_type": "execute_result",
                    "execution_count": 169,
                    "data": {
                        "application/vnd.deepnote.dataframe.v2+json": {
                            "error": "Traceback (most recent call last):\n  File \"/shared-libs/code/variable_explorer.py\", line 123, in dataframe_formatter\n    return { MIME_TYPE: describe_pd_dataframe(df) }\n  File \"/shared-libs/code/variable_explorer_helpers.py\", line 116, in describe_pd_dataframe\n    df_display_bottom = df_analyzed.iloc[skip_end:].fillna('nan')\n  File \"/shared-libs/python3.7/py/lib/python3.7/site-packages/pandas/core/frame.py\", line 4465, in fillna\n    downcast=downcast,\n  File \"/shared-libs/python3.7/py/lib/python3.7/site-packages/pandas/core/generic.py\", line 6425, in fillna\n    value=value, limit=limit, inplace=inplace, downcast=downcast\n  File \"/shared-libs/python3.7/py/lib/python3.7/site-packages/pandas/core/internals/managers.py\", line 622, in fillna\n    \"fillna\", value=value, limit=limit, inplace=inplace, downcast=downcast\n  File \"/shared-libs/python3.7/py/lib/python3.7/site-packages/pandas/core/internals/managers.py\", line 427, in apply\n    applied = getattr(b, f)(**kwargs)\n  File \"/shared-libs/python3.7/py/lib/python3.7/site-packages/pandas/core/internals/blocks.py\", line 1918, in fillna\n    values = values.fillna(value=value, limit=limit)\n  File \"/shared-libs/python3.7/py/lib/python3.7/site-packages/pandas/core/arrays/base.py\", line 675, in fillna\n    new_values[mask] = value\n  File \"/shared-libs/python3.7/py/lib/python3.7/site-packages/pandas/core/arrays/masked.py\", line 124, in __setitem__\n    value, mask = self._coerce_to_array(value)\n  File \"/shared-libs/python3.7/py/lib/python3.7/site-packages/pandas/core/arrays/integer.py\", line 420, in _coerce_to_array\n    return coerce_to_array(value, dtype=self.dtype)\n  File \"/shared-libs/python3.7/py/lib/python3.7/site-packages/pandas/core/arrays/integer.py\", line 233, in coerce_to_array\n    raise TypeError(f\"{values.dtype} cannot be converted to an IntegerDtype\")\nTypeError: <U3 cannot be converted to an IntegerDtype\n"
                        },
                        "text/plain": "                    Incident Date Incident Time Flight ID  \\\ntimestamp                                                   \n2020-01-01 01:48:00    2020-01-01           148    N424RP   \n2020-01-01 01:55:00    2020-01-01           155   AMF1829   \n2020-01-01 02:14:00    2020-01-01           214   NKS1881   \n2020-01-01 02:17:00    2020-01-01           217   FDX3873   \n2020-01-01 02:18:00    2020-01-01           218   SWA3635   \n...                           ...           ...       ...   \n2015-12-31 05:25:00    2015-12-31           525    VRD917   \n2015-12-31 06:23:00    2015-12-31           623   DAL2371   \n2015-12-31 11:11:00    2015-12-31          1111   Unknown   \n2015-12-31 11:47:00    2015-12-31          1147    UAL197   \n2015-12-31 23:14:00    2015-12-31          2314    EJA336   \n\n                                Aircraft  Altitude Airport Laser Color  \\\ntimestamp                                                                \n2020-01-01 01:48:00               DA42/A      8500     SBA       Green   \n2020-01-01 01:55:00                 B190     40000     SSF       Green   \n2020-01-01 02:14:00                 A320      2500     TPA       Green   \n2020-01-01 02:17:00                 B763      3000     DFW       Green   \n2020-01-01 02:18:00                 B739     11000     MOD       Green   \n...                                  ...       ...     ...         ...   \n2015-12-31 05:25:00  A320 (AIRBUS - A-32      8000     LAS       Green   \n2015-12-31 06:23:00  B738 (BOEING - 737-     11000     LHM       Green   \n2015-12-31 11:11:00              Unknown      2000     FOK       Green   \n2015-12-31 11:47:00                 B737       300     GUM       Green   \n2015-12-31 23:14:00               E55P/L      1000     APF       Green   \n\n                     Injury               City       State  \ntimestamp                                                   \n2020-01-01 01:48:00   False      Santa Barbara  California  \n2020-01-01 01:55:00   False        San Antonio       Texas  \n2020-01-01 02:14:00   False              Tampa     Florida  \n2020-01-01 02:17:00   False        Fort Worth        Texas  \n2020-01-01 02:18:00   False            Modesto  California  \n...                     ...                ...         ...  \n2015-12-31 05:25:00   False          Las Vegas      Nevada  \n2015-12-31 06:23:00   False            Lincoln  California  \n2015-12-31 11:11:00   False  Westhampton Beach    New York  \n2015-12-31 11:47:00   False               Guam        Guam  \n2015-12-31 23:14:00   False             Naples     Florida  \n\n[36463 rows x 10 columns]",
                        "text/html": "<div>\n<style scoped>\n    .dataframe tbody tr th:only-of-type {\n        vertical-align: middle;\n    }\n\n    .dataframe tbody tr th {\n        vertical-align: top;\n    }\n\n    .dataframe thead th {\n        text-align: right;\n    }\n</style>\n<table border=\"1\" class=\"dataframe\">\n  <thead>\n    <tr style=\"text-align: right;\">\n      <th></th>\n      <th>Incident Date</th>\n      <th>Incident Time</th>\n      <th>Flight ID</th>\n      <th>Aircraft</th>\n      <th>Altitude</th>\n      <th>Airport</th>\n      <th>Laser Color</th>\n      <th>Injury</th>\n      <th>City</th>\n      <th>State</th>\n    </tr>\n    <tr>\n      <th>timestamp</th>\n      <th></th>\n      <th></th>\n      <th></th>\n      <th></th>\n      <th></th>\n      <th></th>\n      <th></th>\n      <th></th>\n      <th></th>\n      <th></th>\n    </tr>\n  </thead>\n  <tbody>\n    <tr>\n      <th>2020-01-01 01:48:00</th>\n      <td>2020-01-01</td>\n      <td>148</td>\n      <td>N424RP</td>\n      <td>DA42/A</td>\n      <td>8500</td>\n      <td>SBA</td>\n      <td>Green</td>\n      <td>False</td>\n      <td>Santa Barbara</td>\n      <td>California</td>\n    </tr>\n    <tr>\n      <th>2020-01-01 01:55:00</th>\n      <td>2020-01-01</td>\n      <td>155</td>\n      <td>AMF1829</td>\n      <td>B190</td>\n      <td>40000</td>\n      <td>SSF</td>\n      <td>Green</td>\n      <td>False</td>\n      <td>San Antonio</td>\n      <td>Texas</td>\n    </tr>\n    <tr>\n      <th>2020-01-01 02:14:00</th>\n      <td>2020-01-01</td>\n      <td>214</td>\n      <td>NKS1881</td>\n      <td>A320</td>\n      <td>2500</td>\n      <td>TPA</td>\n      <td>Green</td>\n      <td>False</td>\n      <td>Tampa</td>\n      <td>Florida</td>\n    </tr>\n    <tr>\n      <th>2020-01-01 02:17:00</th>\n      <td>2020-01-01</td>\n      <td>217</td>\n      <td>FDX3873</td>\n      <td>B763</td>\n      <td>3000</td>\n      <td>DFW</td>\n      <td>Green</td>\n      <td>False</td>\n      <td>Fort Worth</td>\n      <td>Texas</td>\n    </tr>\n    <tr>\n      <th>2020-01-01 02:18:00</th>\n      <td>2020-01-01</td>\n      <td>218</td>\n      <td>SWA3635</td>\n      <td>B739</td>\n      <td>11000</td>\n      <td>MOD</td>\n      <td>Green</td>\n      <td>False</td>\n      <td>Modesto</td>\n      <td>California</td>\n    </tr>\n    <tr>\n      <th>...</th>\n      <td>...</td>\n      <td>...</td>\n      <td>...</td>\n      <td>...</td>\n      <td>...</td>\n      <td>...</td>\n      <td>...</td>\n      <td>...</td>\n      <td>...</td>\n      <td>...</td>\n    </tr>\n    <tr>\n      <th>2015-12-31 05:25:00</th>\n      <td>2015-12-31</td>\n      <td>525</td>\n      <td>VRD917</td>\n      <td>A320 (AIRBUS - A-32</td>\n      <td>8000</td>\n      <td>LAS</td>\n      <td>Green</td>\n      <td>False</td>\n      <td>Las Vegas</td>\n      <td>Nevada</td>\n    </tr>\n    <tr>\n      <th>2015-12-31 06:23:00</th>\n      <td>2015-12-31</td>\n      <td>623</td>\n      <td>DAL2371</td>\n      <td>B738 (BOEING - 737-</td>\n      <td>11000</td>\n      <td>LHM</td>\n      <td>Green</td>\n      <td>False</td>\n      <td>Lincoln</td>\n      <td>California</td>\n    </tr>\n    <tr>\n      <th>2015-12-31 11:11:00</th>\n      <td>2015-12-31</td>\n      <td>1111</td>\n      <td>Unknown</td>\n      <td>Unknown</td>\n      <td>2000</td>\n      <td>FOK</td>\n      <td>Green</td>\n      <td>False</td>\n      <td>Westhampton Beach</td>\n      <td>New York</td>\n    </tr>\n    <tr>\n      <th>2015-12-31 11:47:00</th>\n      <td>2015-12-31</td>\n      <td>1147</td>\n      <td>UAL197</td>\n      <td>B737</td>\n      <td>300</td>\n      <td>GUM</td>\n      <td>Green</td>\n      <td>False</td>\n      <td>Guam</td>\n      <td>Guam</td>\n    </tr>\n    <tr>\n      <th>2015-12-31 23:14:00</th>\n      <td>2015-12-31</td>\n      <td>2314</td>\n      <td>EJA336</td>\n      <td>E55P/L</td>\n      <td>1000</td>\n      <td>APF</td>\n      <td>Green</td>\n      <td>False</td>\n      <td>Naples</td>\n      <td>Florida</td>\n    </tr>\n  </tbody>\n</table>\n<p>36463 rows × 10 columns</p>\n</div>"
                    },
                    "metadata": {}
                }
            ],
            "execution_count": 169
        },
        {
            "cell_type": "markdown",
            "source": "First, turn the data into a time series of incidents per hour. This can be done by resampling to 1 hour and using \n`count` (basically on any column or on any column that has any non-NA value) to count the number of incidents.",
            "metadata": {
                "tags": [],
                "cell_id": "00050-ce368392-5990-47ca-92ff-3200b4513dad",
                "deepnote_cell_type": "markdown"
            }
        },
        {
            "cell_type": "code",
            "source": "incidents_hourly = incidents_w_time_index.notna().any(axis=\"columns\").resample(\"1H\").count().rename(\"incidents per hour\")\nincidents_hourly",
            "metadata": {
                "tags": [],
                "cell_id": "00043-bcbe9848-cef8-4756-883e-eb87f757b81c",
                "deepnote_to_be_reexecuted": false,
                "source_hash": "a673441c",
                "execution_millis": 19,
                "execution_start": 1611517748613,
                "deepnote_cell_type": "code"
            },
            "outputs": [
                {
                    "output_type": "execute_result",
                    "execution_count": 282,
                    "data": {
                        "text/plain": "timestamp\n2015-01-01 02:00:00    1\n2015-01-01 03:00:00    2\n2015-01-01 04:00:00    1\n2015-01-01 05:00:00    3\n2015-01-01 06:00:00    0\n                      ..\n2020-08-01 06:00:00    0\n2020-08-01 07:00:00    1\n2020-08-01 08:00:00    1\n2020-08-01 09:00:00    0\n2020-08-01 10:00:00    3\nName: incidents per hour, Length: 48945, dtype: int64"
                    },
                    "metadata": {}
                }
            ],
            "execution_count": 282
        },
        {
            "cell_type": "markdown",
            "source": "Looking at those data gives us a bit too detailed information.",
            "metadata": {
                "tags": [],
                "cell_id": "00052-b0342847-869d-4ec7-bec3-90d581b65d1e",
                "deepnote_cell_type": "markdown"
            }
        },
        {
            "cell_type": "code",
            "source": "incidents_hourly.sort_index().plot(kind=\"line\", figsize=(15, 3));",
            "metadata": {
                "tags": [],
                "cell_id": "00044-481fba70-0adc-417e-b1aa-03264229ae48",
                "deepnote_to_be_reexecuted": false,
                "source_hash": "9cc2db73",
                "execution_millis": 495,
                "execution_start": 1611517956996,
                "deepnote_cell_type": "code"
            },
            "outputs": [
                {
                    "data": {
                        "text/plain": "<Figure size 1080x216 with 1 Axes>",
                        "image/png": "[encoded data removed]"
                    },
                    "metadata": {
                        "needs_background": "light"
                    },
                    "output_type": "display_data"
                }
            ],
            "execution_count": 285
        },
        {
            "cell_type": "markdown",
            "source": "A daily mean, the result of resampling to 1 day periods and calculating the mean, is already something more digestible. \nThough still a bit noisy.",
            "metadata": {
                "tags": [],
                "cell_id": "00054-3983b101-c869-468b-9d0d-4cdcf6c66e67",
                "deepnote_cell_type": "markdown"
            }
        },
        {
            "cell_type": "code",
            "source": "incidents_daily = incidents_hourly.resample(\"1D\").mean()\nincidents_daily.plot.line(figsize=(15, 3));",
            "metadata": {
                "tags": [],
                "cell_id": "00045-af6c9669-8c97-4a9f-928f-4552adf93c5e",
                "deepnote_to_be_reexecuted": false,
                "source_hash": "b08f63b6",
                "execution_millis": 285,
                "execution_start": 1611518109508,
                "deepnote_cell_type": "code"
            },
            "outputs": [
                {
                    "data": {
                        "text/plain": "<Figure size 1080x216 with 1 Axes>",
                        "image/png": "[encoded data removed]"
                    },
                    "metadata": {
                        "needs_background": "light"
                    },
                    "output_type": "display_data"
                }
            ],
            "execution_count": 286
        },
        {
            "cell_type": "markdown",
            "source": "We can look at filtered data by rolling mean with, e.g., 28 days window size.",
            "metadata": {
                "tags": [],
                "cell_id": "00056-13e429bb-a32a-43ce-a092-59d3fdaeead8",
                "deepnote_cell_type": "markdown"
            }
        },
        {
            "cell_type": "code",
            "source": "incidents_daily_filtered = incidents_daily.rolling(\"28D\").mean()\nincidents_daily.plot.line(figsize=(15, 3));\nincidents_daily_filtered.plot.line(figsize=(15, 3));",
            "metadata": {
                "tags": [],
                "cell_id": "00046-326e109e-9c6a-4d23-8271-3c54a606ed00",
                "deepnote_to_be_reexecuted": false,
                "source_hash": "c3e5c2ca",
                "execution_millis": 477,
                "execution_start": 1611499924816,
                "deepnote_cell_type": "code"
            },
            "outputs": [
                {
                    "data": {
                        "text/plain": "<Figure size 1080x216 with 1 Axes>",
                        "image/png": "[encoded data removed]"
                    },
                    "metadata": {
                        "needs_background": "light"
                    },
                    "output_type": "display_data"
                }
            ],
            "execution_count": 181
        },
        {
            "cell_type": "markdown",
            "source": "## Pivoting (Optional)\n\n> pivot (third-person singular simple present pivots, present participle pivoting, simple past and past participle pivoted)\n **To turn on an exact spot.**\n \n> A pivot table is a table of statistics that summarizes the data of a more extensive table ...\n> Although pivot table is a generic term, Microsoft Corporation trademarked PivotTable in the United States in 1994.",
            "metadata": {
                "cell_id": "00092-f94dc155-db82-4725-9aa4-e621995f1144",
                "deepnote_cell_type": "markdown"
            }
        },
        {
            "cell_type": "markdown",
            "source": "Our pivoting task: Get a table with numbers of titles per year (as row) and type (as column).\n\nOne approach is to use `groupby`, `count` aggregation and `unstack`.",
            "metadata": {
                "cell_id": "00093-069491aa-eba7-454b-ace5-05d827aad658",
                "deepnote_cell_type": "markdown"
            }
        },
        {
            "cell_type": "code",
            "metadata": {
                "cell_id": "00094-b20a0710-dd22-4e99-a034-6a09e08ee143",
                "deepnote_to_be_reexecuted": false,
                "source_hash": "dcc08335",
                "execution_millis": 1,
                "execution_start": 1611502902740,
                "deepnote_cell_type": "code"
            },
            "source": "grouped_by_year_and_month = laser_incidents_w_population.groupby(\n    [\n        laser_incidents_w_population[\"timestamp\"].dt.year.astype(\"Int16\"),\n        laser_incidents_w_population[\"timestamp\"].dt.month.astype(\"Int16\"),\n    ]\n)",
            "execution_count": 225,
            "outputs": []
        },
        {
            "cell_type": "code",
            "source": "incidents_by_year_and_month = grouped_by_year_and_month[\"timestamp\"].count().rename_axis(index=[\"year\", \"month\"]).rename(\"incidents\")\nincidents_by_year_and_month",
            "metadata": {
                "tags": [],
                "cell_id": "00050-49ed135f-0ed6-48e0-b35d-2c1fd5de8fa2",
                "deepnote_to_be_reexecuted": false,
                "source_hash": "fc9fd6c2",
                "execution_millis": 1,
                "execution_start": 1611502932876,
                "deepnote_cell_type": "code"
            },
            "outputs": [
                {
                    "output_type": "execute_result",
                    "execution_count": 226,
                    "data": {
                        "text/plain": "year  month\n2015  1        336\n      2        336\n      3        434\n      4        428\n      5        444\n              ... \n2020  4        250\n      5        300\n      6        483\n      7        535\n      8         18\nName: incidents, Length: 68, dtype: int64"
                    },
                    "metadata": {}
                }
            ],
            "execution_count": 226
        },
        {
            "cell_type": "code",
            "source": "pivot_by_year_and_month = incidents_by_year_and_month.unstack().fillna(0)\npivot_by_year_and_month",
            "metadata": {
                "tags": [],
                "cell_id": "00051-eabb0198-2bbf-4cbb-bfc9-7909d09f62dc",
                "deepnote_to_be_reexecuted": false,
                "source_hash": "108189e3",
                "execution_millis": 83,
                "execution_start": 1611502958913,
                "deepnote_cell_type": "code"
            },
            "outputs": [
                {
                    "output_type": "execute_result",
                    "execution_count": 227,
                    "data": {
                        "application/vnd.deepnote.dataframe.v2+json": {
                            "row_count": 6,
                            "column_count": 12,
                            "columns": [
                                {
                                    "name": 1,
                                    "dtype": "float64",
                                    "stats": {
                                        "unique_count": 6,
                                        "nan_count": 0,
                                        "min": 336,
                                        "max": 575,
                                        "histogram": [
                                            {
                                                "bin_start": 336,
                                                "bin_end": 359.9,
                                                "count": 1
                                            },
                                            {
                                                "bin_start": 359.9,
                                                "bin_end": 383.8,
                                                "count": 0
                                            },
                                            {
                                                "bin_start": 383.8,
                                                "bin_end": 407.7,
                                                "count": 0
                                            },
                                            {
                                                "bin_start": 407.7,
                                                "bin_end": 431.6,
                                                "count": 0
                                            },
                                            {
                                                "bin_start": 431.6,
                                                "bin_end": 455.5,
                                                "count": 0
                                            },
                                            {
                                                "bin_start": 455.5,
                                                "bin_end": 479.4,
                                                "count": 2
                                            },
                                            {
                                                "bin_start": 479.4,
                                                "bin_end": 503.29999999999995,
                                                "count": 2
                                            },
                                            {
                                                "bin_start": 503.29999999999995,
                                                "bin_end": 527.2,
                                                "count": 0
                                            },
                                            {
                                                "bin_start": 527.2,
                                                "bin_end": 551.1,
                                                "count": 0
                                            },
                                            {
                                                "bin_start": 551.1,
                                                "bin_end": 575,
                                                "count": 1
                                            }
                                        ]
                                    }
                                },
                                {
                                    "name": 2,
                                    "dtype": "float64",
                                    "stats": {
                                        "unique_count": 6,
                                        "nan_count": 0,
                                        "min": 316,
                                        "max": 517,
                                        "histogram": [
                                            {
                                                "bin_start": 316,
                                                "bin_end": 336.1,
                                                "count": 2
                                            },
                                            {
                                                "bin_start": 336.1,
                                                "bin_end": 356.2,
                                                "count": 0
                                            },
                                            {
                                                "bin_start": 356.2,
                                                "bin_end": 376.3,
                                                "count": 0
                                            },
                                            {
                                                "bin_start": 376.3,
                                                "bin_end": 396.4,
                                                "count": 0
                                            },
                                            {
                                                "bin_start": 396.4,
                                                "bin_end": 416.5,
                                                "count": 1
                                            },
                                            {
                                                "bin_start": 416.5,
                                                "bin_end": 436.6,
                                                "count": 1
                                            },
                                            {
                                                "bin_start": 436.6,
                                                "bin_end": 456.70000000000005,
                                                "count": 0
                                            },
                                            {
                                                "bin_start": 456.70000000000005,
                                                "bin_end": 476.8,
                                                "count": 1
                                            },
                                            {
                                                "bin_start": 476.8,
                                                "bin_end": 496.9,
                                                "count": 0
                                            },
                                            {
                                                "bin_start": 496.9,
                                                "bin_end": 517,
                                                "count": 1
                                            }
                                        ]
                                    }
                                },
                                {
                                    "name": 3,
                                    "dtype": "float64",
                                    "stats": {
                                        "unique_count": 6,
                                        "nan_count": 0,
                                        "min": 426,
                                        "max": 588,
                                        "histogram": [
                                            {
                                                "bin_start": 426,
                                                "bin_end": 442.2,
                                                "count": 4
                                            },
                                            {
                                                "bin_start": 442.2,
                                                "bin_end": 458.4,
                                                "count": 0
                                            },
                                            {
                                                "bin_start": 458.4,
                                                "bin_end": 474.6,
                                                "count": 1
                                            },
                                            {
                                                "bin_start": 474.6,
                                                "bin_end": 490.8,
                                                "count": 0
                                            },
                                            {
                                                "bin_start": 490.8,
                                                "bin_end": 507,
                                                "count": 0
                                            },
                                            {
                                                "bin_start": 507,
                                                "bin_end": 523.2,
                                                "count": 0
                                            },
                                            {
                                                "bin_start": 523.2,
                                                "bin_end": 539.4,
                                                "count": 0
                                            },
                                            {
                                                "bin_start": 539.4,
                                                "bin_end": 555.6,
                                                "count": 0
                                            },
                                            {
                                                "bin_start": 555.6,
                                                "bin_end": 571.8,
                                                "count": 0
                                            },
                                            {
                                                "bin_start": 571.8,
                                                "bin_end": 588,
                                                "count": 1
                                            }
                                        ]
                                    }
                                },
                                {
                                    "name": 4,
                                    "dtype": "float64",
                                    "stats": {
                                        "unique_count": 6,
                                        "nan_count": 0,
                                        "min": 250,
                                        "max": 517,
                                        "histogram": [
                                            {
                                                "bin_start": 250,
                                                "bin_end": 276.7,
                                                "count": 1
                                            },
                                            {
                                                "bin_start": 276.7,
                                                "bin_end": 303.4,
                                                "count": 0
                                            },
                                            {
                                                "bin_start": 303.4,
                                                "bin_end": 330.1,
                                                "count": 0
                                            },
                                            {
                                                "bin_start": 330.1,
                                                "bin_end": 356.8,
                                                "count": 0
                                            },
                                            {
                                                "bin_start": 356.8,
                                                "bin_end": 383.5,
                                                "count": 1
                                            },
                                            {
                                                "bin_start": 383.5,
                                                "bin_end": 410.2,
                                                "count": 0
                                            },
                                            {
                                                "bin_start": 410.2,
                                                "bin_end": 436.9,
                                                "count": 2
                                            },
                                            {
                                                "bin_start": 436.9,
                                                "bin_end": 463.6,
                                                "count": 0
                                            },
                                            {
                                                "bin_start": 463.6,
                                                "bin_end": 490.29999999999995,
                                                "count": 1
                                            },
                                            {
                                                "bin_start": 490.29999999999995,
                                                "bin_end": 517,
                                                "count": 1
                                            }
                                        ]
                                    }
                                },
                                {
                                    "name": 5,
                                    "dtype": "float64",
                                    "stats": {
                                        "unique_count": 6,
                                        "nan_count": 0,
                                        "min": 300,
                                        "max": 444,
                                        "histogram": [
                                            {
                                                "bin_start": 300,
                                                "bin_end": 314.4,
                                                "count": 1
                                            },
                                            {
                                                "bin_start": 314.4,
                                                "bin_end": 328.8,
                                                "count": 0
                                            },
                                            {
                                                "bin_start": 328.8,
                                                "bin_end": 343.2,
                                                "count": 0
                                            },
                                            {
                                                "bin_start": 343.2,
                                                "bin_end": 357.6,
                                                "count": 0
                                            },
                                            {
                                                "bin_start": 357.6,
                                                "bin_end": 372,
                                                "count": 0
                                            },
                                            {
                                                "bin_start": 372,
                                                "bin_end": 386.4,
                                                "count": 0
                                            },
                                            {
                                                "bin_start": 386.4,
                                                "bin_end": 400.8,
                                                "count": 2
                                            },
                                            {
                                                "bin_start": 400.8,
                                                "bin_end": 415.2,
                                                "count": 2
                                            },
                                            {
                                                "bin_start": 415.2,
                                                "bin_end": 429.6,
                                                "count": 0
                                            },
                                            {
                                                "bin_start": 429.6,
                                                "bin_end": 444,
                                                "count": 1
                                            }
                                        ]
                                    }
                                },
                                {
                                    "name": 6,
                                    "dtype": "float64",
                                    "stats": {
                                        "unique_count": 6,
                                        "nan_count": 0,
                                        "min": 384,
                                        "max": 483,
                                        "histogram": [
                                            {
                                                "bin_start": 384,
                                                "bin_end": 393.9,
                                                "count": 1
                                            },
                                            {
                                                "bin_start": 393.9,
                                                "bin_end": 403.8,
                                                "count": 0
                                            },
                                            {
                                                "bin_start": 403.8,
                                                "bin_end": 413.7,
                                                "count": 1
                                            },
                                            {
                                                "bin_start": 413.7,
                                                "bin_end": 423.6,
                                                "count": 0
                                            },
                                            {
                                                "bin_start": 423.6,
                                                "bin_end": 433.5,
                                                "count": 0
                                            },
                                            {
                                                "bin_start": 433.5,
                                                "bin_end": 443.4,
                                                "count": 2
                                            },
                                            {
                                                "bin_start": 443.4,
                                                "bin_end": 453.3,
                                                "count": 0
                                            },
                                            {
                                                "bin_start": 453.3,
                                                "bin_end": 463.2,
                                                "count": 0
                                            },
                                            {
                                                "bin_start": 463.2,
                                                "bin_end": 473.1,
                                                "count": 0
                                            },
                                            {
                                                "bin_start": 473.1,
                                                "bin_end": 483,
                                                "count": 2
                                            }
                                        ]
                                    }
                                },
                                {
                                    "name": 7,
                                    "dtype": "float64",
                                    "stats": {
                                        "unique_count": 6,
                                        "nan_count": 0,
                                        "min": 410,
                                        "max": 657,
                                        "histogram": [
                                            {
                                                "bin_start": 410,
                                                "bin_end": 434.7,
                                                "count": 1
                                            },
                                            {
                                                "bin_start": 434.7,
                                                "bin_end": 459.4,
                                                "count": 0
                                            },
                                            {
                                                "bin_start": 459.4,
                                                "bin_end": 484.1,
                                                "count": 0
                                            },
                                            {
                                                "bin_start": 484.1,
                                                "bin_end": 508.8,
                                                "count": 1
                                            },
                                            {
                                                "bin_start": 508.8,
                                                "bin_end": 533.5,
                                                "count": 2
                                            },
                                            {
                                                "bin_start": 533.5,
                                                "bin_end": 558.2,
                                                "count": 1
                                            },
                                            {
                                                "bin_start": 558.2,
                                                "bin_end": 582.9,
                                                "count": 0
                                            },
                                            {
                                                "bin_start": 582.9,
                                                "bin_end": 607.6,
                                                "count": 0
                                            },
                                            {
                                                "bin_start": 607.6,
                                                "bin_end": 632.3,
                                                "count": 0
                                            },
                                            {
                                                "bin_start": 632.3,
                                                "bin_end": 657,
                                                "count": 1
                                            }
                                        ]
                                    }
                                },
                                {
                                    "name": 8,
                                    "dtype": "float64",
                                    "stats": {
                                        "unique_count": 6,
                                        "nan_count": 0,
                                        "min": 18,
                                        "max": 600,
                                        "histogram": [
                                            {
                                                "bin_start": 18,
                                                "bin_end": 76.2,
                                                "count": 1
                                            },
                                            {
                                                "bin_start": 76.2,
                                                "bin_end": 134.4,
                                                "count": 0
                                            },
                                            {
                                                "bin_start": 134.4,
                                                "bin_end": 192.60000000000002,
                                                "count": 0
                                            },
                                            {
                                                "bin_start": 192.60000000000002,
                                                "bin_end": 250.8,
                                                "count": 0
                                            },
                                            {
                                                "bin_start": 250.8,
                                                "bin_end": 309,
                                                "count": 0
                                            },
                                            {
                                                "bin_start": 309,
                                                "bin_end": 367.20000000000005,
                                                "count": 0
                                            },
                                            {
                                                "bin_start": 367.20000000000005,
                                                "bin_end": 425.40000000000003,
                                                "count": 1
                                            },
                                            {
                                                "bin_start": 425.40000000000003,
                                                "bin_end": 483.6,
                                                "count": 0
                                            },
                                            {
                                                "bin_start": 483.6,
                                                "bin_end": 541.8000000000001,
                                                "count": 2
                                            },
                                            {
                                                "bin_start": 541.8000000000001,
                                                "bin_end": 600,
                                                "count": 2
                                            }
                                        ]
                                    }
                                },
                                {
                                    "name": 9,
                                    "dtype": "float64",
                                    "stats": {
                                        "unique_count": 6,
                                        "nan_count": 0,
                                        "min": 0,
                                        "max": 689,
                                        "histogram": [
                                            {
                                                "bin_start": 0,
                                                "bin_end": 68.9,
                                                "count": 1
                                            },
                                            {
                                                "bin_start": 68.9,
                                                "bin_end": 137.8,
                                                "count": 0
                                            },
                                            {
                                                "bin_start": 137.8,
                                                "bin_end": 206.70000000000002,
                                                "count": 0
                                            },
                                            {
                                                "bin_start": 206.70000000000002,
                                                "bin_end": 275.6,
                                                "count": 0
                                            },
                                            {
                                                "bin_start": 275.6,
                                                "bin_end": 344.5,
                                                "count": 0
                                            },
                                            {
                                                "bin_start": 344.5,
                                                "bin_end": 413.40000000000003,
                                                "count": 0
                                            },
                                            {
                                                "bin_start": 413.40000000000003,
                                                "bin_end": 482.30000000000007,
                                                "count": 2
                                            },
                                            {
                                                "bin_start": 482.30000000000007,
                                                "bin_end": 551.2,
                                                "count": 2
                                            },
                                            {
                                                "bin_start": 551.2,
                                                "bin_end": 620.1,
                                                "count": 0
                                            },
                                            {
                                                "bin_start": 620.1,
                                                "bin_end": 689,
                                                "count": 1
                                            }
                                        ]
                                    }
                                },
                                {
                                    "name": 10,
                                    "dtype": "float64",
                                    "stats": {
                                        "unique_count": 6,
                                        "nan_count": 0,
                                        "min": 0,
                                        "max": 674,
                                        "histogram": [
                                            {
                                                "bin_start": 0,
                                                "bin_end": 67.4,
                                                "count": 1
                                            },
                                            {
                                                "bin_start": 67.4,
                                                "bin_end": 134.8,
                                                "count": 0
                                            },
                                            {
                                                "bin_start": 134.8,
                                                "bin_end": 202.20000000000002,
                                                "count": 0
                                            },
                                            {
                                                "bin_start": 202.20000000000002,
                                                "bin_end": 269.6,
                                                "count": 0
                                            },
                                            {
                                                "bin_start": 269.6,
                                                "bin_end": 337,
                                                "count": 0
                                            },
                                            {
                                                "bin_start": 337,
                                                "bin_end": 404.40000000000003,
                                                "count": 0
                                            },
                                            {
                                                "bin_start": 404.40000000000003,
                                                "bin_end": 471.80000000000007,
                                                "count": 1
                                            },
                                            {
                                                "bin_start": 471.80000000000007,
                                                "bin_end": 539.2,
                                                "count": 1
                                            },
                                            {
                                                "bin_start": 539.2,
                                                "bin_end": 606.6,
                                                "count": 1
                                            },
                                            {
                                                "bin_start": 606.6,
                                                "bin_end": 674,
                                                "count": 2
                                            }
                                        ]
                                    }
                                },
                                {
                                    "name": 11,
                                    "dtype": "float64",
                                    "stats": {
                                        "unique_count": 6,
                                        "nan_count": 0,
                                        "min": 0,
                                        "max": 749,
                                        "histogram": [
                                            {
                                                "bin_start": 0,
                                                "bin_end": 74.9,
                                                "count": 1
                                            },
                                            {
                                                "bin_start": 74.9,
                                                "bin_end": 149.8,
                                                "count": 0
                                            },
                                            {
                                                "bin_start": 149.8,
                                                "bin_end": 224.70000000000002,
                                                "count": 0
                                            },
                                            {
                                                "bin_start": 224.70000000000002,
                                                "bin_end": 299.6,
                                                "count": 0
                                            },
                                            {
                                                "bin_start": 299.6,
                                                "bin_end": 374.5,
                                                "count": 0
                                            },
                                            {
                                                "bin_start": 374.5,
                                                "bin_end": 449.40000000000003,
                                                "count": 1
                                            },
                                            {
                                                "bin_start": 449.40000000000003,
                                                "bin_end": 524.3000000000001,
                                                "count": 1
                                            },
                                            {
                                                "bin_start": 524.3000000000001,
                                                "bin_end": 599.2,
                                                "count": 0
                                            },
                                            {
                                                "bin_start": 599.2,
                                                "bin_end": 674.1,
                                                "count": 1
                                            },
                                            {
                                                "bin_start": 674.1,
                                                "bin_end": 749,
                                                "count": 2
                                            }
                                        ]
                                    }
                                },
                                {
                                    "name": 12,
                                    "dtype": "float64",
                                    "stats": {
                                        "unique_count": 6,
                                        "nan_count": 0,
                                        "min": 0,
                                        "max": 776,
                                        "histogram": [
                                            {
                                                "bin_start": 0,
                                                "bin_end": 77.6,
                                                "count": 1
                                            },
                                            {
                                                "bin_start": 77.6,
                                                "bin_end": 155.2,
                                                "count": 0
                                            },
                                            {
                                                "bin_start": 155.2,
                                                "bin_end": 232.79999999999998,
                                                "count": 0
                                            },
                                            {
                                                "bin_start": 232.79999999999998,
                                                "bin_end": 310.4,
                                                "count": 0
                                            },
                                            {
                                                "bin_start": 310.4,
                                                "bin_end": 388,
                                                "count": 0
                                            },
                                            {
                                                "bin_start": 388,
                                                "bin_end": 465.59999999999997,
                                                "count": 0
                                            },
                                            {
                                                "bin_start": 465.59999999999997,
                                                "bin_end": 543.1999999999999,
                                                "count": 2
                                            },
                                            {
                                                "bin_start": 543.1999999999999,
                                                "bin_end": 620.8,
                                                "count": 1
                                            },
                                            {
                                                "bin_start": 620.8,
                                                "bin_end": 698.4,
                                                "count": 0
                                            },
                                            {
                                                "bin_start": 698.4,
                                                "bin_end": 776,
                                                "count": 2
                                            }
                                        ]
                                    }
                                },
                                {
                                    "name": "_deepnote_index_column",
                                    "dtype": "object"
                                }
                            ],
                            "rows_top": [
                                {
                                    "1": 336,
                                    "2": 336,
                                    "3": 434,
                                    "4": 428,
                                    "5": 444,
                                    "6": 440,
                                    "7": 657,
                                    "8": 600,
                                    "9": 689,
                                    "10": 674,
                                    "11": 749,
                                    "12": 776,
                                    "_deepnote_index_column": 2015
                                },
                                {
                                    "1": 575,
                                    "2": 517,
                                    "3": 588,
                                    "4": 517,
                                    "5": 408,
                                    "6": 437,
                                    "7": 515,
                                    "8": 515,
                                    "9": 506,
                                    "10": 556,
                                    "11": 690,
                                    "12": 709,
                                    "_deepnote_index_column": 2016
                                },
                                {
                                    "1": 464,
                                    "2": 460,
                                    "3": 460,
                                    "4": 474,
                                    "5": 395,
                                    "6": 409,
                                    "7": 492,
                                    "8": 498,
                                    "9": 495,
                                    "10": 619,
                                    "11": 652,
                                    "12": 551,
                                    "_deepnote_index_column": 2017
                                },
                                {
                                    "1": 463,
                                    "2": 397,
                                    "3": 431,
                                    "4": 377,
                                    "5": 414,
                                    "6": 384,
                                    "7": 410,
                                    "8": 418,
                                    "9": 417,
                                    "10": 438,
                                    "11": 404,
                                    "12": 512,
                                    "_deepnote_index_column": 2018
                                },
                                {
                                    "1": 498,
                                    "2": 316,
                                    "3": 439,
                                    "4": 417,
                                    "5": 392,
                                    "6": 475,
                                    "7": 523,
                                    "8": 552,
                                    "9": 467,
                                    "10": 478,
                                    "11": 502,
                                    "12": 503,
                                    "_deepnote_index_column": 2019
                                },
                                {
                                    "1": 487,
                                    "2": 426,
                                    "3": 426,
                                    "4": 250,
                                    "5": 300,
                                    "6": 483,
                                    "7": 535,
                                    "8": 18,
                                    "9": 0,
                                    "10": 0,
                                    "11": 0,
                                    "12": 0,
                                    "_deepnote_index_column": 2020
                                }
                            ],
                            "rows_bottom": null
                        },
                        "text/plain": "month     1      2      3      4      5      6      7      8      9      10  \\\nyear                                                                          \n2015   336.0  336.0  434.0  428.0  444.0  440.0  657.0  600.0  689.0  674.0   \n2016   575.0  517.0  588.0  517.0  408.0  437.0  515.0  515.0  506.0  556.0   \n2017   464.0  460.0  460.0  474.0  395.0  409.0  492.0  498.0  495.0  619.0   \n2018   463.0  397.0  431.0  377.0  414.0  384.0  410.0  418.0  417.0  438.0   \n2019   498.0  316.0  439.0  417.0  392.0  475.0  523.0  552.0  467.0  478.0   \n2020   487.0  426.0  426.0  250.0  300.0  483.0  535.0   18.0    0.0    0.0   \n\nmonth     11     12  \nyear                 \n2015   749.0  776.0  \n2016   690.0  709.0  \n2017   652.0  551.0  \n2018   404.0  512.0  \n2019   502.0  503.0  \n2020     0.0    0.0  ",
                        "text/html": "<div>\n<style scoped>\n    .dataframe tbody tr th:only-of-type {\n        vertical-align: middle;\n    }\n\n    .dataframe tbody tr th {\n        vertical-align: top;\n    }\n\n    .dataframe thead th {\n        text-align: right;\n    }\n</style>\n<table border=\"1\" class=\"dataframe\">\n  <thead>\n    <tr style=\"text-align: right;\">\n      <th>month</th>\n      <th>1</th>\n      <th>2</th>\n      <th>3</th>\n      <th>4</th>\n      <th>5</th>\n      <th>6</th>\n      <th>7</th>\n      <th>8</th>\n      <th>9</th>\n      <th>10</th>\n      <th>11</th>\n      <th>12</th>\n    </tr>\n    <tr>\n      <th>year</th>\n      <th></th>\n      <th></th>\n      <th></th>\n      <th></th>\n      <th></th>\n      <th></th>\n      <th></th>\n      <th></th>\n      <th></th>\n      <th></th>\n      <th></th>\n      <th></th>\n    </tr>\n  </thead>\n  <tbody>\n    <tr>\n      <th>2015</th>\n      <td>336.0</td>\n      <td>336.0</td>\n      <td>434.0</td>\n      <td>428.0</td>\n      <td>444.0</td>\n      <td>440.0</td>\n      <td>657.0</td>\n      <td>600.0</td>\n      <td>689.0</td>\n      <td>674.0</td>\n      <td>749.0</td>\n      <td>776.0</td>\n    </tr>\n    <tr>\n      <th>2016</th>\n      <td>575.0</td>\n      <td>517.0</td>\n      <td>588.0</td>\n      <td>517.0</td>\n      <td>408.0</td>\n      <td>437.0</td>\n      <td>515.0</td>\n      <td>515.0</td>\n      <td>506.0</td>\n      <td>556.0</td>\n      <td>690.0</td>\n      <td>709.0</td>\n    </tr>\n    <tr>\n      <th>2017</th>\n      <td>464.0</td>\n      <td>460.0</td>\n      <td>460.0</td>\n      <td>474.0</td>\n      <td>395.0</td>\n      <td>409.0</td>\n      <td>492.0</td>\n      <td>498.0</td>\n      <td>495.0</td>\n      <td>619.0</td>\n      <td>652.0</td>\n      <td>551.0</td>\n    </tr>\n    <tr>\n      <th>2018</th>\n      <td>463.0</td>\n      <td>397.0</td>\n      <td>431.0</td>\n      <td>377.0</td>\n      <td>414.0</td>\n      <td>384.0</td>\n      <td>410.0</td>\n      <td>418.0</td>\n      <td>417.0</td>\n      <td>438.0</td>\n      <td>404.0</td>\n      <td>512.0</td>\n    </tr>\n    <tr>\n      <th>2019</th>\n      <td>498.0</td>\n      <td>316.0</td>\n      <td>439.0</td>\n      <td>417.0</td>\n      <td>392.0</td>\n      <td>475.0</td>\n      <td>523.0</td>\n      <td>552.0</td>\n      <td>467.0</td>\n      <td>478.0</td>\n      <td>502.0</td>\n      <td>503.0</td>\n    </tr>\n    <tr>\n      <th>2020</th>\n      <td>487.0</td>\n      <td>426.0</td>\n      <td>426.0</td>\n      <td>250.0</td>\n      <td>300.0</td>\n      <td>483.0</td>\n      <td>535.0</td>\n      <td>18.0</td>\n      <td>0.0</td>\n      <td>0.0</td>\n      <td>0.0</td>\n      <td>0.0</td>\n    </tr>\n  </tbody>\n</table>\n</div>"
                    },
                    "metadata": {}
                }
            ],
            "execution_count": 227
        },
        {
            "cell_type": "code",
            "source": "import seaborn as sns\nimport matplotlib.pyplot as plt\n\n\n_, ax = plt.subplots(figsize=(18,5.5))   # Vytvoříme dostatečně veliký graf\nsns.heatmap(\n    pivot_by_year_and_month,\n    ax=ax,                  # Kreslíme do připraveného objektu `Axes`\n    linewidths=1,           # Oddělíme jednotlivá okénka\n    annot=True,             # Chceme zobrazit hodnoty\n    fmt=\".0f\",                # Zobrazíme hodnoty jako celá čísla\n    # norm=log_norm,          # Použijeme škálování\n    cmap=\"flare\",            # Vybereme si barevnou paletu\n    cbar=False,             # Schováme barevný proužek vpravo, nepotřebujeme ho\n);",
            "metadata": {
                "tags": [],
                "cell_id": "00051-c97f1742-b40f-427f-b80b-6acaff65c27c",
                "deepnote_to_be_reexecuted": false,
                "source_hash": "27612c07",
                "execution_millis": 1086,
                "execution_start": 1611503764638,
                "deepnote_cell_type": "code"
            },
            "outputs": [
                {
                    "data": {
                        "text/plain": "<Figure size 1296x396 with 1 Axes>",
                        "image/png": "[encoded data removed]"
                    },
                    "metadata": {
                        "needs_background": "light"
                    },
                    "output_type": "display_data"
                }
            ],
            "execution_count": 237
        },
        {
            "cell_type": "markdown",
            "source": "The are also shortcut functions and methods: [DataFrame.pivot](https://pandas.pydata.org/docs/reference/api/pandas.DataFrame.pivot.html), \n[pivot_table](https://pandas.pydata.org/docs/reference/api/pandas.pivot_table.html)\nor [crosstab](https://pandas.pydata.org/docs/reference/api/pandas.crosstab.html). \nA nice overview is in the the [Pandas documentation: Reshaping and pivot tables](https://pandas.pydata.org/docs/user_guide/reshaping.html).",
            "metadata": {
                "cell_id": "00099-794ebbaa-b181-492f-ab1e-47be8dba6ea1",
                "deepnote_cell_type": "markdown"
            }
        },
        {
            "cell_type": "markdown",
            "source": "## Final mini-project - creative, unbounded, free-style\n\nHere are some ideas of what you can do with the data.\n\n* TODO",
            "metadata": {
                "cell_id": "00101-d988d47a-fdd4-4919-9754-c50532c47154",
                "deepnote_cell_type": "markdown"
            }
        },
        {
            "cell_type": "code",
            "metadata": {
                "cell_id": "00102-2992d0a4-d0eb-41f1-a2a2-1041c4a0700d",
                "deepnote_cell_type": "code"
            },
            "source": "",
            "execution_count": null,
            "outputs": []
        }
    ],
    "nbformat": 4,
    "nbformat_minor": 2,
    "metadata": {
        "kernelspec": {
            "display_name": "Python 3",
            "language": "python",
            "name": "python3"
        },
        "language_info": {
            "codemirror_mode": {
                "name": "ipython",
                "version": 3
            },
            "file_extension": ".py",
            "mimetype": "text/x-python",
            "name": "python",
            "nbconvert_exporter": "python",
            "pygments_lexer": "ipython3",
            "version": "3.7.3"
        },
        "deepnote_notebook_id": "c40ec966-bbe3-40b0-b2f1-1a41a75651b6",
        "deepnote_execution_queue": []
    }
}        